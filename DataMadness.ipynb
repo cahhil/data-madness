{
 "cells": [
  {
   "cell_type": "code",
   "execution_count": 214,
   "metadata": {
    "colab": {
     "base_uri": "https://localhost:8080/"
    },
    "id": "5jqqAIrSFrXX",
    "outputId": "fefa66a1-a80f-4573-f5ba-06f212256c68",
    "pycharm": {
     "name": "#%%\n"
    }
   },
   "outputs": [],
   "source": [
    "#utils\n",
    "import pandas as pd\n",
    "import numpy as np \n",
    "\n",
    "\n",
    "#stat and machine learning\n",
    "from scipy.stats import kstest, norm\n",
    "from sklearn.preprocessing import LabelEncoder, StandardScaler\n",
    "from transformers import pipeline\n",
    "from sklearn.decomposition import PCA\n",
    "from sklearn.model_selection import KFold, cross_val_score\n",
    "from sklearn import linear_model\n",
    "from sklearn.ensemble import BaggingRegressor, RandomForestRegressor, AdaBoostRegressor\n",
    "from sklearn.preprocessing import StandardScaler\n",
    "from sklearn.model_selection import cross_val_predict\n",
    "from sklearn.preprocessing import PolynomialFeatures\n",
    "\n",
    "\n",
    "\n",
    "#visualization\n",
    "import matplotlib.pyplot as plt\n",
    "import seaborn as sns"
   ]
  },
  {
   "cell_type": "markdown",
   "metadata": {
    "id": "ZvaB2a0YGV5S",
    "pycharm": {
     "name": "#%% md\n"
    }
   },
   "source": [
    "# First Look\n"
   ]
  },
  {
   "cell_type": "markdown",
   "metadata": {
    "id": "02eEEnV3HT_8",
    "pycharm": {
     "name": "#%% md\n"
    }
   },
   "source": [
    "The purpose of this study is to examine the primary factors that impact the salary of data science professionals and to provide an overview of the current state of the technology job market in the United States. To accomplish this objective, a comprehensive analysis of the dataset will be conducted, with a focus on the most significant features and their interrelationships."
   ]
  },
  {
   "cell_type": "code",
   "execution_count": 100,
   "metadata": {
    "colab": {
     "base_uri": "https://localhost:8080/",
     "height": 560
    },
    "id": "wJwdSFEeHESq",
    "outputId": "066688ee-963d-4f23-9712-ed68cfb8a836",
    "pycharm": {
     "name": "#%%\n"
    }
   },
   "outputs": [
    {
     "data": {
      "text/html": [
       "<div>\n",
       "<style scoped>\n",
       "    .dataframe tbody tr th:only-of-type {\n",
       "        vertical-align: middle;\n",
       "    }\n",
       "\n",
       "    .dataframe tbody tr th {\n",
       "        vertical-align: top;\n",
       "    }\n",
       "\n",
       "    .dataframe thead th {\n",
       "        text-align: right;\n",
       "    }\n",
       "</style>\n",
       "<table border=\"1\" class=\"dataframe\">\n",
       "  <thead>\n",
       "    <tr style=\"text-align: right;\">\n",
       "      <th></th>\n",
       "      <th>Job Title</th>\n",
       "      <th>Salary Estimate</th>\n",
       "      <th>Job Description</th>\n",
       "      <th>Rating</th>\n",
       "      <th>Company Name</th>\n",
       "      <th>Location</th>\n",
       "      <th>Headquarters</th>\n",
       "      <th>Size</th>\n",
       "      <th>Founded</th>\n",
       "      <th>Type of ownership</th>\n",
       "      <th>...</th>\n",
       "      <th>tensor</th>\n",
       "      <th>hadoop</th>\n",
       "      <th>tableau</th>\n",
       "      <th>bi</th>\n",
       "      <th>flink</th>\n",
       "      <th>mongo</th>\n",
       "      <th>google_an</th>\n",
       "      <th>job_title_sim</th>\n",
       "      <th>seniority_by_title</th>\n",
       "      <th>Degree</th>\n",
       "    </tr>\n",
       "  </thead>\n",
       "  <tbody>\n",
       "    <tr>\n",
       "      <th>0</th>\n",
       "      <td>Data Scientist</td>\n",
       "      <td>$53K-$91K (Glassdoor est.)</td>\n",
       "      <td>Data ScientistLocation: Albuquerque, NMEducati...</td>\n",
       "      <td>3.8</td>\n",
       "      <td>Tecolote Research3.8</td>\n",
       "      <td>Albuquerque, NM</td>\n",
       "      <td>Goleta, CA</td>\n",
       "      <td>501 - 1000</td>\n",
       "      <td>1973</td>\n",
       "      <td>Company - Private</td>\n",
       "      <td>...</td>\n",
       "      <td>0</td>\n",
       "      <td>0</td>\n",
       "      <td>1</td>\n",
       "      <td>1</td>\n",
       "      <td>0</td>\n",
       "      <td>0</td>\n",
       "      <td>0</td>\n",
       "      <td>data scientist</td>\n",
       "      <td>na</td>\n",
       "      <td>M</td>\n",
       "    </tr>\n",
       "    <tr>\n",
       "      <th>1</th>\n",
       "      <td>Healthcare Data Scientist</td>\n",
       "      <td>$63K-$112K (Glassdoor est.)</td>\n",
       "      <td>What You Will Do:\\nI. General Summary\\nThe Hea...</td>\n",
       "      <td>3.4</td>\n",
       "      <td>University of Maryland Medical System3.4</td>\n",
       "      <td>Linthicum, MD</td>\n",
       "      <td>Baltimore, MD</td>\n",
       "      <td>10000+</td>\n",
       "      <td>1984</td>\n",
       "      <td>Other Organization</td>\n",
       "      <td>...</td>\n",
       "      <td>0</td>\n",
       "      <td>0</td>\n",
       "      <td>0</td>\n",
       "      <td>0</td>\n",
       "      <td>0</td>\n",
       "      <td>0</td>\n",
       "      <td>0</td>\n",
       "      <td>data scientist</td>\n",
       "      <td>na</td>\n",
       "      <td>M</td>\n",
       "    </tr>\n",
       "    <tr>\n",
       "      <th>2</th>\n",
       "      <td>Data Scientist</td>\n",
       "      <td>$80K-$90K (Glassdoor est.)</td>\n",
       "      <td>KnowBe4, Inc. is a high growth information sec...</td>\n",
       "      <td>4.8</td>\n",
       "      <td>KnowBe44.8</td>\n",
       "      <td>Clearwater, FL</td>\n",
       "      <td>Clearwater, FL</td>\n",
       "      <td>501 - 1000</td>\n",
       "      <td>2010</td>\n",
       "      <td>Company - Private</td>\n",
       "      <td>...</td>\n",
       "      <td>0</td>\n",
       "      <td>0</td>\n",
       "      <td>0</td>\n",
       "      <td>0</td>\n",
       "      <td>0</td>\n",
       "      <td>0</td>\n",
       "      <td>0</td>\n",
       "      <td>data scientist</td>\n",
       "      <td>na</td>\n",
       "      <td>M</td>\n",
       "    </tr>\n",
       "    <tr>\n",
       "      <th>3</th>\n",
       "      <td>Data Scientist</td>\n",
       "      <td>$56K-$97K (Glassdoor est.)</td>\n",
       "      <td>*Organization and Job ID**Job ID: 310709\\nDire...</td>\n",
       "      <td>3.8</td>\n",
       "      <td>PNNL3.8</td>\n",
       "      <td>Richland, WA</td>\n",
       "      <td>Richland, WA</td>\n",
       "      <td>1001 - 5000</td>\n",
       "      <td>1965</td>\n",
       "      <td>Government</td>\n",
       "      <td>...</td>\n",
       "      <td>0</td>\n",
       "      <td>0</td>\n",
       "      <td>0</td>\n",
       "      <td>0</td>\n",
       "      <td>0</td>\n",
       "      <td>0</td>\n",
       "      <td>0</td>\n",
       "      <td>data scientist</td>\n",
       "      <td>na</td>\n",
       "      <td>na</td>\n",
       "    </tr>\n",
       "    <tr>\n",
       "      <th>4</th>\n",
       "      <td>Data Scientist</td>\n",
       "      <td>$86K-$143K (Glassdoor est.)</td>\n",
       "      <td>Data ScientistAffinity Solutions / Marketing C...</td>\n",
       "      <td>2.9</td>\n",
       "      <td>Affinity Solutions2.9</td>\n",
       "      <td>New York, NY</td>\n",
       "      <td>New York, NY</td>\n",
       "      <td>51 - 200</td>\n",
       "      <td>1998</td>\n",
       "      <td>Company - Private</td>\n",
       "      <td>...</td>\n",
       "      <td>0</td>\n",
       "      <td>0</td>\n",
       "      <td>0</td>\n",
       "      <td>0</td>\n",
       "      <td>0</td>\n",
       "      <td>0</td>\n",
       "      <td>0</td>\n",
       "      <td>data scientist</td>\n",
       "      <td>na</td>\n",
       "      <td>na</td>\n",
       "    </tr>\n",
       "  </tbody>\n",
       "</table>\n",
       "<p>5 rows × 38 columns</p>\n",
       "</div>"
      ],
      "text/plain": [
       "                   Job Title              Salary Estimate  \\\n",
       "0             Data Scientist   $53K-$91K (Glassdoor est.)   \n",
       "1  Healthcare Data Scientist  $63K-$112K (Glassdoor est.)   \n",
       "2             Data Scientist   $80K-$90K (Glassdoor est.)   \n",
       "3             Data Scientist   $56K-$97K (Glassdoor est.)   \n",
       "4             Data Scientist  $86K-$143K (Glassdoor est.)   \n",
       "\n",
       "                                     Job Description  Rating  \\\n",
       "0  Data ScientistLocation: Albuquerque, NMEducati...     3.8   \n",
       "1  What You Will Do:\\nI. General Summary\\nThe Hea...     3.4   \n",
       "2  KnowBe4, Inc. is a high growth information sec...     4.8   \n",
       "3  *Organization and Job ID**Job ID: 310709\\nDire...     3.8   \n",
       "4  Data ScientistAffinity Solutions / Marketing C...     2.9   \n",
       "\n",
       "                               Company Name         Location    Headquarters  \\\n",
       "0                      Tecolote Research3.8  Albuquerque, NM      Goleta, CA   \n",
       "1  University of Maryland Medical System3.4    Linthicum, MD   Baltimore, MD   \n",
       "2                                KnowBe44.8   Clearwater, FL  Clearwater, FL   \n",
       "3                                   PNNL3.8     Richland, WA    Richland, WA   \n",
       "4                     Affinity Solutions2.9     New York, NY    New York, NY   \n",
       "\n",
       "           Size  Founded   Type of ownership  ... tensor hadoop tableau bi  \\\n",
       "0   501 - 1000      1973   Company - Private  ...      0      0       1  1   \n",
       "1       10000+      1984  Other Organization  ...      0      0       0  0   \n",
       "2   501 - 1000      2010   Company - Private  ...      0      0       0  0   \n",
       "3  1001 - 5000      1965          Government  ...      0      0       0  0   \n",
       "4     51 - 200      1998   Company - Private  ...      0      0       0  0   \n",
       "\n",
       "   flink  mongo google_an   job_title_sim  seniority_by_title  Degree  \n",
       "0      0      0         0  data scientist                  na       M  \n",
       "1      0      0         0  data scientist                  na       M  \n",
       "2      0      0         0  data scientist                  na       M  \n",
       "3      0      0         0  data scientist                  na      na  \n",
       "4      0      0         0  data scientist                  na      na  \n",
       "\n",
       "[5 rows x 38 columns]"
      ]
     },
     "execution_count": 100,
     "metadata": {},
     "output_type": "execute_result"
    }
   ],
   "source": [
    "data = pd.read_csv(\"data_cleaned_2021.csv\",  escapechar='\\n')\n",
    "data = data.drop(\"index\",axis=1)\n",
    "data = data.drop([\"Lower Salary\", \"Upper Salary\", \"Avg Salary(K)\"], axis=1)\n",
    "data.head()"
   ]
  },
  {
   "cell_type": "markdown",
   "metadata": {
    "id": "FKbclklZH4ZM",
    "pycharm": {
     "name": "#%% md\n"
    }
   },
   "source": [
    "The presence of numerous intricate string inputs necessitates a thorough comprehension of the information at hand. However, before delving into the complexities of these inputs, it may be prudent to step back and visualize some of the metrics associated with the numeric features."
   ]
  },
  {
   "cell_type": "code",
   "execution_count": 101,
   "metadata": {
    "colab": {
     "base_uri": "https://localhost:8080/",
     "height": 411
    },
    "id": "_0WePyndH3rt",
    "outputId": "7336a2f3-dee1-4ff5-c6ca-68f6a35f35e9",
    "pycharm": {
     "name": "#%%\n"
    }
   },
   "outputs": [
    {
     "data": {
      "text/html": [
       "<div>\n",
       "<style scoped>\n",
       "    .dataframe tbody tr th:only-of-type {\n",
       "        vertical-align: middle;\n",
       "    }\n",
       "\n",
       "    .dataframe tbody tr th {\n",
       "        vertical-align: top;\n",
       "    }\n",
       "\n",
       "    .dataframe thead th {\n",
       "        text-align: right;\n",
       "    }\n",
       "</style>\n",
       "<table border=\"1\" class=\"dataframe\">\n",
       "  <thead>\n",
       "    <tr style=\"text-align: right;\">\n",
       "      <th></th>\n",
       "      <th>Rating</th>\n",
       "      <th>Founded</th>\n",
       "      <th>Hourly</th>\n",
       "      <th>Employer provided</th>\n",
       "      <th>Age</th>\n",
       "      <th>Python</th>\n",
       "      <th>spark</th>\n",
       "      <th>aws</th>\n",
       "      <th>excel</th>\n",
       "      <th>sql</th>\n",
       "      <th>...</th>\n",
       "      <th>keras</th>\n",
       "      <th>pytorch</th>\n",
       "      <th>scikit</th>\n",
       "      <th>tensor</th>\n",
       "      <th>hadoop</th>\n",
       "      <th>tableau</th>\n",
       "      <th>bi</th>\n",
       "      <th>flink</th>\n",
       "      <th>mongo</th>\n",
       "      <th>google_an</th>\n",
       "    </tr>\n",
       "  </thead>\n",
       "  <tbody>\n",
       "    <tr>\n",
       "      <th>count</th>\n",
       "      <td>742.000000</td>\n",
       "      <td>742.000000</td>\n",
       "      <td>742.000000</td>\n",
       "      <td>742.000000</td>\n",
       "      <td>742.000000</td>\n",
       "      <td>742.000000</td>\n",
       "      <td>742.000000</td>\n",
       "      <td>742.000000</td>\n",
       "      <td>742.000000</td>\n",
       "      <td>742.000000</td>\n",
       "      <td>...</td>\n",
       "      <td>742.000000</td>\n",
       "      <td>742.000000</td>\n",
       "      <td>742.000000</td>\n",
       "      <td>742.000000</td>\n",
       "      <td>742.000000</td>\n",
       "      <td>742.000000</td>\n",
       "      <td>742.000000</td>\n",
       "      <td>742.000000</td>\n",
       "      <td>742.000000</td>\n",
       "      <td>742.000000</td>\n",
       "    </tr>\n",
       "    <tr>\n",
       "      <th>mean</th>\n",
       "      <td>3.618868</td>\n",
       "      <td>1837.154987</td>\n",
       "      <td>0.032345</td>\n",
       "      <td>0.022911</td>\n",
       "      <td>47.524259</td>\n",
       "      <td>0.528302</td>\n",
       "      <td>0.225067</td>\n",
       "      <td>0.237197</td>\n",
       "      <td>0.522911</td>\n",
       "      <td>0.512129</td>\n",
       "      <td>...</td>\n",
       "      <td>0.039084</td>\n",
       "      <td>0.052561</td>\n",
       "      <td>0.072776</td>\n",
       "      <td>0.097035</td>\n",
       "      <td>0.167116</td>\n",
       "      <td>0.199461</td>\n",
       "      <td>0.075472</td>\n",
       "      <td>0.013477</td>\n",
       "      <td>0.049865</td>\n",
       "      <td>0.018868</td>\n",
       "    </tr>\n",
       "    <tr>\n",
       "      <th>std</th>\n",
       "      <td>0.801210</td>\n",
       "      <td>497.183763</td>\n",
       "      <td>0.177034</td>\n",
       "      <td>0.149721</td>\n",
       "      <td>53.839080</td>\n",
       "      <td>0.499535</td>\n",
       "      <td>0.417908</td>\n",
       "      <td>0.425651</td>\n",
       "      <td>0.499812</td>\n",
       "      <td>0.500190</td>\n",
       "      <td>...</td>\n",
       "      <td>0.193925</td>\n",
       "      <td>0.223305</td>\n",
       "      <td>0.259944</td>\n",
       "      <td>0.296205</td>\n",
       "      <td>0.373331</td>\n",
       "      <td>0.399865</td>\n",
       "      <td>0.264329</td>\n",
       "      <td>0.115384</td>\n",
       "      <td>0.217813</td>\n",
       "      <td>0.136150</td>\n",
       "    </tr>\n",
       "    <tr>\n",
       "      <th>min</th>\n",
       "      <td>-1.000000</td>\n",
       "      <td>-1.000000</td>\n",
       "      <td>0.000000</td>\n",
       "      <td>0.000000</td>\n",
       "      <td>-1.000000</td>\n",
       "      <td>0.000000</td>\n",
       "      <td>0.000000</td>\n",
       "      <td>0.000000</td>\n",
       "      <td>0.000000</td>\n",
       "      <td>0.000000</td>\n",
       "      <td>...</td>\n",
       "      <td>0.000000</td>\n",
       "      <td>0.000000</td>\n",
       "      <td>0.000000</td>\n",
       "      <td>0.000000</td>\n",
       "      <td>0.000000</td>\n",
       "      <td>0.000000</td>\n",
       "      <td>0.000000</td>\n",
       "      <td>0.000000</td>\n",
       "      <td>0.000000</td>\n",
       "      <td>0.000000</td>\n",
       "    </tr>\n",
       "    <tr>\n",
       "      <th>25%</th>\n",
       "      <td>3.300000</td>\n",
       "      <td>1939.000000</td>\n",
       "      <td>0.000000</td>\n",
       "      <td>0.000000</td>\n",
       "      <td>12.000000</td>\n",
       "      <td>0.000000</td>\n",
       "      <td>0.000000</td>\n",
       "      <td>0.000000</td>\n",
       "      <td>0.000000</td>\n",
       "      <td>0.000000</td>\n",
       "      <td>...</td>\n",
       "      <td>0.000000</td>\n",
       "      <td>0.000000</td>\n",
       "      <td>0.000000</td>\n",
       "      <td>0.000000</td>\n",
       "      <td>0.000000</td>\n",
       "      <td>0.000000</td>\n",
       "      <td>0.000000</td>\n",
       "      <td>0.000000</td>\n",
       "      <td>0.000000</td>\n",
       "      <td>0.000000</td>\n",
       "    </tr>\n",
       "    <tr>\n",
       "      <th>50%</th>\n",
       "      <td>3.700000</td>\n",
       "      <td>1988.000000</td>\n",
       "      <td>0.000000</td>\n",
       "      <td>0.000000</td>\n",
       "      <td>25.000000</td>\n",
       "      <td>1.000000</td>\n",
       "      <td>0.000000</td>\n",
       "      <td>0.000000</td>\n",
       "      <td>1.000000</td>\n",
       "      <td>1.000000</td>\n",
       "      <td>...</td>\n",
       "      <td>0.000000</td>\n",
       "      <td>0.000000</td>\n",
       "      <td>0.000000</td>\n",
       "      <td>0.000000</td>\n",
       "      <td>0.000000</td>\n",
       "      <td>0.000000</td>\n",
       "      <td>0.000000</td>\n",
       "      <td>0.000000</td>\n",
       "      <td>0.000000</td>\n",
       "      <td>0.000000</td>\n",
       "    </tr>\n",
       "    <tr>\n",
       "      <th>75%</th>\n",
       "      <td>4.000000</td>\n",
       "      <td>2007.000000</td>\n",
       "      <td>0.000000</td>\n",
       "      <td>0.000000</td>\n",
       "      <td>60.000000</td>\n",
       "      <td>1.000000</td>\n",
       "      <td>0.000000</td>\n",
       "      <td>0.000000</td>\n",
       "      <td>1.000000</td>\n",
       "      <td>1.000000</td>\n",
       "      <td>...</td>\n",
       "      <td>0.000000</td>\n",
       "      <td>0.000000</td>\n",
       "      <td>0.000000</td>\n",
       "      <td>0.000000</td>\n",
       "      <td>0.000000</td>\n",
       "      <td>0.000000</td>\n",
       "      <td>0.000000</td>\n",
       "      <td>0.000000</td>\n",
       "      <td>0.000000</td>\n",
       "      <td>0.000000</td>\n",
       "    </tr>\n",
       "    <tr>\n",
       "      <th>max</th>\n",
       "      <td>5.000000</td>\n",
       "      <td>2019.000000</td>\n",
       "      <td>1.000000</td>\n",
       "      <td>1.000000</td>\n",
       "      <td>277.000000</td>\n",
       "      <td>1.000000</td>\n",
       "      <td>1.000000</td>\n",
       "      <td>1.000000</td>\n",
       "      <td>1.000000</td>\n",
       "      <td>1.000000</td>\n",
       "      <td>...</td>\n",
       "      <td>1.000000</td>\n",
       "      <td>1.000000</td>\n",
       "      <td>1.000000</td>\n",
       "      <td>1.000000</td>\n",
       "      <td>1.000000</td>\n",
       "      <td>1.000000</td>\n",
       "      <td>1.000000</td>\n",
       "      <td>1.000000</td>\n",
       "      <td>1.000000</td>\n",
       "      <td>1.000000</td>\n",
       "    </tr>\n",
       "  </tbody>\n",
       "</table>\n",
       "<p>8 rows × 21 columns</p>\n",
       "</div>"
      ],
      "text/plain": [
       "           Rating      Founded      Hourly  Employer provided         Age  \\\n",
       "count  742.000000   742.000000  742.000000         742.000000  742.000000   \n",
       "mean     3.618868  1837.154987    0.032345           0.022911   47.524259   \n",
       "std      0.801210   497.183763    0.177034           0.149721   53.839080   \n",
       "min     -1.000000    -1.000000    0.000000           0.000000   -1.000000   \n",
       "25%      3.300000  1939.000000    0.000000           0.000000   12.000000   \n",
       "50%      3.700000  1988.000000    0.000000           0.000000   25.000000   \n",
       "75%      4.000000  2007.000000    0.000000           0.000000   60.000000   \n",
       "max      5.000000  2019.000000    1.000000           1.000000  277.000000   \n",
       "\n",
       "           Python       spark         aws       excel         sql  ...  \\\n",
       "count  742.000000  742.000000  742.000000  742.000000  742.000000  ...   \n",
       "mean     0.528302    0.225067    0.237197    0.522911    0.512129  ...   \n",
       "std      0.499535    0.417908    0.425651    0.499812    0.500190  ...   \n",
       "min      0.000000    0.000000    0.000000    0.000000    0.000000  ...   \n",
       "25%      0.000000    0.000000    0.000000    0.000000    0.000000  ...   \n",
       "50%      1.000000    0.000000    0.000000    1.000000    1.000000  ...   \n",
       "75%      1.000000    0.000000    0.000000    1.000000    1.000000  ...   \n",
       "max      1.000000    1.000000    1.000000    1.000000    1.000000  ...   \n",
       "\n",
       "            keras     pytorch      scikit      tensor      hadoop     tableau  \\\n",
       "count  742.000000  742.000000  742.000000  742.000000  742.000000  742.000000   \n",
       "mean     0.039084    0.052561    0.072776    0.097035    0.167116    0.199461   \n",
       "std      0.193925    0.223305    0.259944    0.296205    0.373331    0.399865   \n",
       "min      0.000000    0.000000    0.000000    0.000000    0.000000    0.000000   \n",
       "25%      0.000000    0.000000    0.000000    0.000000    0.000000    0.000000   \n",
       "50%      0.000000    0.000000    0.000000    0.000000    0.000000    0.000000   \n",
       "75%      0.000000    0.000000    0.000000    0.000000    0.000000    0.000000   \n",
       "max      1.000000    1.000000    1.000000    1.000000    1.000000    1.000000   \n",
       "\n",
       "               bi       flink       mongo   google_an  \n",
       "count  742.000000  742.000000  742.000000  742.000000  \n",
       "mean     0.075472    0.013477    0.049865    0.018868  \n",
       "std      0.264329    0.115384    0.217813    0.136150  \n",
       "min      0.000000    0.000000    0.000000    0.000000  \n",
       "25%      0.000000    0.000000    0.000000    0.000000  \n",
       "50%      0.000000    0.000000    0.000000    0.000000  \n",
       "75%      0.000000    0.000000    0.000000    0.000000  \n",
       "max      1.000000    1.000000    1.000000    1.000000  \n",
       "\n",
       "[8 rows x 21 columns]"
      ]
     },
     "execution_count": 101,
     "metadata": {},
     "output_type": "execute_result"
    }
   ],
   "source": [
    "data.describe()"
   ]
  },
  {
   "cell_type": "code",
   "execution_count": 102,
   "metadata": {
    "colab": {
     "base_uri": "https://localhost:8080/"
    },
    "id": "uSQiHp73JE-J",
    "outputId": "a364e67d-cb35-4c83-d4cc-746954436a04",
    "pycharm": {
     "name": "#%%\n"
    }
   },
   "outputs": [
    {
     "name": "stdout",
     "output_type": "stream",
     "text": [
      "<class 'pandas.core.frame.DataFrame'>\n",
      "RangeIndex: 742 entries, 0 to 741\n",
      "Data columns (total 38 columns):\n",
      " #   Column              Non-Null Count  Dtype  \n",
      "---  ------              --------------  -----  \n",
      " 0   Job Title           742 non-null    object \n",
      " 1   Salary Estimate     742 non-null    object \n",
      " 2   Job Description     742 non-null    object \n",
      " 3   Rating              742 non-null    float64\n",
      " 4   Company Name        742 non-null    object \n",
      " 5   Location            742 non-null    object \n",
      " 6   Headquarters        742 non-null    object \n",
      " 7   Size                742 non-null    object \n",
      " 8   Founded             742 non-null    int64  \n",
      " 9   Type of ownership   742 non-null    object \n",
      " 10  Industry            742 non-null    object \n",
      " 11  Sector              742 non-null    object \n",
      " 12  Revenue             742 non-null    object \n",
      " 13  Competitors         742 non-null    object \n",
      " 14  Hourly              742 non-null    int64  \n",
      " 15  Employer provided   742 non-null    int64  \n",
      " 16  company_txt         742 non-null    object \n",
      " 17  Job Location        742 non-null    object \n",
      " 18  Age                 742 non-null    int64  \n",
      " 19  Python              742 non-null    int64  \n",
      " 20  spark               742 non-null    int64  \n",
      " 21  aws                 742 non-null    int64  \n",
      " 22  excel               742 non-null    int64  \n",
      " 23  sql                 742 non-null    int64  \n",
      " 24  sas                 742 non-null    int64  \n",
      " 25  keras               742 non-null    int64  \n",
      " 26  pytorch             742 non-null    int64  \n",
      " 27  scikit              742 non-null    int64  \n",
      " 28  tensor              742 non-null    int64  \n",
      " 29  hadoop              742 non-null    int64  \n",
      " 30  tableau             742 non-null    int64  \n",
      " 31  bi                  742 non-null    int64  \n",
      " 32  flink               742 non-null    int64  \n",
      " 33  mongo               742 non-null    int64  \n",
      " 34  google_an           742 non-null    int64  \n",
      " 35  job_title_sim       742 non-null    object \n",
      " 36  seniority_by_title  742 non-null    object \n",
      " 37  Degree              742 non-null    object \n",
      "dtypes: float64(1), int64(20), object(17)\n",
      "memory usage: 220.4+ KB\n"
     ]
    }
   ],
   "source": [
    "#Getting some insight of the how many misisng values in the dataset and the types of the features\n",
    "data.info()"
   ]
  },
  {
   "cell_type": "markdown",
   "metadata": {
    "id": "ap1690z7hnnz",
    "pycharm": {
     "name": "#%% md\n"
    }
   },
   "source": [
    "# Data Cleaning"
   ]
  },
  {
   "cell_type": "markdown",
   "metadata": {
    "id": "jg0u1wGBKKt0",
    "pycharm": {
     "name": "#%% md\n"
    }
   },
   "source": [
    "The presence of numerous intricate string inputs necessitates a thorough comprehension of the information at hand. However, before delving into the complexities of these inputs, it may be prudent to step back and visualize some of the metrics associated with the numeric features."
   ]
  },
  {
   "cell_type": "code",
   "execution_count": 103,
   "metadata": {
    "colab": {
     "base_uri": "https://localhost:8080/",
     "height": 646
    },
    "id": "U-LVJhuFJsOG",
    "outputId": "0795e402-9288-4a1a-81b0-ff41a3f9037f",
    "pycharm": {
     "name": "#%%\n"
    }
   },
   "outputs": [
    {
     "data": {
      "text/html": [
       "<div>\n",
       "<style scoped>\n",
       "    .dataframe tbody tr th:only-of-type {\n",
       "        vertical-align: middle;\n",
       "    }\n",
       "\n",
       "    .dataframe tbody tr th {\n",
       "        vertical-align: top;\n",
       "    }\n",
       "\n",
       "    .dataframe thead th {\n",
       "        text-align: right;\n",
       "    }\n",
       "</style>\n",
       "<table border=\"1\" class=\"dataframe\">\n",
       "  <thead>\n",
       "    <tr style=\"text-align: right;\">\n",
       "      <th></th>\n",
       "      <th>Job Title</th>\n",
       "      <th>Salary Estimate</th>\n",
       "      <th>Job Description</th>\n",
       "      <th>Rating</th>\n",
       "      <th>Company Name</th>\n",
       "      <th>Location</th>\n",
       "      <th>Headquarters</th>\n",
       "      <th>Size</th>\n",
       "      <th>Founded</th>\n",
       "      <th>Type of ownership</th>\n",
       "      <th>...</th>\n",
       "      <th>flink</th>\n",
       "      <th>mongo</th>\n",
       "      <th>google_an</th>\n",
       "      <th>job_title_sim</th>\n",
       "      <th>seniority_by_title</th>\n",
       "      <th>Degree</th>\n",
       "      <th>range</th>\n",
       "      <th>min salary</th>\n",
       "      <th>median salary</th>\n",
       "      <th>max salary</th>\n",
       "    </tr>\n",
       "  </thead>\n",
       "  <tbody>\n",
       "    <tr>\n",
       "      <th>737</th>\n",
       "      <td>Sr Scientist, Immuno-Oncology - Oncology</td>\n",
       "      <td>$58K-$111K (Glassdoor est.)</td>\n",
       "      <td>Site Name: USA - Massachusetts - CambridgePost...</td>\n",
       "      <td>3.9</td>\n",
       "      <td>GSK3.9</td>\n",
       "      <td>Cambridge, MA</td>\n",
       "      <td>Brentford, United Kingdom</td>\n",
       "      <td>10000+</td>\n",
       "      <td>1830</td>\n",
       "      <td>Company - Public</td>\n",
       "      <td>...</td>\n",
       "      <td>0</td>\n",
       "      <td>0</td>\n",
       "      <td>0</td>\n",
       "      <td>other scientist</td>\n",
       "      <td>sr</td>\n",
       "      <td>M</td>\n",
       "      <td>58-111</td>\n",
       "      <td>58</td>\n",
       "      <td>84.5</td>\n",
       "      <td>111</td>\n",
       "    </tr>\n",
       "    <tr>\n",
       "      <th>738</th>\n",
       "      <td>Senior Data Engineer</td>\n",
       "      <td>$72K-$133K (Glassdoor est.)</td>\n",
       "      <td>THE CHALLENGEEventbrite has a world-class data...</td>\n",
       "      <td>4.4</td>\n",
       "      <td>Eventbrite4.4</td>\n",
       "      <td>Nashville, TN</td>\n",
       "      <td>San Francisco, CA</td>\n",
       "      <td>1001 - 5000</td>\n",
       "      <td>2006</td>\n",
       "      <td>Company - Public</td>\n",
       "      <td>...</td>\n",
       "      <td>0</td>\n",
       "      <td>0</td>\n",
       "      <td>0</td>\n",
       "      <td>data engineer</td>\n",
       "      <td>sr</td>\n",
       "      <td>na</td>\n",
       "      <td>72-133</td>\n",
       "      <td>72</td>\n",
       "      <td>102.5</td>\n",
       "      <td>133</td>\n",
       "    </tr>\n",
       "    <tr>\n",
       "      <th>739</th>\n",
       "      <td>Project Scientist - Auton Lab, Robotics Institute</td>\n",
       "      <td>$56K-$91K (Glassdoor est.)</td>\n",
       "      <td>The Auton Lab at Carnegie Mellon University is...</td>\n",
       "      <td>2.6</td>\n",
       "      <td>Software Engineering Institute2.6</td>\n",
       "      <td>Pittsburgh, PA</td>\n",
       "      <td>Pittsburgh, PA</td>\n",
       "      <td>501 - 1000</td>\n",
       "      <td>1984</td>\n",
       "      <td>College / University</td>\n",
       "      <td>...</td>\n",
       "      <td>0</td>\n",
       "      <td>0</td>\n",
       "      <td>0</td>\n",
       "      <td>other scientist</td>\n",
       "      <td>na</td>\n",
       "      <td>P</td>\n",
       "      <td>56-91</td>\n",
       "      <td>56</td>\n",
       "      <td>73.5</td>\n",
       "      <td>91</td>\n",
       "    </tr>\n",
       "    <tr>\n",
       "      <th>740</th>\n",
       "      <td>Data Science Manager</td>\n",
       "      <td>$95K-$160K (Glassdoor est.)</td>\n",
       "      <td>Data Science ManagerResponsibilities:\\nOversee...</td>\n",
       "      <td>3.2</td>\n",
       "      <td>Numeric, LLC3.2</td>\n",
       "      <td>Allentown, PA</td>\n",
       "      <td>Chadds Ford, PA</td>\n",
       "      <td>1 - 50</td>\n",
       "      <td>-1</td>\n",
       "      <td>Company - Private</td>\n",
       "      <td>...</td>\n",
       "      <td>0</td>\n",
       "      <td>0</td>\n",
       "      <td>0</td>\n",
       "      <td>data scientist</td>\n",
       "      <td>na</td>\n",
       "      <td>na</td>\n",
       "      <td>95-160</td>\n",
       "      <td>95</td>\n",
       "      <td>127.5</td>\n",
       "      <td>160</td>\n",
       "    </tr>\n",
       "    <tr>\n",
       "      <th>741</th>\n",
       "      <td>Research Scientist – Security and Privacy</td>\n",
       "      <td>$61K-$126K (Glassdoor est.)</td>\n",
       "      <td>Returning Candidate? Log back in to the Career...</td>\n",
       "      <td>3.6</td>\n",
       "      <td>Riverside Research Institute3.6</td>\n",
       "      <td>Beavercreek, OH</td>\n",
       "      <td>Arlington, VA</td>\n",
       "      <td>501 - 1000</td>\n",
       "      <td>1967</td>\n",
       "      <td>Nonprofit Organization</td>\n",
       "      <td>...</td>\n",
       "      <td>0</td>\n",
       "      <td>0</td>\n",
       "      <td>0</td>\n",
       "      <td>other scientist</td>\n",
       "      <td>na</td>\n",
       "      <td>M</td>\n",
       "      <td>61-126</td>\n",
       "      <td>61</td>\n",
       "      <td>93.5</td>\n",
       "      <td>126</td>\n",
       "    </tr>\n",
       "  </tbody>\n",
       "</table>\n",
       "<p>5 rows × 42 columns</p>\n",
       "</div>"
      ],
      "text/plain": [
       "                                             Job Title  \\\n",
       "737           Sr Scientist, Immuno-Oncology - Oncology   \n",
       "738                               Senior Data Engineer   \n",
       "739  Project Scientist - Auton Lab, Robotics Institute   \n",
       "740                               Data Science Manager   \n",
       "741          Research Scientist – Security and Privacy   \n",
       "\n",
       "                 Salary Estimate  \\\n",
       "737  $58K-$111K (Glassdoor est.)   \n",
       "738  $72K-$133K (Glassdoor est.)   \n",
       "739   $56K-$91K (Glassdoor est.)   \n",
       "740  $95K-$160K (Glassdoor est.)   \n",
       "741  $61K-$126K (Glassdoor est.)   \n",
       "\n",
       "                                       Job Description  Rating  \\\n",
       "737  Site Name: USA - Massachusetts - CambridgePost...     3.9   \n",
       "738  THE CHALLENGEEventbrite has a world-class data...     4.4   \n",
       "739  The Auton Lab at Carnegie Mellon University is...     2.6   \n",
       "740  Data Science ManagerResponsibilities:\\nOversee...     3.2   \n",
       "741  Returning Candidate? Log back in to the Career...     3.6   \n",
       "\n",
       "                          Company Name         Location  \\\n",
       "737                             GSK3.9    Cambridge, MA   \n",
       "738                      Eventbrite4.4    Nashville, TN   \n",
       "739  Software Engineering Institute2.6   Pittsburgh, PA   \n",
       "740                    Numeric, LLC3.2    Allentown, PA   \n",
       "741    Riverside Research Institute3.6  Beavercreek, OH   \n",
       "\n",
       "                  Headquarters          Size  Founded       Type of ownership  \\\n",
       "737  Brentford, United Kingdom       10000+      1830        Company - Public   \n",
       "738          San Francisco, CA  1001 - 5000      2006        Company - Public   \n",
       "739             Pittsburgh, PA   501 - 1000      1984    College / University   \n",
       "740            Chadds Ford, PA       1 - 50        -1       Company - Private   \n",
       "741              Arlington, VA   501 - 1000      1967  Nonprofit Organization   \n",
       "\n",
       "     ... flink mongo google_an    job_title_sim  seniority_by_title  Degree  \\\n",
       "737  ...     0     0         0  other scientist                  sr       M   \n",
       "738  ...     0     0         0    data engineer                  sr      na   \n",
       "739  ...     0     0         0  other scientist                  na       P   \n",
       "740  ...     0     0         0   data scientist                  na      na   \n",
       "741  ...     0     0         0  other scientist                  na       M   \n",
       "\n",
       "      range min salary  median salary  max salary  \n",
       "737  58-111         58           84.5         111  \n",
       "738  72-133         72          102.5         133  \n",
       "739   56-91         56           73.5          91  \n",
       "740  95-160         95          127.5         160  \n",
       "741  61-126         61           93.5         126  \n",
       "\n",
       "[5 rows x 42 columns]"
      ]
     },
     "execution_count": 103,
     "metadata": {},
     "output_type": "execute_result"
    }
   ],
   "source": [
    "def clean_salaries(data):\n",
    "  \n",
    "  #here I'm taking the two numbers from the salry column and combining them in a easier format\n",
    "  data['num1'] = data['Salary Estimate'].str.extract('(\\d+)').astype(int)\n",
    "  data['num2'] = data['Salary Estimate'].str.extract('\\d+\\D+(\\d+)').astype(int)\n",
    "  data['range'] = data.apply(lambda x: f\"{x['num1']}-{x['num2']}\", axis=1)\n",
    "\n",
    "  #dropping the newly created features\n",
    "  data = data.drop([\"num1\", \"num2\"], axis=1)\n",
    "\n",
    "  return data\n",
    "\n",
    "def min_salaries(row):\n",
    "    range = [int(num) for num in row[\"range\"].split(\"-\")]\n",
    "    return min(range)\n",
    "\n",
    "def median_salaries(row):\n",
    "    range = [int(num) for num in row[\"range\"].split(\"-\")]\n",
    "    return pd.Series(range).median()\n",
    "\n",
    "def max_salary(row):\n",
    "    range = [int(num) for num in row[\"range\"].split(\"-\")]\n",
    "    return max(range)\n",
    "\n",
    "data = clean_salaries(data)\n",
    "data[\"min salary\"] = data.apply(lambda row: min_salaries(row), axis=1)\n",
    "data[\"median salary\"] = data.apply(lambda row: median_salaries(row), axis=1)\n",
    "data[\"max salary\"] = data.apply(lambda row: max_salary(row), axis=1)\n",
    "\n",
    "data.tail()"
   ]
  },
  {
   "cell_type": "markdown",
   "metadata": {
    "id": "9dVfBcEvLnEG",
    "pycharm": {
     "name": "#%% md\n"
    }
   },
   "source": [
    "Considering the range of salaries provided, one potential approach is to compute the median, mean, or maximum values. In the upcoming visualizations, the distribution of each method will be examined in order to determine the most appropriate approach. Specifically, the most appropriate approach should approximate a normal distribution while still preserving the salient information contained within the salary range, thereby minimizing information loss."
   ]
  },
  {
   "cell_type": "code",
   "execution_count": 104,
   "metadata": {
    "colab": {
     "base_uri": "https://localhost:8080/",
     "height": 296
    },
    "id": "JUtLaXzlQrnI",
    "outputId": "ba5b5f9b-b3c7-4dd7-faff-e701b371ac41",
    "pycharm": {
     "name": "#%%\n"
    }
   },
   "outputs": [
    {
     "data": {
      "text/plain": [
       "<AxesSubplot:xlabel='min salary', ylabel='Count'>"
      ]
     },
     "execution_count": 104,
     "metadata": {},
     "output_type": "execute_result"
    },
    {
     "data": {
      "image/png": "[encoded data removed]",
      "text/plain": [
       "<Figure size 640x480 with 1 Axes>"
      ]
     },
     "metadata": {},
     "output_type": "display_data"
    }
   ],
   "source": [
    "#let's plot the mean salaries distribution first \n",
    "sns.histplot(data[\"min salary\"], bins=50, kde=True)"
   ]
  },
  {
   "cell_type": "code",
   "execution_count": 105,
   "metadata": {
    "colab": {
     "base_uri": "https://localhost:8080/",
     "height": 296
    },
    "id": "5lkdL_zzSDA3",
    "outputId": "bc44fc7a-6245-46dc-e7ee-f3add8961256",
    "pycharm": {
     "name": "#%%\n"
    }
   },
   "outputs": [
    {
     "data": {
      "text/plain": [
       "<AxesSubplot:xlabel='median salary', ylabel='Count'>"
      ]
     },
     "execution_count": 105,
     "metadata": {},
     "output_type": "execute_result"
    },
    {
     "data": {
      "image/png": "[encoded data removed]",
      "text/plain": [
       "<Figure size 640x480 with 1 Axes>"
      ]
     },
     "metadata": {},
     "output_type": "display_data"
    }
   ],
   "source": [
    "#this is instead the median salary\n",
    "sns.histplot(data[\"median salary\"], bins=50, kde=True)"
   ]
  },
  {
   "cell_type": "code",
   "execution_count": 106,
   "metadata": {
    "colab": {
     "base_uri": "https://localhost:8080/",
     "height": 296
    },
    "id": "vW9MZVgNSH_h",
    "outputId": "bc8d3a63-87ae-49e1-cdb3-a90020c0db6c",
    "pycharm": {
     "name": "#%%\n"
    }
   },
   "outputs": [
    {
     "data": {
      "text/plain": [
       "<AxesSubplot:xlabel='max salary', ylabel='Count'>"
      ]
     },
     "execution_count": 106,
     "metadata": {},
     "output_type": "execute_result"
    },
    {
     "data": {
      "image/png": "[encoded data removed]",
      "text/plain": [
       "<Figure size 640x480 with 1 Axes>"
      ]
     },
     "metadata": {},
     "output_type": "display_data"
    }
   ],
   "source": [
    "#max salary\n",
    "sns.histplot(data[\"max salary\"], bins=50, kde=True)"
   ]
  },
  {
   "cell_type": "markdown",
   "metadata": {
    "id": "xvHpuwktSehG",
    "pycharm": {
     "name": "#%% md\n"
    }
   },
   "source": [
    "The present study aims to evaluate the degree of normality exhibited by each of the three distributions - median, mean, and maximum - through the utilization of the Kolmogorov-Smirnov test. However, prior to conducting this analysis, it is necessary to standardize the features in order to enable a comparison with the normal distribution, which is assumed to be on the same scale."
   ]
  },
  {
   "cell_type": "code",
   "execution_count": 107,
   "metadata": {
    "id": "RUh47vK0WYSE",
    "pycharm": {
     "name": "#%%\n"
    }
   },
   "outputs": [],
   "source": [
    "#takes a column from a dataframe and \n",
    "#returns it standardized\n",
    "\n",
    "def standardize_col(column):\n",
    "  \n",
    "  return (data[column] - data[column].mean()) / data[column].std()\n",
    "\n"
   ]
  },
  {
   "cell_type": "code",
   "execution_count": 108,
   "metadata": {
    "colab": {
     "base_uri": "https://localhost:8080/"
    },
    "id": "fUsVMYERSdgS",
    "outputId": "e105b34e-5ccc-4822-fff8-27ead1d29104",
    "pycharm": {
     "name": "#%%\n"
    }
   },
   "outputs": [
    {
     "name": "stdout",
     "output_type": "stream",
     "text": [
      "KS statistic and p-value for the median salary: 0.052482742828886764 0.032363119235189086\n",
      "KS statistic and p-value for the min salary: 0.0729259351812791 0.0007068270170100536\n",
      "KS statistic and p-value for the max salary: 0.05405599853419818 0.025203763648939947\n"
     ]
    }
   ],
   "source": [
    "ks1, p1 = kstest(standardize_col(\"median salary\"), norm.cdf)\n",
    "ks2, p2 = kstest(standardize_col(\"min salary\"), norm.cdf)\n",
    "ks3, p3 = kstest(standardize_col(\"max salary\"), norm.cdf)\n",
    "\n",
    "\n",
    "print(\"KS statistic and p-value for the median salary:\", ks1, p1)\n",
    "print(\"KS statistic and p-value for the min salary:\", ks2, p2)\n",
    "print(\"KS statistic and p-value for the max salary:\", ks3, p3)"
   ]
  },
  {
   "cell_type": "markdown",
   "metadata": {
    "id": "DUmCs6WgUpty",
    "pycharm": {
     "name": "#%% md\n"
    }
   },
   "source": [
    "1. The KS-statistic is a metric that ranges from 0 to 1, where a value of 0 denotes a perfect match with the normal distribution, while a value of 1 signifies the greatest possible distance from it. Based on the current findings, the most promising candidates are the median and maximum salary distributions.\n",
    "\n",
    "2. The p-value indicates the likelihood of observing values that are as extreme as those that have been recorded. If the p-value falls below 0.05, we can reject the hypothesis that our empirical distribution is derived from the reference distribution (normal), whereas a p-value above 0.05 indicates that we cannot conclusively state whether the distribution is derived from the reference distribution or not. With this in mind, all three of the examined features possess a p-value that is less than 0.05, thereby suggesting that none of them conform to a normal distribution.\n",
    " "
   ]
  },
  {
   "cell_type": "code",
   "execution_count": 109,
   "metadata": {
    "colab": {
     "base_uri": "https://localhost:8080/"
    },
    "id": "nuQhUdwof3F9",
    "outputId": "c2b9aee3-eb7d-4435-f65b-e024fe329b01",
    "pycharm": {
     "name": "#%%\n"
    }
   },
   "outputs": [
    {
     "name": "stdout",
     "output_type": "stream",
     "text": [
      "0.5403164031175348\n"
     ]
    }
   ],
   "source": [
    "def relative_diff(a, b):\n",
    "    return abs(a - b) / ((a + b) / 2)\n",
    "\n",
    "# apply the function to each pair of values in the two columns\n",
    "diff = data.apply(lambda x: relative_diff(x['max salary'], x['min salary']), axis=1)\n",
    "\n",
    "# calculate the mean of the relative differences\n",
    "print(diff.mean())"
   ]
  },
  {
   "cell_type": "markdown",
   "metadata": {
    "id": "yP4SOXVhf3cd",
    "pycharm": {
     "name": "#%% md\n"
    }
   },
   "source": [
    "The next step of the analysis involves examining the relative difference between the maximum and minimum values. This comparison serves to determine whether utilizing the median salary as a target variable would be more appropriate than either of the other two potential options. Specifically, if the average relative difference between the maximum and minimum values in each row is sufficiently large, then the median salary should be employed as the target variable. Given a relative difference of 54%, it appears that the median salary distribution is the most appropriate choice, relative to the other two distributions."
   ]
  },
  {
   "cell_type": "code",
   "execution_count": 110,
   "metadata": {
    "colab": {
     "base_uri": "https://localhost:8080/",
     "height": 560
    },
    "id": "YziwcRljhWDA",
    "outputId": "41e311b4-5573-4742-f23f-d057c2beae09",
    "pycharm": {
     "name": "#%%\n"
    }
   },
   "outputs": [
    {
     "data": {
      "text/html": [
       "<div>\n",
       "<style scoped>\n",
       "    .dataframe tbody tr th:only-of-type {\n",
       "        vertical-align: middle;\n",
       "    }\n",
       "\n",
       "    .dataframe tbody tr th {\n",
       "        vertical-align: top;\n",
       "    }\n",
       "\n",
       "    .dataframe thead th {\n",
       "        text-align: right;\n",
       "    }\n",
       "</style>\n",
       "<table border=\"1\" class=\"dataframe\">\n",
       "  <thead>\n",
       "    <tr style=\"text-align: right;\">\n",
       "      <th></th>\n",
       "      <th>Job Title</th>\n",
       "      <th>Job Description</th>\n",
       "      <th>Rating</th>\n",
       "      <th>Company Name</th>\n",
       "      <th>Location</th>\n",
       "      <th>Headquarters</th>\n",
       "      <th>Size</th>\n",
       "      <th>Founded</th>\n",
       "      <th>Type of ownership</th>\n",
       "      <th>Industry</th>\n",
       "      <th>...</th>\n",
       "      <th>hadoop</th>\n",
       "      <th>tableau</th>\n",
       "      <th>bi</th>\n",
       "      <th>flink</th>\n",
       "      <th>mongo</th>\n",
       "      <th>google_an</th>\n",
       "      <th>job_title_sim</th>\n",
       "      <th>seniority_by_title</th>\n",
       "      <th>Degree</th>\n",
       "      <th>median salary</th>\n",
       "    </tr>\n",
       "  </thead>\n",
       "  <tbody>\n",
       "    <tr>\n",
       "      <th>0</th>\n",
       "      <td>Data Scientist</td>\n",
       "      <td>Data ScientistLocation: Albuquerque, NMEducati...</td>\n",
       "      <td>3.8</td>\n",
       "      <td>Tecolote Research3.8</td>\n",
       "      <td>Albuquerque, NM</td>\n",
       "      <td>Goleta, CA</td>\n",
       "      <td>501 - 1000</td>\n",
       "      <td>1973</td>\n",
       "      <td>Company - Private</td>\n",
       "      <td>Aerospace &amp; Defense</td>\n",
       "      <td>...</td>\n",
       "      <td>0</td>\n",
       "      <td>1</td>\n",
       "      <td>1</td>\n",
       "      <td>0</td>\n",
       "      <td>0</td>\n",
       "      <td>0</td>\n",
       "      <td>data scientist</td>\n",
       "      <td>na</td>\n",
       "      <td>M</td>\n",
       "      <td>72.0</td>\n",
       "    </tr>\n",
       "    <tr>\n",
       "      <th>1</th>\n",
       "      <td>Healthcare Data Scientist</td>\n",
       "      <td>What You Will Do:\\nI. General Summary\\nThe Hea...</td>\n",
       "      <td>3.4</td>\n",
       "      <td>University of Maryland Medical System3.4</td>\n",
       "      <td>Linthicum, MD</td>\n",
       "      <td>Baltimore, MD</td>\n",
       "      <td>10000+</td>\n",
       "      <td>1984</td>\n",
       "      <td>Other Organization</td>\n",
       "      <td>Health Care Services &amp; Hospitals</td>\n",
       "      <td>...</td>\n",
       "      <td>0</td>\n",
       "      <td>0</td>\n",
       "      <td>0</td>\n",
       "      <td>0</td>\n",
       "      <td>0</td>\n",
       "      <td>0</td>\n",
       "      <td>data scientist</td>\n",
       "      <td>na</td>\n",
       "      <td>M</td>\n",
       "      <td>87.5</td>\n",
       "    </tr>\n",
       "    <tr>\n",
       "      <th>2</th>\n",
       "      <td>Data Scientist</td>\n",
       "      <td>KnowBe4, Inc. is a high growth information sec...</td>\n",
       "      <td>4.8</td>\n",
       "      <td>KnowBe44.8</td>\n",
       "      <td>Clearwater, FL</td>\n",
       "      <td>Clearwater, FL</td>\n",
       "      <td>501 - 1000</td>\n",
       "      <td>2010</td>\n",
       "      <td>Company - Private</td>\n",
       "      <td>Security Services</td>\n",
       "      <td>...</td>\n",
       "      <td>0</td>\n",
       "      <td>0</td>\n",
       "      <td>0</td>\n",
       "      <td>0</td>\n",
       "      <td>0</td>\n",
       "      <td>0</td>\n",
       "      <td>data scientist</td>\n",
       "      <td>na</td>\n",
       "      <td>M</td>\n",
       "      <td>85.0</td>\n",
       "    </tr>\n",
       "    <tr>\n",
       "      <th>3</th>\n",
       "      <td>Data Scientist</td>\n",
       "      <td>*Organization and Job ID**Job ID: 310709\\nDire...</td>\n",
       "      <td>3.8</td>\n",
       "      <td>PNNL3.8</td>\n",
       "      <td>Richland, WA</td>\n",
       "      <td>Richland, WA</td>\n",
       "      <td>1001 - 5000</td>\n",
       "      <td>1965</td>\n",
       "      <td>Government</td>\n",
       "      <td>Energy</td>\n",
       "      <td>...</td>\n",
       "      <td>0</td>\n",
       "      <td>0</td>\n",
       "      <td>0</td>\n",
       "      <td>0</td>\n",
       "      <td>0</td>\n",
       "      <td>0</td>\n",
       "      <td>data scientist</td>\n",
       "      <td>na</td>\n",
       "      <td>na</td>\n",
       "      <td>76.5</td>\n",
       "    </tr>\n",
       "    <tr>\n",
       "      <th>4</th>\n",
       "      <td>Data Scientist</td>\n",
       "      <td>Data ScientistAffinity Solutions / Marketing C...</td>\n",
       "      <td>2.9</td>\n",
       "      <td>Affinity Solutions2.9</td>\n",
       "      <td>New York, NY</td>\n",
       "      <td>New York, NY</td>\n",
       "      <td>51 - 200</td>\n",
       "      <td>1998</td>\n",
       "      <td>Company - Private</td>\n",
       "      <td>Advertising &amp; Marketing</td>\n",
       "      <td>...</td>\n",
       "      <td>0</td>\n",
       "      <td>0</td>\n",
       "      <td>0</td>\n",
       "      <td>0</td>\n",
       "      <td>0</td>\n",
       "      <td>0</td>\n",
       "      <td>data scientist</td>\n",
       "      <td>na</td>\n",
       "      <td>na</td>\n",
       "      <td>114.5</td>\n",
       "    </tr>\n",
       "  </tbody>\n",
       "</table>\n",
       "<p>5 rows × 38 columns</p>\n",
       "</div>"
      ],
      "text/plain": [
       "                   Job Title  \\\n",
       "0             Data Scientist   \n",
       "1  Healthcare Data Scientist   \n",
       "2             Data Scientist   \n",
       "3             Data Scientist   \n",
       "4             Data Scientist   \n",
       "\n",
       "                                     Job Description  Rating  \\\n",
       "0  Data ScientistLocation: Albuquerque, NMEducati...     3.8   \n",
       "1  What You Will Do:\\nI. General Summary\\nThe Hea...     3.4   \n",
       "2  KnowBe4, Inc. is a high growth information sec...     4.8   \n",
       "3  *Organization and Job ID**Job ID: 310709\\nDire...     3.8   \n",
       "4  Data ScientistAffinity Solutions / Marketing C...     2.9   \n",
       "\n",
       "                               Company Name         Location    Headquarters  \\\n",
       "0                      Tecolote Research3.8  Albuquerque, NM      Goleta, CA   \n",
       "1  University of Maryland Medical System3.4    Linthicum, MD   Baltimore, MD   \n",
       "2                                KnowBe44.8   Clearwater, FL  Clearwater, FL   \n",
       "3                                   PNNL3.8     Richland, WA    Richland, WA   \n",
       "4                     Affinity Solutions2.9     New York, NY    New York, NY   \n",
       "\n",
       "           Size  Founded   Type of ownership  \\\n",
       "0   501 - 1000      1973   Company - Private   \n",
       "1       10000+      1984  Other Organization   \n",
       "2   501 - 1000      2010   Company - Private   \n",
       "3  1001 - 5000      1965          Government   \n",
       "4     51 - 200      1998   Company - Private   \n",
       "\n",
       "                           Industry  ... hadoop tableau bi  flink  mongo  \\\n",
       "0               Aerospace & Defense  ...      0       1  1      0      0   \n",
       "1  Health Care Services & Hospitals  ...      0       0  0      0      0   \n",
       "2                 Security Services  ...      0       0  0      0      0   \n",
       "3                            Energy  ...      0       0  0      0      0   \n",
       "4           Advertising & Marketing  ...      0       0  0      0      0   \n",
       "\n",
       "  google_an   job_title_sim  seniority_by_title  Degree  median salary  \n",
       "0         0  data scientist                  na       M           72.0  \n",
       "1         0  data scientist                  na       M           87.5  \n",
       "2         0  data scientist                  na       M           85.0  \n",
       "3         0  data scientist                  na      na           76.5  \n",
       "4         0  data scientist                  na      na          114.5  \n",
       "\n",
       "[5 rows x 38 columns]"
      ]
     },
     "execution_count": 110,
     "metadata": {},
     "output_type": "execute_result"
    }
   ],
   "source": [
    "data = data.drop([\"max salary\", \"min salary\", \"range\", \"Salary Estimate\"], axis=1)\n",
    "data.head()"
   ]
  },
  {
   "cell_type": "code",
   "execution_count": 111,
   "metadata": {
    "colab": {
     "base_uri": "https://localhost:8080/",
     "height": 487
    },
    "id": "j0LSDPWZYb-r",
    "outputId": "465fee9f-2d1a-41ba-c9ae-5825d09bdef5",
    "pycharm": {
     "name": "#%%\n"
    }
   },
   "outputs": [
    {
     "name": "stderr",
     "output_type": "stream",
     "text": [
      "All model checkpoint layers were used when initializing TFBertForSequenceClassification.\n",
      "\n",
      "Some layers of TFBertForSequenceClassification were not initialized from the model checkpoint at bert-base-uncased and are newly initialized: ['classifier']\n",
      "You should probably TRAIN this model on a down-stream task to be able to use it for predictions and inference.\n"
     ]
    }
   ],
   "source": [
    "classifier = pipeline('sentiment-analysis', model='bert-base-uncased', tokenizer='bert-base-uncased')\n",
    "\n",
    "#Using a sentiment analysis model\n",
    "#we want to generate a score for each job description\n",
    "#it's difficult that it will really capture \n",
    "#how the description correlates with the salary\n",
    "#but at least we're not completely losing the information \n",
    "#found in the description\n",
    "scores = []\n",
    "for desc in data['Job Description']:\n",
    "    result = classifier(desc, truncation=True)\n",
    "    score = result[0]['score']\n",
    "    scores.append(score)\n",
    "\n",
    "# Add the scores to the DataFrame\n",
    "data['description_score'] = scores\n",
    "data = data.drop(\"Job Description\", axis=1)"
   ]
  },
  {
   "cell_type": "markdown",
   "metadata": {
    "id": "PH_pjuP0YSof",
    "pycharm": {
     "name": "#%% md\n"
    }
   },
   "source": [
    "# EDA: Some more visualizations and insights "
   ]
  },
  {
   "cell_type": "markdown",
   "metadata": {
    "id": "Br1iNUQHhwHn",
    "pycharm": {
     "name": "#%% md\n"
    }
   },
   "source": [
    "The subsequent step of the analysis entails examining the second most significant feature, which is denoted by the \"Job Title\" field. The initial objective is to conduct a count of the unique entries or identified roles. Converting the string values to numeric equivalents is not expected to pose significant difficulties, but before proceeding with this step, it may be prudent to ascertain the frequency of each entry. Given the large number of distinct entries, the focus will be on identifying the most frequently recurring entries, where the value of n is predetermined."
   ]
  },
  {
   "cell_type": "code",
   "execution_count": 112,
   "metadata": {
    "colab": {
     "base_uri": "https://localhost:8080/"
    },
    "id": "HBzJ-vHBiBi7",
    "outputId": "99b3cc67-cb08-4357-e776-21ccf1557679",
    "pycharm": {
     "name": "#%%\n"
    }
   },
   "outputs": [
    {
     "data": {
      "text/plain": [
       "264"
      ]
     },
     "execution_count": 112,
     "metadata": {},
     "output_type": "execute_result"
    }
   ],
   "source": [
    "data['Job Title'].nunique()"
   ]
  },
  {
   "cell_type": "code",
   "execution_count": 113,
   "metadata": {
    "id": "-ljxM9bmilPh",
    "pycharm": {
     "name": "#%%\n"
    }
   },
   "outputs": [],
   "source": [
    "def visualize_freq_job():\n",
    "  freq = data['Job Title'].value_counts().sort_values(ascending=False)\n",
    "\n",
    "  # select the top 5 categories with the highest frequency\n",
    "  top_n = 15\n",
    "  top_categories = freq[:top_n]\n",
    "\n",
    "  print(\"This is the total number of elements with one of the n-most recurring labels \" + str(top_categories.sum()))\n",
    "  print(\"This is the percentage of elements with one of the n-most recurring labels \" + str(top_categories.sum() / len(data)))\n",
    "\n",
    "  plt.barh(top_categories.index, top_categories.values)\n",
    "  plt.title(f'Top {top_n} Categories by Frequency')\n",
    "  plt.xlabel('Category')\n",
    "  plt.ylabel('Count')\n",
    "  plt.show()"
   ]
  },
  {
   "cell_type": "code",
   "execution_count": 114,
   "metadata": {
    "colab": {
     "base_uri": "https://localhost:8080/",
     "height": 330
    },
    "id": "dJzlQj7wnbi1",
    "outputId": "18cb8da2-7823-41b1-fe18-7b6620c6bc02",
    "pycharm": {
     "name": "#%%\n"
    }
   },
   "outputs": [
    {
     "name": "stdout",
     "output_type": "stream",
     "text": [
      "This is the total number of elements with one of the n-most recurring labels 305\n",
      "This is the percentage of elements with one of the n-most recurring labels 0.4110512129380054\n"
     ]
    },
    {
     "data": {
      "image/png": "[encoded data removed]",
      "text/plain": [
       "<Figure size 640x480 with 1 Axes>"
      ]
     },
     "metadata": {},
     "output_type": "display_data"
    }
   ],
   "source": [
    "visualize_freq_job()"
   ]
  },
  {
   "cell_type": "markdown",
   "metadata": {
    "id": "8Kyp2lebj5dt",
    "pycharm": {
     "name": "#%% md\n"
    }
   },
   "source": [
    "It is reasonable to assume that the identified entries are representative of the total distribution, as they account for up to 41% of the overall data. However, it appears that numerous labels are either repetitive or overly specific, rendering them of limited utility. Consequently, data cleaning procedures will be employed to enhance the clarity and uniformity of the \"Job Title\" field. This will involve collapsing distinct but similar titles, such as \"Data Scientist Senior\" and \"Sr. Data Scientist,\" into a single category denoted as \"DS Senior.\""
   ]
  },
  {
   "cell_type": "code",
   "execution_count": 115,
   "metadata": {
    "id": "FvzfqnO1mc0D",
    "pycharm": {
     "name": "#%%\n"
    }
   },
   "outputs": [],
   "source": [
    "def cleanFeature(column, values, new_name):\n",
    "\n",
    "  data[column] = data[column].str.replace('|'.join(values), new_name, case=False)\n",
    "  return data"
   ]
  },
  {
   "cell_type": "code",
   "execution_count": 116,
   "metadata": {
    "colab": {
     "base_uri": "https://localhost:8080/",
     "height": 364
    },
    "id": "fsxKGrDenLsC",
    "outputId": "c0db2e44-823f-471d-a990-c96403010a06",
    "pycharm": {
     "name": "#%%\n"
    }
   },
   "outputs": [
    {
     "name": "stderr",
     "output_type": "stream",
     "text": [
      "C:\\Users\\carlo\\AppData\\Local\\Temp\\ipykernel_13640\\168017779.py:3: FutureWarning:\n",
      "\n",
      "The default value of regex will change from True to False in a future version.\n",
      "\n"
     ]
    },
    {
     "name": "stdout",
     "output_type": "stream",
     "text": [
      "This is the total number of elements with one of the n-most recurring labels 313\n",
      "This is the percentage of elements with one of the n-most recurring labels 0.42183288409703507\n"
     ]
    },
    {
     "data": {
      "image/png": "[encoded data removed]",
      "text/plain": [
       "<Figure size 640x480 with 1 Axes>"
      ]
     },
     "metadata": {},
     "output_type": "display_data"
    }
   ],
   "source": [
    "to_be_changed = ['Sr. Data Scientist', 'Senior Data Scientist']\n",
    "data = cleanFeature(\"Job Title\", to_be_changed, 'Senior Data Scientist')\n",
    "to_be_changed = ['Senior Data Engineer', 'Sr. Data Engineer']\n",
    "data = cleanFeature('Job Title' , to_be_changed, 'Senior Data Engineer')\n",
    "to_be_changed = ['Senior Data Analyst', 'Sr. Data Analyst']\n",
    "data = cleanFeature('Job Title' , to_be_changed, 'Senior Data Analyst')\n",
    "visualize_freq_job()"
   ]
  },
  {
   "cell_type": "markdown",
   "metadata": {
    "id": "KlqRb4-sphbw",
    "pycharm": {
     "name": "#%% md\n"
    }
   },
   "source": [
    "Regrettably, due to the sheer volume of distinct values present in the dataset, it is not feasible to perform a comprehensive cleaning of all redundant information. Nevertheless, it may be beneficial to shift the focus towards more enjoyable tasks, such as the visualization of salary distribution across the United States using a geographical map. To enable this analysis, the \"Location\" feature will be split into separate \"State\" and \"City\" fields, thereby facilitating a more granular examination of the top paying cities. However, it is unlikely that this analysis will yield any particularly surprising results."
   ]
  },
  {
   "cell_type": "code",
   "execution_count": 117,
   "metadata": {
    "colab": {
     "base_uri": "https://localhost:8080/",
     "height": 542
    },
    "id": "ohKMmYC_q4l0",
    "outputId": "756b215e-10d6-40ee-ba7c-f26817747981",
    "pycharm": {
     "name": "#%%\n"
    }
   },
   "outputs": [
    {
     "data": {
      "application/vnd.plotly.v1+json": {
       "config": {
        "plotlyServerURL": "https://plot.ly"
       },
       "data": [
        {
         "coloraxis": "coloraxis",
         "geo": "geo",
         "hovertemplate": "state=%{location}<br>state salary=%{z}<extra></extra>",
         "locationmode": "USA-states",
         "locations": [
          "AL",
          "AZ",
          "CA",
          "CO",
          "CT",
          "DC",
          "DE",
          "FL",
          "GA",
          "IA",
          "ID",
          "IL",
          "IN",
          "KS",
          "KY",
          "LA",
          "Los Angeles, CA",
          "MA",
          "MD",
          "MI",
          "MN",
          "MO",
          "NC",
          "NE",
          "NJ",
          "NM",
          "NY",
          "OH",
          "OR",
          "PA",
          "RI",
          "SC",
          "TN",
          "TX",
          "UT",
          "VA",
          "WA",
          "WI"
         ],
         "name": "",
         "type": "choropleth",
         "z": [
          60.75,
          69.5,
          121,
          99,
          62.5,
          96.5,
          27.5,
          78.25,
          80,
          77.5,
          56.25,
          107.5,
          89.5,
          87,
          103.5,
          59.25,
          107.5,
          107.5,
          93.5,
          96,
          85.5,
          70.5,
          99.5,
          38.75,
          98.5,
          75.5,
          91.25,
          94,
          98,
          91.5,
          100,
          60.5,
          98,
          90.25,
          97,
          89.5,
          80.5,
          58.25
         ]
        }
       ],
       "layout": {
        "coloraxis": {
         "cmax": 121,
         "cmin": 27.5,
         "colorbar": {
          "title": {
           "text": "state salary"
          }
         },
         "colorscale": [
          [
           0,
           "#0d0887"
          ],
          [
           0.1111111111111111,
           "#46039f"
          ],
          [
           0.2222222222222222,
           "#7201a8"
          ],
          [
           0.3333333333333333,
           "#9c179e"
          ],
          [
           0.4444444444444444,
           "#bd3786"
          ],
          [
           0.5555555555555556,
           "#d8576b"
          ],
          [
           0.6666666666666666,
           "#ed7953"
          ],
          [
           0.7777777777777778,
           "#fb9f3a"
          ],
          [
           0.8888888888888888,
           "#fdca26"
          ],
          [
           1,
           "#f0f921"
          ]
         ]
        },
        "geo": {
         "center": {},
         "domain": {
          "x": [
           0,
           1
          ],
          "y": [
           0,
           1
          ]
         },
         "scope": "usa"
        },
        "legend": {
         "tracegroupgap": 0
        },
        "margin": {
         "t": 60
        },
        "template": {
         "data": {
          "bar": [
           {
            "error_x": {
             "color": "#2a3f5f"
            },
            "error_y": {
             "color": "#2a3f5f"
            },
            "marker": {
             "line": {
              "color": "#E5ECF6",
              "width": 0.5
             },
             "pattern": {
              "fillmode": "overlay",
              "size": 10,
              "solidity": 0.2
             }
            },
            "type": "bar"
           }
          ],
          "barpolar": [
           {
            "marker": {
             "line": {
              "color": "#E5ECF6",
              "width": 0.5
             },
             "pattern": {
              "fillmode": "overlay",
              "size": 10,
              "solidity": 0.2
             }
            },
            "type": "barpolar"
           }
          ],
          "carpet": [
           {
            "aaxis": {
             "endlinecolor": "#2a3f5f",
             "gridcolor": "white",
             "linecolor": "white",
             "minorgridcolor": "white",
             "startlinecolor": "#2a3f5f"
            },
            "baxis": {
             "endlinecolor": "#2a3f5f",
             "gridcolor": "white",
             "linecolor": "white",
             "minorgridcolor": "white",
             "startlinecolor": "#2a3f5f"
            },
            "type": "carpet"
           }
          ],
          "choropleth": [
           {
            "colorbar": {
             "outlinewidth": 0,
             "ticks": ""
            },
            "type": "choropleth"
           }
          ],
          "contour": [
           {
            "colorbar": {
             "outlinewidth": 0,
             "ticks": ""
            },
            "colorscale": [
             [
              0,
              "#0d0887"
             ],
             [
              0.1111111111111111,
              "#46039f"
             ],
             [
              0.2222222222222222,
              "#7201a8"
             ],
             [
              0.3333333333333333,
              "#9c179e"
             ],
             [
              0.4444444444444444,
              "#bd3786"
             ],
             [
              0.5555555555555556,
              "#d8576b"
             ],
             [
              0.6666666666666666,
              "#ed7953"
             ],
             [
              0.7777777777777778,
              "#fb9f3a"
             ],
             [
              0.8888888888888888,
              "#fdca26"
             ],
             [
              1,
              "#f0f921"
             ]
            ],
            "type": "contour"
           }
          ],
          "contourcarpet": [
           {
            "colorbar": {
             "outlinewidth": 0,
             "ticks": ""
            },
            "type": "contourcarpet"
           }
          ],
          "heatmap": [
           {
            "colorbar": {
             "outlinewidth": 0,
             "ticks": ""
            },
            "colorscale": [
             [
              0,
              "#0d0887"
             ],
             [
              0.1111111111111111,
              "#46039f"
             ],
             [
              0.2222222222222222,
              "#7201a8"
             ],
             [
              0.3333333333333333,
              "#9c179e"
             ],
             [
              0.4444444444444444,
              "#bd3786"
             ],
             [
              0.5555555555555556,
              "#d8576b"
             ],
             [
              0.6666666666666666,
              "#ed7953"
             ],
             [
              0.7777777777777778,
              "#fb9f3a"
             ],
             [
              0.8888888888888888,
              "#fdca26"
             ],
             [
              1,
              "#f0f921"
             ]
            ],
            "type": "heatmap"
           }
          ],
          "heatmapgl": [
           {
            "colorbar": {
             "outlinewidth": 0,
             "ticks": ""
            },
            "colorscale": [
             [
              0,
              "#0d0887"
             ],
             [
              0.1111111111111111,
              "#46039f"
             ],
             [
              0.2222222222222222,
              "#7201a8"
             ],
             [
              0.3333333333333333,
              "#9c179e"
             ],
             [
              0.4444444444444444,
              "#bd3786"
             ],
             [
              0.5555555555555556,
              "#d8576b"
             ],
             [
              0.6666666666666666,
              "#ed7953"
             ],
             [
              0.7777777777777778,
              "#fb9f3a"
             ],
             [
              0.8888888888888888,
              "#fdca26"
             ],
             [
              1,
              "#f0f921"
             ]
            ],
            "type": "heatmapgl"
           }
          ],
          "histogram": [
           {
            "marker": {
             "pattern": {
              "fillmode": "overlay",
              "size": 10,
              "solidity": 0.2
             }
            },
            "type": "histogram"
           }
          ],
          "histogram2d": [
           {
            "colorbar": {
             "outlinewidth": 0,
             "ticks": ""
            },
            "colorscale": [
             [
              0,
              "#0d0887"
             ],
             [
              0.1111111111111111,
              "#46039f"
             ],
             [
              0.2222222222222222,
              "#7201a8"
             ],
             [
              0.3333333333333333,
              "#9c179e"
             ],
             [
              0.4444444444444444,
              "#bd3786"
             ],
             [
              0.5555555555555556,
              "#d8576b"
             ],
             [
              0.6666666666666666,
              "#ed7953"
             ],
             [
              0.7777777777777778,
              "#fb9f3a"
             ],
             [
              0.8888888888888888,
              "#fdca26"
             ],
             [
              1,
              "#f0f921"
             ]
            ],
            "type": "histogram2d"
           }
          ],
          "histogram2dcontour": [
           {
            "colorbar": {
             "outlinewidth": 0,
             "ticks": ""
            },
            "colorscale": [
             [
              0,
              "#0d0887"
             ],
             [
              0.1111111111111111,
              "#46039f"
             ],
             [
              0.2222222222222222,
              "#7201a8"
             ],
             [
              0.3333333333333333,
              "#9c179e"
             ],
             [
              0.4444444444444444,
              "#bd3786"
             ],
             [
              0.5555555555555556,
              "#d8576b"
             ],
             [
              0.6666666666666666,
              "#ed7953"
             ],
             [
              0.7777777777777778,
              "#fb9f3a"
             ],
             [
              0.8888888888888888,
              "#fdca26"
             ],
             [
              1,
              "#f0f921"
             ]
            ],
            "type": "histogram2dcontour"
           }
          ],
          "mesh3d": [
           {
            "colorbar": {
             "outlinewidth": 0,
             "ticks": ""
            },
            "type": "mesh3d"
           }
          ],
          "parcoords": [
           {
            "line": {
             "colorbar": {
              "outlinewidth": 0,
              "ticks": ""
             }
            },
            "type": "parcoords"
           }
          ],
          "pie": [
           {
            "automargin": true,
            "type": "pie"
           }
          ],
          "scatter": [
           {
            "fillpattern": {
             "fillmode": "overlay",
             "size": 10,
             "solidity": 0.2
            },
            "type": "scatter"
           }
          ],
          "scatter3d": [
           {
            "line": {
             "colorbar": {
              "outlinewidth": 0,
              "ticks": ""
             }
            },
            "marker": {
             "colorbar": {
              "outlinewidth": 0,
              "ticks": ""
             }
            },
            "type": "scatter3d"
           }
          ],
          "scattercarpet": [
           {
            "marker": {
             "colorbar": {
              "outlinewidth": 0,
              "ticks": ""
             }
            },
            "type": "scattercarpet"
           }
          ],
          "scattergeo": [
           {
            "marker": {
             "colorbar": {
              "outlinewidth": 0,
              "ticks": ""
             }
            },
            "type": "scattergeo"
           }
          ],
          "scattergl": [
           {
            "marker": {
             "colorbar": {
              "outlinewidth": 0,
              "ticks": ""
             }
            },
            "type": "scattergl"
           }
          ],
          "scattermapbox": [
           {
            "marker": {
             "colorbar": {
              "outlinewidth": 0,
              "ticks": ""
             }
            },
            "type": "scattermapbox"
           }
          ],
          "scatterpolar": [
           {
            "marker": {
             "colorbar": {
              "outlinewidth": 0,
              "ticks": ""
             }
            },
            "type": "scatterpolar"
           }
          ],
          "scatterpolargl": [
           {
            "marker": {
             "colorbar": {
              "outlinewidth": 0,
              "ticks": ""
             }
            },
            "type": "scatterpolargl"
           }
          ],
          "scatterternary": [
           {
            "marker": {
             "colorbar": {
              "outlinewidth": 0,
              "ticks": ""
             }
            },
            "type": "scatterternary"
           }
          ],
          "surface": [
           {
            "colorbar": {
             "outlinewidth": 0,
             "ticks": ""
            },
            "colorscale": [
             [
              0,
              "#0d0887"
             ],
             [
              0.1111111111111111,
              "#46039f"
             ],
             [
              0.2222222222222222,
              "#7201a8"
             ],
             [
              0.3333333333333333,
              "#9c179e"
             ],
             [
              0.4444444444444444,
              "#bd3786"
             ],
             [
              0.5555555555555556,
              "#d8576b"
             ],
             [
              0.6666666666666666,
              "#ed7953"
             ],
             [
              0.7777777777777778,
              "#fb9f3a"
             ],
             [
              0.8888888888888888,
              "#fdca26"
             ],
             [
              1,
              "#f0f921"
             ]
            ],
            "type": "surface"
           }
          ],
          "table": [
           {
            "cells": {
             "fill": {
              "color": "#EBF0F8"
             },
             "line": {
              "color": "white"
             }
            },
            "header": {
             "fill": {
              "color": "#C8D4E3"
             },
             "line": {
              "color": "white"
             }
            },
            "type": "table"
           }
          ]
         },
         "layout": {
          "annotationdefaults": {
           "arrowcolor": "#2a3f5f",
           "arrowhead": 0,
           "arrowwidth": 1
          },
          "autotypenumbers": "strict",
          "coloraxis": {
           "colorbar": {
            "outlinewidth": 0,
            "ticks": ""
           }
          },
          "colorscale": {
           "diverging": [
            [
             0,
             "#8e0152"
            ],
            [
             0.1,
             "#c51b7d"
            ],
            [
             0.2,
             "#de77ae"
            ],
            [
             0.3,
             "#f1b6da"
            ],
            [
             0.4,
             "#fde0ef"
            ],
            [
             0.5,
             "#f7f7f7"
            ],
            [
             0.6,
             "#e6f5d0"
            ],
            [
             0.7,
             "#b8e186"
            ],
            [
             0.8,
             "#7fbc41"
            ],
            [
             0.9,
             "#4d9221"
            ],
            [
             1,
             "#276419"
            ]
           ],
           "sequential": [
            [
             0,
             "#0d0887"
            ],
            [
             0.1111111111111111,
             "#46039f"
            ],
            [
             0.2222222222222222,
             "#7201a8"
            ],
            [
             0.3333333333333333,
             "#9c179e"
            ],
            [
             0.4444444444444444,
             "#bd3786"
            ],
            [
             0.5555555555555556,
             "#d8576b"
            ],
            [
             0.6666666666666666,
             "#ed7953"
            ],
            [
             0.7777777777777778,
             "#fb9f3a"
            ],
            [
             0.8888888888888888,
             "#fdca26"
            ],
            [
             1,
             "#f0f921"
            ]
           ],
           "sequentialminus": [
            [
             0,
             "#0d0887"
            ],
            [
             0.1111111111111111,
             "#46039f"
            ],
            [
             0.2222222222222222,
             "#7201a8"
            ],
            [
             0.3333333333333333,
             "#9c179e"
            ],
            [
             0.4444444444444444,
             "#bd3786"
            ],
            [
             0.5555555555555556,
             "#d8576b"
            ],
            [
             0.6666666666666666,
             "#ed7953"
            ],
            [
             0.7777777777777778,
             "#fb9f3a"
            ],
            [
             0.8888888888888888,
             "#fdca26"
            ],
            [
             1,
             "#f0f921"
            ]
           ]
          },
          "colorway": [
           "#636efa",
           "#EF553B",
           "#00cc96",
           "#ab63fa",
           "#FFA15A",
           "#19d3f3",
           "#FF6692",
           "#B6E880",
           "#FF97FF",
           "#FECB52"
          ],
          "font": {
           "color": "#2a3f5f"
          },
          "geo": {
           "bgcolor": "white",
           "lakecolor": "white",
           "landcolor": "#E5ECF6",
           "showlakes": true,
           "showland": true,
           "subunitcolor": "white"
          },
          "hoverlabel": {
           "align": "left"
          },
          "hovermode": "closest",
          "mapbox": {
           "style": "light"
          },
          "paper_bgcolor": "white",
          "plot_bgcolor": "#E5ECF6",
          "polar": {
           "angularaxis": {
            "gridcolor": "white",
            "linecolor": "white",
            "ticks": ""
           },
           "bgcolor": "#E5ECF6",
           "radialaxis": {
            "gridcolor": "white",
            "linecolor": "white",
            "ticks": ""
           }
          },
          "scene": {
           "xaxis": {
            "backgroundcolor": "#E5ECF6",
            "gridcolor": "white",
            "gridwidth": 2,
            "linecolor": "white",
            "showbackground": true,
            "ticks": "",
            "zerolinecolor": "white"
           },
           "yaxis": {
            "backgroundcolor": "#E5ECF6",
            "gridcolor": "white",
            "gridwidth": 2,
            "linecolor": "white",
            "showbackground": true,
            "ticks": "",
            "zerolinecolor": "white"
           },
           "zaxis": {
            "backgroundcolor": "#E5ECF6",
            "gridcolor": "white",
            "gridwidth": 2,
            "linecolor": "white",
            "showbackground": true,
            "ticks": "",
            "zerolinecolor": "white"
           }
          },
          "shapedefaults": {
           "line": {
            "color": "#2a3f5f"
           }
          },
          "ternary": {
           "aaxis": {
            "gridcolor": "white",
            "linecolor": "white",
            "ticks": ""
           },
           "baxis": {
            "gridcolor": "white",
            "linecolor": "white",
            "ticks": ""
           },
           "bgcolor": "#E5ECF6",
           "caxis": {
            "gridcolor": "white",
            "linecolor": "white",
            "ticks": ""
           }
          },
          "title": {
           "x": 0.05
          },
          "xaxis": {
           "automargin": true,
           "gridcolor": "white",
           "linecolor": "white",
           "ticks": "",
           "title": {
            "standoff": 15
           },
           "zerolinecolor": "white",
           "zerolinewidth": 2
          },
          "yaxis": {
           "automargin": true,
           "gridcolor": "white",
           "linecolor": "white",
           "ticks": "",
           "title": {
            "standoff": 15
           },
           "zerolinecolor": "white",
           "zerolinewidth": 2
          }
         }
        },
        "title": {
         "text": "Data Scientists Salaries in the USA",
         "x": 0.5
        }
       }
      }
     },
     "metadata": {},
     "output_type": "display_data"
    }
   ],
   "source": [
    "import plotly.express as px\n",
    "\n",
    "data[['city', 'state']] = data['Location'].str.split(', ', expand=True, n= 1).fillna('Unknown')\n",
    "data = data.drop(\"Location\", axis=1)\n",
    "\n",
    "#here I'm creating a dataframe that is gonna be funcitonal for the visualization\n",
    "state_salary = data.groupby('state')['median salary'].median().reset_index()\n",
    "state_salary.columns = ['state', 'state salary']\n",
    "unique_states = state_salary.drop_duplicates(subset=['state']).reset_index(drop=True)\n",
    "\n",
    "fig = px.choropleth(unique_states, locations='state', locationmode='USA-states', color='state salary',\n",
    "                    scope='usa', color_continuous_scale='Plasma',\n",
    "                    range_color=(unique_states['state salary'].min(), unique_states['state salary'].max()))\n",
    "fig.update_layout(title='Data Scientists Salaries in the USA', title_x=0.5)\n",
    "fig.show()"
   ]
  },
  {
   "cell_type": "code",
   "execution_count": 118,
   "metadata": {
    "colab": {
     "base_uri": "https://localhost:8080/",
     "height": 542
    },
    "id": "JDNMkCcZ__72",
    "outputId": "06a0e1bc-d4e3-4fb8-a896-ded5d8fcebe6",
    "pycharm": {
     "name": "#%%\n"
    }
   },
   "outputs": [
    {
     "data": {
      "application/vnd.plotly.v1+json": {
       "config": {
        "plotlyServerURL": "https://plot.ly"
       },
       "data": [
        {
         "alignmentgroup": "True",
         "hovertemplate": "city=%{x}<br>city salary=%{marker.color}<extra></extra>",
         "legendgroup": "",
         "marker": {
          "color": [
           162,
           139,
           120.5,
           120,
           114.5,
           107.5,
           101.5,
           99.5,
           97.5,
           96.5
          ],
          "coloraxis": "coloraxis",
          "pattern": {
           "shape": ""
          }
         },
         "name": "",
         "offsetgroup": "",
         "orientation": "v",
         "showlegend": false,
         "textposition": "auto",
         "type": "bar",
         "x": [
          "San Jose",
          "San Francisco",
          "Chicago",
          "Pittsburgh",
          "Cambridge",
          "Boston",
          "Herndon",
          "Winston-Salem",
          "New York",
          "Washington"
         ],
         "xaxis": "x",
         "y": [
          162,
          139,
          120.5,
          120,
          114.5,
          107.5,
          101.5,
          99.5,
          97.5,
          96.5
         ],
         "yaxis": "y"
        }
       ],
       "layout": {
        "barmode": "relative",
        "coloraxis": {
         "colorbar": {
          "title": {
           "text": "city salary"
          }
         },
         "colorscale": [
          [
           0,
           "rgb(103,0,31)"
          ],
          [
           0.1,
           "rgb(178,24,43)"
          ],
          [
           0.2,
           "rgb(214,96,77)"
          ],
          [
           0.3,
           "rgb(244,165,130)"
          ],
          [
           0.4,
           "rgb(253,219,199)"
          ],
          [
           0.5,
           "rgb(247,247,247)"
          ],
          [
           0.6,
           "rgb(209,229,240)"
          ],
          [
           0.7,
           "rgb(146,197,222)"
          ],
          [
           0.8,
           "rgb(67,147,195)"
          ],
          [
           0.9,
           "rgb(33,102,172)"
          ],
          [
           1,
           "rgb(5,48,97)"
          ]
         ]
        },
        "legend": {
         "tracegroupgap": 0
        },
        "template": {
         "data": {
          "bar": [
           {
            "error_x": {
             "color": "#2a3f5f"
            },
            "error_y": {
             "color": "#2a3f5f"
            },
            "marker": {
             "line": {
              "color": "#E5ECF6",
              "width": 0.5
             },
             "pattern": {
              "fillmode": "overlay",
              "size": 10,
              "solidity": 0.2
             }
            },
            "type": "bar"
           }
          ],
          "barpolar": [
           {
            "marker": {
             "line": {
              "color": "#E5ECF6",
              "width": 0.5
             },
             "pattern": {
              "fillmode": "overlay",
              "size": 10,
              "solidity": 0.2
             }
            },
            "type": "barpolar"
           }
          ],
          "carpet": [
           {
            "aaxis": {
             "endlinecolor": "#2a3f5f",
             "gridcolor": "white",
             "linecolor": "white",
             "minorgridcolor": "white",
             "startlinecolor": "#2a3f5f"
            },
            "baxis": {
             "endlinecolor": "#2a3f5f",
             "gridcolor": "white",
             "linecolor": "white",
             "minorgridcolor": "white",
             "startlinecolor": "#2a3f5f"
            },
            "type": "carpet"
           }
          ],
          "choropleth": [
           {
            "colorbar": {
             "outlinewidth": 0,
             "ticks": ""
            },
            "type": "choropleth"
           }
          ],
          "contour": [
           {
            "colorbar": {
             "outlinewidth": 0,
             "ticks": ""
            },
            "colorscale": [
             [
              0,
              "#0d0887"
             ],
             [
              0.1111111111111111,
              "#46039f"
             ],
             [
              0.2222222222222222,
              "#7201a8"
             ],
             [
              0.3333333333333333,
              "#9c179e"
             ],
             [
              0.4444444444444444,
              "#bd3786"
             ],
             [
              0.5555555555555556,
              "#d8576b"
             ],
             [
              0.6666666666666666,
              "#ed7953"
             ],
             [
              0.7777777777777778,
              "#fb9f3a"
             ],
             [
              0.8888888888888888,
              "#fdca26"
             ],
             [
              1,
              "#f0f921"
             ]
            ],
            "type": "contour"
           }
          ],
          "contourcarpet": [
           {
            "colorbar": {
             "outlinewidth": 0,
             "ticks": ""
            },
            "type": "contourcarpet"
           }
          ],
          "heatmap": [
           {
            "colorbar": {
             "outlinewidth": 0,
             "ticks": ""
            },
            "colorscale": [
             [
              0,
              "#0d0887"
             ],
             [
              0.1111111111111111,
              "#46039f"
             ],
             [
              0.2222222222222222,
              "#7201a8"
             ],
             [
              0.3333333333333333,
              "#9c179e"
             ],
             [
              0.4444444444444444,
              "#bd3786"
             ],
             [
              0.5555555555555556,
              "#d8576b"
             ],
             [
              0.6666666666666666,
              "#ed7953"
             ],
             [
              0.7777777777777778,
              "#fb9f3a"
             ],
             [
              0.8888888888888888,
              "#fdca26"
             ],
             [
              1,
              "#f0f921"
             ]
            ],
            "type": "heatmap"
           }
          ],
          "heatmapgl": [
           {
            "colorbar": {
             "outlinewidth": 0,
             "ticks": ""
            },
            "colorscale": [
             [
              0,
              "#0d0887"
             ],
             [
              0.1111111111111111,
              "#46039f"
             ],
             [
              0.2222222222222222,
              "#7201a8"
             ],
             [
              0.3333333333333333,
              "#9c179e"
             ],
             [
              0.4444444444444444,
              "#bd3786"
             ],
             [
              0.5555555555555556,
              "#d8576b"
             ],
             [
              0.6666666666666666,
              "#ed7953"
             ],
             [
              0.7777777777777778,
              "#fb9f3a"
             ],
             [
              0.8888888888888888,
              "#fdca26"
             ],
             [
              1,
              "#f0f921"
             ]
            ],
            "type": "heatmapgl"
           }
          ],
          "histogram": [
           {
            "marker": {
             "pattern": {
              "fillmode": "overlay",
              "size": 10,
              "solidity": 0.2
             }
            },
            "type": "histogram"
           }
          ],
          "histogram2d": [
           {
            "colorbar": {
             "outlinewidth": 0,
             "ticks": ""
            },
            "colorscale": [
             [
              0,
              "#0d0887"
             ],
             [
              0.1111111111111111,
              "#46039f"
             ],
             [
              0.2222222222222222,
              "#7201a8"
             ],
             [
              0.3333333333333333,
              "#9c179e"
             ],
             [
              0.4444444444444444,
              "#bd3786"
             ],
             [
              0.5555555555555556,
              "#d8576b"
             ],
             [
              0.6666666666666666,
              "#ed7953"
             ],
             [
              0.7777777777777778,
              "#fb9f3a"
             ],
             [
              0.8888888888888888,
              "#fdca26"
             ],
             [
              1,
              "#f0f921"
             ]
            ],
            "type": "histogram2d"
           }
          ],
          "histogram2dcontour": [
           {
            "colorbar": {
             "outlinewidth": 0,
             "ticks": ""
            },
            "colorscale": [
             [
              0,
              "#0d0887"
             ],
             [
              0.1111111111111111,
              "#46039f"
             ],
             [
              0.2222222222222222,
              "#7201a8"
             ],
             [
              0.3333333333333333,
              "#9c179e"
             ],
             [
              0.4444444444444444,
              "#bd3786"
             ],
             [
              0.5555555555555556,
              "#d8576b"
             ],
             [
              0.6666666666666666,
              "#ed7953"
             ],
             [
              0.7777777777777778,
              "#fb9f3a"
             ],
             [
              0.8888888888888888,
              "#fdca26"
             ],
             [
              1,
              "#f0f921"
             ]
            ],
            "type": "histogram2dcontour"
           }
          ],
          "mesh3d": [
           {
            "colorbar": {
             "outlinewidth": 0,
             "ticks": ""
            },
            "type": "mesh3d"
           }
          ],
          "parcoords": [
           {
            "line": {
             "colorbar": {
              "outlinewidth": 0,
              "ticks": ""
             }
            },
            "type": "parcoords"
           }
          ],
          "pie": [
           {
            "automargin": true,
            "type": "pie"
           }
          ],
          "scatter": [
           {
            "fillpattern": {
             "fillmode": "overlay",
             "size": 10,
             "solidity": 0.2
            },
            "type": "scatter"
           }
          ],
          "scatter3d": [
           {
            "line": {
             "colorbar": {
              "outlinewidth": 0,
              "ticks": ""
             }
            },
            "marker": {
             "colorbar": {
              "outlinewidth": 0,
              "ticks": ""
             }
            },
            "type": "scatter3d"
           }
          ],
          "scattercarpet": [
           {
            "marker": {
             "colorbar": {
              "outlinewidth": 0,
              "ticks": ""
             }
            },
            "type": "scattercarpet"
           }
          ],
          "scattergeo": [
           {
            "marker": {
             "colorbar": {
              "outlinewidth": 0,
              "ticks": ""
             }
            },
            "type": "scattergeo"
           }
          ],
          "scattergl": [
           {
            "marker": {
             "colorbar": {
              "outlinewidth": 0,
              "ticks": ""
             }
            },
            "type": "scattergl"
           }
          ],
          "scattermapbox": [
           {
            "marker": {
             "colorbar": {
              "outlinewidth": 0,
              "ticks": ""
             }
            },
            "type": "scattermapbox"
           }
          ],
          "scatterpolar": [
           {
            "marker": {
             "colorbar": {
              "outlinewidth": 0,
              "ticks": ""
             }
            },
            "type": "scatterpolar"
           }
          ],
          "scatterpolargl": [
           {
            "marker": {
             "colorbar": {
              "outlinewidth": 0,
              "ticks": ""
             }
            },
            "type": "scatterpolargl"
           }
          ],
          "scatterternary": [
           {
            "marker": {
             "colorbar": {
              "outlinewidth": 0,
              "ticks": ""
             }
            },
            "type": "scatterternary"
           }
          ],
          "surface": [
           {
            "colorbar": {
             "outlinewidth": 0,
             "ticks": ""
            },
            "colorscale": [
             [
              0,
              "#0d0887"
             ],
             [
              0.1111111111111111,
              "#46039f"
             ],
             [
              0.2222222222222222,
              "#7201a8"
             ],
             [
              0.3333333333333333,
              "#9c179e"
             ],
             [
              0.4444444444444444,
              "#bd3786"
             ],
             [
              0.5555555555555556,
              "#d8576b"
             ],
             [
              0.6666666666666666,
              "#ed7953"
             ],
             [
              0.7777777777777778,
              "#fb9f3a"
             ],
             [
              0.8888888888888888,
              "#fdca26"
             ],
             [
              1,
              "#f0f921"
             ]
            ],
            "type": "surface"
           }
          ],
          "table": [
           {
            "cells": {
             "fill": {
              "color": "#EBF0F8"
             },
             "line": {
              "color": "white"
             }
            },
            "header": {
             "fill": {
              "color": "#C8D4E3"
             },
             "line": {
              "color": "white"
             }
            },
            "type": "table"
           }
          ]
         },
         "layout": {
          "annotationdefaults": {
           "arrowcolor": "#2a3f5f",
           "arrowhead": 0,
           "arrowwidth": 1
          },
          "autotypenumbers": "strict",
          "coloraxis": {
           "colorbar": {
            "outlinewidth": 0,
            "ticks": ""
           }
          },
          "colorscale": {
           "diverging": [
            [
             0,
             "#8e0152"
            ],
            [
             0.1,
             "#c51b7d"
            ],
            [
             0.2,
             "#de77ae"
            ],
            [
             0.3,
             "#f1b6da"
            ],
            [
             0.4,
             "#fde0ef"
            ],
            [
             0.5,
             "#f7f7f7"
            ],
            [
             0.6,
             "#e6f5d0"
            ],
            [
             0.7,
             "#b8e186"
            ],
            [
             0.8,
             "#7fbc41"
            ],
            [
             0.9,
             "#4d9221"
            ],
            [
             1,
             "#276419"
            ]
           ],
           "sequential": [
            [
             0,
             "#0d0887"
            ],
            [
             0.1111111111111111,
             "#46039f"
            ],
            [
             0.2222222222222222,
             "#7201a8"
            ],
            [
             0.3333333333333333,
             "#9c179e"
            ],
            [
             0.4444444444444444,
             "#bd3786"
            ],
            [
             0.5555555555555556,
             "#d8576b"
            ],
            [
             0.6666666666666666,
             "#ed7953"
            ],
            [
             0.7777777777777778,
             "#fb9f3a"
            ],
            [
             0.8888888888888888,
             "#fdca26"
            ],
            [
             1,
             "#f0f921"
            ]
           ],
           "sequentialminus": [
            [
             0,
             "#0d0887"
            ],
            [
             0.1111111111111111,
             "#46039f"
            ],
            [
             0.2222222222222222,
             "#7201a8"
            ],
            [
             0.3333333333333333,
             "#9c179e"
            ],
            [
             0.4444444444444444,
             "#bd3786"
            ],
            [
             0.5555555555555556,
             "#d8576b"
            ],
            [
             0.6666666666666666,
             "#ed7953"
            ],
            [
             0.7777777777777778,
             "#fb9f3a"
            ],
            [
             0.8888888888888888,
             "#fdca26"
            ],
            [
             1,
             "#f0f921"
            ]
           ]
          },
          "colorway": [
           "#636efa",
           "#EF553B",
           "#00cc96",
           "#ab63fa",
           "#FFA15A",
           "#19d3f3",
           "#FF6692",
           "#B6E880",
           "#FF97FF",
           "#FECB52"
          ],
          "font": {
           "color": "#2a3f5f"
          },
          "geo": {
           "bgcolor": "white",
           "lakecolor": "white",
           "landcolor": "#E5ECF6",
           "showlakes": true,
           "showland": true,
           "subunitcolor": "white"
          },
          "hoverlabel": {
           "align": "left"
          },
          "hovermode": "closest",
          "mapbox": {
           "style": "light"
          },
          "paper_bgcolor": "white",
          "plot_bgcolor": "#E5ECF6",
          "polar": {
           "angularaxis": {
            "gridcolor": "white",
            "linecolor": "white",
            "ticks": ""
           },
           "bgcolor": "#E5ECF6",
           "radialaxis": {
            "gridcolor": "white",
            "linecolor": "white",
            "ticks": ""
           }
          },
          "scene": {
           "xaxis": {
            "backgroundcolor": "#E5ECF6",
            "gridcolor": "white",
            "gridwidth": 2,
            "linecolor": "white",
            "showbackground": true,
            "ticks": "",
            "zerolinecolor": "white"
           },
           "yaxis": {
            "backgroundcolor": "#E5ECF6",
            "gridcolor": "white",
            "gridwidth": 2,
            "linecolor": "white",
            "showbackground": true,
            "ticks": "",
            "zerolinecolor": "white"
           },
           "zaxis": {
            "backgroundcolor": "#E5ECF6",
            "gridcolor": "white",
            "gridwidth": 2,
            "linecolor": "white",
            "showbackground": true,
            "ticks": "",
            "zerolinecolor": "white"
           }
          },
          "shapedefaults": {
           "line": {
            "color": "#2a3f5f"
           }
          },
          "ternary": {
           "aaxis": {
            "gridcolor": "white",
            "linecolor": "white",
            "ticks": ""
           },
           "baxis": {
            "gridcolor": "white",
            "linecolor": "white",
            "ticks": ""
           },
           "bgcolor": "#E5ECF6",
           "caxis": {
            "gridcolor": "white",
            "linecolor": "white",
            "ticks": ""
           }
          },
          "title": {
           "x": 0.05
          },
          "xaxis": {
           "automargin": true,
           "gridcolor": "white",
           "linecolor": "white",
           "ticks": "",
           "title": {
            "standoff": 15
           },
           "zerolinecolor": "white",
           "zerolinewidth": 2
          },
          "yaxis": {
           "automargin": true,
           "gridcolor": "white",
           "linecolor": "white",
           "ticks": "",
           "title": {
            "standoff": 15
           },
           "zerolinecolor": "white",
           "zerolinewidth": 2
          }
         }
        },
        "title": {
         "text": "Top 10 Cities with Highest Average Salary"
        },
        "xaxis": {
         "anchor": "y",
         "domain": [
          0,
          1
         ],
         "title": {
          "text": "City"
         }
        },
        "yaxis": {
         "anchor": "x",
         "domain": [
          0,
          1
         ],
         "title": {
          "text": "Average Salary"
         }
        }
       }
      }
     },
     "metadata": {},
     "output_type": "display_data"
    }
   ],
   "source": [
    "#creating a dataframe containing the median salaries for all the \n",
    "#cities with at least 10 entries in the dataframe\n",
    "\n",
    "city_counts = data['city'].value_counts()\n",
    "selected_cities = city_counts[city_counts >= 10].index.tolist()\n",
    "city_salary = data[data['city'].isin(selected_cities)].groupby('city')['median salary'].median().reset_index()\n",
    "city_salary.columns = ['city', 'city salary']\n",
    "cities = city_salary.drop_duplicates(subset=['city']).reset_index(drop=True)\n",
    "\n",
    "top_cities = cities.nlargest(10, 'city salary')\n",
    "fig = px.bar(top_cities, x='city', y='city salary', color='city salary', \n",
    "             color_continuous_scale='RdBu', title='Top 10 Cities with Highest Average Salary')\n",
    "\n",
    "# Set the x-axis label\n",
    "fig.update_xaxes(title_text='City')\n",
    "\n",
    "# Set the y-axis label\n",
    "fig.update_yaxes(title_text='Average Salary')\n",
    "\n",
    "# Show the plot\n",
    "fig.show()"
   ]
  },
  {
   "cell_type": "markdown",
   "metadata": {
    "id": "_BmECIWTBLWo",
    "pycharm": {
     "name": "#%% md\n"
    }
   },
   "source": [
    "Upon careful examination of the dataset and accounting for a minimum threshold of 10 entries, a discernible pattern emerges that aligns with real-world trends. Specifically, it is evident that cities with more robust technology industries tend to offer higher salaries, with San Jose representing a prime example."
   ]
  },
  {
   "cell_type": "code",
   "execution_count": 119,
   "metadata": {
    "colab": {
     "base_uri": "https://localhost:8080/",
     "height": 533
    },
    "id": "YQehtFpdNBSs",
    "outputId": "2d40410c-819d-4795-821d-d378cd649fcf",
    "pycharm": {
     "name": "#%%\n"
    }
   },
   "outputs": [
    {
     "data": {
      "image/png": "[encoded data removed]",
      "text/plain": [
       "<Figure size 2000x800 with 1 Axes>"
      ]
     },
     "metadata": {},
     "output_type": "display_data"
    }
   ],
   "source": [
    "top10_sectors = data.groupby('Sector')['median salary'].mean().nlargest(10).index.tolist()\n",
    "top10_sectors.sort(key=lambda x: data[data['Sector']==x]['median salary'].mean(), reverse=True)\n",
    "\n",
    "# Filter the original dataframe to include only the top 10 sectors\n",
    "top10 = data[data['Sector'].isin(top10_sectors)]\n",
    "\n",
    "# Create a box plot of salaries by sector for the top 10 sectors\n",
    "plt.figure(figsize=(20, 8))\n",
    "plt.boxplot([top10[top10['Sector'] == s]['median salary'] for s in top10_sectors], labels=top10_sectors)\n",
    "plt.xlabel('Sector')\n",
    "plt.ylabel('Salary')\n",
    "plt.title('Data Scientist Salaries by Top 10 Sectors')\n",
    "plt.show()"
   ]
  },
  {
   "cell_type": "markdown",
   "metadata": {
    "id": "mVM0BkjIOc5Z",
    "pycharm": {
     "name": "#%% md\n"
    }
   },
   "source": [
    "The analysis of the dataset indicates that the sectors in which data scientists are compensated most highly are not necessarily the most intuitively obvious ones, such as real estate or education. Rather, these professionals tend to be more widely employed in the IT, biotech, and insurance industries, as evidenced by the distribution of \"whiskers\" within these fields. This observation is consistent with the inference that a greater variance in salary distribution corresponds to a broader range of professional backgrounds, years of experience, and business responsibilities among data science professionals in these industries."
   ]
  },
  {
   "cell_type": "code",
   "execution_count": 120,
   "metadata": {
    "id": "Q6ixv1TcGe2S",
    "pycharm": {
     "name": "#%%\n"
    }
   },
   "outputs": [],
   "source": [
    "data_scientists = data[data.job_title_sim.str.contains('data scientist')]"
   ]
  },
  {
   "cell_type": "code",
   "execution_count": 121,
   "metadata": {
    "colab": {
     "base_uri": "https://localhost:8080/",
     "height": 282
    },
    "id": "wyNvWCopCtoW",
    "outputId": "4ebcabda-42de-49f9-8c4c-d606e53f53e3",
    "pycharm": {
     "name": "#%%\n"
    }
   },
   "outputs": [
    {
     "data": {
      "text/plain": [
       "<BarContainer object of 10 artists>"
      ]
     },
     "execution_count": 121,
     "metadata": {},
     "output_type": "execute_result"
    },
    {
     "data": {
      "image/png": "[encoded data removed]",
      "text/plain": [
       "<Figure size 640x480 with 1 Axes>"
      ]
     },
     "metadata": {},
     "output_type": "display_data"
    }
   ],
   "source": [
    "plt.barh(data_scientists['Company Name'].value_counts().index[:10] , data_scientists['Company Name'].value_counts().values[:10])"
   ]
  },
  {
   "cell_type": "markdown",
   "metadata": {
    "id": "gr9upPMqG58M",
    "pycharm": {
     "name": "#%% md\n"
    }
   },
   "source": [
    "The aforementioned plot provides insight into the companies that employ the largest numbers of data scientists. As expected, the healthcare sector exhibits a high demand for these professionals, as evidenced by the relative frequency of data science positions in this field."
   ]
  },
  {
   "cell_type": "code",
   "execution_count": 122,
   "metadata": {
    "colab": {
     "base_uri": "https://localhost:8080/",
     "height": 524
    },
    "id": "RiUNMsPkFaet",
    "outputId": "f9d8cc6d-bd54-4860-9232-a52e15b79e6b",
    "pycharm": {
     "name": "#%%\n"
    }
   },
   "outputs": [
    {
     "data": {
      "image/png": "[encoded data removed]",
      "text/plain": [
       "<Figure size 1200x800 with 2 Axes>"
      ]
     },
     "metadata": {},
     "output_type": "display_data"
    }
   ],
   "source": [
    "skill_labels = ['Python', 'spark', 'aws', 'excel', 'sql', 'sas', 'keras', 'pytorch',\n",
    "                'scikit', 'tensor', 'hadoop', 'tableau', 'bi', 'flink', 'mongo', 'google_an']\n",
    "skills_by_title = data.groupby('job_title_sim')[skill_labels].sum()\n",
    "plt.figure(figsize=(12, 8))\n",
    "sns.heatmap(skills_by_title, cmap='Purples')\n",
    "plt.show()"
   ]
  },
  {
   "cell_type": "markdown",
   "metadata": {
    "id": "5DWxurRVGiSW",
    "pycharm": {
     "name": "#%% md\n"
    }
   },
   "source": [
    "The chart presented above illustrates the most sought-after skills across various job titles. The gradient of colors reflects the relative importance of each skill, with darker hues indicating greater significance in relation to the corresponding job."
   ]
  },
  {
   "cell_type": "markdown",
   "metadata": {
    "id": "szLdPNDUC4zM",
    "pycharm": {
     "name": "#%% md\n"
    }
   },
   "source": [
    "# Patterns start to emerge..."
   ]
  },
  {
   "cell_type": "markdown",
   "metadata": {
    "id": "Ym2_W51EC-iO",
    "pycharm": {
     "name": "#%% md\n"
    }
   },
   "source": [
    "To construct a robust model, it is imperative to clearly identify the most significant independent variables in relation to the target variable, namely \"median salary.\" One potential approach to this task is to generate a correlation matrix that encompasses all the available features and subsequently narrow the scope of the analysis accordingly."
   ]
  },
  {
   "cell_type": "code",
   "execution_count": 123,
   "metadata": {
    "colab": {
     "base_uri": "https://localhost:8080/",
     "height": 381
    },
    "id": "XBPPB1e3DZgk",
    "outputId": "80039b8c-952d-4a8f-9ae7-f82df7d91c8f",
    "pycharm": {
     "name": "#%%\n"
    }
   },
   "outputs": [
    {
     "data": {
      "image/png": "[encoded data removed]",
      "text/plain": [
       "<Figure size 640x480 with 2 Axes>"
      ]
     },
     "metadata": {},
     "output_type": "display_data"
    }
   ],
   "source": [
    "copy = data.copy()\n",
    "\n",
    "le = LabelEncoder()\n",
    "\n",
    "# apply the LabelEncoder to all categorical columns\n",
    "for col in copy.select_dtypes(include='object').columns:\n",
    "    copy[col] = le.fit_transform(copy[col])\n",
    "\n",
    "corr = copy.corr()\n",
    "top_features = corr.nlargest(10, 'median salary')['median salary'].index\n",
    "top_corr = copy[top_features].corr()\n",
    "\n",
    "# plot the heatmap of the top 10 most correlated features\n",
    "sns.set(font_scale=1.25)\n",
    "sns.heatmap(top_corr, cmap='YlGnBu')\n",
    "plt.show()"
   ]
  },
  {
   "cell_type": "markdown",
   "metadata": {
    "id": "2j6TIgDFIe8H",
    "pycharm": {
     "name": "#%% md\n"
    }
   },
   "source": [
    "Anomalies have emerged during the correlation analysis, specifically the correlation between \"median salary\" and any other feature is exceptionally low. Only a marginal correlation has been identified between \"seniority by title\" and \"Python.\" These findings underscore the highly heterogeneous nature of the data science profession, wherein there are no clear-cut, one-size-fits-all solutions, aside from, perhaps, proficiency in the Python programming language. Moreover, it should be noted that the dataset includes a diverse range of professional roles beyond data science, which may contribute to the observed lack of correlation. Further exploration is necessary to elucidate these findings."
   ]
  },
  {
   "cell_type": "code",
   "execution_count": 124,
   "metadata": {
    "colab": {
     "base_uri": "https://localhost:8080/"
    },
    "id": "fj3lkAabRy-Y",
    "outputId": "645f3a1c-8c86-4c9e-9c2d-9c6ac58e48b0",
    "pycharm": {
     "name": "#%%\n"
    }
   },
   "outputs": [
    {
     "data": {
      "text/html": [
       "<div>\n",
       "<style scoped>\n",
       "    .dataframe tbody tr th:only-of-type {\n",
       "        vertical-align: middle;\n",
       "    }\n",
       "\n",
       "    .dataframe tbody tr th {\n",
       "        vertical-align: top;\n",
       "    }\n",
       "\n",
       "    .dataframe thead th {\n",
       "        text-align: right;\n",
       "    }\n",
       "</style>\n",
       "<table border=\"1\" class=\"dataframe\">\n",
       "  <thead>\n",
       "    <tr style=\"text-align: right;\">\n",
       "      <th></th>\n",
       "      <th>Job Title</th>\n",
       "      <th>Rating</th>\n",
       "      <th>Company Name</th>\n",
       "      <th>Headquarters</th>\n",
       "      <th>Size</th>\n",
       "      <th>Founded</th>\n",
       "      <th>Type of ownership</th>\n",
       "      <th>Industry</th>\n",
       "      <th>Sector</th>\n",
       "      <th>Revenue</th>\n",
       "      <th>...</th>\n",
       "      <th>flink</th>\n",
       "      <th>mongo</th>\n",
       "      <th>google_an</th>\n",
       "      <th>job_title_sim</th>\n",
       "      <th>seniority_by_title</th>\n",
       "      <th>Degree</th>\n",
       "      <th>median salary</th>\n",
       "      <th>description_score</th>\n",
       "      <th>city</th>\n",
       "      <th>state</th>\n",
       "    </tr>\n",
       "  </thead>\n",
       "  <tbody>\n",
       "    <tr>\n",
       "      <th>0</th>\n",
       "      <td>Data Scientist</td>\n",
       "      <td>3.8</td>\n",
       "      <td>Tecolote Research3.8</td>\n",
       "      <td>Goleta, CA</td>\n",
       "      <td>501 - 1000</td>\n",
       "      <td>1973</td>\n",
       "      <td>Company - Private</td>\n",
       "      <td>Aerospace &amp; Defense</td>\n",
       "      <td>Aerospace &amp; Defense</td>\n",
       "      <td>$50 to $100 million (USD)</td>\n",
       "      <td>...</td>\n",
       "      <td>0</td>\n",
       "      <td>0</td>\n",
       "      <td>0</td>\n",
       "      <td>data scientist</td>\n",
       "      <td>na</td>\n",
       "      <td>M</td>\n",
       "      <td>72.0</td>\n",
       "      <td>0.502853</td>\n",
       "      <td>Albuquerque</td>\n",
       "      <td>NM</td>\n",
       "    </tr>\n",
       "    <tr>\n",
       "      <th>1</th>\n",
       "      <td>Healthcare Data Scientist</td>\n",
       "      <td>3.4</td>\n",
       "      <td>University of Maryland Medical System3.4</td>\n",
       "      <td>Baltimore, MD</td>\n",
       "      <td>10000+</td>\n",
       "      <td>1984</td>\n",
       "      <td>Other Organization</td>\n",
       "      <td>Health Care Services &amp; Hospitals</td>\n",
       "      <td>Health Care</td>\n",
       "      <td>$2 to $5 billion (USD)</td>\n",
       "      <td>...</td>\n",
       "      <td>0</td>\n",
       "      <td>0</td>\n",
       "      <td>0</td>\n",
       "      <td>data scientist</td>\n",
       "      <td>na</td>\n",
       "      <td>M</td>\n",
       "      <td>87.5</td>\n",
       "      <td>0.557699</td>\n",
       "      <td>Linthicum</td>\n",
       "      <td>MD</td>\n",
       "    </tr>\n",
       "    <tr>\n",
       "      <th>2</th>\n",
       "      <td>Data Scientist</td>\n",
       "      <td>4.8</td>\n",
       "      <td>KnowBe44.8</td>\n",
       "      <td>Clearwater, FL</td>\n",
       "      <td>501 - 1000</td>\n",
       "      <td>2010</td>\n",
       "      <td>Company - Private</td>\n",
       "      <td>Security Services</td>\n",
       "      <td>Business Services</td>\n",
       "      <td>$100 to $500 million (USD)</td>\n",
       "      <td>...</td>\n",
       "      <td>0</td>\n",
       "      <td>0</td>\n",
       "      <td>0</td>\n",
       "      <td>data scientist</td>\n",
       "      <td>na</td>\n",
       "      <td>M</td>\n",
       "      <td>85.0</td>\n",
       "      <td>0.654167</td>\n",
       "      <td>Clearwater</td>\n",
       "      <td>FL</td>\n",
       "    </tr>\n",
       "    <tr>\n",
       "      <th>3</th>\n",
       "      <td>Data Scientist</td>\n",
       "      <td>3.8</td>\n",
       "      <td>PNNL3.8</td>\n",
       "      <td>Richland, WA</td>\n",
       "      <td>1001 - 5000</td>\n",
       "      <td>1965</td>\n",
       "      <td>Government</td>\n",
       "      <td>Energy</td>\n",
       "      <td>Oil, Gas, Energy &amp; Utilities</td>\n",
       "      <td>$500 million to $1 billion (USD)</td>\n",
       "      <td>...</td>\n",
       "      <td>0</td>\n",
       "      <td>0</td>\n",
       "      <td>0</td>\n",
       "      <td>data scientist</td>\n",
       "      <td>na</td>\n",
       "      <td>na</td>\n",
       "      <td>76.5</td>\n",
       "      <td>0.531460</td>\n",
       "      <td>Richland</td>\n",
       "      <td>WA</td>\n",
       "    </tr>\n",
       "    <tr>\n",
       "      <th>4</th>\n",
       "      <td>Data Scientist</td>\n",
       "      <td>2.9</td>\n",
       "      <td>Affinity Solutions2.9</td>\n",
       "      <td>New York, NY</td>\n",
       "      <td>51 - 200</td>\n",
       "      <td>1998</td>\n",
       "      <td>Company - Private</td>\n",
       "      <td>Advertising &amp; Marketing</td>\n",
       "      <td>Business Services</td>\n",
       "      <td>Unknown / Non-Applicable</td>\n",
       "      <td>...</td>\n",
       "      <td>0</td>\n",
       "      <td>0</td>\n",
       "      <td>0</td>\n",
       "      <td>data scientist</td>\n",
       "      <td>na</td>\n",
       "      <td>na</td>\n",
       "      <td>114.5</td>\n",
       "      <td>0.535902</td>\n",
       "      <td>New York</td>\n",
       "      <td>NY</td>\n",
       "    </tr>\n",
       "  </tbody>\n",
       "</table>\n",
       "<p>5 rows × 39 columns</p>\n",
       "</div>"
      ],
      "text/plain": [
       "                   Job Title  Rating  \\\n",
       "0             Data Scientist     3.8   \n",
       "1  Healthcare Data Scientist     3.4   \n",
       "2             Data Scientist     4.8   \n",
       "3             Data Scientist     3.8   \n",
       "4             Data Scientist     2.9   \n",
       "\n",
       "                               Company Name    Headquarters          Size  \\\n",
       "0                      Tecolote Research3.8      Goleta, CA   501 - 1000    \n",
       "1  University of Maryland Medical System3.4   Baltimore, MD       10000+    \n",
       "2                                KnowBe44.8  Clearwater, FL   501 - 1000    \n",
       "3                                   PNNL3.8    Richland, WA  1001 - 5000    \n",
       "4                     Affinity Solutions2.9    New York, NY     51 - 200    \n",
       "\n",
       "   Founded   Type of ownership                          Industry  \\\n",
       "0     1973   Company - Private               Aerospace & Defense   \n",
       "1     1984  Other Organization  Health Care Services & Hospitals   \n",
       "2     2010   Company - Private                 Security Services   \n",
       "3     1965          Government                            Energy   \n",
       "4     1998   Company - Private           Advertising & Marketing   \n",
       "\n",
       "                         Sector                           Revenue  ... flink  \\\n",
       "0           Aerospace & Defense         $50 to $100 million (USD)  ...     0   \n",
       "1                   Health Care            $2 to $5 billion (USD)  ...     0   \n",
       "2             Business Services        $100 to $500 million (USD)  ...     0   \n",
       "3  Oil, Gas, Energy & Utilities  $500 million to $1 billion (USD)  ...     0   \n",
       "4             Business Services          Unknown / Non-Applicable  ...     0   \n",
       "\n",
       "   mongo  google_an   job_title_sim seniority_by_title  Degree  median salary  \\\n",
       "0      0          0  data scientist                 na       M           72.0   \n",
       "1      0          0  data scientist                 na       M           87.5   \n",
       "2      0          0  data scientist                 na       M           85.0   \n",
       "3      0          0  data scientist                 na      na           76.5   \n",
       "4      0          0  data scientist                 na      na          114.5   \n",
       "\n",
       "   description_score         city  state  \n",
       "0           0.502853  Albuquerque     NM  \n",
       "1           0.557699    Linthicum     MD  \n",
       "2           0.654167   Clearwater     FL  \n",
       "3           0.531460     Richland     WA  \n",
       "4           0.535902     New York     NY  \n",
       "\n",
       "[5 rows x 39 columns]"
      ]
     },
     "execution_count": 124,
     "metadata": {},
     "output_type": "execute_result"
    }
   ],
   "source": [
    "data.head()"
   ]
  },
  {
   "cell_type": "markdown",
   "metadata": {
    "pycharm": {
     "name": "#%% md\n"
    }
   },
   "source": [
    "Next, we will proceed with the final steps to prepare the data for regression modeling. Firstly, we need to transform categorical variables into numerical ones. Then, we will apply standardization to ensure that all variables are on a similar scale."
   ]
  },
  {
   "cell_type": "code",
   "execution_count": 228,
   "metadata": {
    "pycharm": {
     "name": "#%%\n"
    }
   },
   "outputs": [
    {
     "data": {
      "text/html": [
       "<div>\n",
       "<style scoped>\n",
       "    .dataframe tbody tr th:only-of-type {\n",
       "        vertical-align: middle;\n",
       "    }\n",
       "\n",
       "    .dataframe tbody tr th {\n",
       "        vertical-align: top;\n",
       "    }\n",
       "\n",
       "    .dataframe thead th {\n",
       "        text-align: right;\n",
       "    }\n",
       "</style>\n",
       "<table border=\"1\" class=\"dataframe\">\n",
       "  <thead>\n",
       "    <tr style=\"text-align: right;\">\n",
       "      <th></th>\n",
       "      <th>Rating</th>\n",
       "      <th>Founded</th>\n",
       "      <th>Hourly</th>\n",
       "      <th>Employer provided</th>\n",
       "      <th>Age</th>\n",
       "      <th>Python</th>\n",
       "      <th>spark</th>\n",
       "      <th>aws</th>\n",
       "      <th>excel</th>\n",
       "      <th>sql</th>\n",
       "      <th>...</th>\n",
       "      <th>state_OR</th>\n",
       "      <th>state_PA</th>\n",
       "      <th>state_RI</th>\n",
       "      <th>state_SC</th>\n",
       "      <th>state_TN</th>\n",
       "      <th>state_TX</th>\n",
       "      <th>state_UT</th>\n",
       "      <th>state_VA</th>\n",
       "      <th>state_WA</th>\n",
       "      <th>state_WI</th>\n",
       "    </tr>\n",
       "  </thead>\n",
       "  <tbody>\n",
       "    <tr>\n",
       "      <th>0</th>\n",
       "      <td>0.225242</td>\n",
       "      <td>0.275732</td>\n",
       "      <td>0</td>\n",
       "      <td>0</td>\n",
       "      <td>0.006333</td>\n",
       "      <td>1</td>\n",
       "      <td>0</td>\n",
       "      <td>0</td>\n",
       "      <td>1</td>\n",
       "      <td>0</td>\n",
       "      <td>...</td>\n",
       "      <td>0</td>\n",
       "      <td>0</td>\n",
       "      <td>0</td>\n",
       "      <td>0</td>\n",
       "      <td>0</td>\n",
       "      <td>0</td>\n",
       "      <td>0</td>\n",
       "      <td>0</td>\n",
       "      <td>0</td>\n",
       "      <td>0</td>\n",
       "    </tr>\n",
       "    <tr>\n",
       "      <th>1</th>\n",
       "      <td>-0.296521</td>\n",
       "      <td>0.297736</td>\n",
       "      <td>0</td>\n",
       "      <td>0</td>\n",
       "      <td>-0.197635</td>\n",
       "      <td>1</td>\n",
       "      <td>0</td>\n",
       "      <td>0</td>\n",
       "      <td>0</td>\n",
       "      <td>0</td>\n",
       "      <td>...</td>\n",
       "      <td>0</td>\n",
       "      <td>0</td>\n",
       "      <td>0</td>\n",
       "      <td>0</td>\n",
       "      <td>0</td>\n",
       "      <td>0</td>\n",
       "      <td>0</td>\n",
       "      <td>0</td>\n",
       "      <td>0</td>\n",
       "      <td>0</td>\n",
       "    </tr>\n",
       "    <tr>\n",
       "      <th>2</th>\n",
       "      <td>1.529650</td>\n",
       "      <td>0.349746</td>\n",
       "      <td>0</td>\n",
       "      <td>0</td>\n",
       "      <td>-0.679740</td>\n",
       "      <td>1</td>\n",
       "      <td>1</td>\n",
       "      <td>0</td>\n",
       "      <td>1</td>\n",
       "      <td>1</td>\n",
       "      <td>...</td>\n",
       "      <td>0</td>\n",
       "      <td>0</td>\n",
       "      <td>0</td>\n",
       "      <td>0</td>\n",
       "      <td>0</td>\n",
       "      <td>0</td>\n",
       "      <td>0</td>\n",
       "      <td>0</td>\n",
       "      <td>0</td>\n",
       "      <td>0</td>\n",
       "    </tr>\n",
       "    <tr>\n",
       "      <th>3</th>\n",
       "      <td>0.225242</td>\n",
       "      <td>0.259729</td>\n",
       "      <td>0</td>\n",
       "      <td>0</td>\n",
       "      <td>0.154673</td>\n",
       "      <td>1</td>\n",
       "      <td>0</td>\n",
       "      <td>0</td>\n",
       "      <td>0</td>\n",
       "      <td>0</td>\n",
       "      <td>...</td>\n",
       "      <td>0</td>\n",
       "      <td>0</td>\n",
       "      <td>0</td>\n",
       "      <td>0</td>\n",
       "      <td>0</td>\n",
       "      <td>0</td>\n",
       "      <td>0</td>\n",
       "      <td>0</td>\n",
       "      <td>1</td>\n",
       "      <td>0</td>\n",
       "    </tr>\n",
       "    <tr>\n",
       "      <th>4</th>\n",
       "      <td>-0.948725</td>\n",
       "      <td>0.325741</td>\n",
       "      <td>0</td>\n",
       "      <td>0</td>\n",
       "      <td>-0.457230</td>\n",
       "      <td>1</td>\n",
       "      <td>0</td>\n",
       "      <td>0</td>\n",
       "      <td>1</td>\n",
       "      <td>1</td>\n",
       "      <td>...</td>\n",
       "      <td>0</td>\n",
       "      <td>0</td>\n",
       "      <td>0</td>\n",
       "      <td>0</td>\n",
       "      <td>0</td>\n",
       "      <td>0</td>\n",
       "      <td>0</td>\n",
       "      <td>0</td>\n",
       "      <td>0</td>\n",
       "      <td>0</td>\n",
       "    </tr>\n",
       "  </tbody>\n",
       "</table>\n",
       "<p>5 rows × 1680 columns</p>\n",
       "</div>"
      ],
      "text/plain": [
       "     Rating   Founded  Hourly  Employer provided       Age  Python  spark  \\\n",
       "0  0.225242  0.275732       0                  0  0.006333       1      0   \n",
       "1 -0.296521  0.297736       0                  0 -0.197635       1      0   \n",
       "2  1.529650  0.349746       0                  0 -0.679740       1      1   \n",
       "3  0.225242  0.259729       0                  0  0.154673       1      0   \n",
       "4 -0.948725  0.325741       0                  0 -0.457230       1      0   \n",
       "\n",
       "   aws  excel  sql  ...  state_OR  state_PA  state_RI  state_SC  state_TN  \\\n",
       "0    0      1    0  ...         0         0         0         0         0   \n",
       "1    0      0    0  ...         0         0         0         0         0   \n",
       "2    0      1    1  ...         0         0         0         0         0   \n",
       "3    0      0    0  ...         0         0         0         0         0   \n",
       "4    0      1    1  ...         0         0         0         0         0   \n",
       "\n",
       "   state_TX  state_UT  state_VA  state_WA  state_WI  \n",
       "0         0         0         0         0         0  \n",
       "1         0         0         0         0         0  \n",
       "2         0         0         0         0         0  \n",
       "3         0         0         0         1         0  \n",
       "4         0         0         0         0         0  \n",
       "\n",
       "[5 rows x 1680 columns]"
      ]
     },
     "execution_count": 228,
     "metadata": {},
     "output_type": "execute_result"
    }
   ],
   "source": [
    "# Get the list of continuous variable column names\n",
    "continuous_vars = [col for col in data.columns if col != 'median salary' and data[col].dtype != 'object' and data[col].nunique() > 2]\n",
    "\n",
    "\n",
    "# Scale the continuous variables only\n",
    "scaler = StandardScaler()\n",
    "data_scaled = scaler.fit_transform(data[continuous_vars])\n",
    "data[continuous_vars] = data_scaled\n",
    "\n",
    "# Convert categorical variables to numerical values\n",
    "data_encoded = pd.get_dummies(data, columns=data.select_dtypes(include=['object']).columns)\n",
    "\n",
    "# Split the data into X and y\n",
    "X = data_encoded.drop('median salary', axis=1)\n",
    "y = data_encoded['median salary']\n",
    "\n",
    "\n",
    "X.head()"
   ]
  },
  {
   "cell_type": "markdown",
   "metadata": {
    "pycharm": {
     "name": "#%% md\n"
    }
   },
   "source": [
    "Given that a majority of the features do not have significant predictive power, we can employ dimensionality reduction using Principal Component Analysis (PCA). This method will provide us with a condensed representation of the data. In order to proceed, we will first need to determine the appropriate number of components. This can be achieved by plotting the cumulative explained variance, which shows the amount of variance explained by the components as a function of the number of components."
   ]
  },
  {
   "cell_type": "code",
   "execution_count": 229,
   "metadata": {
    "pycharm": {
     "name": "#%%\n"
    }
   },
   "outputs": [
    {
     "data": {
      "image/png": "[encoded data removed]",
      "text/plain": [
       "<Figure size 640x480 with 1 Axes>"
      ]
     },
     "metadata": {},
     "output_type": "display_data"
    }
   ],
   "source": [
    "#set up the PCA\n",
    "pca = PCA()\n",
    "X_pca = pca.fit_transform(X)\n",
    "\n",
    "#find the cumulative variance\n",
    "ex_var = pca.explained_variance_ratio_\n",
    "cumulative_variance = np.cumsum(ex_var)\n",
    "\n",
    "\n",
    "plt.plot(cumulative_variance)\n",
    "plt.xlabel('N of Components')\n",
    "plt.ylabel('Cumulative Explained Variance')\n",
    "plt.show()"
   ]
  },
  {
   "cell_type": "markdown",
   "metadata": {
    "pycharm": {
     "name": "#%% md\n"
    }
   },
   "source": [
    "The analysis indicates that the majority of the features do not adequately explain the variance observed in the data. Thus, it is deemed appropriate to consider a subset of the features. For instance, the first 200 features can be selected for the purpose of the analysis."
   ]
  },
  {
   "cell_type": "code",
   "execution_count": 230,
   "metadata": {
    "pycharm": {
     "name": "#%%\n"
    }
   },
   "outputs": [
    {
     "data": {
      "text/html": [
       "<div>\n",
       "<style scoped>\n",
       "    .dataframe tbody tr th:only-of-type {\n",
       "        vertical-align: middle;\n",
       "    }\n",
       "\n",
       "    .dataframe tbody tr th {\n",
       "        vertical-align: top;\n",
       "    }\n",
       "\n",
       "    .dataframe thead th {\n",
       "        text-align: right;\n",
       "    }\n",
       "</style>\n",
       "<table border=\"1\" class=\"dataframe\">\n",
       "  <thead>\n",
       "    <tr style=\"text-align: right;\">\n",
       "      <th></th>\n",
       "      <th>0</th>\n",
       "      <th>1</th>\n",
       "      <th>2</th>\n",
       "      <th>3</th>\n",
       "      <th>4</th>\n",
       "      <th>5</th>\n",
       "      <th>6</th>\n",
       "      <th>7</th>\n",
       "      <th>8</th>\n",
       "      <th>9</th>\n",
       "      <th>...</th>\n",
       "      <th>190</th>\n",
       "      <th>191</th>\n",
       "      <th>192</th>\n",
       "      <th>193</th>\n",
       "      <th>194</th>\n",
       "      <th>195</th>\n",
       "      <th>196</th>\n",
       "      <th>197</th>\n",
       "      <th>198</th>\n",
       "      <th>199</th>\n",
       "    </tr>\n",
       "  </thead>\n",
       "  <tbody>\n",
       "    <tr>\n",
       "      <th>0</th>\n",
       "      <td>9.151146e-19</td>\n",
       "      <td>-4.231088e-28</td>\n",
       "      <td>-5.848958e-28</td>\n",
       "      <td>8.221221e-28</td>\n",
       "      <td>-1.061586e-27</td>\n",
       "      <td>1.448876e-27</td>\n",
       "      <td>2.179987e-27</td>\n",
       "      <td>2.845782e-27</td>\n",
       "      <td>3.674631e-27</td>\n",
       "      <td>-5.218638e-27</td>\n",
       "      <td>...</td>\n",
       "      <td>-8.108521e-47</td>\n",
       "      <td>-3.392580e-47</td>\n",
       "      <td>-1.318020e-47</td>\n",
       "      <td>-5.331237e-48</td>\n",
       "      <td>1.781317e-48</td>\n",
       "      <td>-9.498476e-36</td>\n",
       "      <td>7.026257e-49</td>\n",
       "      <td>-9.485638e-50</td>\n",
       "      <td>-3.660982e-50</td>\n",
       "      <td>-1.985864e-34</td>\n",
       "    </tr>\n",
       "    <tr>\n",
       "      <th>1</th>\n",
       "      <td>9.151146e-19</td>\n",
       "      <td>-4.231777e-28</td>\n",
       "      <td>-5.846783e-28</td>\n",
       "      <td>8.223158e-28</td>\n",
       "      <td>-1.061462e-27</td>\n",
       "      <td>1.448833e-27</td>\n",
       "      <td>2.180033e-27</td>\n",
       "      <td>2.846037e-27</td>\n",
       "      <td>3.674490e-27</td>\n",
       "      <td>-5.218672e-27</td>\n",
       "      <td>...</td>\n",
       "      <td>-1.038920e-31</td>\n",
       "      <td>-1.685994e-32</td>\n",
       "      <td>-6.539109e-33</td>\n",
       "      <td>7.734746e-33</td>\n",
       "      <td>7.425668e-33</td>\n",
       "      <td>6.852934e-32</td>\n",
       "      <td>-2.637280e-32</td>\n",
       "      <td>4.160055e-32</td>\n",
       "      <td>3.176481e-33</td>\n",
       "      <td>1.826618e-31</td>\n",
       "    </tr>\n",
       "    <tr>\n",
       "      <th>2</th>\n",
       "      <td>1.263095e-17</td>\n",
       "      <td>-1.203924e-18</td>\n",
       "      <td>6.572893e-18</td>\n",
       "      <td>1.053556e-17</td>\n",
       "      <td>8.181022e-19</td>\n",
       "      <td>7.487792e-18</td>\n",
       "      <td>-1.025655e-17</td>\n",
       "      <td>-7.425095e-19</td>\n",
       "      <td>8.706841e-18</td>\n",
       "      <td>1.223174e-17</td>\n",
       "      <td>...</td>\n",
       "      <td>6.040514e-32</td>\n",
       "      <td>-1.095563e-32</td>\n",
       "      <td>1.303637e-32</td>\n",
       "      <td>-1.233501e-32</td>\n",
       "      <td>4.350573e-32</td>\n",
       "      <td>6.458261e-32</td>\n",
       "      <td>7.558965e-33</td>\n",
       "      <td>-5.119834e-33</td>\n",
       "      <td>-3.382249e-32</td>\n",
       "      <td>-9.024621e-21</td>\n",
       "    </tr>\n",
       "    <tr>\n",
       "      <th>3</th>\n",
       "      <td>-2.282394e-17</td>\n",
       "      <td>1.500089e-18</td>\n",
       "      <td>6.242969e-18</td>\n",
       "      <td>1.049513e-17</td>\n",
       "      <td>5.442511e-18</td>\n",
       "      <td>1.380205e-17</td>\n",
       "      <td>-1.244726e-17</td>\n",
       "      <td>2.299315e-18</td>\n",
       "      <td>1.147413e-17</td>\n",
       "      <td>1.393279e-17</td>\n",
       "      <td>...</td>\n",
       "      <td>4.288040e-32</td>\n",
       "      <td>-8.976968e-33</td>\n",
       "      <td>-2.159963e-32</td>\n",
       "      <td>3.272785e-33</td>\n",
       "      <td>2.261773e-32</td>\n",
       "      <td>-1.833723e-32</td>\n",
       "      <td>5.444464e-32</td>\n",
       "      <td>-2.673297e-33</td>\n",
       "      <td>-4.103706e-32</td>\n",
       "      <td>5.668474e-19</td>\n",
       "    </tr>\n",
       "    <tr>\n",
       "      <th>4</th>\n",
       "      <td>9.151146e-19</td>\n",
       "      <td>-4.232204e-28</td>\n",
       "      <td>-5.845781e-28</td>\n",
       "      <td>8.222340e-28</td>\n",
       "      <td>-1.061746e-27</td>\n",
       "      <td>1.448742e-27</td>\n",
       "      <td>2.179751e-27</td>\n",
       "      <td>2.845868e-27</td>\n",
       "      <td>3.674451e-27</td>\n",
       "      <td>-5.218617e-27</td>\n",
       "      <td>...</td>\n",
       "      <td>-3.145090e-32</td>\n",
       "      <td>-1.563246e-32</td>\n",
       "      <td>-2.807580e-34</td>\n",
       "      <td>-6.560170e-32</td>\n",
       "      <td>-8.895594e-33</td>\n",
       "      <td>3.447802e-32</td>\n",
       "      <td>-9.007487e-33</td>\n",
       "      <td>6.951554e-33</td>\n",
       "      <td>1.447860e-32</td>\n",
       "      <td>8.483699e-33</td>\n",
       "    </tr>\n",
       "  </tbody>\n",
       "</table>\n",
       "<p>5 rows × 200 columns</p>\n",
       "</div>"
      ],
      "text/plain": [
       "            0             1             2             3             4    \\\n",
       "0  9.151146e-19 -4.231088e-28 -5.848958e-28  8.221221e-28 -1.061586e-27   \n",
       "1  9.151146e-19 -4.231777e-28 -5.846783e-28  8.223158e-28 -1.061462e-27   \n",
       "2  1.263095e-17 -1.203924e-18  6.572893e-18  1.053556e-17  8.181022e-19   \n",
       "3 -2.282394e-17  1.500089e-18  6.242969e-18  1.049513e-17  5.442511e-18   \n",
       "4  9.151146e-19 -4.232204e-28 -5.845781e-28  8.222340e-28 -1.061746e-27   \n",
       "\n",
       "            5             6             7             8             9    ...  \\\n",
       "0  1.448876e-27  2.179987e-27  2.845782e-27  3.674631e-27 -5.218638e-27  ...   \n",
       "1  1.448833e-27  2.180033e-27  2.846037e-27  3.674490e-27 -5.218672e-27  ...   \n",
       "2  7.487792e-18 -1.025655e-17 -7.425095e-19  8.706841e-18  1.223174e-17  ...   \n",
       "3  1.380205e-17 -1.244726e-17  2.299315e-18  1.147413e-17  1.393279e-17  ...   \n",
       "4  1.448742e-27  2.179751e-27  2.845868e-27  3.674451e-27 -5.218617e-27  ...   \n",
       "\n",
       "            190           191           192           193           194  \\\n",
       "0 -8.108521e-47 -3.392580e-47 -1.318020e-47 -5.331237e-48  1.781317e-48   \n",
       "1 -1.038920e-31 -1.685994e-32 -6.539109e-33  7.734746e-33  7.425668e-33   \n",
       "2  6.040514e-32 -1.095563e-32  1.303637e-32 -1.233501e-32  4.350573e-32   \n",
       "3  4.288040e-32 -8.976968e-33 -2.159963e-32  3.272785e-33  2.261773e-32   \n",
       "4 -3.145090e-32 -1.563246e-32 -2.807580e-34 -6.560170e-32 -8.895594e-33   \n",
       "\n",
       "            195           196           197           198           199  \n",
       "0 -9.498476e-36  7.026257e-49 -9.485638e-50 -3.660982e-50 -1.985864e-34  \n",
       "1  6.852934e-32 -2.637280e-32  4.160055e-32  3.176481e-33  1.826618e-31  \n",
       "2  6.458261e-32  7.558965e-33 -5.119834e-33 -3.382249e-32 -9.024621e-21  \n",
       "3 -1.833723e-32  5.444464e-32 -2.673297e-33 -4.103706e-32  5.668474e-19  \n",
       "4  3.447802e-32 -9.007487e-33  6.951554e-33  1.447860e-32  8.483699e-33  \n",
       "\n",
       "[5 rows x 200 columns]"
      ]
     },
     "execution_count": 230,
     "metadata": {},
     "output_type": "execute_result"
    }
   ],
   "source": [
    "sorted_features = np.argsort(-cumulative_variance)\n",
    "\n",
    "# Select the top 100 features\n",
    "top_200_features = sorted_features[:200]\n",
    "\n",
    "# Create a new dataframe with the top 200 features\n",
    "df_top_200_features = pd.DataFrame(X_pca[:, top_200_features])\n",
    "\n",
    "df_top_200_features.head()"
   ]
  },
  {
   "cell_type": "markdown",
   "metadata": {
    "pycharm": {
     "name": "#%% md\n"
    }
   },
   "source": [
    "Let us now examine the performance of the regression models that we have analyzed. We will compare these models using the evaluation metrics, namely \"R2\", \"Accuracy\", \"Precision\", and \"Recall\"."
   ]
  },
  {
   "cell_type": "code",
   "execution_count": 231,
   "metadata": {
    "pycharm": {
     "name": "#%%\n"
    }
   },
   "outputs": [],
   "source": [
    "def metrics_model(model, X, y):\n",
    "\n",
    "    #compute the scores on each metric    \n",
    "    cv = KFold(n_splits=5,shuffle=True,random_state=45)\n",
    "\n",
    "    r2_val_score = cross_val_score(model, X, y, cv=cv,scoring=\"r2\")\n",
    "    r2 = r2_val_score.mean()\n",
    "\n",
    "    mse_scores = -1 * cross_val_score(model, X, y, cv=cv, scoring='neg_mean_squared_error')\n",
    "    mse = mse_scores.mean()\n",
    "\n",
    "    rmse_scores = -1 * cross_val_score(model, X, y, cv=cv, scoring='neg_root_mean_squared_error')\n",
    "    rmse = rmse_scores.mean()\n",
    "\n",
    "    mae_scores = -1 * cross_val_score(model, X, y, cv=cv, scoring='neg_mean_absolute_error')\n",
    "    mae = mae_scores.mean()\n",
    "\n",
    "    \n",
    "    metrics_dict = {\n",
    "        'R2 Score': round(r2, 4),\n",
    "        'Mean squared error': round(mse, 4),\n",
    "        'Root mean squared error': round(rmse, 4),\n",
    "        'Mean absolute error': round(mae, 4),\n",
    "    }\n",
    "\n",
    "    return metrics_dict\n",
    "\n",
    "def model_fitting(X, y):\n",
    "\n",
    "    results_table={}\n",
    "\n",
    "    #define a model and find it's performance\n",
    "    model = linear_model.LinearRegression()\n",
    "    results_table[\"Linear\"]=metrics_model(model, X, y)\n",
    "\n",
    "    model = linear_model.Lasso(alpha=1e-4)\n",
    "    results_table[\"Lasso\"]=metrics_model(model, X, y)\n",
    "    \n",
    "    model = linear_model.Ridge()\n",
    "    results_table[\"Ridge\"]=metrics_model(model, X, y)\n",
    "    \n",
    "    model = linear_model.BayesianRidge()\n",
    "    results_table[\"Bayesian Ridge\"]=metrics_model(model, X, y) \n",
    "\n",
    "\n",
    "    model = BaggingRegressor()\n",
    "    results_table[\"Bagging\"]=metrics_model(model, X, y)\n",
    "    \n",
    "    model = RandomForestRegressor()\n",
    "    results_table[\"RandomForest\"]=metrics_model(model, X, y)\n",
    "    \n",
    "    model = AdaBoostRegressor()\n",
    "    results_table[\"AdaBoost\"]=metrics_model(model, X, y)\n",
    "    \n",
    "    \n",
    "    results_table = pd.DataFrame.from_dict(results_table,orient='index')\n",
    "    results_table.columns=[\"R Squared \", \"MSE\", \"RMSE\", \"MAE\"] \n",
    "    return results_table"
   ]
  },
  {
   "cell_type": "code",
   "execution_count": 232,
   "metadata": {
    "pycharm": {
     "name": "#%%\n"
    }
   },
   "outputs": [
    {
     "data": {
      "text/html": [
       "<div>\n",
       "<style scoped>\n",
       "    .dataframe tbody tr th:only-of-type {\n",
       "        vertical-align: middle;\n",
       "    }\n",
       "\n",
       "    .dataframe tbody tr th {\n",
       "        vertical-align: top;\n",
       "    }\n",
       "\n",
       "    .dataframe thead th {\n",
       "        text-align: right;\n",
       "    }\n",
       "</style>\n",
       "<table border=\"1\" class=\"dataframe\">\n",
       "  <thead>\n",
       "    <tr style=\"text-align: right;\">\n",
       "      <th></th>\n",
       "      <th>R Squared</th>\n",
       "      <th>MSE</th>\n",
       "      <th>RMSE</th>\n",
       "      <th>MAE</th>\n",
       "    </tr>\n",
       "  </thead>\n",
       "  <tbody>\n",
       "    <tr>\n",
       "      <th>Linear</th>\n",
       "      <td>-2.2343</td>\n",
       "      <td>4140.5775</td>\n",
       "      <td>64.2311</td>\n",
       "      <td>47.1648</td>\n",
       "    </tr>\n",
       "    <tr>\n",
       "      <th>Lasso</th>\n",
       "      <td>-0.0178</td>\n",
       "      <td>1316.9022</td>\n",
       "      <td>36.2407</td>\n",
       "      <td>28.9484</td>\n",
       "    </tr>\n",
       "    <tr>\n",
       "      <th>Ridge</th>\n",
       "      <td>-0.0138</td>\n",
       "      <td>1311.3244</td>\n",
       "      <td>36.1682</td>\n",
       "      <td>28.9552</td>\n",
       "    </tr>\n",
       "    <tr>\n",
       "      <th>Bayesian Ridge</th>\n",
       "      <td>-0.0161</td>\n",
       "      <td>1314.3693</td>\n",
       "      <td>36.2086</td>\n",
       "      <td>28.9601</td>\n",
       "    </tr>\n",
       "    <tr>\n",
       "      <th>Bagging</th>\n",
       "      <td>0.2310</td>\n",
       "      <td>1026.0196</td>\n",
       "      <td>32.2110</td>\n",
       "      <td>22.4643</td>\n",
       "    </tr>\n",
       "    <tr>\n",
       "      <th>RandomForest</th>\n",
       "      <td>0.2376</td>\n",
       "      <td>972.8369</td>\n",
       "      <td>31.2349</td>\n",
       "      <td>22.3404</td>\n",
       "    </tr>\n",
       "    <tr>\n",
       "      <th>AdaBoost</th>\n",
       "      <td>0.0044</td>\n",
       "      <td>1261.7620</td>\n",
       "      <td>35.6992</td>\n",
       "      <td>28.7302</td>\n",
       "    </tr>\n",
       "  </tbody>\n",
       "</table>\n",
       "</div>"
      ],
      "text/plain": [
       "                R Squared         MSE     RMSE      MAE\n",
       "Linear             -2.2343  4140.5775  64.2311  47.1648\n",
       "Lasso              -0.0178  1316.9022  36.2407  28.9484\n",
       "Ridge              -0.0138  1311.3244  36.1682  28.9552\n",
       "Bayesian Ridge     -0.0161  1314.3693  36.2086  28.9601\n",
       "Bagging             0.2310  1026.0196  32.2110  22.4643\n",
       "RandomForest        0.2376   972.8369  31.2349  22.3404\n",
       "AdaBoost            0.0044  1261.7620  35.6992  28.7302"
      ]
     },
     "execution_count": 232,
     "metadata": {},
     "output_type": "execute_result"
    }
   ],
   "source": [
    "model_fitting(df_top_200_features, data['median salary'])"
   ]
  },
  {
   "cell_type": "code",
   "execution_count": 233,
   "metadata": {
    "pycharm": {
     "name": "#%%\n"
    }
   },
   "outputs": [
    {
     "name": "stderr",
     "output_type": "stream",
     "text": [
      "d:\\programs\\conda\\lib\\site-packages\\sklearn\\linear_model\\_coordinate_descent.py:647: ConvergenceWarning:\n",
      "\n",
      "Objective did not converge. You might want to increase the number of iterations, check the scale of the features or consider increasing regularisation. Duality gap: 3.736e+02, tolerance: 7.390e+01\n",
      "\n",
      "d:\\programs\\conda\\lib\\site-packages\\sklearn\\linear_model\\_coordinate_descent.py:647: ConvergenceWarning:\n",
      "\n",
      "Objective did not converge. You might want to increase the number of iterations, check the scale of the features or consider increasing regularisation. Duality gap: 4.455e+02, tolerance: 7.770e+01\n",
      "\n",
      "d:\\programs\\conda\\lib\\site-packages\\sklearn\\linear_model\\_coordinate_descent.py:647: ConvergenceWarning:\n",
      "\n",
      "Objective did not converge. You might want to increase the number of iterations, check the scale of the features or consider increasing regularisation. Duality gap: 4.879e+02, tolerance: 7.498e+01\n",
      "\n",
      "d:\\programs\\conda\\lib\\site-packages\\sklearn\\linear_model\\_coordinate_descent.py:647: ConvergenceWarning:\n",
      "\n",
      "Objective did not converge. You might want to increase the number of iterations, check the scale of the features or consider increasing regularisation. Duality gap: 4.616e+02, tolerance: 7.915e+01\n",
      "\n",
      "d:\\programs\\conda\\lib\\site-packages\\sklearn\\linear_model\\_coordinate_descent.py:647: ConvergenceWarning:\n",
      "\n",
      "Objective did not converge. You might want to increase the number of iterations, check the scale of the features or consider increasing regularisation. Duality gap: 4.926e+02, tolerance: 7.613e+01\n",
      "\n",
      "d:\\programs\\conda\\lib\\site-packages\\sklearn\\linear_model\\_coordinate_descent.py:647: ConvergenceWarning:\n",
      "\n",
      "Objective did not converge. You might want to increase the number of iterations, check the scale of the features or consider increasing regularisation. Duality gap: 3.736e+02, tolerance: 7.390e+01\n",
      "\n",
      "d:\\programs\\conda\\lib\\site-packages\\sklearn\\linear_model\\_coordinate_descent.py:647: ConvergenceWarning:\n",
      "\n",
      "Objective did not converge. You might want to increase the number of iterations, check the scale of the features or consider increasing regularisation. Duality gap: 4.455e+02, tolerance: 7.770e+01\n",
      "\n",
      "d:\\programs\\conda\\lib\\site-packages\\sklearn\\linear_model\\_coordinate_descent.py:647: ConvergenceWarning:\n",
      "\n",
      "Objective did not converge. You might want to increase the number of iterations, check the scale of the features or consider increasing regularisation. Duality gap: 4.879e+02, tolerance: 7.498e+01\n",
      "\n",
      "d:\\programs\\conda\\lib\\site-packages\\sklearn\\linear_model\\_coordinate_descent.py:647: ConvergenceWarning:\n",
      "\n",
      "Objective did not converge. You might want to increase the number of iterations, check the scale of the features or consider increasing regularisation. Duality gap: 4.616e+02, tolerance: 7.915e+01\n",
      "\n",
      "d:\\programs\\conda\\lib\\site-packages\\sklearn\\linear_model\\_coordinate_descent.py:647: ConvergenceWarning:\n",
      "\n",
      "Objective did not converge. You might want to increase the number of iterations, check the scale of the features or consider increasing regularisation. Duality gap: 4.926e+02, tolerance: 7.613e+01\n",
      "\n",
      "d:\\programs\\conda\\lib\\site-packages\\sklearn\\linear_model\\_coordinate_descent.py:647: ConvergenceWarning:\n",
      "\n",
      "Objective did not converge. You might want to increase the number of iterations, check the scale of the features or consider increasing regularisation. Duality gap: 3.736e+02, tolerance: 7.390e+01\n",
      "\n",
      "d:\\programs\\conda\\lib\\site-packages\\sklearn\\linear_model\\_coordinate_descent.py:647: ConvergenceWarning:\n",
      "\n",
      "Objective did not converge. You might want to increase the number of iterations, check the scale of the features or consider increasing regularisation. Duality gap: 4.455e+02, tolerance: 7.770e+01\n",
      "\n",
      "d:\\programs\\conda\\lib\\site-packages\\sklearn\\linear_model\\_coordinate_descent.py:647: ConvergenceWarning:\n",
      "\n",
      "Objective did not converge. You might want to increase the number of iterations, check the scale of the features or consider increasing regularisation. Duality gap: 4.879e+02, tolerance: 7.498e+01\n",
      "\n",
      "d:\\programs\\conda\\lib\\site-packages\\sklearn\\linear_model\\_coordinate_descent.py:647: ConvergenceWarning:\n",
      "\n",
      "Objective did not converge. You might want to increase the number of iterations, check the scale of the features or consider increasing regularisation. Duality gap: 4.616e+02, tolerance: 7.915e+01\n",
      "\n",
      "d:\\programs\\conda\\lib\\site-packages\\sklearn\\linear_model\\_coordinate_descent.py:647: ConvergenceWarning:\n",
      "\n",
      "Objective did not converge. You might want to increase the number of iterations, check the scale of the features or consider increasing regularisation. Duality gap: 4.926e+02, tolerance: 7.613e+01\n",
      "\n",
      "d:\\programs\\conda\\lib\\site-packages\\sklearn\\linear_model\\_coordinate_descent.py:647: ConvergenceWarning:\n",
      "\n",
      "Objective did not converge. You might want to increase the number of iterations, check the scale of the features or consider increasing regularisation. Duality gap: 3.736e+02, tolerance: 7.390e+01\n",
      "\n",
      "d:\\programs\\conda\\lib\\site-packages\\sklearn\\linear_model\\_coordinate_descent.py:647: ConvergenceWarning:\n",
      "\n",
      "Objective did not converge. You might want to increase the number of iterations, check the scale of the features or consider increasing regularisation. Duality gap: 4.455e+02, tolerance: 7.770e+01\n",
      "\n",
      "d:\\programs\\conda\\lib\\site-packages\\sklearn\\linear_model\\_coordinate_descent.py:647: ConvergenceWarning:\n",
      "\n",
      "Objective did not converge. You might want to increase the number of iterations, check the scale of the features or consider increasing regularisation. Duality gap: 4.879e+02, tolerance: 7.498e+01\n",
      "\n",
      "d:\\programs\\conda\\lib\\site-packages\\sklearn\\linear_model\\_coordinate_descent.py:647: ConvergenceWarning:\n",
      "\n",
      "Objective did not converge. You might want to increase the number of iterations, check the scale of the features or consider increasing regularisation. Duality gap: 4.616e+02, tolerance: 7.915e+01\n",
      "\n",
      "d:\\programs\\conda\\lib\\site-packages\\sklearn\\linear_model\\_coordinate_descent.py:647: ConvergenceWarning:\n",
      "\n",
      "Objective did not converge. You might want to increase the number of iterations, check the scale of the features or consider increasing regularisation. Duality gap: 4.926e+02, tolerance: 7.613e+01\n",
      "\n"
     ]
    },
    {
     "data": {
      "text/html": [
       "<div>\n",
       "<style scoped>\n",
       "    .dataframe tbody tr th:only-of-type {\n",
       "        vertical-align: middle;\n",
       "    }\n",
       "\n",
       "    .dataframe tbody tr th {\n",
       "        vertical-align: top;\n",
       "    }\n",
       "\n",
       "    .dataframe thead th {\n",
       "        text-align: right;\n",
       "    }\n",
       "</style>\n",
       "<table border=\"1\" class=\"dataframe\">\n",
       "  <thead>\n",
       "    <tr style=\"text-align: right;\">\n",
       "      <th></th>\n",
       "      <th>R Squared</th>\n",
       "      <th>MSE</th>\n",
       "      <th>RMSE</th>\n",
       "      <th>MAE</th>\n",
       "    </tr>\n",
       "  </thead>\n",
       "  <tbody>\n",
       "    <tr>\n",
       "      <th>Linear</th>\n",
       "      <td>-2.997942e+22</td>\n",
       "      <td>3.851671e+25</td>\n",
       "      <td>3.605923e+12</td>\n",
       "      <td>1.765450e+12</td>\n",
       "    </tr>\n",
       "    <tr>\n",
       "      <th>Lasso</th>\n",
       "      <td>7.250000e-01</td>\n",
       "      <td>3.582947e+02</td>\n",
       "      <td>1.872870e+01</td>\n",
       "      <td>9.291800e+00</td>\n",
       "    </tr>\n",
       "    <tr>\n",
       "      <th>Ridge</th>\n",
       "      <td>7.595000e-01</td>\n",
       "      <td>3.121678e+02</td>\n",
       "      <td>1.754840e+01</td>\n",
       "      <td>1.073310e+01</td>\n",
       "    </tr>\n",
       "    <tr>\n",
       "      <th>Bayesian Ridge</th>\n",
       "      <td>6.937000e-01</td>\n",
       "      <td>3.958786e+02</td>\n",
       "      <td>1.970930e+01</td>\n",
       "      <td>1.009910e+01</td>\n",
       "    </tr>\n",
       "    <tr>\n",
       "      <th>Bagging</th>\n",
       "      <td>7.206000e-01</td>\n",
       "      <td>3.670174e+02</td>\n",
       "      <td>1.857270e+01</td>\n",
       "      <td>1.243510e+01</td>\n",
       "    </tr>\n",
       "    <tr>\n",
       "      <th>RandomForest</th>\n",
       "      <td>7.362000e-01</td>\n",
       "      <td>3.437561e+02</td>\n",
       "      <td>1.846940e+01</td>\n",
       "      <td>1.155510e+01</td>\n",
       "    </tr>\n",
       "    <tr>\n",
       "      <th>AdaBoost</th>\n",
       "      <td>4.139000e-01</td>\n",
       "      <td>7.474180e+02</td>\n",
       "      <td>2.721240e+01</td>\n",
       "      <td>2.221220e+01</td>\n",
       "    </tr>\n",
       "  </tbody>\n",
       "</table>\n",
       "</div>"
      ],
      "text/plain": [
       "                  R Squared            MSE          RMSE           MAE\n",
       "Linear         -2.997942e+22  3.851671e+25  3.605923e+12  1.765450e+12\n",
       "Lasso           7.250000e-01  3.582947e+02  1.872870e+01  9.291800e+00\n",
       "Ridge           7.595000e-01  3.121678e+02  1.754840e+01  1.073310e+01\n",
       "Bayesian Ridge  6.937000e-01  3.958786e+02  1.970930e+01  1.009910e+01\n",
       "Bagging         7.206000e-01  3.670174e+02  1.857270e+01  1.243510e+01\n",
       "RandomForest    7.362000e-01  3.437561e+02  1.846940e+01  1.155510e+01\n",
       "AdaBoost        4.139000e-01  7.474180e+02  2.721240e+01  2.221220e+01"
      ]
     },
     "execution_count": 233,
     "metadata": {},
     "output_type": "execute_result"
    }
   ],
   "source": [
    "model_fitting(X, data['median salary'])"
   ]
  },
  {
   "cell_type": "markdown",
   "metadata": {
    "pycharm": {
     "name": "#%% md\n"
    }
   },
   "source": [
    "The aforementioned tables indicate a lack of evidence to support the feasibility of fitting a sufficiently accurate regression model with the given dataset. Among the models tested, the Ridge regression model trained on the complete data set appears to perform the best, as determined by the R-squared and RMSE metrics. To better evaluate the model's fit, we will examine the residuals plot, distribution of the residuals, and Q-Q plot."
   ]
  },
  {
   "cell_type": "code",
   "execution_count": 234,
   "metadata": {
    "pycharm": {
     "name": "#%%\n"
    }
   },
   "outputs": [],
   "source": [
    "# defining the model once more\n",
    "model = linear_model.Ridge()\n",
    "\n",
    "#getting the residuals using the same cross-validation method\n",
    "cv = KFold(n_splits=5, shuffle=True, random_state=45)\n",
    "\n",
    "# Fit the model and make predictions\n",
    "y_pred = cross_val_predict(model, X, y, cv=cv)\n",
    "\n",
    "# Calculate the residuals\n",
    "residuals = y - y_pred"
   ]
  },
  {
   "cell_type": "code",
   "execution_count": 235,
   "metadata": {
    "pycharm": {
     "name": "#%%\n"
    }
   },
   "outputs": [
    {
     "data": {
      "image/png": "[encoded data removed]",
      "text/plain": [
       "<Figure size 640x480 with 1 Axes>"
      ]
     },
     "metadata": {},
     "output_type": "display_data"
    }
   ],
   "source": [
    "# Plot the residuals against the predicted values\n",
    "plt.scatter(y_pred, residuals)\n",
    "plt.axhline(y=0, color='r', linestyle='-')\n",
    "plt.title('Residual Plot')\n",
    "plt.xlabel('Predicted Values')\n",
    "plt.ylabel('Residuals')\n",
    "plt.show()"
   ]
  },
  {
   "cell_type": "code",
   "execution_count": 236,
   "metadata": {
    "pycharm": {
     "name": "#%%\n"
    }
   },
   "outputs": [
    {
     "data": {
      "text/plain": [
       "<seaborn.axisgrid.FacetGrid at 0x132800e8910>"
      ]
     },
     "execution_count": 236,
     "metadata": {},
     "output_type": "execute_result"
    },
    {
     "data": {
      "image/png": "[encoded data removed]",
      "text/plain": [
       "<Figure size 500x500 with 1 Axes>"
      ]
     },
     "metadata": {},
     "output_type": "display_data"
    }
   ],
   "source": [
    "sns.displot(residuals, kde=True)"
   ]
  },
  {
   "cell_type": "code",
   "execution_count": 237,
   "metadata": {
    "pycharm": {
     "name": "#%%\n"
    }
   },
   "outputs": [
    {
     "data": {
      "image/png": "[encoded data removed]",
      "text/plain": [
       "<Figure size 640x480 with 1 Axes>"
      ]
     },
     "metadata": {},
     "output_type": "display_data"
    }
   ],
   "source": [
    "import scipy.stats as stats\n",
    "\n",
    "stats.probplot(residuals, plot=plt)\n",
    "plt.show()"
   ]
  },
  {
   "cell_type": "markdown",
   "metadata": {
    "pycharm": {
     "name": "#%% md\n"
    }
   },
   "source": [
    "Based on the presented plots, the model predictions do not deviate significantly from the actual values. The residuals plot indicates that the points are scattered randomly around the residual=0 line, while the distribution plot shows a symmetric yet leptokurtic shape that resembles a normal distribution. Additionally, the QQ-plot seems relatively accurate except for the most extreme values, indicating the presence of potential outliers. In this regard, there are only ten values that are significantly off, and we need to investigate whether they are outliers. The next step is to remove the ten most extreme outliers and evaluate whether this leads to a significant improvement in the model's performance."
   ]
  },
  {
   "cell_type": "code",
   "execution_count": 238,
   "metadata": {
    "pycharm": {
     "name": "#%%\n"
    }
   },
   "outputs": [
    {
     "name": "stdout",
     "output_type": "stream",
     "text": [
      "708    254.0\n",
      "410    194.5\n",
      "616    194.5\n",
      "507    194.0\n",
      "681    194.0\n",
      "Name: median salary, dtype: float64\n"
     ]
    }
   ],
   "source": [
    "q1 = data_encoded['median salary'].quantile(0.25)\n",
    "q3 = data_encoded['median salary'].quantile(0.75)\n",
    "iqr = q3 - q1\n",
    "lower_bound = q1 - 1.5 * iqr\n",
    "upper_bound = q3 + 1.5 * iqr\n",
    "\n",
    "outliers = data_encoded[(data_encoded['median salary'] < lower_bound) | (data_encoded['median salary'] > upper_bound)].sort_values('median salary', ascending=False)\n",
    "\n",
    "top_10_outliers = outliers.head(10)\n",
    "\n",
    "print(top_10_outliers['median salary'])"
   ]
  },
  {
   "cell_type": "code",
   "execution_count": 239,
   "metadata": {
    "pycharm": {
     "name": "#%%\n"
    }
   },
   "outputs": [],
   "source": [
    "data_encoded = data_encoded.drop(top_10_outliers.index)\n",
    "X = data_encoded.drop('median salary', axis=1)\n",
    "y = data_encoded['median salary']"
   ]
  },
  {
   "cell_type": "markdown",
   "metadata": {
    "pycharm": {
     "name": "#%% md\n"
    }
   },
   "source": [
    "After removing the most extreme outliers, our next step is to perform hyperparameter tuning. Specifically, we will search through a range of 1000 alphas, representing regularization values, starting from 0 and up to 100. The model with the best performance will be selected, and we will then visualize its metrics once again."
   ]
  },
  {
   "cell_type": "code",
   "execution_count": 240,
   "metadata": {
    "pycharm": {
     "name": "#%%\n"
    }
   },
   "outputs": [
    {
     "name": "stderr",
     "output_type": "stream",
     "text": [
      "d:\\programs\\conda\\lib\\site-packages\\sklearn\\linear_model\\_ridge.py:196: UserWarning:\n",
      "\n",
      "Singular matrix in solving dual problem. Using least-squares solution instead.\n",
      "\n",
      "d:\\programs\\conda\\lib\\site-packages\\sklearn\\linear_model\\_ridge.py:196: UserWarning:\n",
      "\n",
      "Singular matrix in solving dual problem. Using least-squares solution instead.\n",
      "\n",
      "d:\\programs\\conda\\lib\\site-packages\\sklearn\\linear_model\\_ridge.py:196: UserWarning:\n",
      "\n",
      "Singular matrix in solving dual problem. Using least-squares solution instead.\n",
      "\n",
      "d:\\programs\\conda\\lib\\site-packages\\sklearn\\linear_model\\_ridge.py:196: UserWarning:\n",
      "\n",
      "Singular matrix in solving dual problem. Using least-squares solution instead.\n",
      "\n",
      "d:\\programs\\conda\\lib\\site-packages\\sklearn\\linear_model\\_ridge.py:196: UserWarning:\n",
      "\n",
      "Singular matrix in solving dual problem. Using least-squares solution instead.\n",
      "\n"
     ]
    },
    {
     "name": "stdout",
     "output_type": "stream",
     "text": [
      "{'alpha': 0.3003003003003003}\n"
     ]
    }
   ],
   "source": [
    "from sklearn.model_selection import GridSearchCV\n",
    "from sklearn.linear_model import Ridge\n",
    "from sklearn.metrics import mean_squared_error\n",
    "\n",
    "alphas = np.linspace(0, 100, num=1000)\n",
    "# Define the hyperparameter grid to search\n",
    "param_grid = {'alpha': alphas}\n",
    "\n",
    "# Define the model\n",
    "model = Ridge()\n",
    "\n",
    "# Create a GridSearchCV object\n",
    "grid = GridSearchCV(estimator=model, param_grid=param_grid, cv=5, scoring='r2')\n",
    "\n",
    "# Fit the GridSearchCV object to the data\n",
    "grid.fit(X, y)\n",
    "\n",
    "# Print the best hyperparameters\n",
    "print(grid.best_params_)\n",
    "\n",
    "# Get the best model\n",
    "best_model = grid.best_estimator_"
   ]
  },
  {
   "cell_type": "code",
   "execution_count": 241,
   "metadata": {
    "pycharm": {
     "name": "#%%\n"
    }
   },
   "outputs": [
    {
     "data": {
      "text/html": [
       "<div>\n",
       "<style scoped>\n",
       "    .dataframe tbody tr th:only-of-type {\n",
       "        vertical-align: middle;\n",
       "    }\n",
       "\n",
       "    .dataframe tbody tr th {\n",
       "        vertical-align: top;\n",
       "    }\n",
       "\n",
       "    .dataframe thead th {\n",
       "        text-align: right;\n",
       "    }\n",
       "</style>\n",
       "<table border=\"1\" class=\"dataframe\">\n",
       "  <thead>\n",
       "    <tr style=\"text-align: right;\">\n",
       "      <th></th>\n",
       "      <th>R Squared</th>\n",
       "      <th>MSE</th>\n",
       "      <th>RMSE</th>\n",
       "      <th>MAE</th>\n",
       "    </tr>\n",
       "  </thead>\n",
       "  <tbody>\n",
       "    <tr>\n",
       "      <th>Fine Tuned Ridge</th>\n",
       "      <td>0.7538</td>\n",
       "      <td>302.832</td>\n",
       "      <td>17.2657</td>\n",
       "      <td>9.8269</td>\n",
       "    </tr>\n",
       "  </tbody>\n",
       "</table>\n",
       "</div>"
      ],
      "text/plain": [
       "                  R Squared       MSE     RMSE     MAE\n",
       "Fine Tuned Ridge      0.7538  302.832  17.2657  9.8269"
      ]
     },
     "execution_count": 241,
     "metadata": {},
     "output_type": "execute_result"
    }
   ],
   "source": [
    "#now that we have a better alpha we can fine tune the model and see what are its performance metrics\n",
    "results_table={}\n",
    "model = linear_model.Ridge()\n",
    "results_table[\"Fine Tuned Ridge\"]=metrics_model(best_model, X, y)\n",
    "\n",
    "results_table = pd.DataFrame.from_dict(results_table,orient='index')\n",
    "results_table.columns=[\"R Squared \", \"MSE\", \"RMSE\", \"MAE\"] \n",
    "\n",
    "results_table"
   ]
  },
  {
   "cell_type": "markdown",
   "metadata": {
    "pycharm": {
     "name": "#%% md\n"
    }
   },
   "source": [
    "Based on the obtained results, it appears that further improvements in the model's performance are unlikely. Therefore, it is appropriate to draw some conclusions and make recommendations based on the analysis."
   ]
  },
  {
   "cell_type": "markdown",
   "metadata": {
    "pycharm": {
     "name": "#%% md\n"
    }
   },
   "source": [
    "# Conlcusion & Recommendations"
   ]
  },
  {
   "cell_type": "markdown",
   "metadata": {
    "pycharm": {
     "name": "#%% md\n"
    }
   },
   "source": [
    "Based on the analysis of data scientists job ads in the USA in 2021, it can be concluded that the field of data science offers a wide range of opportunities in various industries and locations. As Tevfik, Carlo, and Xander are looking for data science job opportunities in the USA, it is important to keep in mind that the dataset used in this analysis is limited to job ads from a private website and may not represent the entire job market.\n",
    "\n",
    "However, this analysis provides insights on the median salaries, the most in-demand skills, and the top job titles and companies in the field of data science. The analysis also reveals that the states with the highest median salaries for data scientists are San Jose, San Francisco, and Chicago, while the top sectors for data scientists in terms of median salaries are Information Technology, Biotech, and Insurance. Moreover, the analysis shows that Python, SQL, and AWS are the most in-demand skills for data scientists.\n",
    "\n",
    "Based on these findings, Tevfik, Carlo, and Xander may want to consider focusing their job search on San Jose, San Francisco, and Chicago and exploring opportunities in Information Technology, Biotech, and Insurance sectors. Furthermore, they may want to invest time in developing their skills in Python, SQL, and AWS to increase their chances of getting hired and negotiating better salaries.\n",
    "\n",
    "It is important to note that this analysis is based on a limited dataset and there may be other factors to consider when job searching, such as company culture, work-life balance, and job satisfaction. Nonetheless, this analysis provides a useful starting point for Tevfik, Carlo, and Xander to evaluate the job market for data scientists in the USA and make informed decisions in their job search."
   ]
  }
 ],
 "metadata": {
  "colab": {
   "provenance": [],
   "toc_visible": true
  },
  "kernelspec": {
   "display_name": "Python 3",
   "language": "python",
   "name": "python3"
  },
  "language_info": {
   "codemirror_mode": {
    "name": "ipython",
    "version": 3
   },
   "file_extension": ".py",
   "mimetype": "text/x-python",
   "name": "python",
   "nbconvert_exporter": "python",
   "pygments_lexer": "ipython3",
   "version": "3.8.5"
  }
 },
 "nbformat": 4,
 "nbformat_minor": 1
}