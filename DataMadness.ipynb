{
  "cells": [
    {
      "cell_type": "code",
      "execution_count": 140,
      "metadata": {
        "colab": {
          "base_uri": "https://localhost:8080/"
        },
        "id": "5jqqAIrSFrXX",
        "outputId": "fefa66a1-a80f-4573-f5ba-06f212256c68"
      },
      "outputs": [],
      "source": [
        "#utils\n",
        "import pandas as pd\n",
        "import numpy as np \n",
        "\n",
        "\n",
        "#stat and machine learning\n",
        "from scipy.stats import kstest, norm\n",
        "from sklearn.preprocessing import LabelEncoder, StandardScaler\n",
        "from transformers import pipeline\n",
        "from sklearn.decomposition import PCA\n",
        "from sklearn.model_selection import KFold, cross_val_score\n",
        "from sklearn import linear_model\n",
        "from sklearn.ensemble import BaggingRegressor, RandomForestRegressor, AdaBoostRegressor\n",
        "from sklearn.preprocessing import StandardScaler\n",
        "from sklearn.model_selection import cross_val_predict\n",
        "\n",
        "\n",
        "\n",
        "#visualization\n",
        "import matplotlib.pyplot as plt\n",
        "import seaborn as sns"
      ]
    },
    {
      "cell_type": "markdown",
      "metadata": {
        "id": "ZvaB2a0YGV5S"
      },
      "source": [
        "# First Look\n"
      ]
    },
    {
      "cell_type": "markdown",
      "metadata": {
        "id": "02eEEnV3HT_8"
      },
      "source": [
        "We're gonna make try and understand here what are the factors that most contribute for the salary of DS professionals and what is the shape teh job market in the USA right now. To do so we're gonna analyse the most crucial features in the dataset and see how they relate to eachother."
      ]
    },
    {
      "cell_type": "code",
      "execution_count": 100,
      "metadata": {
        "colab": {
          "base_uri": "https://localhost:8080/",
          "height": 560
        },
        "id": "wJwdSFEeHESq",
        "outputId": "066688ee-963d-4f23-9712-ed68cfb8a836"
      },
      "outputs": [
        {
          "data": {
            "text/html": [
              "<div>\n",
              "<style scoped>\n",
              "    .dataframe tbody tr th:only-of-type {\n",
              "        vertical-align: middle;\n",
              "    }\n",
              "\n",
              "    .dataframe tbody tr th {\n",
              "        vertical-align: top;\n",
              "    }\n",
              "\n",
              "    .dataframe thead th {\n",
              "        text-align: right;\n",
              "    }\n",
              "</style>\n",
              "<table border=\"1\" class=\"dataframe\">\n",
              "  <thead>\n",
              "    <tr style=\"text-align: right;\">\n",
              "      <th></th>\n",
              "      <th>Job Title</th>\n",
              "      <th>Salary Estimate</th>\n",
              "      <th>Job Description</th>\n",
              "      <th>Rating</th>\n",
              "      <th>Company Name</th>\n",
              "      <th>Location</th>\n",
              "      <th>Headquarters</th>\n",
              "      <th>Size</th>\n",
              "      <th>Founded</th>\n",
              "      <th>Type of ownership</th>\n",
              "      <th>...</th>\n",
              "      <th>tensor</th>\n",
              "      <th>hadoop</th>\n",
              "      <th>tableau</th>\n",
              "      <th>bi</th>\n",
              "      <th>flink</th>\n",
              "      <th>mongo</th>\n",
              "      <th>google_an</th>\n",
              "      <th>job_title_sim</th>\n",
              "      <th>seniority_by_title</th>\n",
              "      <th>Degree</th>\n",
              "    </tr>\n",
              "  </thead>\n",
              "  <tbody>\n",
              "    <tr>\n",
              "      <th>0</th>\n",
              "      <td>Data Scientist</td>\n",
              "      <td>$53K-$91K (Glassdoor est.)</td>\n",
              "      <td>Data ScientistLocation: Albuquerque, NMEducati...</td>\n",
              "      <td>3.8</td>\n",
              "      <td>Tecolote Research3.8</td>\n",
              "      <td>Albuquerque, NM</td>\n",
              "      <td>Goleta, CA</td>\n",
              "      <td>501 - 1000</td>\n",
              "      <td>1973</td>\n",
              "      <td>Company - Private</td>\n",
              "      <td>...</td>\n",
              "      <td>0</td>\n",
              "      <td>0</td>\n",
              "      <td>1</td>\n",
              "      <td>1</td>\n",
              "      <td>0</td>\n",
              "      <td>0</td>\n",
              "      <td>0</td>\n",
              "      <td>data scientist</td>\n",
              "      <td>na</td>\n",
              "      <td>M</td>\n",
              "    </tr>\n",
              "    <tr>\n",
              "      <th>1</th>\n",
              "      <td>Healthcare Data Scientist</td>\n",
              "      <td>$63K-$112K (Glassdoor est.)</td>\n",
              "      <td>What You Will Do:\\nI. General Summary\\nThe Hea...</td>\n",
              "      <td>3.4</td>\n",
              "      <td>University of Maryland Medical System3.4</td>\n",
              "      <td>Linthicum, MD</td>\n",
              "      <td>Baltimore, MD</td>\n",
              "      <td>10000+</td>\n",
              "      <td>1984</td>\n",
              "      <td>Other Organization</td>\n",
              "      <td>...</td>\n",
              "      <td>0</td>\n",
              "      <td>0</td>\n",
              "      <td>0</td>\n",
              "      <td>0</td>\n",
              "      <td>0</td>\n",
              "      <td>0</td>\n",
              "      <td>0</td>\n",
              "      <td>data scientist</td>\n",
              "      <td>na</td>\n",
              "      <td>M</td>\n",
              "    </tr>\n",
              "    <tr>\n",
              "      <th>2</th>\n",
              "      <td>Data Scientist</td>\n",
              "      <td>$80K-$90K (Glassdoor est.)</td>\n",
              "      <td>KnowBe4, Inc. is a high growth information sec...</td>\n",
              "      <td>4.8</td>\n",
              "      <td>KnowBe44.8</td>\n",
              "      <td>Clearwater, FL</td>\n",
              "      <td>Clearwater, FL</td>\n",
              "      <td>501 - 1000</td>\n",
              "      <td>2010</td>\n",
              "      <td>Company - Private</td>\n",
              "      <td>...</td>\n",
              "      <td>0</td>\n",
              "      <td>0</td>\n",
              "      <td>0</td>\n",
              "      <td>0</td>\n",
              "      <td>0</td>\n",
              "      <td>0</td>\n",
              "      <td>0</td>\n",
              "      <td>data scientist</td>\n",
              "      <td>na</td>\n",
              "      <td>M</td>\n",
              "    </tr>\n",
              "    <tr>\n",
              "      <th>3</th>\n",
              "      <td>Data Scientist</td>\n",
              "      <td>$56K-$97K (Glassdoor est.)</td>\n",
              "      <td>*Organization and Job ID**Job ID: 310709\\nDire...</td>\n",
              "      <td>3.8</td>\n",
              "      <td>PNNL3.8</td>\n",
              "      <td>Richland, WA</td>\n",
              "      <td>Richland, WA</td>\n",
              "      <td>1001 - 5000</td>\n",
              "      <td>1965</td>\n",
              "      <td>Government</td>\n",
              "      <td>...</td>\n",
              "      <td>0</td>\n",
              "      <td>0</td>\n",
              "      <td>0</td>\n",
              "      <td>0</td>\n",
              "      <td>0</td>\n",
              "      <td>0</td>\n",
              "      <td>0</td>\n",
              "      <td>data scientist</td>\n",
              "      <td>na</td>\n",
              "      <td>na</td>\n",
              "    </tr>\n",
              "    <tr>\n",
              "      <th>4</th>\n",
              "      <td>Data Scientist</td>\n",
              "      <td>$86K-$143K (Glassdoor est.)</td>\n",
              "      <td>Data ScientistAffinity Solutions / Marketing C...</td>\n",
              "      <td>2.9</td>\n",
              "      <td>Affinity Solutions2.9</td>\n",
              "      <td>New York, NY</td>\n",
              "      <td>New York, NY</td>\n",
              "      <td>51 - 200</td>\n",
              "      <td>1998</td>\n",
              "      <td>Company - Private</td>\n",
              "      <td>...</td>\n",
              "      <td>0</td>\n",
              "      <td>0</td>\n",
              "      <td>0</td>\n",
              "      <td>0</td>\n",
              "      <td>0</td>\n",
              "      <td>0</td>\n",
              "      <td>0</td>\n",
              "      <td>data scientist</td>\n",
              "      <td>na</td>\n",
              "      <td>na</td>\n",
              "    </tr>\n",
              "  </tbody>\n",
              "</table>\n",
              "<p>5 rows × 38 columns</p>\n",
              "</div>"
            ],
            "text/plain": [
              "                   Job Title              Salary Estimate  \\\n",
              "0             Data Scientist   $53K-$91K (Glassdoor est.)   \n",
              "1  Healthcare Data Scientist  $63K-$112K (Glassdoor est.)   \n",
              "2             Data Scientist   $80K-$90K (Glassdoor est.)   \n",
              "3             Data Scientist   $56K-$97K (Glassdoor est.)   \n",
              "4             Data Scientist  $86K-$143K (Glassdoor est.)   \n",
              "\n",
              "                                     Job Description  Rating  \\\n",
              "0  Data ScientistLocation: Albuquerque, NMEducati...     3.8   \n",
              "1  What You Will Do:\\nI. General Summary\\nThe Hea...     3.4   \n",
              "2  KnowBe4, Inc. is a high growth information sec...     4.8   \n",
              "3  *Organization and Job ID**Job ID: 310709\\nDire...     3.8   \n",
              "4  Data ScientistAffinity Solutions / Marketing C...     2.9   \n",
              "\n",
              "                               Company Name         Location    Headquarters  \\\n",
              "0                      Tecolote Research3.8  Albuquerque, NM      Goleta, CA   \n",
              "1  University of Maryland Medical System3.4    Linthicum, MD   Baltimore, MD   \n",
              "2                                KnowBe44.8   Clearwater, FL  Clearwater, FL   \n",
              "3                                   PNNL3.8     Richland, WA    Richland, WA   \n",
              "4                     Affinity Solutions2.9     New York, NY    New York, NY   \n",
              "\n",
              "           Size  Founded   Type of ownership  ... tensor hadoop tableau bi  \\\n",
              "0   501 - 1000      1973   Company - Private  ...      0      0       1  1   \n",
              "1       10000+      1984  Other Organization  ...      0      0       0  0   \n",
              "2   501 - 1000      2010   Company - Private  ...      0      0       0  0   \n",
              "3  1001 - 5000      1965          Government  ...      0      0       0  0   \n",
              "4     51 - 200      1998   Company - Private  ...      0      0       0  0   \n",
              "\n",
              "   flink  mongo google_an   job_title_sim  seniority_by_title  Degree  \n",
              "0      0      0         0  data scientist                  na       M  \n",
              "1      0      0         0  data scientist                  na       M  \n",
              "2      0      0         0  data scientist                  na       M  \n",
              "3      0      0         0  data scientist                  na      na  \n",
              "4      0      0         0  data scientist                  na      na  \n",
              "\n",
              "[5 rows x 38 columns]"
            ]
          },
          "execution_count": 100,
          "metadata": {},
          "output_type": "execute_result"
        }
      ],
      "source": [
        "data = pd.read_csv(\"data_cleaned_2021.csv\",  escapechar='\\n')\n",
        "data = data.drop(\"index\",axis=1)\n",
        "data = data.drop([\"Lower Salary\", \"Upper Salary\", \"Avg Salary(K)\"], axis=1)\n",
        "data.head()"
      ]
    },
    {
      "cell_type": "markdown",
      "metadata": {
        "id": "FKbclklZH4ZM"
      },
      "source": [
        "It looks like there are many complex string inputs. We really want to make some sense of all that information. But let's first take a step back and visualize some metrics of the numeric features. \n",
        "\n"
      ]
    },
    {
      "cell_type": "code",
      "execution_count": 101,
      "metadata": {
        "colab": {
          "base_uri": "https://localhost:8080/",
          "height": 411
        },
        "id": "_0WePyndH3rt",
        "outputId": "7336a2f3-dee1-4ff5-c6ca-68f6a35f35e9"
      },
      "outputs": [
        {
          "data": {
            "text/html": [
              "<div>\n",
              "<style scoped>\n",
              "    .dataframe tbody tr th:only-of-type {\n",
              "        vertical-align: middle;\n",
              "    }\n",
              "\n",
              "    .dataframe tbody tr th {\n",
              "        vertical-align: top;\n",
              "    }\n",
              "\n",
              "    .dataframe thead th {\n",
              "        text-align: right;\n",
              "    }\n",
              "</style>\n",
              "<table border=\"1\" class=\"dataframe\">\n",
              "  <thead>\n",
              "    <tr style=\"text-align: right;\">\n",
              "      <th></th>\n",
              "      <th>Rating</th>\n",
              "      <th>Founded</th>\n",
              "      <th>Hourly</th>\n",
              "      <th>Employer provided</th>\n",
              "      <th>Age</th>\n",
              "      <th>Python</th>\n",
              "      <th>spark</th>\n",
              "      <th>aws</th>\n",
              "      <th>excel</th>\n",
              "      <th>sql</th>\n",
              "      <th>...</th>\n",
              "      <th>keras</th>\n",
              "      <th>pytorch</th>\n",
              "      <th>scikit</th>\n",
              "      <th>tensor</th>\n",
              "      <th>hadoop</th>\n",
              "      <th>tableau</th>\n",
              "      <th>bi</th>\n",
              "      <th>flink</th>\n",
              "      <th>mongo</th>\n",
              "      <th>google_an</th>\n",
              "    </tr>\n",
              "  </thead>\n",
              "  <tbody>\n",
              "    <tr>\n",
              "      <th>count</th>\n",
              "      <td>742.000000</td>\n",
              "      <td>742.000000</td>\n",
              "      <td>742.000000</td>\n",
              "      <td>742.000000</td>\n",
              "      <td>742.000000</td>\n",
              "      <td>742.000000</td>\n",
              "      <td>742.000000</td>\n",
              "      <td>742.000000</td>\n",
              "      <td>742.000000</td>\n",
              "      <td>742.000000</td>\n",
              "      <td>...</td>\n",
              "      <td>742.000000</td>\n",
              "      <td>742.000000</td>\n",
              "      <td>742.000000</td>\n",
              "      <td>742.000000</td>\n",
              "      <td>742.000000</td>\n",
              "      <td>742.000000</td>\n",
              "      <td>742.000000</td>\n",
              "      <td>742.000000</td>\n",
              "      <td>742.000000</td>\n",
              "      <td>742.000000</td>\n",
              "    </tr>\n",
              "    <tr>\n",
              "      <th>mean</th>\n",
              "      <td>3.618868</td>\n",
              "      <td>1837.154987</td>\n",
              "      <td>0.032345</td>\n",
              "      <td>0.022911</td>\n",
              "      <td>47.524259</td>\n",
              "      <td>0.528302</td>\n",
              "      <td>0.225067</td>\n",
              "      <td>0.237197</td>\n",
              "      <td>0.522911</td>\n",
              "      <td>0.512129</td>\n",
              "      <td>...</td>\n",
              "      <td>0.039084</td>\n",
              "      <td>0.052561</td>\n",
              "      <td>0.072776</td>\n",
              "      <td>0.097035</td>\n",
              "      <td>0.167116</td>\n",
              "      <td>0.199461</td>\n",
              "      <td>0.075472</td>\n",
              "      <td>0.013477</td>\n",
              "      <td>0.049865</td>\n",
              "      <td>0.018868</td>\n",
              "    </tr>\n",
              "    <tr>\n",
              "      <th>std</th>\n",
              "      <td>0.801210</td>\n",
              "      <td>497.183763</td>\n",
              "      <td>0.177034</td>\n",
              "      <td>0.149721</td>\n",
              "      <td>53.839080</td>\n",
              "      <td>0.499535</td>\n",
              "      <td>0.417908</td>\n",
              "      <td>0.425651</td>\n",
              "      <td>0.499812</td>\n",
              "      <td>0.500190</td>\n",
              "      <td>...</td>\n",
              "      <td>0.193925</td>\n",
              "      <td>0.223305</td>\n",
              "      <td>0.259944</td>\n",
              "      <td>0.296205</td>\n",
              "      <td>0.373331</td>\n",
              "      <td>0.399865</td>\n",
              "      <td>0.264329</td>\n",
              "      <td>0.115384</td>\n",
              "      <td>0.217813</td>\n",
              "      <td>0.136150</td>\n",
              "    </tr>\n",
              "    <tr>\n",
              "      <th>min</th>\n",
              "      <td>-1.000000</td>\n",
              "      <td>-1.000000</td>\n",
              "      <td>0.000000</td>\n",
              "      <td>0.000000</td>\n",
              "      <td>-1.000000</td>\n",
              "      <td>0.000000</td>\n",
              "      <td>0.000000</td>\n",
              "      <td>0.000000</td>\n",
              "      <td>0.000000</td>\n",
              "      <td>0.000000</td>\n",
              "      <td>...</td>\n",
              "      <td>0.000000</td>\n",
              "      <td>0.000000</td>\n",
              "      <td>0.000000</td>\n",
              "      <td>0.000000</td>\n",
              "      <td>0.000000</td>\n",
              "      <td>0.000000</td>\n",
              "      <td>0.000000</td>\n",
              "      <td>0.000000</td>\n",
              "      <td>0.000000</td>\n",
              "      <td>0.000000</td>\n",
              "    </tr>\n",
              "    <tr>\n",
              "      <th>25%</th>\n",
              "      <td>3.300000</td>\n",
              "      <td>1939.000000</td>\n",
              "      <td>0.000000</td>\n",
              "      <td>0.000000</td>\n",
              "      <td>12.000000</td>\n",
              "      <td>0.000000</td>\n",
              "      <td>0.000000</td>\n",
              "      <td>0.000000</td>\n",
              "      <td>0.000000</td>\n",
              "      <td>0.000000</td>\n",
              "      <td>...</td>\n",
              "      <td>0.000000</td>\n",
              "      <td>0.000000</td>\n",
              "      <td>0.000000</td>\n",
              "      <td>0.000000</td>\n",
              "      <td>0.000000</td>\n",
              "      <td>0.000000</td>\n",
              "      <td>0.000000</td>\n",
              "      <td>0.000000</td>\n",
              "      <td>0.000000</td>\n",
              "      <td>0.000000</td>\n",
              "    </tr>\n",
              "    <tr>\n",
              "      <th>50%</th>\n",
              "      <td>3.700000</td>\n",
              "      <td>1988.000000</td>\n",
              "      <td>0.000000</td>\n",
              "      <td>0.000000</td>\n",
              "      <td>25.000000</td>\n",
              "      <td>1.000000</td>\n",
              "      <td>0.000000</td>\n",
              "      <td>0.000000</td>\n",
              "      <td>1.000000</td>\n",
              "      <td>1.000000</td>\n",
              "      <td>...</td>\n",
              "      <td>0.000000</td>\n",
              "      <td>0.000000</td>\n",
              "      <td>0.000000</td>\n",
              "      <td>0.000000</td>\n",
              "      <td>0.000000</td>\n",
              "      <td>0.000000</td>\n",
              "      <td>0.000000</td>\n",
              "      <td>0.000000</td>\n",
              "      <td>0.000000</td>\n",
              "      <td>0.000000</td>\n",
              "    </tr>\n",
              "    <tr>\n",
              "      <th>75%</th>\n",
              "      <td>4.000000</td>\n",
              "      <td>2007.000000</td>\n",
              "      <td>0.000000</td>\n",
              "      <td>0.000000</td>\n",
              "      <td>60.000000</td>\n",
              "      <td>1.000000</td>\n",
              "      <td>0.000000</td>\n",
              "      <td>0.000000</td>\n",
              "      <td>1.000000</td>\n",
              "      <td>1.000000</td>\n",
              "      <td>...</td>\n",
              "      <td>0.000000</td>\n",
              "      <td>0.000000</td>\n",
              "      <td>0.000000</td>\n",
              "      <td>0.000000</td>\n",
              "      <td>0.000000</td>\n",
              "      <td>0.000000</td>\n",
              "      <td>0.000000</td>\n",
              "      <td>0.000000</td>\n",
              "      <td>0.000000</td>\n",
              "      <td>0.000000</td>\n",
              "    </tr>\n",
              "    <tr>\n",
              "      <th>max</th>\n",
              "      <td>5.000000</td>\n",
              "      <td>2019.000000</td>\n",
              "      <td>1.000000</td>\n",
              "      <td>1.000000</td>\n",
              "      <td>277.000000</td>\n",
              "      <td>1.000000</td>\n",
              "      <td>1.000000</td>\n",
              "      <td>1.000000</td>\n",
              "      <td>1.000000</td>\n",
              "      <td>1.000000</td>\n",
              "      <td>...</td>\n",
              "      <td>1.000000</td>\n",
              "      <td>1.000000</td>\n",
              "      <td>1.000000</td>\n",
              "      <td>1.000000</td>\n",
              "      <td>1.000000</td>\n",
              "      <td>1.000000</td>\n",
              "      <td>1.000000</td>\n",
              "      <td>1.000000</td>\n",
              "      <td>1.000000</td>\n",
              "      <td>1.000000</td>\n",
              "    </tr>\n",
              "  </tbody>\n",
              "</table>\n",
              "<p>8 rows × 21 columns</p>\n",
              "</div>"
            ],
            "text/plain": [
              "           Rating      Founded      Hourly  Employer provided         Age  \\\n",
              "count  742.000000   742.000000  742.000000         742.000000  742.000000   \n",
              "mean     3.618868  1837.154987    0.032345           0.022911   47.524259   \n",
              "std      0.801210   497.183763    0.177034           0.149721   53.839080   \n",
              "min     -1.000000    -1.000000    0.000000           0.000000   -1.000000   \n",
              "25%      3.300000  1939.000000    0.000000           0.000000   12.000000   \n",
              "50%      3.700000  1988.000000    0.000000           0.000000   25.000000   \n",
              "75%      4.000000  2007.000000    0.000000           0.000000   60.000000   \n",
              "max      5.000000  2019.000000    1.000000           1.000000  277.000000   \n",
              "\n",
              "           Python       spark         aws       excel         sql  ...  \\\n",
              "count  742.000000  742.000000  742.000000  742.000000  742.000000  ...   \n",
              "mean     0.528302    0.225067    0.237197    0.522911    0.512129  ...   \n",
              "std      0.499535    0.417908    0.425651    0.499812    0.500190  ...   \n",
              "min      0.000000    0.000000    0.000000    0.000000    0.000000  ...   \n",
              "25%      0.000000    0.000000    0.000000    0.000000    0.000000  ...   \n",
              "50%      1.000000    0.000000    0.000000    1.000000    1.000000  ...   \n",
              "75%      1.000000    0.000000    0.000000    1.000000    1.000000  ...   \n",
              "max      1.000000    1.000000    1.000000    1.000000    1.000000  ...   \n",
              "\n",
              "            keras     pytorch      scikit      tensor      hadoop     tableau  \\\n",
              "count  742.000000  742.000000  742.000000  742.000000  742.000000  742.000000   \n",
              "mean     0.039084    0.052561    0.072776    0.097035    0.167116    0.199461   \n",
              "std      0.193925    0.223305    0.259944    0.296205    0.373331    0.399865   \n",
              "min      0.000000    0.000000    0.000000    0.000000    0.000000    0.000000   \n",
              "25%      0.000000    0.000000    0.000000    0.000000    0.000000    0.000000   \n",
              "50%      0.000000    0.000000    0.000000    0.000000    0.000000    0.000000   \n",
              "75%      0.000000    0.000000    0.000000    0.000000    0.000000    0.000000   \n",
              "max      1.000000    1.000000    1.000000    1.000000    1.000000    1.000000   \n",
              "\n",
              "               bi       flink       mongo   google_an  \n",
              "count  742.000000  742.000000  742.000000  742.000000  \n",
              "mean     0.075472    0.013477    0.049865    0.018868  \n",
              "std      0.264329    0.115384    0.217813    0.136150  \n",
              "min      0.000000    0.000000    0.000000    0.000000  \n",
              "25%      0.000000    0.000000    0.000000    0.000000  \n",
              "50%      0.000000    0.000000    0.000000    0.000000  \n",
              "75%      0.000000    0.000000    0.000000    0.000000  \n",
              "max      1.000000    1.000000    1.000000    1.000000  \n",
              "\n",
              "[8 rows x 21 columns]"
            ]
          },
          "execution_count": 101,
          "metadata": {},
          "output_type": "execute_result"
        }
      ],
      "source": [
        "data.describe()"
      ]
    },
    {
      "cell_type": "code",
      "execution_count": 102,
      "metadata": {
        "colab": {
          "base_uri": "https://localhost:8080/"
        },
        "id": "uSQiHp73JE-J",
        "outputId": "a364e67d-cb35-4c83-d4cc-746954436a04"
      },
      "outputs": [
        {
          "name": "stdout",
          "output_type": "stream",
          "text": [
            "<class 'pandas.core.frame.DataFrame'>\n",
            "RangeIndex: 742 entries, 0 to 741\n",
            "Data columns (total 38 columns):\n",
            " #   Column              Non-Null Count  Dtype  \n",
            "---  ------              --------------  -----  \n",
            " 0   Job Title           742 non-null    object \n",
            " 1   Salary Estimate     742 non-null    object \n",
            " 2   Job Description     742 non-null    object \n",
            " 3   Rating              742 non-null    float64\n",
            " 4   Company Name        742 non-null    object \n",
            " 5   Location            742 non-null    object \n",
            " 6   Headquarters        742 non-null    object \n",
            " 7   Size                742 non-null    object \n",
            " 8   Founded             742 non-null    int64  \n",
            " 9   Type of ownership   742 non-null    object \n",
            " 10  Industry            742 non-null    object \n",
            " 11  Sector              742 non-null    object \n",
            " 12  Revenue             742 non-null    object \n",
            " 13  Competitors         742 non-null    object \n",
            " 14  Hourly              742 non-null    int64  \n",
            " 15  Employer provided   742 non-null    int64  \n",
            " 16  company_txt         742 non-null    object \n",
            " 17  Job Location        742 non-null    object \n",
            " 18  Age                 742 non-null    int64  \n",
            " 19  Python              742 non-null    int64  \n",
            " 20  spark               742 non-null    int64  \n",
            " 21  aws                 742 non-null    int64  \n",
            " 22  excel               742 non-null    int64  \n",
            " 23  sql                 742 non-null    int64  \n",
            " 24  sas                 742 non-null    int64  \n",
            " 25  keras               742 non-null    int64  \n",
            " 26  pytorch             742 non-null    int64  \n",
            " 27  scikit              742 non-null    int64  \n",
            " 28  tensor              742 non-null    int64  \n",
            " 29  hadoop              742 non-null    int64  \n",
            " 30  tableau             742 non-null    int64  \n",
            " 31  bi                  742 non-null    int64  \n",
            " 32  flink               742 non-null    int64  \n",
            " 33  mongo               742 non-null    int64  \n",
            " 34  google_an           742 non-null    int64  \n",
            " 35  job_title_sim       742 non-null    object \n",
            " 36  seniority_by_title  742 non-null    object \n",
            " 37  Degree              742 non-null    object \n",
            "dtypes: float64(1), int64(20), object(17)\n",
            "memory usage: 220.4+ KB\n"
          ]
        }
      ],
      "source": [
        "#Getting some insight of the how many misisng values in the dataset and the types of the features\n",
        "data.info()"
      ]
    },
    {
      "cell_type": "markdown",
      "metadata": {
        "id": "ap1690z7hnnz"
      },
      "source": [
        "# Data Cleaning"
      ]
    },
    {
      "cell_type": "markdown",
      "metadata": {
        "id": "jg0u1wGBKKt0"
      },
      "source": [
        "Let's now take a look at the target variable aka \"Salary_estimate\" and how it's distributed. In order to do so we need an efficient way to map the salary range provided in the column to a numeric value "
      ]
    },
    {
      "cell_type": "code",
      "execution_count": 103,
      "metadata": {
        "colab": {
          "base_uri": "https://localhost:8080/",
          "height": 646
        },
        "id": "U-LVJhuFJsOG",
        "outputId": "0795e402-9288-4a1a-81b0-ff41a3f9037f"
      },
      "outputs": [
        {
          "data": {
            "text/html": [
              "<div>\n",
              "<style scoped>\n",
              "    .dataframe tbody tr th:only-of-type {\n",
              "        vertical-align: middle;\n",
              "    }\n",
              "\n",
              "    .dataframe tbody tr th {\n",
              "        vertical-align: top;\n",
              "    }\n",
              "\n",
              "    .dataframe thead th {\n",
              "        text-align: right;\n",
              "    }\n",
              "</style>\n",
              "<table border=\"1\" class=\"dataframe\">\n",
              "  <thead>\n",
              "    <tr style=\"text-align: right;\">\n",
              "      <th></th>\n",
              "      <th>Job Title</th>\n",
              "      <th>Salary Estimate</th>\n",
              "      <th>Job Description</th>\n",
              "      <th>Rating</th>\n",
              "      <th>Company Name</th>\n",
              "      <th>Location</th>\n",
              "      <th>Headquarters</th>\n",
              "      <th>Size</th>\n",
              "      <th>Founded</th>\n",
              "      <th>Type of ownership</th>\n",
              "      <th>...</th>\n",
              "      <th>flink</th>\n",
              "      <th>mongo</th>\n",
              "      <th>google_an</th>\n",
              "      <th>job_title_sim</th>\n",
              "      <th>seniority_by_title</th>\n",
              "      <th>Degree</th>\n",
              "      <th>range</th>\n",
              "      <th>min salary</th>\n",
              "      <th>median salary</th>\n",
              "      <th>max salary</th>\n",
              "    </tr>\n",
              "  </thead>\n",
              "  <tbody>\n",
              "    <tr>\n",
              "      <th>737</th>\n",
              "      <td>Sr Scientist, Immuno-Oncology - Oncology</td>\n",
              "      <td>$58K-$111K (Glassdoor est.)</td>\n",
              "      <td>Site Name: USA - Massachusetts - CambridgePost...</td>\n",
              "      <td>3.9</td>\n",
              "      <td>GSK3.9</td>\n",
              "      <td>Cambridge, MA</td>\n",
              "      <td>Brentford, United Kingdom</td>\n",
              "      <td>10000+</td>\n",
              "      <td>1830</td>\n",
              "      <td>Company - Public</td>\n",
              "      <td>...</td>\n",
              "      <td>0</td>\n",
              "      <td>0</td>\n",
              "      <td>0</td>\n",
              "      <td>other scientist</td>\n",
              "      <td>sr</td>\n",
              "      <td>M</td>\n",
              "      <td>58-111</td>\n",
              "      <td>58</td>\n",
              "      <td>84.5</td>\n",
              "      <td>111</td>\n",
              "    </tr>\n",
              "    <tr>\n",
              "      <th>738</th>\n",
              "      <td>Senior Data Engineer</td>\n",
              "      <td>$72K-$133K (Glassdoor est.)</td>\n",
              "      <td>THE CHALLENGEEventbrite has a world-class data...</td>\n",
              "      <td>4.4</td>\n",
              "      <td>Eventbrite4.4</td>\n",
              "      <td>Nashville, TN</td>\n",
              "      <td>San Francisco, CA</td>\n",
              "      <td>1001 - 5000</td>\n",
              "      <td>2006</td>\n",
              "      <td>Company - Public</td>\n",
              "      <td>...</td>\n",
              "      <td>0</td>\n",
              "      <td>0</td>\n",
              "      <td>0</td>\n",
              "      <td>data engineer</td>\n",
              "      <td>sr</td>\n",
              "      <td>na</td>\n",
              "      <td>72-133</td>\n",
              "      <td>72</td>\n",
              "      <td>102.5</td>\n",
              "      <td>133</td>\n",
              "    </tr>\n",
              "    <tr>\n",
              "      <th>739</th>\n",
              "      <td>Project Scientist - Auton Lab, Robotics Institute</td>\n",
              "      <td>$56K-$91K (Glassdoor est.)</td>\n",
              "      <td>The Auton Lab at Carnegie Mellon University is...</td>\n",
              "      <td>2.6</td>\n",
              "      <td>Software Engineering Institute2.6</td>\n",
              "      <td>Pittsburgh, PA</td>\n",
              "      <td>Pittsburgh, PA</td>\n",
              "      <td>501 - 1000</td>\n",
              "      <td>1984</td>\n",
              "      <td>College / University</td>\n",
              "      <td>...</td>\n",
              "      <td>0</td>\n",
              "      <td>0</td>\n",
              "      <td>0</td>\n",
              "      <td>other scientist</td>\n",
              "      <td>na</td>\n",
              "      <td>P</td>\n",
              "      <td>56-91</td>\n",
              "      <td>56</td>\n",
              "      <td>73.5</td>\n",
              "      <td>91</td>\n",
              "    </tr>\n",
              "    <tr>\n",
              "      <th>740</th>\n",
              "      <td>Data Science Manager</td>\n",
              "      <td>$95K-$160K (Glassdoor est.)</td>\n",
              "      <td>Data Science ManagerResponsibilities:\\nOversee...</td>\n",
              "      <td>3.2</td>\n",
              "      <td>Numeric, LLC3.2</td>\n",
              "      <td>Allentown, PA</td>\n",
              "      <td>Chadds Ford, PA</td>\n",
              "      <td>1 - 50</td>\n",
              "      <td>-1</td>\n",
              "      <td>Company - Private</td>\n",
              "      <td>...</td>\n",
              "      <td>0</td>\n",
              "      <td>0</td>\n",
              "      <td>0</td>\n",
              "      <td>data scientist</td>\n",
              "      <td>na</td>\n",
              "      <td>na</td>\n",
              "      <td>95-160</td>\n",
              "      <td>95</td>\n",
              "      <td>127.5</td>\n",
              "      <td>160</td>\n",
              "    </tr>\n",
              "    <tr>\n",
              "      <th>741</th>\n",
              "      <td>Research Scientist – Security and Privacy</td>\n",
              "      <td>$61K-$126K (Glassdoor est.)</td>\n",
              "      <td>Returning Candidate? Log back in to the Career...</td>\n",
              "      <td>3.6</td>\n",
              "      <td>Riverside Research Institute3.6</td>\n",
              "      <td>Beavercreek, OH</td>\n",
              "      <td>Arlington, VA</td>\n",
              "      <td>501 - 1000</td>\n",
              "      <td>1967</td>\n",
              "      <td>Nonprofit Organization</td>\n",
              "      <td>...</td>\n",
              "      <td>0</td>\n",
              "      <td>0</td>\n",
              "      <td>0</td>\n",
              "      <td>other scientist</td>\n",
              "      <td>na</td>\n",
              "      <td>M</td>\n",
              "      <td>61-126</td>\n",
              "      <td>61</td>\n",
              "      <td>93.5</td>\n",
              "      <td>126</td>\n",
              "    </tr>\n",
              "  </tbody>\n",
              "</table>\n",
              "<p>5 rows × 42 columns</p>\n",
              "</div>"
            ],
            "text/plain": [
              "                                             Job Title  \\\n",
              "737           Sr Scientist, Immuno-Oncology - Oncology   \n",
              "738                               Senior Data Engineer   \n",
              "739  Project Scientist - Auton Lab, Robotics Institute   \n",
              "740                               Data Science Manager   \n",
              "741          Research Scientist – Security and Privacy   \n",
              "\n",
              "                 Salary Estimate  \\\n",
              "737  $58K-$111K (Glassdoor est.)   \n",
              "738  $72K-$133K (Glassdoor est.)   \n",
              "739   $56K-$91K (Glassdoor est.)   \n",
              "740  $95K-$160K (Glassdoor est.)   \n",
              "741  $61K-$126K (Glassdoor est.)   \n",
              "\n",
              "                                       Job Description  Rating  \\\n",
              "737  Site Name: USA - Massachusetts - CambridgePost...     3.9   \n",
              "738  THE CHALLENGEEventbrite has a world-class data...     4.4   \n",
              "739  The Auton Lab at Carnegie Mellon University is...     2.6   \n",
              "740  Data Science ManagerResponsibilities:\\nOversee...     3.2   \n",
              "741  Returning Candidate? Log back in to the Career...     3.6   \n",
              "\n",
              "                          Company Name         Location  \\\n",
              "737                             GSK3.9    Cambridge, MA   \n",
              "738                      Eventbrite4.4    Nashville, TN   \n",
              "739  Software Engineering Institute2.6   Pittsburgh, PA   \n",
              "740                    Numeric, LLC3.2    Allentown, PA   \n",
              "741    Riverside Research Institute3.6  Beavercreek, OH   \n",
              "\n",
              "                  Headquarters          Size  Founded       Type of ownership  \\\n",
              "737  Brentford, United Kingdom       10000+      1830        Company - Public   \n",
              "738          San Francisco, CA  1001 - 5000      2006        Company - Public   \n",
              "739             Pittsburgh, PA   501 - 1000      1984    College / University   \n",
              "740            Chadds Ford, PA       1 - 50        -1       Company - Private   \n",
              "741              Arlington, VA   501 - 1000      1967  Nonprofit Organization   \n",
              "\n",
              "     ... flink mongo google_an    job_title_sim  seniority_by_title  Degree  \\\n",
              "737  ...     0     0         0  other scientist                  sr       M   \n",
              "738  ...     0     0         0    data engineer                  sr      na   \n",
              "739  ...     0     0         0  other scientist                  na       P   \n",
              "740  ...     0     0         0   data scientist                  na      na   \n",
              "741  ...     0     0         0  other scientist                  na       M   \n",
              "\n",
              "      range min salary  median salary  max salary  \n",
              "737  58-111         58           84.5         111  \n",
              "738  72-133         72          102.5         133  \n",
              "739   56-91         56           73.5          91  \n",
              "740  95-160         95          127.5         160  \n",
              "741  61-126         61           93.5         126  \n",
              "\n",
              "[5 rows x 42 columns]"
            ]
          },
          "execution_count": 103,
          "metadata": {},
          "output_type": "execute_result"
        }
      ],
      "source": [
        "def clean_salaries(data):\n",
        "  \n",
        "  #here I'm taking the two numbers from the salry column and combining them in a easier format\n",
        "  data['num1'] = data['Salary Estimate'].str.extract('(\\d+)').astype(int)\n",
        "  data['num2'] = data['Salary Estimate'].str.extract('\\d+\\D+(\\d+)').astype(int)\n",
        "  data['range'] = data.apply(lambda x: f\"{x['num1']}-{x['num2']}\", axis=1)\n",
        "\n",
        "  #dropping the newly created features\n",
        "  data = data.drop([\"num1\", \"num2\"], axis=1)\n",
        "\n",
        "  return data\n",
        "\n",
        "def min_salaries(row):\n",
        "    range = [int(num) for num in row[\"range\"].split(\"-\")]\n",
        "    return min(range)\n",
        "\n",
        "def median_salaries(row):\n",
        "    range = [int(num) for num in row[\"range\"].split(\"-\")]\n",
        "    return pd.Series(range).median()\n",
        "\n",
        "def max_salary(row):\n",
        "    range = [int(num) for num in row[\"range\"].split(\"-\")]\n",
        "    return max(range)\n",
        "\n",
        "data = clean_salaries(data)\n",
        "data[\"min salary\"] = data.apply(lambda row: min_salaries(row), axis=1)\n",
        "data[\"median salary\"] = data.apply(lambda row: median_salaries(row), axis=1)\n",
        "data[\"max salary\"] = data.apply(lambda row: max_salary(row), axis=1)\n",
        "\n",
        "data.tail()"
      ]
    },
    {
      "cell_type": "markdown",
      "metadata": {
        "id": "9dVfBcEvLnEG"
      },
      "source": [
        "Given the salary range we can either take the median point, the mean or the maximum. In the next plots we're gonna visualize the distribution of each and pick the most convient one. The most convinient one is gonna be the closest one to a normal distribution that still retains infomation about the salary range (doesn't lose too much information)."
      ]
    },
    {
      "cell_type": "code",
      "execution_count": 104,
      "metadata": {
        "colab": {
          "base_uri": "https://localhost:8080/",
          "height": 296
        },
        "id": "JUtLaXzlQrnI",
        "outputId": "ba5b5f9b-b3c7-4dd7-faff-e701b371ac41"
      },
      "outputs": [
        {
          "data": {
            "text/plain": [
              "<AxesSubplot:xlabel='min salary', ylabel='Count'>"
            ]
          },
          "execution_count": 104,
          "metadata": {},
          "output_type": "execute_result"
        },
        {
          "data": {
            "image/png": "[encoded data removed]",
            "text/plain": [
              "<Figure size 640x480 with 1 Axes>"
            ]
          },
          "metadata": {},
          "output_type": "display_data"
        }
      ],
      "source": [
        "#let's plot the mean salaries distribution first \n",
        "sns.histplot(data[\"min salary\"], bins=50, kde=True)"
      ]
    },
    {
      "cell_type": "code",
      "execution_count": 105,
      "metadata": {
        "colab": {
          "base_uri": "https://localhost:8080/",
          "height": 296
        },
        "id": "5lkdL_zzSDA3",
        "outputId": "bc44fc7a-6245-46dc-e7ee-f3add8961256"
      },
      "outputs": [
        {
          "data": {
            "text/plain": [
              "<AxesSubplot:xlabel='median salary', ylabel='Count'>"
            ]
          },
          "execution_count": 105,
          "metadata": {},
          "output_type": "execute_result"
        },
        {
          "data": {
            "image/png": "[encoded data removed]",
            "text/plain": [
              "<Figure size 640x480 with 1 Axes>"
            ]
          },
          "metadata": {},
          "output_type": "display_data"
        }
      ],
      "source": [
        "#this is instead the median salary\n",
        "sns.histplot(data[\"median salary\"], bins=50, kde=True)"
      ]
    },
    {
      "cell_type": "code",
      "execution_count": 106,
      "metadata": {
        "colab": {
          "base_uri": "https://localhost:8080/",
          "height": 296
        },
        "id": "vW9MZVgNSH_h",
        "outputId": "bc8d3a63-87ae-49e1-cdb3-a90020c0db6c"
      },
      "outputs": [
        {
          "data": {
            "text/plain": [
              "<AxesSubplot:xlabel='max salary', ylabel='Count'>"
            ]
          },
          "execution_count": 106,
          "metadata": {},
          "output_type": "execute_result"
        },
        {
          "data": {
            "image/png": "[encoded data removed]",
            "text/plain": [
              "<Figure size 640x480 with 1 Axes>"
            ]
          },
          "metadata": {},
          "output_type": "display_data"
        }
      ],
      "source": [
        "#max salary\n",
        "sns.histplot(data[\"max salary\"], bins=50, kde=True)"
      ]
    },
    {
      "cell_type": "markdown",
      "metadata": {
        "id": "xvHpuwktSehG"
      },
      "source": [
        "Here I'm gonna test which one of the three distribution is closer to the normal distribution using the Kolmogororv-Smirnov test. To do this I need to standardize the features first to take them to the same range as the normal distribution."
      ]
    },
    {
      "cell_type": "code",
      "execution_count": 107,
      "metadata": {
        "id": "RUh47vK0WYSE"
      },
      "outputs": [],
      "source": [
        "#takes a column from a dataframe and \n",
        "#returns it standardized\n",
        "\n",
        "def standardize_col(column):\n",
        "  \n",
        "  return (data[column] - data[column].mean()) / data[column].std()\n",
        "\n"
      ]
    },
    {
      "cell_type": "code",
      "execution_count": 108,
      "metadata": {
        "colab": {
          "base_uri": "https://localhost:8080/"
        },
        "id": "fUsVMYERSdgS",
        "outputId": "e105b34e-5ccc-4822-fff8-27ead1d29104"
      },
      "outputs": [
        {
          "name": "stdout",
          "output_type": "stream",
          "text": [
            "KS statistic and p-value for the median salary: 0.052482742828886764 0.032363119235189086\n",
            "KS statistic and p-value for the min salary: 0.0729259351812791 0.0007068270170100536\n",
            "KS statistic and p-value for the max salary: 0.05405599853419818 0.025203763648939947\n"
          ]
        }
      ],
      "source": [
        "ks1, p1 = kstest(standardize_col(\"median salary\"), norm.cdf)\n",
        "ks2, p2 = kstest(standardize_col(\"min salary\"), norm.cdf)\n",
        "ks3, p3 = kstest(standardize_col(\"max salary\"), norm.cdf)\n",
        "\n",
        "\n",
        "print(\"KS statistic and p-value for the median salary:\", ks1, p1)\n",
        "print(\"KS statistic and p-value for the min salary:\", ks2, p2)\n",
        "print(\"KS statistic and p-value for the max salary:\", ks3, p3)"
      ]
    },
    {
      "cell_type": "markdown",
      "metadata": {
        "id": "DUmCs6WgUpty"
      },
      "source": [
        "1. The results for the KS-statistic vary between 0 and 1, where 0 it's a perfect match with the normal distribution while 1 it's the most distant value from it. The best bets seem to be the median and the max salary for now.\n",
        "\n",
        "2. The p-value is instead telling us what is the probability to see values as extreme as the one observed. When the p-value is lower than 0.05 we can reject the hypothesis that our empirical distribution is actually drawn from the reference one (normal), in contrary if the p-value is bigger than 0.05 we cannot say with certainty of the distribution comes from the reference one. This said, all the three features have a p-value lower than 0.05 tehrefore it seems none of them could be drawn from a normal distribution. \n",
        "\n",
        " "
      ]
    },
    {
      "cell_type": "code",
      "execution_count": 109,
      "metadata": {
        "colab": {
          "base_uri": "https://localhost:8080/"
        },
        "id": "nuQhUdwof3F9",
        "outputId": "c2b9aee3-eb7d-4435-f65b-e024fe329b01"
      },
      "outputs": [
        {
          "name": "stdout",
          "output_type": "stream",
          "text": [
            "0.5403164031175348\n"
          ]
        }
      ],
      "source": [
        "def relative_diff(a, b):\n",
        "    return abs(a - b) / ((a + b) / 2)\n",
        "\n",
        "# apply the function to each pair of values in the two columns\n",
        "diff = data.apply(lambda x: relative_diff(x['max salary'], x['min salary']), axis=1)\n",
        "\n",
        "# calculate the mean of the relative differences\n",
        "print(diff.mean())"
      ]
    },
    {
      "cell_type": "markdown",
      "metadata": {
        "id": "yP4SOXVhf3cd"
      },
      "source": [
        "Let's now consider the relative difefrence between the max and the min. This will tell us if it makes sense to use the median instead of any of teh otehr two values. If the average \"relative difference\" between min and max values in each row it's big enough then we should use the median salary as a target variable. With a relative difference of 54% it makes just more sense to use the \"median salary\" instead of the other two varibles."
      ]
    },
    {
      "cell_type": "code",
      "execution_count": 110,
      "metadata": {
        "colab": {
          "base_uri": "https://localhost:8080/",
          "height": 560
        },
        "id": "YziwcRljhWDA",
        "outputId": "41e311b4-5573-4742-f23f-d057c2beae09"
      },
      "outputs": [
        {
          "data": {
            "text/html": [
              "<div>\n",
              "<style scoped>\n",
              "    .dataframe tbody tr th:only-of-type {\n",
              "        vertical-align: middle;\n",
              "    }\n",
              "\n",
              "    .dataframe tbody tr th {\n",
              "        vertical-align: top;\n",
              "    }\n",
              "\n",
              "    .dataframe thead th {\n",
              "        text-align: right;\n",
              "    }\n",
              "</style>\n",
              "<table border=\"1\" class=\"dataframe\">\n",
              "  <thead>\n",
              "    <tr style=\"text-align: right;\">\n",
              "      <th></th>\n",
              "      <th>Job Title</th>\n",
              "      <th>Job Description</th>\n",
              "      <th>Rating</th>\n",
              "      <th>Company Name</th>\n",
              "      <th>Location</th>\n",
              "      <th>Headquarters</th>\n",
              "      <th>Size</th>\n",
              "      <th>Founded</th>\n",
              "      <th>Type of ownership</th>\n",
              "      <th>Industry</th>\n",
              "      <th>...</th>\n",
              "      <th>hadoop</th>\n",
              "      <th>tableau</th>\n",
              "      <th>bi</th>\n",
              "      <th>flink</th>\n",
              "      <th>mongo</th>\n",
              "      <th>google_an</th>\n",
              "      <th>job_title_sim</th>\n",
              "      <th>seniority_by_title</th>\n",
              "      <th>Degree</th>\n",
              "      <th>median salary</th>\n",
              "    </tr>\n",
              "  </thead>\n",
              "  <tbody>\n",
              "    <tr>\n",
              "      <th>0</th>\n",
              "      <td>Data Scientist</td>\n",
              "      <td>Data ScientistLocation: Albuquerque, NMEducati...</td>\n",
              "      <td>3.8</td>\n",
              "      <td>Tecolote Research3.8</td>\n",
              "      <td>Albuquerque, NM</td>\n",
              "      <td>Goleta, CA</td>\n",
              "      <td>501 - 1000</td>\n",
              "      <td>1973</td>\n",
              "      <td>Company - Private</td>\n",
              "      <td>Aerospace &amp; Defense</td>\n",
              "      <td>...</td>\n",
              "      <td>0</td>\n",
              "      <td>1</td>\n",
              "      <td>1</td>\n",
              "      <td>0</td>\n",
              "      <td>0</td>\n",
              "      <td>0</td>\n",
              "      <td>data scientist</td>\n",
              "      <td>na</td>\n",
              "      <td>M</td>\n",
              "      <td>72.0</td>\n",
              "    </tr>\n",
              "    <tr>\n",
              "      <th>1</th>\n",
              "      <td>Healthcare Data Scientist</td>\n",
              "      <td>What You Will Do:\\nI. General Summary\\nThe Hea...</td>\n",
              "      <td>3.4</td>\n",
              "      <td>University of Maryland Medical System3.4</td>\n",
              "      <td>Linthicum, MD</td>\n",
              "      <td>Baltimore, MD</td>\n",
              "      <td>10000+</td>\n",
              "      <td>1984</td>\n",
              "      <td>Other Organization</td>\n",
              "      <td>Health Care Services &amp; Hospitals</td>\n",
              "      <td>...</td>\n",
              "      <td>0</td>\n",
              "      <td>0</td>\n",
              "      <td>0</td>\n",
              "      <td>0</td>\n",
              "      <td>0</td>\n",
              "      <td>0</td>\n",
              "      <td>data scientist</td>\n",
              "      <td>na</td>\n",
              "      <td>M</td>\n",
              "      <td>87.5</td>\n",
              "    </tr>\n",
              "    <tr>\n",
              "      <th>2</th>\n",
              "      <td>Data Scientist</td>\n",
              "      <td>KnowBe4, Inc. is a high growth information sec...</td>\n",
              "      <td>4.8</td>\n",
              "      <td>KnowBe44.8</td>\n",
              "      <td>Clearwater, FL</td>\n",
              "      <td>Clearwater, FL</td>\n",
              "      <td>501 - 1000</td>\n",
              "      <td>2010</td>\n",
              "      <td>Company - Private</td>\n",
              "      <td>Security Services</td>\n",
              "      <td>...</td>\n",
              "      <td>0</td>\n",
              "      <td>0</td>\n",
              "      <td>0</td>\n",
              "      <td>0</td>\n",
              "      <td>0</td>\n",
              "      <td>0</td>\n",
              "      <td>data scientist</td>\n",
              "      <td>na</td>\n",
              "      <td>M</td>\n",
              "      <td>85.0</td>\n",
              "    </tr>\n",
              "    <tr>\n",
              "      <th>3</th>\n",
              "      <td>Data Scientist</td>\n",
              "      <td>*Organization and Job ID**Job ID: 310709\\nDire...</td>\n",
              "      <td>3.8</td>\n",
              "      <td>PNNL3.8</td>\n",
              "      <td>Richland, WA</td>\n",
              "      <td>Richland, WA</td>\n",
              "      <td>1001 - 5000</td>\n",
              "      <td>1965</td>\n",
              "      <td>Government</td>\n",
              "      <td>Energy</td>\n",
              "      <td>...</td>\n",
              "      <td>0</td>\n",
              "      <td>0</td>\n",
              "      <td>0</td>\n",
              "      <td>0</td>\n",
              "      <td>0</td>\n",
              "      <td>0</td>\n",
              "      <td>data scientist</td>\n",
              "      <td>na</td>\n",
              "      <td>na</td>\n",
              "      <td>76.5</td>\n",
              "    </tr>\n",
              "    <tr>\n",
              "      <th>4</th>\n",
              "      <td>Data Scientist</td>\n",
              "      <td>Data ScientistAffinity Solutions / Marketing C...</td>\n",
              "      <td>2.9</td>\n",
              "      <td>Affinity Solutions2.9</td>\n",
              "      <td>New York, NY</td>\n",
              "      <td>New York, NY</td>\n",
              "      <td>51 - 200</td>\n",
              "      <td>1998</td>\n",
              "      <td>Company - Private</td>\n",
              "      <td>Advertising &amp; Marketing</td>\n",
              "      <td>...</td>\n",
              "      <td>0</td>\n",
              "      <td>0</td>\n",
              "      <td>0</td>\n",
              "      <td>0</td>\n",
              "      <td>0</td>\n",
              "      <td>0</td>\n",
              "      <td>data scientist</td>\n",
              "      <td>na</td>\n",
              "      <td>na</td>\n",
              "      <td>114.5</td>\n",
              "    </tr>\n",
              "  </tbody>\n",
              "</table>\n",
              "<p>5 rows × 38 columns</p>\n",
              "</div>"
            ],
            "text/plain": [
              "                   Job Title  \\\n",
              "0             Data Scientist   \n",
              "1  Healthcare Data Scientist   \n",
              "2             Data Scientist   \n",
              "3             Data Scientist   \n",
              "4             Data Scientist   \n",
              "\n",
              "                                     Job Description  Rating  \\\n",
              "0  Data ScientistLocation: Albuquerque, NMEducati...     3.8   \n",
              "1  What You Will Do:\\nI. General Summary\\nThe Hea...     3.4   \n",
              "2  KnowBe4, Inc. is a high growth information sec...     4.8   \n",
              "3  *Organization and Job ID**Job ID: 310709\\nDire...     3.8   \n",
              "4  Data ScientistAffinity Solutions / Marketing C...     2.9   \n",
              "\n",
              "                               Company Name         Location    Headquarters  \\\n",
              "0                      Tecolote Research3.8  Albuquerque, NM      Goleta, CA   \n",
              "1  University of Maryland Medical System3.4    Linthicum, MD   Baltimore, MD   \n",
              "2                                KnowBe44.8   Clearwater, FL  Clearwater, FL   \n",
              "3                                   PNNL3.8     Richland, WA    Richland, WA   \n",
              "4                     Affinity Solutions2.9     New York, NY    New York, NY   \n",
              "\n",
              "           Size  Founded   Type of ownership  \\\n",
              "0   501 - 1000      1973   Company - Private   \n",
              "1       10000+      1984  Other Organization   \n",
              "2   501 - 1000      2010   Company - Private   \n",
              "3  1001 - 5000      1965          Government   \n",
              "4     51 - 200      1998   Company - Private   \n",
              "\n",
              "                           Industry  ... hadoop tableau bi  flink  mongo  \\\n",
              "0               Aerospace & Defense  ...      0       1  1      0      0   \n",
              "1  Health Care Services & Hospitals  ...      0       0  0      0      0   \n",
              "2                 Security Services  ...      0       0  0      0      0   \n",
              "3                            Energy  ...      0       0  0      0      0   \n",
              "4           Advertising & Marketing  ...      0       0  0      0      0   \n",
              "\n",
              "  google_an   job_title_sim  seniority_by_title  Degree  median salary  \n",
              "0         0  data scientist                  na       M           72.0  \n",
              "1         0  data scientist                  na       M           87.5  \n",
              "2         0  data scientist                  na       M           85.0  \n",
              "3         0  data scientist                  na      na           76.5  \n",
              "4         0  data scientist                  na      na          114.5  \n",
              "\n",
              "[5 rows x 38 columns]"
            ]
          },
          "execution_count": 110,
          "metadata": {},
          "output_type": "execute_result"
        }
      ],
      "source": [
        "data = data.drop([\"max salary\", \"min salary\", \"range\", \"Salary Estimate\"], axis=1)\n",
        "data.head()"
      ]
    },
    {
      "cell_type": "code",
      "execution_count": 111,
      "metadata": {
        "colab": {
          "base_uri": "https://localhost:8080/",
          "height": 487
        },
        "id": "j0LSDPWZYb-r",
        "outputId": "465fee9f-2d1a-41ba-c9ae-5825d09bdef5"
      },
      "outputs": [
        {
          "name": "stderr",
          "output_type": "stream",
          "text": [
            "All model checkpoint layers were used when initializing TFBertForSequenceClassification.\n",
            "\n",
            "Some layers of TFBertForSequenceClassification were not initialized from the model checkpoint at bert-base-uncased and are newly initialized: ['classifier']\n",
            "You should probably TRAIN this model on a down-stream task to be able to use it for predictions and inference.\n"
          ]
        }
      ],
      "source": [
        "classifier = pipeline('sentiment-analysis', model='bert-base-uncased', tokenizer='bert-base-uncased')\n",
        "\n",
        "#Using a sentiment analysis model\n",
        "#we want to generate a score for each job description\n",
        "#it's difficult that it will really capture \n",
        "#how the description correlates with the salary\n",
        "#but at least we're not completely losing the information \n",
        "#found in the description\n",
        "scores = []\n",
        "for desc in data['Job Description']:\n",
        "    result = classifier(desc, truncation=True)\n",
        "    score = result[0]['score']\n",
        "    scores.append(score)\n",
        "\n",
        "# Add the scores to the DataFrame\n",
        "data['description_score'] = scores\n",
        "data = data.drop(\"Job Description\", axis=1)"
      ]
    },
    {
      "cell_type": "markdown",
      "metadata": {
        "id": "PH_pjuP0YSof"
      },
      "source": [
        "# EDA: some more visualizations and insights "
      ]
    },
    {
      "cell_type": "markdown",
      "metadata": {
        "id": "Br1iNUQHhwHn"
      },
      "source": [
        "We should now look at the second most important feature aka the \"Job Title\". First thing first we want to count the single entries or the different identified roles. It probably won't be a huge problem to just convert the string values to numeric ones. But before doing so let's look at the frequency of each, given there are many different entries we're just gonna look at the n most recurring ones."
      ]
    },
    {
      "cell_type": "code",
      "execution_count": 112,
      "metadata": {
        "colab": {
          "base_uri": "https://localhost:8080/"
        },
        "id": "HBzJ-vHBiBi7",
        "outputId": "99b3cc67-cb08-4357-e776-21ccf1557679"
      },
      "outputs": [
        {
          "data": {
            "text/plain": [
              "264"
            ]
          },
          "execution_count": 112,
          "metadata": {},
          "output_type": "execute_result"
        }
      ],
      "source": [
        "data['Job Title'].nunique()"
      ]
    },
    {
      "cell_type": "code",
      "execution_count": 113,
      "metadata": {
        "id": "-ljxM9bmilPh"
      },
      "outputs": [],
      "source": [
        "def visualize_freq_job():\n",
        "  freq = data['Job Title'].value_counts().sort_values(ascending=False)\n",
        "\n",
        "  # select the top 5 categories with the highest frequency\n",
        "  top_n = 15\n",
        "  top_categories = freq[:top_n]\n",
        "\n",
        "  print(\"This is the total number of elements with one of the n-most recurring labels \" + str(top_categories.sum()))\n",
        "  print(\"This is the percentage of elements with one of the n-most recurring labels \" + str(top_categories.sum() / len(data)))\n",
        "\n",
        "  plt.barh(top_categories.index, top_categories.values)\n",
        "  plt.title(f'Top {top_n} Categories by Frequency')\n",
        "  plt.xlabel('Category')\n",
        "  plt.ylabel('Count')\n",
        "  plt.show()"
      ]
    },
    {
      "cell_type": "code",
      "execution_count": 114,
      "metadata": {
        "colab": {
          "base_uri": "https://localhost:8080/",
          "height": 330
        },
        "id": "dJzlQj7wnbi1",
        "outputId": "18cb8da2-7823-41b1-fe18-7b6620c6bc02"
      },
      "outputs": [
        {
          "name": "stdout",
          "output_type": "stream",
          "text": [
            "This is the total number of elements with one of the n-most recurring labels 305\n",
            "This is the percentage of elements with one of the n-most recurring labels 0.4110512129380054\n"
          ]
        },
        {
          "data": {
            "image/png": "[encoded data removed]",
            "text/plain": [
              "<Figure size 640x480 with 1 Axes>"
            ]
          },
          "metadata": {},
          "output_type": "display_data"
        }
      ],
      "source": [
        "visualize_freq_job()"
      ]
    },
    {
      "cell_type": "markdown",
      "metadata": {
        "id": "8Kyp2lebj5dt"
      },
      "source": [
        "We can belive that this is somewhat representative of the total distribution given that they amount for up to 41% of the total. Nevertheless it looks evident that many of these labels are repetitions or contain useless specificity. We're gonna clean up the data a little bit such that any title like \"Data scientist senior\" and \"Sr. data scientist\" will be given the same value \"DS senior\"."
      ]
    },
    {
      "cell_type": "code",
      "execution_count": 115,
      "metadata": {
        "id": "FvzfqnO1mc0D"
      },
      "outputs": [],
      "source": [
        "def cleanFeature(column, values, new_name):\n",
        "\n",
        "  data[column] = data[column].str.replace('|'.join(values), new_name, case=False)\n",
        "  return data"
      ]
    },
    {
      "cell_type": "code",
      "execution_count": 116,
      "metadata": {
        "colab": {
          "base_uri": "https://localhost:8080/",
          "height": 364
        },
        "id": "fsxKGrDenLsC",
        "outputId": "c0db2e44-823f-471d-a990-c96403010a06"
      },
      "outputs": [
        {
          "name": "stderr",
          "output_type": "stream",
          "text": [
            "C:\\Users\\carlo\\AppData\\Local\\Temp\\ipykernel_13640\\168017779.py:3: FutureWarning:\n",
            "\n",
            "The default value of regex will change from True to False in a future version.\n",
            "\n"
          ]
        },
        {
          "name": "stdout",
          "output_type": "stream",
          "text": [
            "This is the total number of elements with one of the n-most recurring labels 313\n",
            "This is the percentage of elements with one of the n-most recurring labels 0.42183288409703507\n"
          ]
        },
        {
          "data": {
            "image/png": "[encoded data removed]",
            "text/plain": [
              "<Figure size 640x480 with 1 Axes>"
            ]
          },
          "metadata": {},
          "output_type": "display_data"
        }
      ],
      "source": [
        "to_be_changed = ['Sr. Data Scientist', 'Senior Data Scientist']\n",
        "data = cleanFeature(\"Job Title\", to_be_changed, 'Senior Data Scientist')\n",
        "to_be_changed = ['Senior Data Engineer', 'Sr. Data Engineer']\n",
        "data = cleanFeature('Job Title' , to_be_changed, 'Senior Data Engineer')\n",
        "to_be_changed = ['Senior Data Analyst', 'Sr. Data Analyst']\n",
        "data = cleanFeature('Job Title' , to_be_changed, 'Senior Data Analyst')\n",
        "visualize_freq_job()"
      ]
    },
    {
      "cell_type": "markdown",
      "metadata": {
        "id": "KlqRb4-sphbw"
      },
      "source": [
        "Sadly given the vast amount of different values it's not possible to effectively clean the dataset of all the redundant information. But we can maybe focus on something more fun: visualizing where the salaries are higher using the USA map. To do this I'm gonna split the \"Location\" feature into \"State\" and \"City\", so we can also visualize the top paying cities even though I doubt there will be many surprises..."
      ]
    },
    {
      "cell_type": "code",
      "execution_count": 117,
      "metadata": {
        "colab": {
          "base_uri": "https://localhost:8080/",
          "height": 542
        },
        "id": "ohKMmYC_q4l0",
        "outputId": "756b215e-10d6-40ee-ba7c-f26817747981"
      },
      "outputs": [
        {
          "data": {
            "application/vnd.plotly.v1+json": {
              "config": {
                "plotlyServerURL": "https://plot.ly"
              },
              "data": [
                {
                  "coloraxis": "coloraxis",
                  "geo": "geo",
                  "hovertemplate": "state=%{location}<br>state salary=%{z}<extra></extra>",
                  "locationmode": "USA-states",
                  "locations": [
                    "AL",
                    "AZ",
                    "CA",
                    "CO",
                    "CT",
                    "DC",
                    "DE",
                    "FL",
                    "GA",
                    "IA",
                    "ID",
                    "IL",
                    "IN",
                    "KS",
                    "KY",
                    "LA",
                    "Los Angeles, CA",
                    "MA",
                    "MD",
                    "MI",
                    "MN",
                    "MO",
                    "NC",
                    "NE",
                    "NJ",
                    "NM",
                    "NY",
                    "OH",
                    "OR",
                    "PA",
                    "RI",
                    "SC",
                    "TN",
                    "TX",
                    "UT",
                    "VA",
                    "WA",
                    "WI"
                  ],
                  "name": "",
                  "type": "choropleth",
                  "z": [
                    60.75,
                    69.5,
                    121,
                    99,
                    62.5,
                    96.5,
                    27.5,
                    78.25,
                    80,
                    77.5,
                    56.25,
                    107.5,
                    89.5,
                    87,
                    103.5,
                    59.25,
                    107.5,
                    107.5,
                    93.5,
                    96,
                    85.5,
                    70.5,
                    99.5,
                    38.75,
                    98.5,
                    75.5,
                    91.25,
                    94,
                    98,
                    91.5,
                    100,
                    60.5,
                    98,
                    90.25,
                    97,
                    89.5,
                    80.5,
                    58.25
                  ]
                }
              ],
              "layout": {
                "coloraxis": {
                  "cmax": 121,
                  "cmin": 27.5,
                  "colorbar": {
                    "title": {
                      "text": "state salary"
                    }
                  },
                  "colorscale": [
                    [
                      0,
                      "#0d0887"
                    ],
                    [
                      0.1111111111111111,
                      "#46039f"
                    ],
                    [
                      0.2222222222222222,
                      "#7201a8"
                    ],
                    [
                      0.3333333333333333,
                      "#9c179e"
                    ],
                    [
                      0.4444444444444444,
                      "#bd3786"
                    ],
                    [
                      0.5555555555555556,
                      "#d8576b"
                    ],
                    [
                      0.6666666666666666,
                      "#ed7953"
                    ],
                    [
                      0.7777777777777778,
                      "#fb9f3a"
                    ],
                    [
                      0.8888888888888888,
                      "#fdca26"
                    ],
                    [
                      1,
                      "#f0f921"
                    ]
                  ]
                },
                "geo": {
                  "center": {},
                  "domain": {
                    "x": [
                      0,
                      1
                    ],
                    "y": [
                      0,
                      1
                    ]
                  },
                  "scope": "usa"
                },
                "legend": {
                  "tracegroupgap": 0
                },
                "margin": {
                  "t": 60
                },
                "template": {
                  "data": {
                    "bar": [
                      {
                        "error_x": {
                          "color": "#2a3f5f"
                        },
                        "error_y": {
                          "color": "#2a3f5f"
                        },
                        "marker": {
                          "line": {
                            "color": "#E5ECF6",
                            "width": 0.5
                          },
                          "pattern": {
                            "fillmode": "overlay",
                            "size": 10,
                            "solidity": 0.2
                          }
                        },
                        "type": "bar"
                      }
                    ],
                    "barpolar": [
                      {
                        "marker": {
                          "line": {
                            "color": "#E5ECF6",
                            "width": 0.5
                          },
                          "pattern": {
                            "fillmode": "overlay",
                            "size": 10,
                            "solidity": 0.2
                          }
                        },
                        "type": "barpolar"
                      }
                    ],
                    "carpet": [
                      {
                        "aaxis": {
                          "endlinecolor": "#2a3f5f",
                          "gridcolor": "white",
                          "linecolor": "white",
                          "minorgridcolor": "white",
                          "startlinecolor": "#2a3f5f"
                        },
                        "baxis": {
                          "endlinecolor": "#2a3f5f",
                          "gridcolor": "white",
                          "linecolor": "white",
                          "minorgridcolor": "white",
                          "startlinecolor": "#2a3f5f"
                        },
                        "type": "carpet"
                      }
                    ],
                    "choropleth": [
                      {
                        "colorbar": {
                          "outlinewidth": 0,
                          "ticks": ""
                        },
                        "type": "choropleth"
                      }
                    ],
                    "contour": [
                      {
                        "colorbar": {
                          "outlinewidth": 0,
                          "ticks": ""
                        },
                        "colorscale": [
                          [
                            0,
                            "#0d0887"
                          ],
                          [
                            0.1111111111111111,
                            "#46039f"
                          ],
                          [
                            0.2222222222222222,
                            "#7201a8"
                          ],
                          [
                            0.3333333333333333,
                            "#9c179e"
                          ],
                          [
                            0.4444444444444444,
                            "#bd3786"
                          ],
                          [
                            0.5555555555555556,
                            "#d8576b"
                          ],
                          [
                            0.6666666666666666,
                            "#ed7953"
                          ],
                          [
                            0.7777777777777778,
                            "#fb9f3a"
                          ],
                          [
                            0.8888888888888888,
                            "#fdca26"
                          ],
                          [
                            1,
                            "#f0f921"
                          ]
                        ],
                        "type": "contour"
                      }
                    ],
                    "contourcarpet": [
                      {
                        "colorbar": {
                          "outlinewidth": 0,
                          "ticks": ""
                        },
                        "type": "contourcarpet"
                      }
                    ],
                    "heatmap": [
                      {
                        "colorbar": {
                          "outlinewidth": 0,
                          "ticks": ""
                        },
                        "colorscale": [
                          [
                            0,
                            "#0d0887"
                          ],
                          [
                            0.1111111111111111,
                            "#46039f"
                          ],
                          [
                            0.2222222222222222,
                            "#7201a8"
                          ],
                          [
                            0.3333333333333333,
                            "#9c179e"
                          ],
                          [
                            0.4444444444444444,
                            "#bd3786"
                          ],
                          [
                            0.5555555555555556,
                            "#d8576b"
                          ],
                          [
                            0.6666666666666666,
                            "#ed7953"
                          ],
                          [
                            0.7777777777777778,
                            "#fb9f3a"
                          ],
                          [
                            0.8888888888888888,
                            "#fdca26"
                          ],
                          [
                            1,
                            "#f0f921"
                          ]
                        ],
                        "type": "heatmap"
                      }
                    ],
                    "heatmapgl": [
                      {
                        "colorbar": {
                          "outlinewidth": 0,
                          "ticks": ""
                        },
                        "colorscale": [
                          [
                            0,
                            "#0d0887"
                          ],
                          [
                            0.1111111111111111,
                            "#46039f"
                          ],
                          [
                            0.2222222222222222,
                            "#7201a8"
                          ],
                          [
                            0.3333333333333333,
                            "#9c179e"
                          ],
                          [
                            0.4444444444444444,
                            "#bd3786"
                          ],
                          [
                            0.5555555555555556,
                            "#d8576b"
                          ],
                          [
                            0.6666666666666666,
                            "#ed7953"
                          ],
                          [
                            0.7777777777777778,
                            "#fb9f3a"
                          ],
                          [
                            0.8888888888888888,
                            "#fdca26"
                          ],
                          [
                            1,
                            "#f0f921"
                          ]
                        ],
                        "type": "heatmapgl"
                      }
                    ],
                    "histogram": [
                      {
                        "marker": {
                          "pattern": {
                            "fillmode": "overlay",
                            "size": 10,
                            "solidity": 0.2
                          }
                        },
                        "type": "histogram"
                      }
                    ],
                    "histogram2d": [
                      {
                        "colorbar": {
                          "outlinewidth": 0,
                          "ticks": ""
                        },
                        "colorscale": [
                          [
                            0,
                            "#0d0887"
                          ],
                          [
                            0.1111111111111111,
                            "#46039f"
                          ],
                          [
                            0.2222222222222222,
                            "#7201a8"
                          ],
                          [
                            0.3333333333333333,
                            "#9c179e"
                          ],
                          [
                            0.4444444444444444,
                            "#bd3786"
                          ],
                          [
                            0.5555555555555556,
                            "#d8576b"
                          ],
                          [
                            0.6666666666666666,
                            "#ed7953"
                          ],
                          [
                            0.7777777777777778,
                            "#fb9f3a"
                          ],
                          [
                            0.8888888888888888,
                            "#fdca26"
                          ],
                          [
                            1,
                            "#f0f921"
                          ]
                        ],
                        "type": "histogram2d"
                      }
                    ],
                    "histogram2dcontour": [
                      {
                        "colorbar": {
                          "outlinewidth": 0,
                          "ticks": ""
                        },
                        "colorscale": [
                          [
                            0,
                            "#0d0887"
                          ],
                          [
                            0.1111111111111111,
                            "#46039f"
                          ],
                          [
                            0.2222222222222222,
                            "#7201a8"
                          ],
                          [
                            0.3333333333333333,
                            "#9c179e"
                          ],
                          [
                            0.4444444444444444,
                            "#bd3786"
                          ],
                          [
                            0.5555555555555556,
                            "#d8576b"
                          ],
                          [
                            0.6666666666666666,
                            "#ed7953"
                          ],
                          [
                            0.7777777777777778,
                            "#fb9f3a"
                          ],
                          [
                            0.8888888888888888,
                            "#fdca26"
                          ],
                          [
                            1,
                            "#f0f921"
                          ]
                        ],
                        "type": "histogram2dcontour"
                      }
                    ],
                    "mesh3d": [
                      {
                        "colorbar": {
                          "outlinewidth": 0,
                          "ticks": ""
                        },
                        "type": "mesh3d"
                      }
                    ],
                    "parcoords": [
                      {
                        "line": {
                          "colorbar": {
                            "outlinewidth": 0,
                            "ticks": ""
                          }
                        },
                        "type": "parcoords"
                      }
                    ],
                    "pie": [
                      {
                        "automargin": true,
                        "type": "pie"
                      }
                    ],
                    "scatter": [
                      {
                        "fillpattern": {
                          "fillmode": "overlay",
                          "size": 10,
                          "solidity": 0.2
                        },
                        "type": "scatter"
                      }
                    ],
                    "scatter3d": [
                      {
                        "line": {
                          "colorbar": {
                            "outlinewidth": 0,
                            "ticks": ""
                          }
                        },
                        "marker": {
                          "colorbar": {
                            "outlinewidth": 0,
                            "ticks": ""
                          }
                        },
                        "type": "scatter3d"
                      }
                    ],
                    "scattercarpet": [
                      {
                        "marker": {
                          "colorbar": {
                            "outlinewidth": 0,
                            "ticks": ""
                          }
                        },
                        "type": "scattercarpet"
                      }
                    ],
                    "scattergeo": [
                      {
                        "marker": {
                          "colorbar": {
                            "outlinewidth": 0,
                            "ticks": ""
                          }
                        },
                        "type": "scattergeo"
                      }
                    ],
                    "scattergl": [
                      {
                        "marker": {
                          "colorbar": {
                            "outlinewidth": 0,
                            "ticks": ""
                          }
                        },
                        "type": "scattergl"
                      }
                    ],
                    "scattermapbox": [
                      {
                        "marker": {
                          "colorbar": {
                            "outlinewidth": 0,
                            "ticks": ""
                          }
                        },
                        "type": "scattermapbox"
                      }
                    ],
                    "scatterpolar": [
                      {
                        "marker": {
                          "colorbar": {
                            "outlinewidth": 0,
                            "ticks": ""
                          }
                        },
                        "type": "scatterpolar"
                      }
                    ],
                    "scatterpolargl": [
                      {
                        "marker": {
                          "colorbar": {
                            "outlinewidth": 0,
                            "ticks": ""
                          }
                        },
                        "type": "scatterpolargl"
                      }
                    ],
                    "scatterternary": [
                      {
                        "marker": {
                          "colorbar": {
                            "outlinewidth": 0,
                            "ticks": ""
                          }
                        },
                        "type": "scatterternary"
                      }
                    ],
                    "surface": [
                      {
                        "colorbar": {
                          "outlinewidth": 0,
                          "ticks": ""
                        },
                        "colorscale": [
                          [
                            0,
                            "#0d0887"
                          ],
                          [
                            0.1111111111111111,
                            "#46039f"
                          ],
                          [
                            0.2222222222222222,
                            "#7201a8"
                          ],
                          [
                            0.3333333333333333,
                            "#9c179e"
                          ],
                          [
                            0.4444444444444444,
                            "#bd3786"
                          ],
                          [
                            0.5555555555555556,
                            "#d8576b"
                          ],
                          [
                            0.6666666666666666,
                            "#ed7953"
                          ],
                          [
                            0.7777777777777778,
                            "#fb9f3a"
                          ],
                          [
                            0.8888888888888888,
                            "#fdca26"
                          ],
                          [
                            1,
                            "#f0f921"
                          ]
                        ],
                        "type": "surface"
                      }
                    ],
                    "table": [
                      {
                        "cells": {
                          "fill": {
                            "color": "#EBF0F8"
                          },
                          "line": {
                            "color": "white"
                          }
                        },
                        "header": {
                          "fill": {
                            "color": "#C8D4E3"
                          },
                          "line": {
                            "color": "white"
                          }
                        },
                        "type": "table"
                      }
                    ]
                  },
                  "layout": {
                    "annotationdefaults": {
                      "arrowcolor": "#2a3f5f",
                      "arrowhead": 0,
                      "arrowwidth": 1
                    },
                    "autotypenumbers": "strict",
                    "coloraxis": {
                      "colorbar": {
                        "outlinewidth": 0,
                        "ticks": ""
                      }
                    },
                    "colorscale": {
                      "diverging": [
                        [
                          0,
                          "#8e0152"
                        ],
                        [
                          0.1,
                          "#c51b7d"
                        ],
                        [
                          0.2,
                          "#de77ae"
                        ],
                        [
                          0.3,
                          "#f1b6da"
                        ],
                        [
                          0.4,
                          "#fde0ef"
                        ],
                        [
                          0.5,
                          "#f7f7f7"
                        ],
                        [
                          0.6,
                          "#e6f5d0"
                        ],
                        [
                          0.7,
                          "#b8e186"
                        ],
                        [
                          0.8,
                          "#7fbc41"
                        ],
                        [
                          0.9,
                          "#4d9221"
                        ],
                        [
                          1,
                          "#276419"
                        ]
                      ],
                      "sequential": [
                        [
                          0,
                          "#0d0887"
                        ],
                        [
                          0.1111111111111111,
                          "#46039f"
                        ],
                        [
                          0.2222222222222222,
                          "#7201a8"
                        ],
                        [
                          0.3333333333333333,
                          "#9c179e"
                        ],
                        [
                          0.4444444444444444,
                          "#bd3786"
                        ],
                        [
                          0.5555555555555556,
                          "#d8576b"
                        ],
                        [
                          0.6666666666666666,
                          "#ed7953"
                        ],
                        [
                          0.7777777777777778,
                          "#fb9f3a"
                        ],
                        [
                          0.8888888888888888,
                          "#fdca26"
                        ],
                        [
                          1,
                          "#f0f921"
                        ]
                      ],
                      "sequentialminus": [
                        [
                          0,
                          "#0d0887"
                        ],
                        [
                          0.1111111111111111,
                          "#46039f"
                        ],
                        [
                          0.2222222222222222,
                          "#7201a8"
                        ],
                        [
                          0.3333333333333333,
                          "#9c179e"
                        ],
                        [
                          0.4444444444444444,
                          "#bd3786"
                        ],
                        [
                          0.5555555555555556,
                          "#d8576b"
                        ],
                        [
                          0.6666666666666666,
                          "#ed7953"
                        ],
                        [
                          0.7777777777777778,
                          "#fb9f3a"
                        ],
                        [
                          0.8888888888888888,
                          "#fdca26"
                        ],
                        [
                          1,
                          "#f0f921"
                        ]
                      ]
                    },
                    "colorway": [
                      "#636efa",
                      "#EF553B",
                      "#00cc96",
                      "#ab63fa",
                      "#FFA15A",
                      "#19d3f3",
                      "#FF6692",
                      "#B6E880",
                      "#FF97FF",
                      "#FECB52"
                    ],
                    "font": {
                      "color": "#2a3f5f"
                    },
                    "geo": {
                      "bgcolor": "white",
                      "lakecolor": "white",
                      "landcolor": "#E5ECF6",
                      "showlakes": true,
                      "showland": true,
                      "subunitcolor": "white"
                    },
                    "hoverlabel": {
                      "align": "left"
                    },
                    "hovermode": "closest",
                    "mapbox": {
                      "style": "light"
                    },
                    "paper_bgcolor": "white",
                    "plot_bgcolor": "#E5ECF6",
                    "polar": {
                      "angularaxis": {
                        "gridcolor": "white",
                        "linecolor": "white",
                        "ticks": ""
                      },
                      "bgcolor": "#E5ECF6",
                      "radialaxis": {
                        "gridcolor": "white",
                        "linecolor": "white",
                        "ticks": ""
                      }
                    },
                    "scene": {
                      "xaxis": {
                        "backgroundcolor": "#E5ECF6",
                        "gridcolor": "white",
                        "gridwidth": 2,
                        "linecolor": "white",
                        "showbackground": true,
                        "ticks": "",
                        "zerolinecolor": "white"
                      },
                      "yaxis": {
                        "backgroundcolor": "#E5ECF6",
                        "gridcolor": "white",
                        "gridwidth": 2,
                        "linecolor": "white",
                        "showbackground": true,
                        "ticks": "",
                        "zerolinecolor": "white"
                      },
                      "zaxis": {
                        "backgroundcolor": "#E5ECF6",
                        "gridcolor": "white",
                        "gridwidth": 2,
                        "linecolor": "white",
                        "showbackground": true,
                        "ticks": "",
                        "zerolinecolor": "white"
                      }
                    },
                    "shapedefaults": {
                      "line": {
                        "color": "#2a3f5f"
                      }
                    },
                    "ternary": {
                      "aaxis": {
                        "gridcolor": "white",
                        "linecolor": "white",
                        "ticks": ""
                      },
                      "baxis": {
                        "gridcolor": "white",
                        "linecolor": "white",
                        "ticks": ""
                      },
                      "bgcolor": "#E5ECF6",
                      "caxis": {
                        "gridcolor": "white",
                        "linecolor": "white",
                        "ticks": ""
                      }
                    },
                    "title": {
                      "x": 0.05
                    },
                    "xaxis": {
                      "automargin": true,
                      "gridcolor": "white",
                      "linecolor": "white",
                      "ticks": "",
                      "title": {
                        "standoff": 15
                      },
                      "zerolinecolor": "white",
                      "zerolinewidth": 2
                    },
                    "yaxis": {
                      "automargin": true,
                      "gridcolor": "white",
                      "linecolor": "white",
                      "ticks": "",
                      "title": {
                        "standoff": 15
                      },
                      "zerolinecolor": "white",
                      "zerolinewidth": 2
                    }
                  }
                },
                "title": {
                  "text": "Data Scientists Salaries in the USA",
                  "x": 0.5
                }
              }
            }
          },
          "metadata": {},
          "output_type": "display_data"
        }
      ],
      "source": [
        "import plotly.express as px\n",
        "\n",
        "data[['city', 'state']] = data['Location'].str.split(', ', expand=True, n= 1).fillna('Unknown')\n",
        "data = data.drop(\"Location\", axis=1)\n",
        "\n",
        "#here I'm creating a dataframe that is gonna be funcitonal for the visualization\n",
        "state_salary = data.groupby('state')['median salary'].median().reset_index()\n",
        "state_salary.columns = ['state', 'state salary']\n",
        "unique_states = state_salary.drop_duplicates(subset=['state']).reset_index(drop=True)\n",
        "\n",
        "fig = px.choropleth(unique_states, locations='state', locationmode='USA-states', color='state salary',\n",
        "                    scope='usa', color_continuous_scale='Plasma',\n",
        "                    range_color=(unique_states['state salary'].min(), unique_states['state salary'].max()))\n",
        "fig.update_layout(title='Data Scientists Salaries in the USA', title_x=0.5)\n",
        "fig.show()"
      ]
    },
    {
      "cell_type": "code",
      "execution_count": 118,
      "metadata": {
        "colab": {
          "base_uri": "https://localhost:8080/",
          "height": 542
        },
        "id": "JDNMkCcZ__72",
        "outputId": "06a0e1bc-d4e3-4fb8-a896-ded5d8fcebe6"
      },
      "outputs": [
        {
          "data": {
            "application/vnd.plotly.v1+json": {
              "config": {
                "plotlyServerURL": "https://plot.ly"
              },
              "data": [
                {
                  "alignmentgroup": "True",
                  "hovertemplate": "city=%{x}<br>city salary=%{marker.color}<extra></extra>",
                  "legendgroup": "",
                  "marker": {
                    "color": [
                      162,
                      139,
                      120.5,
                      120,
                      114.5,
                      107.5,
                      101.5,
                      99.5,
                      97.5,
                      96.5
                    ],
                    "coloraxis": "coloraxis",
                    "pattern": {
                      "shape": ""
                    }
                  },
                  "name": "",
                  "offsetgroup": "",
                  "orientation": "v",
                  "showlegend": false,
                  "textposition": "auto",
                  "type": "bar",
                  "x": [
                    "San Jose",
                    "San Francisco",
                    "Chicago",
                    "Pittsburgh",
                    "Cambridge",
                    "Boston",
                    "Herndon",
                    "Winston-Salem",
                    "New York",
                    "Washington"
                  ],
                  "xaxis": "x",
                  "y": [
                    162,
                    139,
                    120.5,
                    120,
                    114.5,
                    107.5,
                    101.5,
                    99.5,
                    97.5,
                    96.5
                  ],
                  "yaxis": "y"
                }
              ],
              "layout": {
                "barmode": "relative",
                "coloraxis": {
                  "colorbar": {
                    "title": {
                      "text": "city salary"
                    }
                  },
                  "colorscale": [
                    [
                      0,
                      "rgb(103,0,31)"
                    ],
                    [
                      0.1,
                      "rgb(178,24,43)"
                    ],
                    [
                      0.2,
                      "rgb(214,96,77)"
                    ],
                    [
                      0.3,
                      "rgb(244,165,130)"
                    ],
                    [
                      0.4,
                      "rgb(253,219,199)"
                    ],
                    [
                      0.5,
                      "rgb(247,247,247)"
                    ],
                    [
                      0.6,
                      "rgb(209,229,240)"
                    ],
                    [
                      0.7,
                      "rgb(146,197,222)"
                    ],
                    [
                      0.8,
                      "rgb(67,147,195)"
                    ],
                    [
                      0.9,
                      "rgb(33,102,172)"
                    ],
                    [
                      1,
                      "rgb(5,48,97)"
                    ]
                  ]
                },
                "legend": {
                  "tracegroupgap": 0
                },
                "template": {
                  "data": {
                    "bar": [
                      {
                        "error_x": {
                          "color": "#2a3f5f"
                        },
                        "error_y": {
                          "color": "#2a3f5f"
                        },
                        "marker": {
                          "line": {
                            "color": "#E5ECF6",
                            "width": 0.5
                          },
                          "pattern": {
                            "fillmode": "overlay",
                            "size": 10,
                            "solidity": 0.2
                          }
                        },
                        "type": "bar"
                      }
                    ],
                    "barpolar": [
                      {
                        "marker": {
                          "line": {
                            "color": "#E5ECF6",
                            "width": 0.5
                          },
                          "pattern": {
                            "fillmode": "overlay",
                            "size": 10,
                            "solidity": 0.2
                          }
                        },
                        "type": "barpolar"
                      }
                    ],
                    "carpet": [
                      {
                        "aaxis": {
                          "endlinecolor": "#2a3f5f",
                          "gridcolor": "white",
                          "linecolor": "white",
                          "minorgridcolor": "white",
                          "startlinecolor": "#2a3f5f"
                        },
                        "baxis": {
                          "endlinecolor": "#2a3f5f",
                          "gridcolor": "white",
                          "linecolor": "white",
                          "minorgridcolor": "white",
                          "startlinecolor": "#2a3f5f"
                        },
                        "type": "carpet"
                      }
                    ],
                    "choropleth": [
                      {
                        "colorbar": {
                          "outlinewidth": 0,
                          "ticks": ""
                        },
                        "type": "choropleth"
                      }
                    ],
                    "contour": [
                      {
                        "colorbar": {
                          "outlinewidth": 0,
                          "ticks": ""
                        },
                        "colorscale": [
                          [
                            0,
                            "#0d0887"
                          ],
                          [
                            0.1111111111111111,
                            "#46039f"
                          ],
                          [
                            0.2222222222222222,
                            "#7201a8"
                          ],
                          [
                            0.3333333333333333,
                            "#9c179e"
                          ],
                          [
                            0.4444444444444444,
                            "#bd3786"
                          ],
                          [
                            0.5555555555555556,
                            "#d8576b"
                          ],
                          [
                            0.6666666666666666,
                            "#ed7953"
                          ],
                          [
                            0.7777777777777778,
                            "#fb9f3a"
                          ],
                          [
                            0.8888888888888888,
                            "#fdca26"
                          ],
                          [
                            1,
                            "#f0f921"
                          ]
                        ],
                        "type": "contour"
                      }
                    ],
                    "contourcarpet": [
                      {
                        "colorbar": {
                          "outlinewidth": 0,
                          "ticks": ""
                        },
                        "type": "contourcarpet"
                      }
                    ],
                    "heatmap": [
                      {
                        "colorbar": {
                          "outlinewidth": 0,
                          "ticks": ""
                        },
                        "colorscale": [
                          [
                            0,
                            "#0d0887"
                          ],
                          [
                            0.1111111111111111,
                            "#46039f"
                          ],
                          [
                            0.2222222222222222,
                            "#7201a8"
                          ],
                          [
                            0.3333333333333333,
                            "#9c179e"
                          ],
                          [
                            0.4444444444444444,
                            "#bd3786"
                          ],
                          [
                            0.5555555555555556,
                            "#d8576b"
                          ],
                          [
                            0.6666666666666666,
                            "#ed7953"
                          ],
                          [
                            0.7777777777777778,
                            "#fb9f3a"
                          ],
                          [
                            0.8888888888888888,
                            "#fdca26"
                          ],
                          [
                            1,
                            "#f0f921"
                          ]
                        ],
                        "type": "heatmap"
                      }
                    ],
                    "heatmapgl": [
                      {
                        "colorbar": {
                          "outlinewidth": 0,
                          "ticks": ""
                        },
                        "colorscale": [
                          [
                            0,
                            "#0d0887"
                          ],
                          [
                            0.1111111111111111,
                            "#46039f"
                          ],
                          [
                            0.2222222222222222,
                            "#7201a8"
                          ],
                          [
                            0.3333333333333333,
                            "#9c179e"
                          ],
                          [
                            0.4444444444444444,
                            "#bd3786"
                          ],
                          [
                            0.5555555555555556,
                            "#d8576b"
                          ],
                          [
                            0.6666666666666666,
                            "#ed7953"
                          ],
                          [
                            0.7777777777777778,
                            "#fb9f3a"
                          ],
                          [
                            0.8888888888888888,
                            "#fdca26"
                          ],
                          [
                            1,
                            "#f0f921"
                          ]
                        ],
                        "type": "heatmapgl"
                      }
                    ],
                    "histogram": [
                      {
                        "marker": {
                          "pattern": {
                            "fillmode": "overlay",
                            "size": 10,
                            "solidity": 0.2
                          }
                        },
                        "type": "histogram"
                      }
                    ],
                    "histogram2d": [
                      {
                        "colorbar": {
                          "outlinewidth": 0,
                          "ticks": ""
                        },
                        "colorscale": [
                          [
                            0,
                            "#0d0887"
                          ],
                          [
                            0.1111111111111111,
                            "#46039f"
                          ],
                          [
                            0.2222222222222222,
                            "#7201a8"
                          ],
                          [
                            0.3333333333333333,
                            "#9c179e"
                          ],
                          [
                            0.4444444444444444,
                            "#bd3786"
                          ],
                          [
                            0.5555555555555556,
                            "#d8576b"
                          ],
                          [
                            0.6666666666666666,
                            "#ed7953"
                          ],
                          [
                            0.7777777777777778,
                            "#fb9f3a"
                          ],
                          [
                            0.8888888888888888,
                            "#fdca26"
                          ],
                          [
                            1,
                            "#f0f921"
                          ]
                        ],
                        "type": "histogram2d"
                      }
                    ],
                    "histogram2dcontour": [
                      {
                        "colorbar": {
                          "outlinewidth": 0,
                          "ticks": ""
                        },
                        "colorscale": [
                          [
                            0,
                            "#0d0887"
                          ],
                          [
                            0.1111111111111111,
                            "#46039f"
                          ],
                          [
                            0.2222222222222222,
                            "#7201a8"
                          ],
                          [
                            0.3333333333333333,
                            "#9c179e"
                          ],
                          [
                            0.4444444444444444,
                            "#bd3786"
                          ],
                          [
                            0.5555555555555556,
                            "#d8576b"
                          ],
                          [
                            0.6666666666666666,
                            "#ed7953"
                          ],
                          [
                            0.7777777777777778,
                            "#fb9f3a"
                          ],
                          [
                            0.8888888888888888,
                            "#fdca26"
                          ],
                          [
                            1,
                            "#f0f921"
                          ]
                        ],
                        "type": "histogram2dcontour"
                      }
                    ],
                    "mesh3d": [
                      {
                        "colorbar": {
                          "outlinewidth": 0,
                          "ticks": ""
                        },
                        "type": "mesh3d"
                      }
                    ],
                    "parcoords": [
                      {
                        "line": {
                          "colorbar": {
                            "outlinewidth": 0,
                            "ticks": ""
                          }
                        },
                        "type": "parcoords"
                      }
                    ],
                    "pie": [
                      {
                        "automargin": true,
                        "type": "pie"
                      }
                    ],
                    "scatter": [
                      {
                        "fillpattern": {
                          "fillmode": "overlay",
                          "size": 10,
                          "solidity": 0.2
                        },
                        "type": "scatter"
                      }
                    ],
                    "scatter3d": [
                      {
                        "line": {
                          "colorbar": {
                            "outlinewidth": 0,
                            "ticks": ""
                          }
                        },
                        "marker": {
                          "colorbar": {
                            "outlinewidth": 0,
                            "ticks": ""
                          }
                        },
                        "type": "scatter3d"
                      }
                    ],
                    "scattercarpet": [
                      {
                        "marker": {
                          "colorbar": {
                            "outlinewidth": 0,
                            "ticks": ""
                          }
                        },
                        "type": "scattercarpet"
                      }
                    ],
                    "scattergeo": [
                      {
                        "marker": {
                          "colorbar": {
                            "outlinewidth": 0,
                            "ticks": ""
                          }
                        },
                        "type": "scattergeo"
                      }
                    ],
                    "scattergl": [
                      {
                        "marker": {
                          "colorbar": {
                            "outlinewidth": 0,
                            "ticks": ""
                          }
                        },
                        "type": "scattergl"
                      }
                    ],
                    "scattermapbox": [
                      {
                        "marker": {
                          "colorbar": {
                            "outlinewidth": 0,
                            "ticks": ""
                          }
                        },
                        "type": "scattermapbox"
                      }
                    ],
                    "scatterpolar": [
                      {
                        "marker": {
                          "colorbar": {
                            "outlinewidth": 0,
                            "ticks": ""
                          }
                        },
                        "type": "scatterpolar"
                      }
                    ],
                    "scatterpolargl": [
                      {
                        "marker": {
                          "colorbar": {
                            "outlinewidth": 0,
                            "ticks": ""
                          }
                        },
                        "type": "scatterpolargl"
                      }
                    ],
                    "scatterternary": [
                      {
                        "marker": {
                          "colorbar": {
                            "outlinewidth": 0,
                            "ticks": ""
                          }
                        },
                        "type": "scatterternary"
                      }
                    ],
                    "surface": [
                      {
                        "colorbar": {
                          "outlinewidth": 0,
                          "ticks": ""
                        },
                        "colorscale": [
                          [
                            0,
                            "#0d0887"
                          ],
                          [
                            0.1111111111111111,
                            "#46039f"
                          ],
                          [
                            0.2222222222222222,
                            "#7201a8"
                          ],
                          [
                            0.3333333333333333,
                            "#9c179e"
                          ],
                          [
                            0.4444444444444444,
                            "#bd3786"
                          ],
                          [
                            0.5555555555555556,
                            "#d8576b"
                          ],
                          [
                            0.6666666666666666,
                            "#ed7953"
                          ],
                          [
                            0.7777777777777778,
                            "#fb9f3a"
                          ],
                          [
                            0.8888888888888888,
                            "#fdca26"
                          ],
                          [
                            1,
                            "#f0f921"
                          ]
                        ],
                        "type": "surface"
                      }
                    ],
                    "table": [
                      {
                        "cells": {
                          "fill": {
                            "color": "#EBF0F8"
                          },
                          "line": {
                            "color": "white"
                          }
                        },
                        "header": {
                          "fill": {
                            "color": "#C8D4E3"
                          },
                          "line": {
                            "color": "white"
                          }
                        },
                        "type": "table"
                      }
                    ]
                  },
                  "layout": {
                    "annotationdefaults": {
                      "arrowcolor": "#2a3f5f",
                      "arrowhead": 0,
                      "arrowwidth": 1
                    },
                    "autotypenumbers": "strict",
                    "coloraxis": {
                      "colorbar": {
                        "outlinewidth": 0,
                        "ticks": ""
                      }
                    },
                    "colorscale": {
                      "diverging": [
                        [
                          0,
                          "#8e0152"
                        ],
                        [
                          0.1,
                          "#c51b7d"
                        ],
                        [
                          0.2,
                          "#de77ae"
                        ],
                        [
                          0.3,
                          "#f1b6da"
                        ],
                        [
                          0.4,
                          "#fde0ef"
                        ],
                        [
                          0.5,
                          "#f7f7f7"
                        ],
                        [
                          0.6,
                          "#e6f5d0"
                        ],
                        [
                          0.7,
                          "#b8e186"
                        ],
                        [
                          0.8,
                          "#7fbc41"
                        ],
                        [
                          0.9,
                          "#4d9221"
                        ],
                        [
                          1,
                          "#276419"
                        ]
                      ],
                      "sequential": [
                        [
                          0,
                          "#0d0887"
                        ],
                        [
                          0.1111111111111111,
                          "#46039f"
                        ],
                        [
                          0.2222222222222222,
                          "#7201a8"
                        ],
                        [
                          0.3333333333333333,
                          "#9c179e"
                        ],
                        [
                          0.4444444444444444,
                          "#bd3786"
                        ],
                        [
                          0.5555555555555556,
                          "#d8576b"
                        ],
                        [
                          0.6666666666666666,
                          "#ed7953"
                        ],
                        [
                          0.7777777777777778,
                          "#fb9f3a"
                        ],
                        [
                          0.8888888888888888,
                          "#fdca26"
                        ],
                        [
                          1,
                          "#f0f921"
                        ]
                      ],
                      "sequentialminus": [
                        [
                          0,
                          "#0d0887"
                        ],
                        [
                          0.1111111111111111,
                          "#46039f"
                        ],
                        [
                          0.2222222222222222,
                          "#7201a8"
                        ],
                        [
                          0.3333333333333333,
                          "#9c179e"
                        ],
                        [
                          0.4444444444444444,
                          "#bd3786"
                        ],
                        [
                          0.5555555555555556,
                          "#d8576b"
                        ],
                        [
                          0.6666666666666666,
                          "#ed7953"
                        ],
                        [
                          0.7777777777777778,
                          "#fb9f3a"
                        ],
                        [
                          0.8888888888888888,
                          "#fdca26"
                        ],
                        [
                          1,
                          "#f0f921"
                        ]
                      ]
                    },
                    "colorway": [
                      "#636efa",
                      "#EF553B",
                      "#00cc96",
                      "#ab63fa",
                      "#FFA15A",
                      "#19d3f3",
                      "#FF6692",
                      "#B6E880",
                      "#FF97FF",
                      "#FECB52"
                    ],
                    "font": {
                      "color": "#2a3f5f"
                    },
                    "geo": {
                      "bgcolor": "white",
                      "lakecolor": "white",
                      "landcolor": "#E5ECF6",
                      "showlakes": true,
                      "showland": true,
                      "subunitcolor": "white"
                    },
                    "hoverlabel": {
                      "align": "left"
                    },
                    "hovermode": "closest",
                    "mapbox": {
                      "style": "light"
                    },
                    "paper_bgcolor": "white",
                    "plot_bgcolor": "#E5ECF6",
                    "polar": {
                      "angularaxis": {
                        "gridcolor": "white",
                        "linecolor": "white",
                        "ticks": ""
                      },
                      "bgcolor": "#E5ECF6",
                      "radialaxis": {
                        "gridcolor": "white",
                        "linecolor": "white",
                        "ticks": ""
                      }
                    },
                    "scene": {
                      "xaxis": {
                        "backgroundcolor": "#E5ECF6",
                        "gridcolor": "white",
                        "gridwidth": 2,
                        "linecolor": "white",
                        "showbackground": true,
                        "ticks": "",
                        "zerolinecolor": "white"
                      },
                      "yaxis": {
                        "backgroundcolor": "#E5ECF6",
                        "gridcolor": "white",
                        "gridwidth": 2,
                        "linecolor": "white",
                        "showbackground": true,
                        "ticks": "",
                        "zerolinecolor": "white"
                      },
                      "zaxis": {
                        "backgroundcolor": "#E5ECF6",
                        "gridcolor": "white",
                        "gridwidth": 2,
                        "linecolor": "white",
                        "showbackground": true,
                        "ticks": "",
                        "zerolinecolor": "white"
                      }
                    },
                    "shapedefaults": {
                      "line": {
                        "color": "#2a3f5f"
                      }
                    },
                    "ternary": {
                      "aaxis": {
                        "gridcolor": "white",
                        "linecolor": "white",
                        "ticks": ""
                      },
                      "baxis": {
                        "gridcolor": "white",
                        "linecolor": "white",
                        "ticks": ""
                      },
                      "bgcolor": "#E5ECF6",
                      "caxis": {
                        "gridcolor": "white",
                        "linecolor": "white",
                        "ticks": ""
                      }
                    },
                    "title": {
                      "x": 0.05
                    },
                    "xaxis": {
                      "automargin": true,
                      "gridcolor": "white",
                      "linecolor": "white",
                      "ticks": "",
                      "title": {
                        "standoff": 15
                      },
                      "zerolinecolor": "white",
                      "zerolinewidth": 2
                    },
                    "yaxis": {
                      "automargin": true,
                      "gridcolor": "white",
                      "linecolor": "white",
                      "ticks": "",
                      "title": {
                        "standoff": 15
                      },
                      "zerolinecolor": "white",
                      "zerolinewidth": 2
                    }
                  }
                },
                "title": {
                  "text": "Top 10 Cities with Highest Average Salary"
                },
                "xaxis": {
                  "anchor": "y",
                  "domain": [
                    0,
                    1
                  ],
                  "title": {
                    "text": "City"
                  }
                },
                "yaxis": {
                  "anchor": "x",
                  "domain": [
                    0,
                    1
                  ],
                  "title": {
                    "text": "Average Salary"
                  }
                }
              }
            }
          },
          "metadata": {},
          "output_type": "display_data"
        }
      ],
      "source": [
        "#creating a dataframe containing the median salaries for all the \n",
        "#cities with at least 10 entries in the dataframe\n",
        "\n",
        "city_counts = data['city'].value_counts()\n",
        "selected_cities = city_counts[city_counts >= 10].index.tolist()\n",
        "city_salary = data[data['city'].isin(selected_cities)].groupby('city')['median salary'].median().reset_index()\n",
        "city_salary.columns = ['city', 'city salary']\n",
        "cities = city_salary.drop_duplicates(subset=['city']).reset_index(drop=True)\n",
        "\n",
        "top_cities = cities.nlargest(10, 'city salary')\n",
        "fig = px.bar(top_cities, x='city', y='city salary', color='city salary', \n",
        "             color_continuous_scale='RdBu', title='Top 10 Cities with Highest Average Salary')\n",
        "\n",
        "# Set the x-axis label\n",
        "fig.update_xaxes(title_text='City')\n",
        "\n",
        "# Set the y-axis label\n",
        "fig.update_yaxes(title_text='Average Salary')\n",
        "\n",
        "# Show the plot\n",
        "fig.show()"
      ]
    },
    {
      "cell_type": "markdown",
      "metadata": {
        "id": "_BmECIWTBLWo"
      },
      "source": [
        "Here, after taking into consideration the number of entries (at least 10), it emerges a clear pattern that matches with the real world. In fat yhe cities with higher salaries are the ones where the tech industry is more prolific, no wonder \"San Jose\" comes on top..."
      ]
    },
    {
      "cell_type": "code",
      "execution_count": 119,
      "metadata": {
        "colab": {
          "base_uri": "https://localhost:8080/",
          "height": 533
        },
        "id": "YQehtFpdNBSs",
        "outputId": "2d40410c-819d-4795-821d-d378cd649fcf"
      },
      "outputs": [
        {
          "data": {
            "image/png": "[encoded data removed]",
            "text/plain": [
              "<Figure size 2000x800 with 1 Axes>"
            ]
          },
          "metadata": {},
          "output_type": "display_data"
        }
      ],
      "source": [
        "top10_sectors = data.groupby('Sector')['median salary'].mean().nlargest(10).index.tolist()\n",
        "top10_sectors.sort(key=lambda x: data[data['Sector']==x]['median salary'].mean(), reverse=True)\n",
        "\n",
        "# Filter the original dataframe to include only the top 10 sectors\n",
        "top10 = data[data['Sector'].isin(top10_sectors)]\n",
        "\n",
        "# Create a box plot of salaries by sector for the top 10 sectors\n",
        "plt.figure(figsize=(20, 8))\n",
        "plt.boxplot([top10[top10['Sector'] == s]['median salary'] for s in top10_sectors], labels=top10_sectors)\n",
        "plt.xlabel('Sector')\n",
        "plt.ylabel('Salary')\n",
        "plt.title('Data Scientist Salaries by Top 10 Sectors')\n",
        "plt.show()"
      ]
    },
    {
      "cell_type": "markdown",
      "metadata": {
        "id": "mVM0BkjIOc5Z"
      },
      "source": [
        "As shown above the sectors in which data scientist are highly compensated are not the necessarily the most obvious ones (eg. Real estate, education) while they are more widely employes, as the \"whiskers\" spread show, in the IT industry, in Biotech and in INsurance. We come to this conclusion by inferring that an higher variance means that more professional figures, with different years of experience and business responsabilities, are employed and given varying salaries."
      ]
    },
    {
      "cell_type": "code",
      "execution_count": 120,
      "metadata": {
        "id": "Q6ixv1TcGe2S"
      },
      "outputs": [],
      "source": [
        "data_scientists = data[data.job_title_sim.str.contains('data scientist')]"
      ]
    },
    {
      "cell_type": "code",
      "execution_count": 121,
      "metadata": {
        "colab": {
          "base_uri": "https://localhost:8080/",
          "height": 282
        },
        "id": "wyNvWCopCtoW",
        "outputId": "4ebcabda-42de-49f9-8c4c-d606e53f53e3"
      },
      "outputs": [
        {
          "data": {
            "text/plain": [
              "<BarContainer object of 10 artists>"
            ]
          },
          "execution_count": 121,
          "metadata": {},
          "output_type": "execute_result"
        },
        {
          "data": {
            "image/png": "[encoded data removed]",
            "text/plain": [
              "<Figure size 640x480 with 1 Axes>"
            ]
          },
          "metadata": {},
          "output_type": "display_data"
        }
      ],
      "source": [
        "plt.barh(data_scientists['Company Name'].value_counts().index[:10] , data_scientists['Company Name'].value_counts().values[:10])"
      ]
    },
    {
      "cell_type": "markdown",
      "metadata": {
        "id": "gr9upPMqG58M"
      },
      "source": [
        "The above plot is instead showing us which companies are employing the highest number of data scientists! Still no surprise there's an high demand in the health sector."
      ]
    },
    {
      "cell_type": "code",
      "execution_count": 122,
      "metadata": {
        "colab": {
          "base_uri": "https://localhost:8080/",
          "height": 524
        },
        "id": "RiUNMsPkFaet",
        "outputId": "f9d8cc6d-bd54-4860-9232-a52e15b79e6b"
      },
      "outputs": [
        {
          "data": {
            "image/png": "[encoded data removed]",
            "text/plain": [
              "<Figure size 1200x800 with 2 Axes>"
            ]
          },
          "metadata": {},
          "output_type": "display_data"
        }
      ],
      "source": [
        "skill_labels = ['Python', 'spark', 'aws', 'excel', 'sql', 'sas', 'keras', 'pytorch',\n",
        "                'scikit', 'tensor', 'hadoop', 'tableau', 'bi', 'flink', 'mongo', 'google_an']\n",
        "skills_by_title = data.groupby('job_title_sim')[skill_labels].sum()\n",
        "plt.figure(figsize=(12, 8))\n",
        "sns.heatmap(skills_by_title, cmap='Purples')\n",
        "plt.show()"
      ]
    },
    {
      "cell_type": "markdown",
      "metadata": {
        "id": "5DWxurRVGiSW"
      },
      "source": [
        "Finally the above chart is telling us which are the most in demand skills for the different jobs. The color range reprensents the feature importance such that the darker it is the more important it will be for the job to have the corresponding skill."
      ]
    },
    {
      "cell_type": "markdown",
      "metadata": {
        "id": "szLdPNDUC4zM"
      },
      "source": [
        "# Patterns start to emerge..."
      ]
    },
    {
      "cell_type": "markdown",
      "metadata": {
        "id": "Ym2_W51EC-iO"
      },
      "source": [
        "If we want to develop a performant model, we need to clearly identify which are the most relevant independent variables given our target varible \"median salary\"...let's start by taking the correlation matrix of all the features and then narrow a bit the scope of our analysis..."
      ]
    },
    {
      "cell_type": "code",
      "execution_count": 123,
      "metadata": {
        "colab": {
          "base_uri": "https://localhost:8080/",
          "height": 381
        },
        "id": "XBPPB1e3DZgk",
        "outputId": "80039b8c-952d-4a8f-9ae7-f82df7d91c8f"
      },
      "outputs": [
        {
          "data": {
            "image/png": "[encoded data removed]",
            "text/plain": [
              "<Figure size 640x480 with 2 Axes>"
            ]
          },
          "metadata": {},
          "output_type": "display_data"
        }
      ],
      "source": [
        "copy = data.copy()\n",
        "\n",
        "le = LabelEncoder()\n",
        "\n",
        "# apply the LabelEncoder to all categorical columns\n",
        "for col in copy.select_dtypes(include='object').columns:\n",
        "    copy[col] = le.fit_transform(copy[col])\n",
        "\n",
        "corr = copy.corr()\n",
        "top_features = corr.nlargest(10, 'median salary')['median salary'].index\n",
        "top_corr = copy[top_features].corr()\n",
        "\n",
        "# plot the heatmap of the top 10 most correlated features\n",
        "sns.set(font_scale=1.25)\n",
        "sns.heatmap(top_corr, cmap='YlGnBu')\n",
        "plt.show()"
      ]
    },
    {
      "cell_type": "markdown",
      "metadata": {
        "id": "2j6TIgDFIe8H"
      },
      "source": [
        "Something seems off...the correlation between \"median salary\" and any other variable seems very low, very low...the only slight correlation is among \"seniority by title\" and \"python\"...this makes us understand how very diverse this field is and how there is no silver bullet, maybe python...also it's important to consider that in this dataset there are many different professional figures not just data scientists...let's keep on digging!"
      ]
    },
    {
      "cell_type": "code",
      "execution_count": 124,
      "metadata": {
        "colab": {
          "base_uri": "https://localhost:8080/"
        },
        "id": "fj3lkAabRy-Y",
        "outputId": "645f3a1c-8c86-4c9e-9c2d-9c6ac58e48b0"
      },
      "outputs": [
        {
          "data": {
            "text/html": [
              "<div>\n",
              "<style scoped>\n",
              "    .dataframe tbody tr th:only-of-type {\n",
              "        vertical-align: middle;\n",
              "    }\n",
              "\n",
              "    .dataframe tbody tr th {\n",
              "        vertical-align: top;\n",
              "    }\n",
              "\n",
              "    .dataframe thead th {\n",
              "        text-align: right;\n",
              "    }\n",
              "</style>\n",
              "<table border=\"1\" class=\"dataframe\">\n",
              "  <thead>\n",
              "    <tr style=\"text-align: right;\">\n",
              "      <th></th>\n",
              "      <th>Job Title</th>\n",
              "      <th>Rating</th>\n",
              "      <th>Company Name</th>\n",
              "      <th>Headquarters</th>\n",
              "      <th>Size</th>\n",
              "      <th>Founded</th>\n",
              "      <th>Type of ownership</th>\n",
              "      <th>Industry</th>\n",
              "      <th>Sector</th>\n",
              "      <th>Revenue</th>\n",
              "      <th>...</th>\n",
              "      <th>flink</th>\n",
              "      <th>mongo</th>\n",
              "      <th>google_an</th>\n",
              "      <th>job_title_sim</th>\n",
              "      <th>seniority_by_title</th>\n",
              "      <th>Degree</th>\n",
              "      <th>median salary</th>\n",
              "      <th>description_score</th>\n",
              "      <th>city</th>\n",
              "      <th>state</th>\n",
              "    </tr>\n",
              "  </thead>\n",
              "  <tbody>\n",
              "    <tr>\n",
              "      <th>0</th>\n",
              "      <td>Data Scientist</td>\n",
              "      <td>3.8</td>\n",
              "      <td>Tecolote Research3.8</td>\n",
              "      <td>Goleta, CA</td>\n",
              "      <td>501 - 1000</td>\n",
              "      <td>1973</td>\n",
              "      <td>Company - Private</td>\n",
              "      <td>Aerospace &amp; Defense</td>\n",
              "      <td>Aerospace &amp; Defense</td>\n",
              "      <td>$50 to $100 million (USD)</td>\n",
              "      <td>...</td>\n",
              "      <td>0</td>\n",
              "      <td>0</td>\n",
              "      <td>0</td>\n",
              "      <td>data scientist</td>\n",
              "      <td>na</td>\n",
              "      <td>M</td>\n",
              "      <td>72.0</td>\n",
              "      <td>0.502853</td>\n",
              "      <td>Albuquerque</td>\n",
              "      <td>NM</td>\n",
              "    </tr>\n",
              "    <tr>\n",
              "      <th>1</th>\n",
              "      <td>Healthcare Data Scientist</td>\n",
              "      <td>3.4</td>\n",
              "      <td>University of Maryland Medical System3.4</td>\n",
              "      <td>Baltimore, MD</td>\n",
              "      <td>10000+</td>\n",
              "      <td>1984</td>\n",
              "      <td>Other Organization</td>\n",
              "      <td>Health Care Services &amp; Hospitals</td>\n",
              "      <td>Health Care</td>\n",
              "      <td>$2 to $5 billion (USD)</td>\n",
              "      <td>...</td>\n",
              "      <td>0</td>\n",
              "      <td>0</td>\n",
              "      <td>0</td>\n",
              "      <td>data scientist</td>\n",
              "      <td>na</td>\n",
              "      <td>M</td>\n",
              "      <td>87.5</td>\n",
              "      <td>0.557699</td>\n",
              "      <td>Linthicum</td>\n",
              "      <td>MD</td>\n",
              "    </tr>\n",
              "    <tr>\n",
              "      <th>2</th>\n",
              "      <td>Data Scientist</td>\n",
              "      <td>4.8</td>\n",
              "      <td>KnowBe44.8</td>\n",
              "      <td>Clearwater, FL</td>\n",
              "      <td>501 - 1000</td>\n",
              "      <td>2010</td>\n",
              "      <td>Company - Private</td>\n",
              "      <td>Security Services</td>\n",
              "      <td>Business Services</td>\n",
              "      <td>$100 to $500 million (USD)</td>\n",
              "      <td>...</td>\n",
              "      <td>0</td>\n",
              "      <td>0</td>\n",
              "      <td>0</td>\n",
              "      <td>data scientist</td>\n",
              "      <td>na</td>\n",
              "      <td>M</td>\n",
              "      <td>85.0</td>\n",
              "      <td>0.654167</td>\n",
              "      <td>Clearwater</td>\n",
              "      <td>FL</td>\n",
              "    </tr>\n",
              "    <tr>\n",
              "      <th>3</th>\n",
              "      <td>Data Scientist</td>\n",
              "      <td>3.8</td>\n",
              "      <td>PNNL3.8</td>\n",
              "      <td>Richland, WA</td>\n",
              "      <td>1001 - 5000</td>\n",
              "      <td>1965</td>\n",
              "      <td>Government</td>\n",
              "      <td>Energy</td>\n",
              "      <td>Oil, Gas, Energy &amp; Utilities</td>\n",
              "      <td>$500 million to $1 billion (USD)</td>\n",
              "      <td>...</td>\n",
              "      <td>0</td>\n",
              "      <td>0</td>\n",
              "      <td>0</td>\n",
              "      <td>data scientist</td>\n",
              "      <td>na</td>\n",
              "      <td>na</td>\n",
              "      <td>76.5</td>\n",
              "      <td>0.531460</td>\n",
              "      <td>Richland</td>\n",
              "      <td>WA</td>\n",
              "    </tr>\n",
              "    <tr>\n",
              "      <th>4</th>\n",
              "      <td>Data Scientist</td>\n",
              "      <td>2.9</td>\n",
              "      <td>Affinity Solutions2.9</td>\n",
              "      <td>New York, NY</td>\n",
              "      <td>51 - 200</td>\n",
              "      <td>1998</td>\n",
              "      <td>Company - Private</td>\n",
              "      <td>Advertising &amp; Marketing</td>\n",
              "      <td>Business Services</td>\n",
              "      <td>Unknown / Non-Applicable</td>\n",
              "      <td>...</td>\n",
              "      <td>0</td>\n",
              "      <td>0</td>\n",
              "      <td>0</td>\n",
              "      <td>data scientist</td>\n",
              "      <td>na</td>\n",
              "      <td>na</td>\n",
              "      <td>114.5</td>\n",
              "      <td>0.535902</td>\n",
              "      <td>New York</td>\n",
              "      <td>NY</td>\n",
              "    </tr>\n",
              "  </tbody>\n",
              "</table>\n",
              "<p>5 rows × 39 columns</p>\n",
              "</div>"
            ],
            "text/plain": [
              "                   Job Title  Rating  \\\n",
              "0             Data Scientist     3.8   \n",
              "1  Healthcare Data Scientist     3.4   \n",
              "2             Data Scientist     4.8   \n",
              "3             Data Scientist     3.8   \n",
              "4             Data Scientist     2.9   \n",
              "\n",
              "                               Company Name    Headquarters          Size  \\\n",
              "0                      Tecolote Research3.8      Goleta, CA   501 - 1000    \n",
              "1  University of Maryland Medical System3.4   Baltimore, MD       10000+    \n",
              "2                                KnowBe44.8  Clearwater, FL   501 - 1000    \n",
              "3                                   PNNL3.8    Richland, WA  1001 - 5000    \n",
              "4                     Affinity Solutions2.9    New York, NY     51 - 200    \n",
              "\n",
              "   Founded   Type of ownership                          Industry  \\\n",
              "0     1973   Company - Private               Aerospace & Defense   \n",
              "1     1984  Other Organization  Health Care Services & Hospitals   \n",
              "2     2010   Company - Private                 Security Services   \n",
              "3     1965          Government                            Energy   \n",
              "4     1998   Company - Private           Advertising & Marketing   \n",
              "\n",
              "                         Sector                           Revenue  ... flink  \\\n",
              "0           Aerospace & Defense         $50 to $100 million (USD)  ...     0   \n",
              "1                   Health Care            $2 to $5 billion (USD)  ...     0   \n",
              "2             Business Services        $100 to $500 million (USD)  ...     0   \n",
              "3  Oil, Gas, Energy & Utilities  $500 million to $1 billion (USD)  ...     0   \n",
              "4             Business Services          Unknown / Non-Applicable  ...     0   \n",
              "\n",
              "   mongo  google_an   job_title_sim seniority_by_title  Degree  median salary  \\\n",
              "0      0          0  data scientist                 na       M           72.0   \n",
              "1      0          0  data scientist                 na       M           87.5   \n",
              "2      0          0  data scientist                 na       M           85.0   \n",
              "3      0          0  data scientist                 na      na           76.5   \n",
              "4      0          0  data scientist                 na      na          114.5   \n",
              "\n",
              "   description_score         city  state  \n",
              "0           0.502853  Albuquerque     NM  \n",
              "1           0.557699    Linthicum     MD  \n",
              "2           0.654167   Clearwater     FL  \n",
              "3           0.531460     Richland     WA  \n",
              "4           0.535902     New York     NY  \n",
              "\n",
              "[5 rows x 39 columns]"
            ]
          },
          "execution_count": 124,
          "metadata": {},
          "output_type": "execute_result"
        }
      ],
      "source": [
        "data.head()"
      ]
    },
    {
      "attachments": {},
      "cell_type": "markdown",
      "metadata": {},
      "source": [
        "Let's now take the final steps to have the data feeded through a regression model. It first has to be converted to numerical from categorical and after it needs to be standardized."
      ]
    },
    {
      "cell_type": "code",
      "execution_count": 132,
      "metadata": {},
      "outputs": [
        {
          "data": {
            "text/html": [
              "<div>\n",
              "<style scoped>\n",
              "    .dataframe tbody tr th:only-of-type {\n",
              "        vertical-align: middle;\n",
              "    }\n",
              "\n",
              "    .dataframe tbody tr th {\n",
              "        vertical-align: top;\n",
              "    }\n",
              "\n",
              "    .dataframe thead th {\n",
              "        text-align: right;\n",
              "    }\n",
              "</style>\n",
              "<table border=\"1\" class=\"dataframe\">\n",
              "  <thead>\n",
              "    <tr style=\"text-align: right;\">\n",
              "      <th></th>\n",
              "      <th>Rating</th>\n",
              "      <th>Founded</th>\n",
              "      <th>Hourly</th>\n",
              "      <th>Employer provided</th>\n",
              "      <th>Age</th>\n",
              "      <th>Python</th>\n",
              "      <th>spark</th>\n",
              "      <th>aws</th>\n",
              "      <th>excel</th>\n",
              "      <th>sql</th>\n",
              "      <th>...</th>\n",
              "      <th>state_OR</th>\n",
              "      <th>state_PA</th>\n",
              "      <th>state_RI</th>\n",
              "      <th>state_SC</th>\n",
              "      <th>state_TN</th>\n",
              "      <th>state_TX</th>\n",
              "      <th>state_UT</th>\n",
              "      <th>state_VA</th>\n",
              "      <th>state_WA</th>\n",
              "      <th>state_WI</th>\n",
              "    </tr>\n",
              "  </thead>\n",
              "  <tbody>\n",
              "    <tr>\n",
              "      <th>0</th>\n",
              "      <td>0.226226</td>\n",
              "      <td>0.273413</td>\n",
              "      <td>-0.182828</td>\n",
              "      <td>-0.153128</td>\n",
              "      <td>0.008842</td>\n",
              "      <td>0.944911</td>\n",
              "      <td>-0.538920</td>\n",
              "      <td>-0.557633</td>\n",
              "      <td>0.955181</td>\n",
              "      <td>-1.024560</td>\n",
              "      <td>...</td>\n",
              "      <td>0</td>\n",
              "      <td>0</td>\n",
              "      <td>0</td>\n",
              "      <td>0</td>\n",
              "      <td>0</td>\n",
              "      <td>0</td>\n",
              "      <td>0</td>\n",
              "      <td>0</td>\n",
              "      <td>0</td>\n",
              "      <td>0</td>\n",
              "    </tr>\n",
              "    <tr>\n",
              "      <th>1</th>\n",
              "      <td>-0.273356</td>\n",
              "      <td>0.295553</td>\n",
              "      <td>-0.182828</td>\n",
              "      <td>-0.153128</td>\n",
              "      <td>-0.195608</td>\n",
              "      <td>0.944911</td>\n",
              "      <td>-0.538920</td>\n",
              "      <td>-0.557633</td>\n",
              "      <td>-1.046922</td>\n",
              "      <td>-1.024560</td>\n",
              "      <td>...</td>\n",
              "      <td>0</td>\n",
              "      <td>0</td>\n",
              "      <td>0</td>\n",
              "      <td>0</td>\n",
              "      <td>0</td>\n",
              "      <td>0</td>\n",
              "      <td>0</td>\n",
              "      <td>0</td>\n",
              "      <td>0</td>\n",
              "      <td>0</td>\n",
              "    </tr>\n",
              "    <tr>\n",
              "      <th>2</th>\n",
              "      <td>1.475179</td>\n",
              "      <td>0.347883</td>\n",
              "      <td>-0.182828</td>\n",
              "      <td>-0.153128</td>\n",
              "      <td>-0.678854</td>\n",
              "      <td>0.944911</td>\n",
              "      <td>1.855563</td>\n",
              "      <td>-0.557633</td>\n",
              "      <td>0.955181</td>\n",
              "      <td>0.976028</td>\n",
              "      <td>...</td>\n",
              "      <td>0</td>\n",
              "      <td>0</td>\n",
              "      <td>0</td>\n",
              "      <td>0</td>\n",
              "      <td>0</td>\n",
              "      <td>0</td>\n",
              "      <td>0</td>\n",
              "      <td>0</td>\n",
              "      <td>0</td>\n",
              "      <td>0</td>\n",
              "    </tr>\n",
              "    <tr>\n",
              "      <th>3</th>\n",
              "      <td>0.226226</td>\n",
              "      <td>0.257312</td>\n",
              "      <td>-0.182828</td>\n",
              "      <td>-0.153128</td>\n",
              "      <td>0.157533</td>\n",
              "      <td>0.944911</td>\n",
              "      <td>-0.538920</td>\n",
              "      <td>-0.557633</td>\n",
              "      <td>-1.046922</td>\n",
              "      <td>-1.024560</td>\n",
              "      <td>...</td>\n",
              "      <td>0</td>\n",
              "      <td>0</td>\n",
              "      <td>0</td>\n",
              "      <td>0</td>\n",
              "      <td>0</td>\n",
              "      <td>0</td>\n",
              "      <td>0</td>\n",
              "      <td>0</td>\n",
              "      <td>1</td>\n",
              "      <td>0</td>\n",
              "    </tr>\n",
              "    <tr>\n",
              "      <th>4</th>\n",
              "      <td>-0.897833</td>\n",
              "      <td>0.323730</td>\n",
              "      <td>-0.182828</td>\n",
              "      <td>-0.153128</td>\n",
              "      <td>-0.455818</td>\n",
              "      <td>0.944911</td>\n",
              "      <td>-0.538920</td>\n",
              "      <td>-0.557633</td>\n",
              "      <td>0.955181</td>\n",
              "      <td>0.976028</td>\n",
              "      <td>...</td>\n",
              "      <td>0</td>\n",
              "      <td>0</td>\n",
              "      <td>0</td>\n",
              "      <td>0</td>\n",
              "      <td>0</td>\n",
              "      <td>0</td>\n",
              "      <td>0</td>\n",
              "      <td>0</td>\n",
              "      <td>0</td>\n",
              "      <td>0</td>\n",
              "    </tr>\n",
              "  </tbody>\n",
              "</table>\n",
              "<p>5 rows × 1696 columns</p>\n",
              "</div>"
            ],
            "text/plain": [
              "     Rating   Founded    Hourly  Employer provided       Age    Python  \\\n",
              "0  0.226226  0.273413 -0.182828          -0.153128  0.008842  0.944911   \n",
              "1 -0.273356  0.295553 -0.182828          -0.153128 -0.195608  0.944911   \n",
              "2  1.475179  0.347883 -0.182828          -0.153128 -0.678854  0.944911   \n",
              "3  0.226226  0.257312 -0.182828          -0.153128  0.157533  0.944911   \n",
              "4 -0.897833  0.323730 -0.182828          -0.153128 -0.455818  0.944911   \n",
              "\n",
              "      spark       aws     excel       sql  ...  state_OR  state_PA  state_RI  \\\n",
              "0 -0.538920 -0.557633  0.955181 -1.024560  ...         0         0         0   \n",
              "1 -0.538920 -0.557633 -1.046922 -1.024560  ...         0         0         0   \n",
              "2  1.855563 -0.557633  0.955181  0.976028  ...         0         0         0   \n",
              "3 -0.538920 -0.557633 -1.046922 -1.024560  ...         0         0         0   \n",
              "4 -0.538920 -0.557633  0.955181  0.976028  ...         0         0         0   \n",
              "\n",
              "   state_SC  state_TN  state_TX  state_UT  state_VA  state_WA  state_WI  \n",
              "0         0         0         0         0         0         0         0  \n",
              "1         0         0         0         0         0         0         0  \n",
              "2         0         0         0         0         0         0         0  \n",
              "3         0         0         0         0         0         1         0  \n",
              "4         0         0         0         0         0         0         0  \n",
              "\n",
              "[5 rows x 1696 columns]"
            ]
          },
          "execution_count": 132,
          "metadata": {},
          "output_type": "execute_result"
        }
      ],
      "source": [
        "# Convert categorical variables to numerical values\n",
        "data_encoded = pd.get_dummies(data, columns=data.select_dtypes(include=['object']).columns)\n",
        "\n",
        "# Get the list of continuous variable column names\n",
        "continuous_vars = [col for col in data_encoded.columns if col != 'median salary' and data_encoded[col].dtype != 'uint8']\n",
        "\n",
        "# Scale the continuous variables only\n",
        "scaler = StandardScaler()\n",
        "data_scaled = scaler.fit_transform(data_encoded[continuous_vars])\n",
        "data_encoded[continuous_vars] = data_scaled\n",
        "\n",
        "# Split the data into X and y\n",
        "X = data_encoded.drop('median salary', axis=1)\n",
        "y = data_encoded['median salary']\n",
        "\n",
        "\n",
        "X.head()"
      ]
    },
    {
      "attachments": {},
      "cell_type": "markdown",
      "metadata": {},
      "source": [
        "Knowing that most of the features don't hold much predictive power we can perform dimensionality reduction with Principal Component Analysis (PCA). This will give us a compressed representation of the data. To do so we're first going to select the number of components, this is done by plotting the Cumulative explained variance (the cumulative explained variance as a function of the number of components)"
      ]
    },
    {
      "cell_type": "code",
      "execution_count": 133,
      "metadata": {},
      "outputs": [
        {
          "data": {
            "image/png": "[encoded data removed]",
            "text/plain": [
              "<Figure size 640x480 with 1 Axes>"
            ]
          },
          "metadata": {},
          "output_type": "display_data"
        }
      ],
      "source": [
        "#set up the PCA\n",
        "pca = PCA()\n",
        "X_pca = pca.fit_transform(X)\n",
        "\n",
        "#find the cumulative variance\n",
        "ex_var = pca.explained_variance_ratio_\n",
        "cumulative_variance = np.cumsum(ex_var)\n",
        "\n",
        "\n",
        "plt.plot(cumulative_variance)\n",
        "plt.xlabel('N of Components')\n",
        "plt.ylabel('Cumulative Explained Variance')\n",
        "plt.show()"
      ]
    },
    {
      "attachments": {},
      "cell_type": "markdown",
      "metadata": {},
      "source": [
        "As it shows most of the features don't explain much any of the variance, we're therefore safe considering only a small part of the whole features. Let's say the first 100 ones. "
      ]
    },
    {
      "cell_type": "code",
      "execution_count": 134,
      "metadata": {},
      "outputs": [
        {
          "data": {
            "text/html": [
              "<div>\n",
              "<style scoped>\n",
              "    .dataframe tbody tr th:only-of-type {\n",
              "        vertical-align: middle;\n",
              "    }\n",
              "\n",
              "    .dataframe tbody tr th {\n",
              "        vertical-align: top;\n",
              "    }\n",
              "\n",
              "    .dataframe thead th {\n",
              "        text-align: right;\n",
              "    }\n",
              "</style>\n",
              "<table border=\"1\" class=\"dataframe\">\n",
              "  <thead>\n",
              "    <tr style=\"text-align: right;\">\n",
              "      <th></th>\n",
              "      <th>0</th>\n",
              "      <th>1</th>\n",
              "      <th>2</th>\n",
              "      <th>3</th>\n",
              "      <th>4</th>\n",
              "      <th>5</th>\n",
              "      <th>6</th>\n",
              "      <th>7</th>\n",
              "      <th>8</th>\n",
              "      <th>9</th>\n",
              "      <th>...</th>\n",
              "      <th>90</th>\n",
              "      <th>91</th>\n",
              "      <th>92</th>\n",
              "      <th>93</th>\n",
              "      <th>94</th>\n",
              "      <th>95</th>\n",
              "      <th>96</th>\n",
              "      <th>97</th>\n",
              "      <th>98</th>\n",
              "      <th>99</th>\n",
              "    </tr>\n",
              "  </thead>\n",
              "  <tbody>\n",
              "    <tr>\n",
              "      <th>0</th>\n",
              "      <td>6.277260e-18</td>\n",
              "      <td>-1.823586e-25</td>\n",
              "      <td>2.452417e-25</td>\n",
              "      <td>3.245162e-25</td>\n",
              "      <td>-4.768552e-25</td>\n",
              "      <td>6.366493e-25</td>\n",
              "      <td>8.135165e-25</td>\n",
              "      <td>1.064601e-24</td>\n",
              "      <td>1.741458e-24</td>\n",
              "      <td>2.308892e-24</td>\n",
              "      <td>...</td>\n",
              "      <td>2.633464e-20</td>\n",
              "      <td>1.542154e-18</td>\n",
              "      <td>8.204422e-17</td>\n",
              "      <td>1.779499e-19</td>\n",
              "      <td>1.264008e-17</td>\n",
              "      <td>2.584456e-18</td>\n",
              "      <td>3.055014e-17</td>\n",
              "      <td>7.696470e-18</td>\n",
              "      <td>1.420719e-18</td>\n",
              "      <td>3.813510e-18</td>\n",
              "    </tr>\n",
              "    <tr>\n",
              "      <th>1</th>\n",
              "      <td>6.277260e-18</td>\n",
              "      <td>-1.823587e-25</td>\n",
              "      <td>2.452412e-25</td>\n",
              "      <td>3.245163e-25</td>\n",
              "      <td>-4.768551e-25</td>\n",
              "      <td>6.366487e-25</td>\n",
              "      <td>8.135167e-25</td>\n",
              "      <td>1.064601e-24</td>\n",
              "      <td>1.741458e-24</td>\n",
              "      <td>2.308891e-24</td>\n",
              "      <td>...</td>\n",
              "      <td>2.633464e-20</td>\n",
              "      <td>1.542154e-18</td>\n",
              "      <td>8.204422e-17</td>\n",
              "      <td>1.779499e-19</td>\n",
              "      <td>1.264008e-17</td>\n",
              "      <td>2.584456e-18</td>\n",
              "      <td>3.055014e-17</td>\n",
              "      <td>7.696470e-18</td>\n",
              "      <td>1.420719e-18</td>\n",
              "      <td>3.813510e-18</td>\n",
              "    </tr>\n",
              "    <tr>\n",
              "      <th>2</th>\n",
              "      <td>-2.230560e-16</td>\n",
              "      <td>-3.226720e-17</td>\n",
              "      <td>-4.509920e-17</td>\n",
              "      <td>1.356488e-17</td>\n",
              "      <td>-2.143106e-17</td>\n",
              "      <td>-5.156673e-17</td>\n",
              "      <td>7.280107e-19</td>\n",
              "      <td>4.938841e-17</td>\n",
              "      <td>-2.370485e-18</td>\n",
              "      <td>-2.045125e-17</td>\n",
              "      <td>...</td>\n",
              "      <td>-4.296230e-15</td>\n",
              "      <td>-5.516885e-19</td>\n",
              "      <td>-1.302970e-15</td>\n",
              "      <td>-9.549309e-17</td>\n",
              "      <td>1.236547e-15</td>\n",
              "      <td>-1.271601e-15</td>\n",
              "      <td>9.288199e-16</td>\n",
              "      <td>2.800429e-16</td>\n",
              "      <td>-1.771931e-16</td>\n",
              "      <td>5.448111e-17</td>\n",
              "    </tr>\n",
              "    <tr>\n",
              "      <th>3</th>\n",
              "      <td>-1.235168e-16</td>\n",
              "      <td>-1.180616e-17</td>\n",
              "      <td>-3.726733e-17</td>\n",
              "      <td>5.205856e-17</td>\n",
              "      <td>4.370260e-17</td>\n",
              "      <td>2.074277e-17</td>\n",
              "      <td>1.140968e-17</td>\n",
              "      <td>-5.040217e-18</td>\n",
              "      <td>1.627413e-18</td>\n",
              "      <td>1.329777e-17</td>\n",
              "      <td>...</td>\n",
              "      <td>7.590875e-16</td>\n",
              "      <td>6.948967e-16</td>\n",
              "      <td>-2.662456e-15</td>\n",
              "      <td>-2.633827e-17</td>\n",
              "      <td>8.802471e-17</td>\n",
              "      <td>8.096066e-16</td>\n",
              "      <td>8.937940e-16</td>\n",
              "      <td>1.124000e-16</td>\n",
              "      <td>6.974856e-17</td>\n",
              "      <td>5.277939e-16</td>\n",
              "    </tr>\n",
              "    <tr>\n",
              "      <th>4</th>\n",
              "      <td>6.277260e-18</td>\n",
              "      <td>-1.823589e-25</td>\n",
              "      <td>2.452410e-25</td>\n",
              "      <td>3.245162e-25</td>\n",
              "      <td>-4.768557e-25</td>\n",
              "      <td>6.366487e-25</td>\n",
              "      <td>8.135170e-25</td>\n",
              "      <td>1.064601e-24</td>\n",
              "      <td>1.741458e-24</td>\n",
              "      <td>2.308892e-24</td>\n",
              "      <td>...</td>\n",
              "      <td>2.633464e-20</td>\n",
              "      <td>1.542154e-18</td>\n",
              "      <td>8.204422e-17</td>\n",
              "      <td>1.779499e-19</td>\n",
              "      <td>1.264008e-17</td>\n",
              "      <td>2.584456e-18</td>\n",
              "      <td>3.055014e-17</td>\n",
              "      <td>7.696470e-18</td>\n",
              "      <td>1.420719e-18</td>\n",
              "      <td>3.813510e-18</td>\n",
              "    </tr>\n",
              "  </tbody>\n",
              "</table>\n",
              "<p>5 rows × 100 columns</p>\n",
              "</div>"
            ],
            "text/plain": [
              "             0             1             2             3             4   \\\n",
              "0  6.277260e-18 -1.823586e-25  2.452417e-25  3.245162e-25 -4.768552e-25   \n",
              "1  6.277260e-18 -1.823587e-25  2.452412e-25  3.245163e-25 -4.768551e-25   \n",
              "2 -2.230560e-16 -3.226720e-17 -4.509920e-17  1.356488e-17 -2.143106e-17   \n",
              "3 -1.235168e-16 -1.180616e-17 -3.726733e-17  5.205856e-17  4.370260e-17   \n",
              "4  6.277260e-18 -1.823589e-25  2.452410e-25  3.245162e-25 -4.768557e-25   \n",
              "\n",
              "             5             6             7             8             9   ...  \\\n",
              "0  6.366493e-25  8.135165e-25  1.064601e-24  1.741458e-24  2.308892e-24  ...   \n",
              "1  6.366487e-25  8.135167e-25  1.064601e-24  1.741458e-24  2.308891e-24  ...   \n",
              "2 -5.156673e-17  7.280107e-19  4.938841e-17 -2.370485e-18 -2.045125e-17  ...   \n",
              "3  2.074277e-17  1.140968e-17 -5.040217e-18  1.627413e-18  1.329777e-17  ...   \n",
              "4  6.366487e-25  8.135170e-25  1.064601e-24  1.741458e-24  2.308892e-24  ...   \n",
              "\n",
              "             90            91            92            93            94  \\\n",
              "0  2.633464e-20  1.542154e-18  8.204422e-17  1.779499e-19  1.264008e-17   \n",
              "1  2.633464e-20  1.542154e-18  8.204422e-17  1.779499e-19  1.264008e-17   \n",
              "2 -4.296230e-15 -5.516885e-19 -1.302970e-15 -9.549309e-17  1.236547e-15   \n",
              "3  7.590875e-16  6.948967e-16 -2.662456e-15 -2.633827e-17  8.802471e-17   \n",
              "4  2.633464e-20  1.542154e-18  8.204422e-17  1.779499e-19  1.264008e-17   \n",
              "\n",
              "             95            96            97            98            99  \n",
              "0  2.584456e-18  3.055014e-17  7.696470e-18  1.420719e-18  3.813510e-18  \n",
              "1  2.584456e-18  3.055014e-17  7.696470e-18  1.420719e-18  3.813510e-18  \n",
              "2 -1.271601e-15  9.288199e-16  2.800429e-16 -1.771931e-16  5.448111e-17  \n",
              "3  8.096066e-16  8.937940e-16  1.124000e-16  6.974856e-17  5.277939e-16  \n",
              "4  2.584456e-18  3.055014e-17  7.696470e-18  1.420719e-18  3.813510e-18  \n",
              "\n",
              "[5 rows x 100 columns]"
            ]
          },
          "execution_count": 134,
          "metadata": {},
          "output_type": "execute_result"
        }
      ],
      "source": [
        "#THIS IS WRONG IT SEEMS...\n",
        "\n",
        "sorted_features = np.argsort(-cumulative_variance)\n",
        "\n",
        "# Select the top 100 features\n",
        "top_100_features = sorted_features[:100]\n",
        "\n",
        "# Create a new dataframe with the top 100 features\n",
        "df_top_100_features = pd.DataFrame(X_pca[:, top_100_features])\n",
        "\n",
        "df_top_100_features.head()"
      ]
    },
    {
      "attachments": {},
      "cell_type": "markdown",
      "metadata": {},
      "source": [
        "Let's finally see how well we can fit a regression model amongst the ones we've studied. The models will be compared using the metrics \"R2\", \"Accuracy\", \"Precision\" and \"Recall\". "
      ]
    },
    {
      "cell_type": "code",
      "execution_count": 135,
      "metadata": {},
      "outputs": [],
      "source": [
        "def metrics_model(model, X, y):\n",
        "\n",
        "    #compute the scores on each metric    \n",
        "    cv = KFold(n_splits=5,shuffle=True,random_state=45)\n",
        "\n",
        "    r2_val_score = cross_val_score(model, X, y, cv=cv,scoring=\"r2\")\n",
        "    r2 = r2_val_score.mean()\n",
        "\n",
        "    mse_scores = -1 * cross_val_score(model, X, y, cv=cv, scoring='neg_mean_squared_error')\n",
        "    mse = mse_scores.mean()\n",
        "\n",
        "    rmse_scores = -1 * cross_val_score(model, X, y, cv=cv, scoring='neg_root_mean_squared_error')\n",
        "    rmse = rmse_scores.mean()\n",
        "\n",
        "    mae_scores = -1 * cross_val_score(model, X, y, cv=cv, scoring='neg_mean_absolute_error')\n",
        "    mae = mae_scores.mean()\n",
        "\n",
        "    \n",
        "    metrics_dict = {\n",
        "        'R2 Score': round(r2, 4),\n",
        "        'Mean squared error': round(mse, 4),\n",
        "        'Root mean squared error': round(rmse, 4),\n",
        "        'Mean absolute error': round(mae, 4),\n",
        "    }\n",
        "\n",
        "    return metrics_dict\n",
        "\n",
        "def model_fitting(X, y):\n",
        "\n",
        "    results_table={}\n",
        "\n",
        "    #define a model and find it's performance\n",
        "    model = linear_model.LinearRegression()\n",
        "    results_table[\"Linear\"]=metrics_model(model, X, y)\n",
        "\n",
        "    model = linear_model.Lasso(alpha=1e-4)\n",
        "    results_table[\"Lasso\"]=metrics_model(model, X, y)\n",
        "    \n",
        "    model = linear_model.Ridge()\n",
        "    results_table[\"Ridge\"]=metrics_model(model, X, y)\n",
        "    \n",
        "    model = linear_model.BayesianRidge()\n",
        "    results_table[\"Bayesian Ridge\"]=metrics_model(model, X, y) \n",
        "\n",
        "    model = BaggingRegressor()\n",
        "    results_table[\"Bagging\"]=metrics_model(model, X, y)\n",
        "    \n",
        "    model = RandomForestRegressor()\n",
        "    results_table[\"RandomForest\"]=metrics_model(model, X, y)\n",
        "    \n",
        "    model = AdaBoostRegressor()\n",
        "    results_table[\"AdaBoost\"]=metrics_model(model, X, y)\n",
        "    \n",
        "    \n",
        "    results_table = pd.DataFrame.from_dict(results_table,orient='index')\n",
        "    results_table.columns=[\"R Squared \", \"MSE\", \"RMSE\", \"MAE\"] \n",
        "    return results_table"
      ]
    },
    {
      "cell_type": "code",
      "execution_count": 136,
      "metadata": {},
      "outputs": [
        {
          "data": {
            "text/html": [
              "<div>\n",
              "<style scoped>\n",
              "    .dataframe tbody tr th:only-of-type {\n",
              "        vertical-align: middle;\n",
              "    }\n",
              "\n",
              "    .dataframe tbody tr th {\n",
              "        vertical-align: top;\n",
              "    }\n",
              "\n",
              "    .dataframe thead th {\n",
              "        text-align: right;\n",
              "    }\n",
              "</style>\n",
              "<table border=\"1\" class=\"dataframe\">\n",
              "  <thead>\n",
              "    <tr style=\"text-align: right;\">\n",
              "      <th></th>\n",
              "      <th>R Squared</th>\n",
              "      <th>MSE</th>\n",
              "      <th>RMSE</th>\n",
              "      <th>MAE</th>\n",
              "    </tr>\n",
              "  </thead>\n",
              "  <tbody>\n",
              "    <tr>\n",
              "      <th>Linear</th>\n",
              "      <td>-0.7020</td>\n",
              "      <td>2525.7955</td>\n",
              "      <td>50.1711</td>\n",
              "      <td>37.7019</td>\n",
              "    </tr>\n",
              "    <tr>\n",
              "      <th>Lasso</th>\n",
              "      <td>-0.0275</td>\n",
              "      <td>1526.3391</td>\n",
              "      <td>39.0300</td>\n",
              "      <td>30.4722</td>\n",
              "    </tr>\n",
              "    <tr>\n",
              "      <th>Ridge</th>\n",
              "      <td>-0.0211</td>\n",
              "      <td>1517.4514</td>\n",
              "      <td>38.9145</td>\n",
              "      <td>30.4479</td>\n",
              "    </tr>\n",
              "    <tr>\n",
              "      <th>Bayesian Ridge</th>\n",
              "      <td>-0.0241</td>\n",
              "      <td>1521.7465</td>\n",
              "      <td>38.9704</td>\n",
              "      <td>30.4714</td>\n",
              "    </tr>\n",
              "    <tr>\n",
              "      <th>Bagging</th>\n",
              "      <td>0.2953</td>\n",
              "      <td>1032.2436</td>\n",
              "      <td>32.1779</td>\n",
              "      <td>22.2661</td>\n",
              "    </tr>\n",
              "    <tr>\n",
              "      <th>RandomForest</th>\n",
              "      <td>0.3305</td>\n",
              "      <td>997.6052</td>\n",
              "      <td>31.4084</td>\n",
              "      <td>21.8432</td>\n",
              "    </tr>\n",
              "    <tr>\n",
              "      <th>AdaBoost</th>\n",
              "      <td>0.0200</td>\n",
              "      <td>1438.0614</td>\n",
              "      <td>37.9205</td>\n",
              "      <td>30.4763</td>\n",
              "    </tr>\n",
              "  </tbody>\n",
              "</table>\n",
              "</div>"
            ],
            "text/plain": [
              "                R Squared         MSE     RMSE      MAE\n",
              "Linear             -0.7020  2525.7955  50.1711  37.7019\n",
              "Lasso              -0.0275  1526.3391  39.0300  30.4722\n",
              "Ridge              -0.0211  1517.4514  38.9145  30.4479\n",
              "Bayesian Ridge     -0.0241  1521.7465  38.9704  30.4714\n",
              "Bagging             0.2953  1032.2436  32.1779  22.2661\n",
              "RandomForest        0.3305   997.6052  31.4084  21.8432\n",
              "AdaBoost            0.0200  1438.0614  37.9205  30.4763"
            ]
          },
          "execution_count": 136,
          "metadata": {},
          "output_type": "execute_result"
        }
      ],
      "source": [
        "model_fitting(df_top_100_features, data['median salary'])"
      ]
    },
    {
      "cell_type": "code",
      "execution_count": 137,
      "metadata": {},
      "outputs": [
        {
          "name": "stderr",
          "output_type": "stream",
          "text": [
            "d:\\programs\\conda\\lib\\site-packages\\sklearn\\linear_model\\_coordinate_descent.py:647: ConvergenceWarning:\n",
            "\n",
            "Objective did not converge. You might want to increase the number of iterations, check the scale of the features or consider increasing regularisation. Duality gap: 5.374e+02, tolerance: 8.695e+01\n",
            "\n",
            "d:\\programs\\conda\\lib\\site-packages\\sklearn\\linear_model\\_coordinate_descent.py:647: ConvergenceWarning:\n",
            "\n",
            "Objective did not converge. You might want to increase the number of iterations, check the scale of the features or consider increasing regularisation. Duality gap: 5.224e+02, tolerance: 8.884e+01\n",
            "\n",
            "d:\\programs\\conda\\lib\\site-packages\\sklearn\\linear_model\\_coordinate_descent.py:647: ConvergenceWarning:\n",
            "\n",
            "Objective did not converge. You might want to increase the number of iterations, check the scale of the features or consider increasing regularisation. Duality gap: 4.396e+02, tolerance: 8.796e+01\n",
            "\n",
            "d:\\programs\\conda\\lib\\site-packages\\sklearn\\linear_model\\_coordinate_descent.py:647: ConvergenceWarning:\n",
            "\n",
            "Objective did not converge. You might want to increase the number of iterations, check the scale of the features or consider increasing regularisation. Duality gap: 5.121e+02, tolerance: 9.037e+01\n",
            "\n",
            "d:\\programs\\conda\\lib\\site-packages\\sklearn\\linear_model\\_coordinate_descent.py:647: ConvergenceWarning:\n",
            "\n",
            "Objective did not converge. You might want to increase the number of iterations, check the scale of the features or consider increasing regularisation. Duality gap: 4.902e+02, tolerance: 9.305e+01\n",
            "\n",
            "d:\\programs\\conda\\lib\\site-packages\\sklearn\\linear_model\\_coordinate_descent.py:647: ConvergenceWarning:\n",
            "\n",
            "Objective did not converge. You might want to increase the number of iterations, check the scale of the features or consider increasing regularisation. Duality gap: 5.374e+02, tolerance: 8.695e+01\n",
            "\n",
            "d:\\programs\\conda\\lib\\site-packages\\sklearn\\linear_model\\_coordinate_descent.py:647: ConvergenceWarning:\n",
            "\n",
            "Objective did not converge. You might want to increase the number of iterations, check the scale of the features or consider increasing regularisation. Duality gap: 5.224e+02, tolerance: 8.884e+01\n",
            "\n",
            "d:\\programs\\conda\\lib\\site-packages\\sklearn\\linear_model\\_coordinate_descent.py:647: ConvergenceWarning:\n",
            "\n",
            "Objective did not converge. You might want to increase the number of iterations, check the scale of the features or consider increasing regularisation. Duality gap: 4.396e+02, tolerance: 8.796e+01\n",
            "\n",
            "d:\\programs\\conda\\lib\\site-packages\\sklearn\\linear_model\\_coordinate_descent.py:647: ConvergenceWarning:\n",
            "\n",
            "Objective did not converge. You might want to increase the number of iterations, check the scale of the features or consider increasing regularisation. Duality gap: 5.121e+02, tolerance: 9.037e+01\n",
            "\n",
            "d:\\programs\\conda\\lib\\site-packages\\sklearn\\linear_model\\_coordinate_descent.py:647: ConvergenceWarning:\n",
            "\n",
            "Objective did not converge. You might want to increase the number of iterations, check the scale of the features or consider increasing regularisation. Duality gap: 4.902e+02, tolerance: 9.305e+01\n",
            "\n",
            "d:\\programs\\conda\\lib\\site-packages\\sklearn\\linear_model\\_coordinate_descent.py:647: ConvergenceWarning:\n",
            "\n",
            "Objective did not converge. You might want to increase the number of iterations, check the scale of the features or consider increasing regularisation. Duality gap: 5.374e+02, tolerance: 8.695e+01\n",
            "\n",
            "d:\\programs\\conda\\lib\\site-packages\\sklearn\\linear_model\\_coordinate_descent.py:647: ConvergenceWarning:\n",
            "\n",
            "Objective did not converge. You might want to increase the number of iterations, check the scale of the features or consider increasing regularisation. Duality gap: 5.224e+02, tolerance: 8.884e+01\n",
            "\n",
            "d:\\programs\\conda\\lib\\site-packages\\sklearn\\linear_model\\_coordinate_descent.py:647: ConvergenceWarning:\n",
            "\n",
            "Objective did not converge. You might want to increase the number of iterations, check the scale of the features or consider increasing regularisation. Duality gap: 4.396e+02, tolerance: 8.796e+01\n",
            "\n",
            "d:\\programs\\conda\\lib\\site-packages\\sklearn\\linear_model\\_coordinate_descent.py:647: ConvergenceWarning:\n",
            "\n",
            "Objective did not converge. You might want to increase the number of iterations, check the scale of the features or consider increasing regularisation. Duality gap: 5.121e+02, tolerance: 9.037e+01\n",
            "\n",
            "d:\\programs\\conda\\lib\\site-packages\\sklearn\\linear_model\\_coordinate_descent.py:647: ConvergenceWarning:\n",
            "\n",
            "Objective did not converge. You might want to increase the number of iterations, check the scale of the features or consider increasing regularisation. Duality gap: 4.902e+02, tolerance: 9.305e+01\n",
            "\n",
            "d:\\programs\\conda\\lib\\site-packages\\sklearn\\linear_model\\_coordinate_descent.py:647: ConvergenceWarning:\n",
            "\n",
            "Objective did not converge. You might want to increase the number of iterations, check the scale of the features or consider increasing regularisation. Duality gap: 5.374e+02, tolerance: 8.695e+01\n",
            "\n",
            "d:\\programs\\conda\\lib\\site-packages\\sklearn\\linear_model\\_coordinate_descent.py:647: ConvergenceWarning:\n",
            "\n",
            "Objective did not converge. You might want to increase the number of iterations, check the scale of the features or consider increasing regularisation. Duality gap: 5.224e+02, tolerance: 8.884e+01\n",
            "\n",
            "d:\\programs\\conda\\lib\\site-packages\\sklearn\\linear_model\\_coordinate_descent.py:647: ConvergenceWarning:\n",
            "\n",
            "Objective did not converge. You might want to increase the number of iterations, check the scale of the features or consider increasing regularisation. Duality gap: 4.396e+02, tolerance: 8.796e+01\n",
            "\n",
            "d:\\programs\\conda\\lib\\site-packages\\sklearn\\linear_model\\_coordinate_descent.py:647: ConvergenceWarning:\n",
            "\n",
            "Objective did not converge. You might want to increase the number of iterations, check the scale of the features or consider increasing regularisation. Duality gap: 5.121e+02, tolerance: 9.037e+01\n",
            "\n",
            "d:\\programs\\conda\\lib\\site-packages\\sklearn\\linear_model\\_coordinate_descent.py:647: ConvergenceWarning:\n",
            "\n",
            "Objective did not converge. You might want to increase the number of iterations, check the scale of the features or consider increasing regularisation. Duality gap: 4.902e+02, tolerance: 9.305e+01\n",
            "\n"
          ]
        },
        {
          "data": {
            "text/html": [
              "<div>\n",
              "<style scoped>\n",
              "    .dataframe tbody tr th:only-of-type {\n",
              "        vertical-align: middle;\n",
              "    }\n",
              "\n",
              "    .dataframe tbody tr th {\n",
              "        vertical-align: top;\n",
              "    }\n",
              "\n",
              "    .dataframe thead th {\n",
              "        text-align: right;\n",
              "    }\n",
              "</style>\n",
              "<table border=\"1\" class=\"dataframe\">\n",
              "  <thead>\n",
              "    <tr style=\"text-align: right;\">\n",
              "      <th></th>\n",
              "      <th>R Squared</th>\n",
              "      <th>MSE</th>\n",
              "      <th>RMSE</th>\n",
              "      <th>MAE</th>\n",
              "    </tr>\n",
              "  </thead>\n",
              "  <tbody>\n",
              "    <tr>\n",
              "      <th>Linear</th>\n",
              "      <td>-1.071688e+19</td>\n",
              "      <td>1.757566e+22</td>\n",
              "      <td>8.016554e+10</td>\n",
              "      <td>3.820879e+10</td>\n",
              "    </tr>\n",
              "    <tr>\n",
              "      <th>Lasso</th>\n",
              "      <td>7.288000e-01</td>\n",
              "      <td>3.998549e+02</td>\n",
              "      <td>1.995410e+01</td>\n",
              "      <td>9.572900e+00</td>\n",
              "    </tr>\n",
              "    <tr>\n",
              "      <th>Ridge</th>\n",
              "      <td>7.718000e-01</td>\n",
              "      <td>3.346313e+02</td>\n",
              "      <td>1.828530e+01</td>\n",
              "      <td>1.118600e+01</td>\n",
              "    </tr>\n",
              "    <tr>\n",
              "      <th>Bayesian Ridge</th>\n",
              "      <td>7.260000e-01</td>\n",
              "      <td>3.949589e+02</td>\n",
              "      <td>1.979510e+01</td>\n",
              "      <td>9.907300e+00</td>\n",
              "    </tr>\n",
              "    <tr>\n",
              "      <th>Bagging</th>\n",
              "      <td>7.160000e-01</td>\n",
              "      <td>3.973976e+02</td>\n",
              "      <td>2.053670e+01</td>\n",
              "      <td>1.250640e+01</td>\n",
              "    </tr>\n",
              "    <tr>\n",
              "      <th>RandomForest</th>\n",
              "      <td>7.585000e-01</td>\n",
              "      <td>3.613201e+02</td>\n",
              "      <td>1.900350e+01</td>\n",
              "      <td>1.210790e+01</td>\n",
              "    </tr>\n",
              "    <tr>\n",
              "      <th>AdaBoost</th>\n",
              "      <td>4.430000e-01</td>\n",
              "      <td>8.124303e+02</td>\n",
              "      <td>2.852370e+01</td>\n",
              "      <td>2.317980e+01</td>\n",
              "    </tr>\n",
              "  </tbody>\n",
              "</table>\n",
              "</div>"
            ],
            "text/plain": [
              "                  R Squared            MSE          RMSE           MAE\n",
              "Linear         -1.071688e+19  1.757566e+22  8.016554e+10  3.820879e+10\n",
              "Lasso           7.288000e-01  3.998549e+02  1.995410e+01  9.572900e+00\n",
              "Ridge           7.718000e-01  3.346313e+02  1.828530e+01  1.118600e+01\n",
              "Bayesian Ridge  7.260000e-01  3.949589e+02  1.979510e+01  9.907300e+00\n",
              "Bagging         7.160000e-01  3.973976e+02  2.053670e+01  1.250640e+01\n",
              "RandomForest    7.585000e-01  3.613201e+02  1.900350e+01  1.210790e+01\n",
              "AdaBoost        4.430000e-01  8.124303e+02  2.852370e+01  2.317980e+01"
            ]
          },
          "execution_count": 137,
          "metadata": {},
          "output_type": "execute_result"
        }
      ],
      "source": [
        "model_fitting(X, data['median salary'])"
      ]
    },
    {
      "attachments": {},
      "cell_type": "markdown",
      "metadata": {},
      "source": [
        "How the two tables above show there is no evidence that given the dataset is possible to fit a \"good enough\" regression model. Given the results the best model seems to be the \"Ridge\" regression model trained on the full data. The metrics used here are first the R-squared and secondly the RMSE.  To better visualize how the model fits the data we're going to show the residuals plot, the distribution of the residuals and a Q-Q plot.  "
      ]
    },
    {
      "cell_type": "code",
      "execution_count": 141,
      "metadata": {},
      "outputs": [],
      "source": [
        "# defining the model once more\n",
        "model = linear_model.Ridge()\n",
        "\n",
        "#getting the residuals using the same cross-validation method\n",
        "cv = KFold(n_splits=5, shuffle=True, random_state=45)\n",
        "\n",
        "# Fit the model and make predictions\n",
        "y_pred = cross_val_predict(model, X, y, cv=cv)\n",
        "\n",
        "# Calculate the residuals\n",
        "residuals = y - y_pred"
      ]
    },
    {
      "cell_type": "code",
      "execution_count": 142,
      "metadata": {},
      "outputs": [
        {
          "data": {
            "image/png": "[encoded data removed]",
            "text/plain": [
              "<Figure size 640x480 with 1 Axes>"
            ]
          },
          "metadata": {},
          "output_type": "display_data"
        }
      ],
      "source": [
        "# Plot the residuals against the predicted values\n",
        "plt.scatter(y_pred, residuals)\n",
        "plt.axhline(y=0, color='r', linestyle='-')\n",
        "plt.title('Residual Plot')\n",
        "plt.xlabel('Predicted Values')\n",
        "plt.ylabel('Residuals')\n",
        "plt.show()"
      ]
    },
    {
      "cell_type": "code",
      "execution_count": 143,
      "metadata": {},
      "outputs": [
        {
          "data": {
            "text/plain": [
              "<seaborn.axisgrid.FacetGrid at 0x1327f45bbe0>"
            ]
          },
          "execution_count": 143,
          "metadata": {},
          "output_type": "execute_result"
        },
        {
          "data": {
            "image/png": "[encoded data removed]",
            "text/plain": [
              "<Figure size 500x500 with 1 Axes>"
            ]
          },
          "metadata": {},
          "output_type": "display_data"
        }
      ],
      "source": [
        "sns.displot(residuals, kde=True)"
      ]
    },
    {
      "cell_type": "code",
      "execution_count": 145,
      "metadata": {},
      "outputs": [
        {
          "data": {
            "image/png": "[encoded data removed]",
            "text/plain": [
              "<Figure size 640x480 with 1 Axes>"
            ]
          },
          "metadata": {},
          "output_type": "display_data"
        }
      ],
      "source": [
        "import scipy.stats as stats\n",
        "\n",
        "stats.probplot(residuals, plot=plt)\n",
        "plt.show()"
      ]
    },
    {
      "attachments": {},
      "cell_type": "markdown",
      "metadata": {},
      "source": [
        "Given the above plots it seems like the overall model predictions are not to far off from the truth. The points in the residual plot seem to be scattered randomly around the residual = 0 line, the distribution plot shows a symmetric yet leptokurtic shape that can resemble a normal distribution, finally the QQ-plot seems to be relatively correct if not for the most extreme values. "
      ]
    }
  ],
  "metadata": {
    "colab": {
      "provenance": [],
      "toc_visible": true
    },
    "kernelspec": {
      "display_name": "Python 3",
      "name": "python3"
    },
    "language_info": {
      "codemirror_mode": {
        "name": "ipython",
        "version": 3
      },
      "file_extension": ".py",
      "mimetype": "text/x-python",
      "name": "python",
      "nbconvert_exporter": "python",
      "pygments_lexer": "ipython3",
      "version": "3.9.13"
    }
  },
  "nbformat": 4,
  "nbformat_minor": 0
}
