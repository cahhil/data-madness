{
  "nbformat": 4,
  "nbformat_minor": 0,
  "metadata": {
    "colab": {
      "provenance": []
    },
    "kernelspec": {
      "name": "python3",
      "display_name": "Python 3"
    },
    "language_info": {
      "name": "python"
    }
  },
  "cells": [
    {
      "cell_type": "code",
      "execution_count": 5,
      "metadata": {
        "id": "5jqqAIrSFrXX"
      },
      "outputs": [],
      "source": [
        "#utils\n",
        "import pandas as pd\n",
        "import numpy as np \n",
        "\n",
        "#stat and machine learning\n",
        "from scipy.stats import kstest, norm\n",
        "from sklearn.preprocessing import StandardScaler\n",
        "from sklearn.preprocessing import LabelEncoder\n",
        "\n",
        "#visualization\n",
        "import matplotlib.pyplot as plt\n",
        "import seaborn as sns"
      ]
    },
    {
      "cell_type": "markdown",
      "source": [
        "# First Look\n"
      ],
      "metadata": {
        "id": "ZvaB2a0YGV5S"
      }
    },
    {
      "cell_type": "markdown",
      "source": [
        "We're gonna make try and understand here what are the factors that most contribute for the salary of DS professionals and what is the shape teh job market in the USA right now. To do so we're gonna analyse the most crucial features in the dataset and see how they relate to eachother."
      ],
      "metadata": {
        "id": "02eEEnV3HT_8"
      }
    },
    {
      "cell_type": "code",
      "source": [
        "data = pd.read_csv(\"data_cleaned_2021.csv\",  escapechar='\\n')\n",
        "data = data.drop(\"index\",axis=1)\n",
        "data = data.drop([\"Lower Salary\", \"Upper Salary\", \"Avg Salary(K)\"], axis=1)\n",
        "data.head()"
      ],
      "metadata": {
        "colab": {
          "base_uri": "https://localhost:8080/",
          "height": 560
        },
        "id": "wJwdSFEeHESq",
        "outputId": "066688ee-963d-4f23-9712-ed68cfb8a836"
      },
      "execution_count": 30,
      "outputs": [
        {
          "output_type": "execute_result",
          "data": {
            "text/plain": [
              "                   Job Title              Salary Estimate  \\\n",
              "0             Data Scientist   $53K-$91K (Glassdoor est.)   \n",
              "1  Healthcare Data Scientist  $63K-$112K (Glassdoor est.)   \n",
              "2             Data Scientist   $80K-$90K (Glassdoor est.)   \n",
              "3             Data Scientist   $56K-$97K (Glassdoor est.)   \n",
              "4             Data Scientist  $86K-$143K (Glassdoor est.)   \n",
              "\n",
              "                                     Job Description  Rating  \\\n",
              "0  Data ScientistLocation: Albuquerque, NMEducati...     3.8   \n",
              "1  What You Will Do:\\nI. General Summary\\nThe Hea...     3.4   \n",
              "2  KnowBe4, Inc. is a high growth information sec...     4.8   \n",
              "3  *Organization and Job ID**Job ID: 310709\\nDire...     3.8   \n",
              "4  Data ScientistAffinity Solutions / Marketing C...     2.9   \n",
              "\n",
              "                               Company Name         Location    Headquarters  \\\n",
              "0                      Tecolote Research3.8  Albuquerque, NM      Goleta, CA   \n",
              "1  University of Maryland Medical System3.4    Linthicum, MD   Baltimore, MD   \n",
              "2                                KnowBe44.8   Clearwater, FL  Clearwater, FL   \n",
              "3                                   PNNL3.8     Richland, WA    Richland, WA   \n",
              "4                     Affinity Solutions2.9     New York, NY    New York, NY   \n",
              "\n",
              "           Size  Founded   Type of ownership  ... tensor hadoop tableau bi  \\\n",
              "0   501 - 1000      1973   Company - Private  ...      0      0       1  1   \n",
              "1       10000+      1984  Other Organization  ...      0      0       0  0   \n",
              "2   501 - 1000      2010   Company - Private  ...      0      0       0  0   \n",
              "3  1001 - 5000      1965          Government  ...      0      0       0  0   \n",
              "4     51 - 200      1998   Company - Private  ...      0      0       0  0   \n",
              "\n",
              "   flink  mongo  google_an   job_title_sim  seniority_by_title Degree  \n",
              "0      0      0          0  data scientist                  na      M  \n",
              "1      0      0          0  data scientist                  na      M  \n",
              "2      0      0          0  data scientist                  na      M  \n",
              "3      0      0          0  data scientist                  na     na  \n",
              "4      0      0          0  data scientist                  na     na  \n",
              "\n",
              "[5 rows x 41 columns]"
            ],
            "text/html": [
              "\n",
              "  <div id=\"df-82ad487c-375f-455b-8694-a40659a1b2dc\">\n",
              "    <div class=\"colab-df-container\">\n",
              "      <div>\n",
              "<style scoped>\n",
              "    .dataframe tbody tr th:only-of-type {\n",
              "        vertical-align: middle;\n",
              "    }\n",
              "\n",
              "    .dataframe tbody tr th {\n",
              "        vertical-align: top;\n",
              "    }\n",
              "\n",
              "    .dataframe thead th {\n",
              "        text-align: right;\n",
              "    }\n",
              "</style>\n",
              "<table border=\"1\" class=\"dataframe\">\n",
              "  <thead>\n",
              "    <tr style=\"text-align: right;\">\n",
              "      <th></th>\n",
              "      <th>Job Title</th>\n",
              "      <th>Salary Estimate</th>\n",
              "      <th>Job Description</th>\n",
              "      <th>Rating</th>\n",
              "      <th>Company Name</th>\n",
              "      <th>Location</th>\n",
              "      <th>Headquarters</th>\n",
              "      <th>Size</th>\n",
              "      <th>Founded</th>\n",
              "      <th>Type of ownership</th>\n",
              "      <th>...</th>\n",
              "      <th>tensor</th>\n",
              "      <th>hadoop</th>\n",
              "      <th>tableau</th>\n",
              "      <th>bi</th>\n",
              "      <th>flink</th>\n",
              "      <th>mongo</th>\n",
              "      <th>google_an</th>\n",
              "      <th>job_title_sim</th>\n",
              "      <th>seniority_by_title</th>\n",
              "      <th>Degree</th>\n",
              "    </tr>\n",
              "  </thead>\n",
              "  <tbody>\n",
              "    <tr>\n",
              "      <th>0</th>\n",
              "      <td>Data Scientist</td>\n",
              "      <td>$53K-$91K (Glassdoor est.)</td>\n",
              "      <td>Data ScientistLocation: Albuquerque, NMEducati...</td>\n",
              "      <td>3.8</td>\n",
              "      <td>Tecolote Research3.8</td>\n",
              "      <td>Albuquerque, NM</td>\n",
              "      <td>Goleta, CA</td>\n",
              "      <td>501 - 1000</td>\n",
              "      <td>1973</td>\n",
              "      <td>Company - Private</td>\n",
              "      <td>...</td>\n",
              "      <td>0</td>\n",
              "      <td>0</td>\n",
              "      <td>1</td>\n",
              "      <td>1</td>\n",
              "      <td>0</td>\n",
              "      <td>0</td>\n",
              "      <td>0</td>\n",
              "      <td>data scientist</td>\n",
              "      <td>na</td>\n",
              "      <td>M</td>\n",
              "    </tr>\n",
              "    <tr>\n",
              "      <th>1</th>\n",
              "      <td>Healthcare Data Scientist</td>\n",
              "      <td>$63K-$112K (Glassdoor est.)</td>\n",
              "      <td>What You Will Do:\\nI. General Summary\\nThe Hea...</td>\n",
              "      <td>3.4</td>\n",
              "      <td>University of Maryland Medical System3.4</td>\n",
              "      <td>Linthicum, MD</td>\n",
              "      <td>Baltimore, MD</td>\n",
              "      <td>10000+</td>\n",
              "      <td>1984</td>\n",
              "      <td>Other Organization</td>\n",
              "      <td>...</td>\n",
              "      <td>0</td>\n",
              "      <td>0</td>\n",
              "      <td>0</td>\n",
              "      <td>0</td>\n",
              "      <td>0</td>\n",
              "      <td>0</td>\n",
              "      <td>0</td>\n",
              "      <td>data scientist</td>\n",
              "      <td>na</td>\n",
              "      <td>M</td>\n",
              "    </tr>\n",
              "    <tr>\n",
              "      <th>2</th>\n",
              "      <td>Data Scientist</td>\n",
              "      <td>$80K-$90K (Glassdoor est.)</td>\n",
              "      <td>KnowBe4, Inc. is a high growth information sec...</td>\n",
              "      <td>4.8</td>\n",
              "      <td>KnowBe44.8</td>\n",
              "      <td>Clearwater, FL</td>\n",
              "      <td>Clearwater, FL</td>\n",
              "      <td>501 - 1000</td>\n",
              "      <td>2010</td>\n",
              "      <td>Company - Private</td>\n",
              "      <td>...</td>\n",
              "      <td>0</td>\n",
              "      <td>0</td>\n",
              "      <td>0</td>\n",
              "      <td>0</td>\n",
              "      <td>0</td>\n",
              "      <td>0</td>\n",
              "      <td>0</td>\n",
              "      <td>data scientist</td>\n",
              "      <td>na</td>\n",
              "      <td>M</td>\n",
              "    </tr>\n",
              "    <tr>\n",
              "      <th>3</th>\n",
              "      <td>Data Scientist</td>\n",
              "      <td>$56K-$97K (Glassdoor est.)</td>\n",
              "      <td>*Organization and Job ID**Job ID: 310709\\nDire...</td>\n",
              "      <td>3.8</td>\n",
              "      <td>PNNL3.8</td>\n",
              "      <td>Richland, WA</td>\n",
              "      <td>Richland, WA</td>\n",
              "      <td>1001 - 5000</td>\n",
              "      <td>1965</td>\n",
              "      <td>Government</td>\n",
              "      <td>...</td>\n",
              "      <td>0</td>\n",
              "      <td>0</td>\n",
              "      <td>0</td>\n",
              "      <td>0</td>\n",
              "      <td>0</td>\n",
              "      <td>0</td>\n",
              "      <td>0</td>\n",
              "      <td>data scientist</td>\n",
              "      <td>na</td>\n",
              "      <td>na</td>\n",
              "    </tr>\n",
              "    <tr>\n",
              "      <th>4</th>\n",
              "      <td>Data Scientist</td>\n",
              "      <td>$86K-$143K (Glassdoor est.)</td>\n",
              "      <td>Data ScientistAffinity Solutions / Marketing C...</td>\n",
              "      <td>2.9</td>\n",
              "      <td>Affinity Solutions2.9</td>\n",
              "      <td>New York, NY</td>\n",
              "      <td>New York, NY</td>\n",
              "      <td>51 - 200</td>\n",
              "      <td>1998</td>\n",
              "      <td>Company - Private</td>\n",
              "      <td>...</td>\n",
              "      <td>0</td>\n",
              "      <td>0</td>\n",
              "      <td>0</td>\n",
              "      <td>0</td>\n",
              "      <td>0</td>\n",
              "      <td>0</td>\n",
              "      <td>0</td>\n",
              "      <td>data scientist</td>\n",
              "      <td>na</td>\n",
              "      <td>na</td>\n",
              "    </tr>\n",
              "  </tbody>\n",
              "</table>\n",
              "<p>5 rows × 41 columns</p>\n",
              "</div>\n",
              "      <button class=\"colab-df-convert\" onclick=\"convertToInteractive('df-82ad487c-375f-455b-8694-a40659a1b2dc')\"\n",
              "              title=\"Convert this dataframe to an interactive table.\"\n",
              "              style=\"display:none;\">\n",
              "        \n",
              "  <svg xmlns=\"http://www.w3.org/2000/svg\" height=\"24px\"viewBox=\"0 0 24 24\"\n",
              "       width=\"24px\">\n",
              "    <path d=\"M0 0h24v24H0V0z\" fill=\"none\"/>\n",
              "    <path d=\"M18.56 5.44l.94 2.06.94-2.06 2.06-.94-2.06-.94-.94-2.06-.94 2.06-2.06.94zm-11 1L8.5 8.5l.94-2.06 2.06-.94-2.06-.94L8.5 2.5l-.94 2.06-2.06.94zm10 10l.94 2.06.94-2.06 2.06-.94-2.06-.94-.94-2.06-.94 2.06-2.06.94z\"/><path d=\"M17.41 7.96l-1.37-1.37c-.4-.4-.92-.59-1.43-.59-.52 0-1.04.2-1.43.59L10.3 9.45l-7.72 7.72c-.78.78-.78 2.05 0 2.83L4 21.41c.39.39.9.59 1.41.59.51 0 1.02-.2 1.41-.59l7.78-7.78 2.81-2.81c.8-.78.8-2.07 0-2.86zM5.41 20L4 18.59l7.72-7.72 1.47 1.35L5.41 20z\"/>\n",
              "  </svg>\n",
              "      </button>\n",
              "      \n",
              "  <style>\n",
              "    .colab-df-container {\n",
              "      display:flex;\n",
              "      flex-wrap:wrap;\n",
              "      gap: 12px;\n",
              "    }\n",
              "\n",
              "    .colab-df-convert {\n",
              "      background-color: #E8F0FE;\n",
              "      border: none;\n",
              "      border-radius: 50%;\n",
              "      cursor: pointer;\n",
              "      display: none;\n",
              "      fill: #1967D2;\n",
              "      height: 32px;\n",
              "      padding: 0 0 0 0;\n",
              "      width: 32px;\n",
              "    }\n",
              "\n",
              "    .colab-df-convert:hover {\n",
              "      background-color: #E2EBFA;\n",
              "      box-shadow: 0px 1px 2px rgba(60, 64, 67, 0.3), 0px 1px 3px 1px rgba(60, 64, 67, 0.15);\n",
              "      fill: #174EA6;\n",
              "    }\n",
              "\n",
              "    [theme=dark] .colab-df-convert {\n",
              "      background-color: #3B4455;\n",
              "      fill: #D2E3FC;\n",
              "    }\n",
              "\n",
              "    [theme=dark] .colab-df-convert:hover {\n",
              "      background-color: #434B5C;\n",
              "      box-shadow: 0px 1px 3px 1px rgba(0, 0, 0, 0.15);\n",
              "      filter: drop-shadow(0px 1px 2px rgba(0, 0, 0, 0.3));\n",
              "      fill: #FFFFFF;\n",
              "    }\n",
              "  </style>\n",
              "\n",
              "      <script>\n",
              "        const buttonEl =\n",
              "          document.querySelector('#df-82ad487c-375f-455b-8694-a40659a1b2dc button.colab-df-convert');\n",
              "        buttonEl.style.display =\n",
              "          google.colab.kernel.accessAllowed ? 'block' : 'none';\n",
              "\n",
              "        async function convertToInteractive(key) {\n",
              "          const element = document.querySelector('#df-82ad487c-375f-455b-8694-a40659a1b2dc');\n",
              "          const dataTable =\n",
              "            await google.colab.kernel.invokeFunction('convertToInteractive',\n",
              "                                                     [key], {});\n",
              "          if (!dataTable) return;\n",
              "\n",
              "          const docLinkHtml = 'Like what you see? Visit the ' +\n",
              "            '<a target=\"_blank\" href=https://colab.research.google.com/notebooks/data_table.ipynb>data table notebook</a>'\n",
              "            + ' to learn more about interactive tables.';\n",
              "          element.innerHTML = '';\n",
              "          dataTable['output_type'] = 'display_data';\n",
              "          await google.colab.output.renderOutput(dataTable, element);\n",
              "          const docLink = document.createElement('div');\n",
              "          docLink.innerHTML = docLinkHtml;\n",
              "          element.appendChild(docLink);\n",
              "        }\n",
              "      </script>\n",
              "    </div>\n",
              "  </div>\n",
              "  "
            ]
          },
          "metadata": {},
          "execution_count": 30
        }
      ]
    },
    {
      "cell_type": "markdown",
      "source": [
        "It looks like there are many complex string inputs. We really want to make some sense of all that information. But let's first take a step back and visualize some metrics of the numeric features. \n",
        "\n"
      ],
      "metadata": {
        "id": "FKbclklZH4ZM"
      }
    },
    {
      "cell_type": "code",
      "source": [
        "data.describe()"
      ],
      "metadata": {
        "colab": {
          "base_uri": "https://localhost:8080/",
          "height": 411
        },
        "id": "_0WePyndH3rt",
        "outputId": "7336a2f3-dee1-4ff5-c6ca-68f6a35f35e9"
      },
      "execution_count": 31,
      "outputs": [
        {
          "output_type": "execute_result",
          "data": {
            "text/plain": [
              "           Rating      Founded      Hourly  Employer provided  Lower Salary  \\\n",
              "count  742.000000   742.000000  742.000000         742.000000    742.000000   \n",
              "mean     3.618868  1837.154987    0.032345           0.022911     74.754717   \n",
              "std      0.801210   497.183763    0.177034           0.149721     30.945892   \n",
              "min     -1.000000    -1.000000    0.000000           0.000000     15.000000   \n",
              "25%      3.300000  1939.000000    0.000000           0.000000     52.000000   \n",
              "50%      3.700000  1988.000000    0.000000           0.000000     69.500000   \n",
              "75%      4.000000  2007.000000    0.000000           0.000000     91.000000   \n",
              "max      5.000000  2019.000000    1.000000           1.000000    202.000000   \n",
              "\n",
              "       Upper Salary  Avg Salary(K)         Age      Python       spark  ...  \\\n",
              "count    742.000000     742.000000  742.000000  742.000000  742.000000  ...   \n",
              "mean     128.214286     101.484501   47.524259    0.528302    0.225067  ...   \n",
              "std       45.128650      37.482449   53.839080    0.499535    0.417908  ...   \n",
              "min       16.000000      15.500000   -1.000000    0.000000    0.000000  ...   \n",
              "25%       96.000000      73.500000   12.000000    0.000000    0.000000  ...   \n",
              "50%      124.000000      97.500000   25.000000    1.000000    0.000000  ...   \n",
              "75%      155.000000     122.500000   60.000000    1.000000    0.000000  ...   \n",
              "max      306.000000     254.000000  277.000000    1.000000    1.000000  ...   \n",
              "\n",
              "            keras     pytorch      scikit      tensor      hadoop     tableau  \\\n",
              "count  742.000000  742.000000  742.000000  742.000000  742.000000  742.000000   \n",
              "mean     0.039084    0.052561    0.072776    0.097035    0.167116    0.199461   \n",
              "std      0.193925    0.223305    0.259944    0.296205    0.373331    0.399865   \n",
              "min      0.000000    0.000000    0.000000    0.000000    0.000000    0.000000   \n",
              "25%      0.000000    0.000000    0.000000    0.000000    0.000000    0.000000   \n",
              "50%      0.000000    0.000000    0.000000    0.000000    0.000000    0.000000   \n",
              "75%      0.000000    0.000000    0.000000    0.000000    0.000000    0.000000   \n",
              "max      1.000000    1.000000    1.000000    1.000000    1.000000    1.000000   \n",
              "\n",
              "               bi       flink       mongo   google_an  \n",
              "count  742.000000  742.000000  742.000000  742.000000  \n",
              "mean     0.075472    0.013477    0.049865    0.018868  \n",
              "std      0.264329    0.115384    0.217813    0.136150  \n",
              "min      0.000000    0.000000    0.000000    0.000000  \n",
              "25%      0.000000    0.000000    0.000000    0.000000  \n",
              "50%      0.000000    0.000000    0.000000    0.000000  \n",
              "75%      0.000000    0.000000    0.000000    0.000000  \n",
              "max      1.000000    1.000000    1.000000    1.000000  \n",
              "\n",
              "[8 rows x 24 columns]"
            ],
            "text/html": [
              "\n",
              "  <div id=\"df-f38f2da7-ca87-47a2-9644-507f46364533\">\n",
              "    <div class=\"colab-df-container\">\n",
              "      <div>\n",
              "<style scoped>\n",
              "    .dataframe tbody tr th:only-of-type {\n",
              "        vertical-align: middle;\n",
              "    }\n",
              "\n",
              "    .dataframe tbody tr th {\n",
              "        vertical-align: top;\n",
              "    }\n",
              "\n",
              "    .dataframe thead th {\n",
              "        text-align: right;\n",
              "    }\n",
              "</style>\n",
              "<table border=\"1\" class=\"dataframe\">\n",
              "  <thead>\n",
              "    <tr style=\"text-align: right;\">\n",
              "      <th></th>\n",
              "      <th>Rating</th>\n",
              "      <th>Founded</th>\n",
              "      <th>Hourly</th>\n",
              "      <th>Employer provided</th>\n",
              "      <th>Lower Salary</th>\n",
              "      <th>Upper Salary</th>\n",
              "      <th>Avg Salary(K)</th>\n",
              "      <th>Age</th>\n",
              "      <th>Python</th>\n",
              "      <th>spark</th>\n",
              "      <th>...</th>\n",
              "      <th>keras</th>\n",
              "      <th>pytorch</th>\n",
              "      <th>scikit</th>\n",
              "      <th>tensor</th>\n",
              "      <th>hadoop</th>\n",
              "      <th>tableau</th>\n",
              "      <th>bi</th>\n",
              "      <th>flink</th>\n",
              "      <th>mongo</th>\n",
              "      <th>google_an</th>\n",
              "    </tr>\n",
              "  </thead>\n",
              "  <tbody>\n",
              "    <tr>\n",
              "      <th>count</th>\n",
              "      <td>742.000000</td>\n",
              "      <td>742.000000</td>\n",
              "      <td>742.000000</td>\n",
              "      <td>742.000000</td>\n",
              "      <td>742.000000</td>\n",
              "      <td>742.000000</td>\n",
              "      <td>742.000000</td>\n",
              "      <td>742.000000</td>\n",
              "      <td>742.000000</td>\n",
              "      <td>742.000000</td>\n",
              "      <td>...</td>\n",
              "      <td>742.000000</td>\n",
              "      <td>742.000000</td>\n",
              "      <td>742.000000</td>\n",
              "      <td>742.000000</td>\n",
              "      <td>742.000000</td>\n",
              "      <td>742.000000</td>\n",
              "      <td>742.000000</td>\n",
              "      <td>742.000000</td>\n",
              "      <td>742.000000</td>\n",
              "      <td>742.000000</td>\n",
              "    </tr>\n",
              "    <tr>\n",
              "      <th>mean</th>\n",
              "      <td>3.618868</td>\n",
              "      <td>1837.154987</td>\n",
              "      <td>0.032345</td>\n",
              "      <td>0.022911</td>\n",
              "      <td>74.754717</td>\n",
              "      <td>128.214286</td>\n",
              "      <td>101.484501</td>\n",
              "      <td>47.524259</td>\n",
              "      <td>0.528302</td>\n",
              "      <td>0.225067</td>\n",
              "      <td>...</td>\n",
              "      <td>0.039084</td>\n",
              "      <td>0.052561</td>\n",
              "      <td>0.072776</td>\n",
              "      <td>0.097035</td>\n",
              "      <td>0.167116</td>\n",
              "      <td>0.199461</td>\n",
              "      <td>0.075472</td>\n",
              "      <td>0.013477</td>\n",
              "      <td>0.049865</td>\n",
              "      <td>0.018868</td>\n",
              "    </tr>\n",
              "    <tr>\n",
              "      <th>std</th>\n",
              "      <td>0.801210</td>\n",
              "      <td>497.183763</td>\n",
              "      <td>0.177034</td>\n",
              "      <td>0.149721</td>\n",
              "      <td>30.945892</td>\n",
              "      <td>45.128650</td>\n",
              "      <td>37.482449</td>\n",
              "      <td>53.839080</td>\n",
              "      <td>0.499535</td>\n",
              "      <td>0.417908</td>\n",
              "      <td>...</td>\n",
              "      <td>0.193925</td>\n",
              "      <td>0.223305</td>\n",
              "      <td>0.259944</td>\n",
              "      <td>0.296205</td>\n",
              "      <td>0.373331</td>\n",
              "      <td>0.399865</td>\n",
              "      <td>0.264329</td>\n",
              "      <td>0.115384</td>\n",
              "      <td>0.217813</td>\n",
              "      <td>0.136150</td>\n",
              "    </tr>\n",
              "    <tr>\n",
              "      <th>min</th>\n",
              "      <td>-1.000000</td>\n",
              "      <td>-1.000000</td>\n",
              "      <td>0.000000</td>\n",
              "      <td>0.000000</td>\n",
              "      <td>15.000000</td>\n",
              "      <td>16.000000</td>\n",
              "      <td>15.500000</td>\n",
              "      <td>-1.000000</td>\n",
              "      <td>0.000000</td>\n",
              "      <td>0.000000</td>\n",
              "      <td>...</td>\n",
              "      <td>0.000000</td>\n",
              "      <td>0.000000</td>\n",
              "      <td>0.000000</td>\n",
              "      <td>0.000000</td>\n",
              "      <td>0.000000</td>\n",
              "      <td>0.000000</td>\n",
              "      <td>0.000000</td>\n",
              "      <td>0.000000</td>\n",
              "      <td>0.000000</td>\n",
              "      <td>0.000000</td>\n",
              "    </tr>\n",
              "    <tr>\n",
              "      <th>25%</th>\n",
              "      <td>3.300000</td>\n",
              "      <td>1939.000000</td>\n",
              "      <td>0.000000</td>\n",
              "      <td>0.000000</td>\n",
              "      <td>52.000000</td>\n",
              "      <td>96.000000</td>\n",
              "      <td>73.500000</td>\n",
              "      <td>12.000000</td>\n",
              "      <td>0.000000</td>\n",
              "      <td>0.000000</td>\n",
              "      <td>...</td>\n",
              "      <td>0.000000</td>\n",
              "      <td>0.000000</td>\n",
              "      <td>0.000000</td>\n",
              "      <td>0.000000</td>\n",
              "      <td>0.000000</td>\n",
              "      <td>0.000000</td>\n",
              "      <td>0.000000</td>\n",
              "      <td>0.000000</td>\n",
              "      <td>0.000000</td>\n",
              "      <td>0.000000</td>\n",
              "    </tr>\n",
              "    <tr>\n",
              "      <th>50%</th>\n",
              "      <td>3.700000</td>\n",
              "      <td>1988.000000</td>\n",
              "      <td>0.000000</td>\n",
              "      <td>0.000000</td>\n",
              "      <td>69.500000</td>\n",
              "      <td>124.000000</td>\n",
              "      <td>97.500000</td>\n",
              "      <td>25.000000</td>\n",
              "      <td>1.000000</td>\n",
              "      <td>0.000000</td>\n",
              "      <td>...</td>\n",
              "      <td>0.000000</td>\n",
              "      <td>0.000000</td>\n",
              "      <td>0.000000</td>\n",
              "      <td>0.000000</td>\n",
              "      <td>0.000000</td>\n",
              "      <td>0.000000</td>\n",
              "      <td>0.000000</td>\n",
              "      <td>0.000000</td>\n",
              "      <td>0.000000</td>\n",
              "      <td>0.000000</td>\n",
              "    </tr>\n",
              "    <tr>\n",
              "      <th>75%</th>\n",
              "      <td>4.000000</td>\n",
              "      <td>2007.000000</td>\n",
              "      <td>0.000000</td>\n",
              "      <td>0.000000</td>\n",
              "      <td>91.000000</td>\n",
              "      <td>155.000000</td>\n",
              "      <td>122.500000</td>\n",
              "      <td>60.000000</td>\n",
              "      <td>1.000000</td>\n",
              "      <td>0.000000</td>\n",
              "      <td>...</td>\n",
              "      <td>0.000000</td>\n",
              "      <td>0.000000</td>\n",
              "      <td>0.000000</td>\n",
              "      <td>0.000000</td>\n",
              "      <td>0.000000</td>\n",
              "      <td>0.000000</td>\n",
              "      <td>0.000000</td>\n",
              "      <td>0.000000</td>\n",
              "      <td>0.000000</td>\n",
              "      <td>0.000000</td>\n",
              "    </tr>\n",
              "    <tr>\n",
              "      <th>max</th>\n",
              "      <td>5.000000</td>\n",
              "      <td>2019.000000</td>\n",
              "      <td>1.000000</td>\n",
              "      <td>1.000000</td>\n",
              "      <td>202.000000</td>\n",
              "      <td>306.000000</td>\n",
              "      <td>254.000000</td>\n",
              "      <td>277.000000</td>\n",
              "      <td>1.000000</td>\n",
              "      <td>1.000000</td>\n",
              "      <td>...</td>\n",
              "      <td>1.000000</td>\n",
              "      <td>1.000000</td>\n",
              "      <td>1.000000</td>\n",
              "      <td>1.000000</td>\n",
              "      <td>1.000000</td>\n",
              "      <td>1.000000</td>\n",
              "      <td>1.000000</td>\n",
              "      <td>1.000000</td>\n",
              "      <td>1.000000</td>\n",
              "      <td>1.000000</td>\n",
              "    </tr>\n",
              "  </tbody>\n",
              "</table>\n",
              "<p>8 rows × 24 columns</p>\n",
              "</div>\n",
              "      <button class=\"colab-df-convert\" onclick=\"convertToInteractive('df-f38f2da7-ca87-47a2-9644-507f46364533')\"\n",
              "              title=\"Convert this dataframe to an interactive table.\"\n",
              "              style=\"display:none;\">\n",
              "        \n",
              "  <svg xmlns=\"http://www.w3.org/2000/svg\" height=\"24px\"viewBox=\"0 0 24 24\"\n",
              "       width=\"24px\">\n",
              "    <path d=\"M0 0h24v24H0V0z\" fill=\"none\"/>\n",
              "    <path d=\"M18.56 5.44l.94 2.06.94-2.06 2.06-.94-2.06-.94-.94-2.06-.94 2.06-2.06.94zm-11 1L8.5 8.5l.94-2.06 2.06-.94-2.06-.94L8.5 2.5l-.94 2.06-2.06.94zm10 10l.94 2.06.94-2.06 2.06-.94-2.06-.94-.94-2.06-.94 2.06-2.06.94z\"/><path d=\"M17.41 7.96l-1.37-1.37c-.4-.4-.92-.59-1.43-.59-.52 0-1.04.2-1.43.59L10.3 9.45l-7.72 7.72c-.78.78-.78 2.05 0 2.83L4 21.41c.39.39.9.59 1.41.59.51 0 1.02-.2 1.41-.59l7.78-7.78 2.81-2.81c.8-.78.8-2.07 0-2.86zM5.41 20L4 18.59l7.72-7.72 1.47 1.35L5.41 20z\"/>\n",
              "  </svg>\n",
              "      </button>\n",
              "      \n",
              "  <style>\n",
              "    .colab-df-container {\n",
              "      display:flex;\n",
              "      flex-wrap:wrap;\n",
              "      gap: 12px;\n",
              "    }\n",
              "\n",
              "    .colab-df-convert {\n",
              "      background-color: #E8F0FE;\n",
              "      border: none;\n",
              "      border-radius: 50%;\n",
              "      cursor: pointer;\n",
              "      display: none;\n",
              "      fill: #1967D2;\n",
              "      height: 32px;\n",
              "      padding: 0 0 0 0;\n",
              "      width: 32px;\n",
              "    }\n",
              "\n",
              "    .colab-df-convert:hover {\n",
              "      background-color: #E2EBFA;\n",
              "      box-shadow: 0px 1px 2px rgba(60, 64, 67, 0.3), 0px 1px 3px 1px rgba(60, 64, 67, 0.15);\n",
              "      fill: #174EA6;\n",
              "    }\n",
              "\n",
              "    [theme=dark] .colab-df-convert {\n",
              "      background-color: #3B4455;\n",
              "      fill: #D2E3FC;\n",
              "    }\n",
              "\n",
              "    [theme=dark] .colab-df-convert:hover {\n",
              "      background-color: #434B5C;\n",
              "      box-shadow: 0px 1px 3px 1px rgba(0, 0, 0, 0.15);\n",
              "      filter: drop-shadow(0px 1px 2px rgba(0, 0, 0, 0.3));\n",
              "      fill: #FFFFFF;\n",
              "    }\n",
              "  </style>\n",
              "\n",
              "      <script>\n",
              "        const buttonEl =\n",
              "          document.querySelector('#df-f38f2da7-ca87-47a2-9644-507f46364533 button.colab-df-convert');\n",
              "        buttonEl.style.display =\n",
              "          google.colab.kernel.accessAllowed ? 'block' : 'none';\n",
              "\n",
              "        async function convertToInteractive(key) {\n",
              "          const element = document.querySelector('#df-f38f2da7-ca87-47a2-9644-507f46364533');\n",
              "          const dataTable =\n",
              "            await google.colab.kernel.invokeFunction('convertToInteractive',\n",
              "                                                     [key], {});\n",
              "          if (!dataTable) return;\n",
              "\n",
              "          const docLinkHtml = 'Like what you see? Visit the ' +\n",
              "            '<a target=\"_blank\" href=https://colab.research.google.com/notebooks/data_table.ipynb>data table notebook</a>'\n",
              "            + ' to learn more about interactive tables.';\n",
              "          element.innerHTML = '';\n",
              "          dataTable['output_type'] = 'display_data';\n",
              "          await google.colab.output.renderOutput(dataTable, element);\n",
              "          const docLink = document.createElement('div');\n",
              "          docLink.innerHTML = docLinkHtml;\n",
              "          element.appendChild(docLink);\n",
              "        }\n",
              "      </script>\n",
              "    </div>\n",
              "  </div>\n",
              "  "
            ]
          },
          "metadata": {},
          "execution_count": 31
        }
      ]
    },
    {
      "cell_type": "code",
      "source": [
        "#Getting some insight of the how many misisng values in the dataset and the types of the features\n",
        "data.info()"
      ],
      "metadata": {
        "colab": {
          "base_uri": "https://localhost:8080/"
        },
        "id": "uSQiHp73JE-J",
        "outputId": "a364e67d-cb35-4c83-d4cc-746954436a04"
      },
      "execution_count": 32,
      "outputs": [
        {
          "output_type": "stream",
          "name": "stdout",
          "text": [
            "<class 'pandas.core.frame.DataFrame'>\n",
            "RangeIndex: 742 entries, 0 to 741\n",
            "Data columns (total 41 columns):\n",
            " #   Column              Non-Null Count  Dtype  \n",
            "---  ------              --------------  -----  \n",
            " 0   Job Title           742 non-null    object \n",
            " 1   Salary Estimate     742 non-null    object \n",
            " 2   Job Description     742 non-null    object \n",
            " 3   Rating              742 non-null    float64\n",
            " 4   Company Name        742 non-null    object \n",
            " 5   Location            742 non-null    object \n",
            " 6   Headquarters        742 non-null    object \n",
            " 7   Size                742 non-null    object \n",
            " 8   Founded             742 non-null    int64  \n",
            " 9   Type of ownership   742 non-null    object \n",
            " 10  Industry            742 non-null    object \n",
            " 11  Sector              742 non-null    object \n",
            " 12  Revenue             742 non-null    object \n",
            " 13  Competitors         742 non-null    object \n",
            " 14  Hourly              742 non-null    int64  \n",
            " 15  Employer provided   742 non-null    int64  \n",
            " 16  Lower Salary        742 non-null    int64  \n",
            " 17  Upper Salary        742 non-null    int64  \n",
            " 18  Avg Salary(K)       742 non-null    float64\n",
            " 19  company_txt         742 non-null    object \n",
            " 20  Job Location        742 non-null    object \n",
            " 21  Age                 742 non-null    int64  \n",
            " 22  Python              742 non-null    int64  \n",
            " 23  spark               742 non-null    int64  \n",
            " 24  aws                 742 non-null    int64  \n",
            " 25  excel               742 non-null    int64  \n",
            " 26  sql                 742 non-null    int64  \n",
            " 27  sas                 742 non-null    int64  \n",
            " 28  keras               742 non-null    int64  \n",
            " 29  pytorch             742 non-null    int64  \n",
            " 30  scikit              742 non-null    int64  \n",
            " 31  tensor              742 non-null    int64  \n",
            " 32  hadoop              742 non-null    int64  \n",
            " 33  tableau             742 non-null    int64  \n",
            " 34  bi                  742 non-null    int64  \n",
            " 35  flink               742 non-null    int64  \n",
            " 36  mongo               742 non-null    int64  \n",
            " 37  google_an           742 non-null    int64  \n",
            " 38  job_title_sim       742 non-null    object \n",
            " 39  seniority_by_title  742 non-null    object \n",
            " 40  Degree              742 non-null    object \n",
            "dtypes: float64(2), int64(22), object(17)\n",
            "memory usage: 237.8+ KB\n"
          ]
        }
      ]
    },
    {
      "cell_type": "markdown",
      "source": [
        "# Data Cleaning"
      ],
      "metadata": {
        "id": "ap1690z7hnnz"
      }
    },
    {
      "cell_type": "markdown",
      "source": [
        "Let's now take a look at the target variable aka \"Salary_estimate\" and how it's distributed. In order to do so we need an efficient way to map the salary range provided in the column to a numeric value "
      ],
      "metadata": {
        "id": "jg0u1wGBKKt0"
      }
    },
    {
      "cell_type": "code",
      "source": [
        "def clean_salaries(data):\n",
        "  \n",
        "  #here I'm taking the two numbers from the salry column and combining them in a easier format\n",
        "  data['num1'] = data['Salary Estimate'].str.extract('(\\d+)').astype(int)\n",
        "  data['num2'] = data['Salary Estimate'].str.extract('\\d+\\D+(\\d+)').astype(int)\n",
        "  data['range'] = data.apply(lambda x: f\"{x['num1']}-{x['num2']}\", axis=1)\n",
        "\n",
        "  #dropping the newly created features\n",
        "  data = data.drop([\"num1\", \"num2\"], axis=1)\n",
        "\n",
        "  return data\n",
        "\n",
        "def min_salaries(row):\n",
        "    range = [int(num) for num in row[\"range\"].split(\"-\")]\n",
        "    return min(range)\n",
        "\n",
        "def median_salaries(row):\n",
        "    range = [int(num) for num in row[\"range\"].split(\"-\")]\n",
        "    return pd.Series(range).median()\n",
        "\n",
        "def max_salary(row):\n",
        "    range = [int(num) for num in row[\"range\"].split(\"-\")]\n",
        "    return max(range)\n",
        "\n",
        "data = clean_salaries(data)\n",
        "data[\"min salary\"] = data.apply(lambda row: min_salaries(row), axis=1)\n",
        "data[\"median salary\"] = data.apply(lambda row: median_salaries(row), axis=1)\n",
        "data[\"max salary\"] = data.apply(lambda row: max_salary(row), axis=1)\n",
        "\n",
        "data.tail()"
      ],
      "metadata": {
        "colab": {
          "base_uri": "https://localhost:8080/",
          "height": 646
        },
        "id": "U-LVJhuFJsOG",
        "outputId": "0795e402-9288-4a1a-81b0-ff41a3f9037f"
      },
      "execution_count": 33,
      "outputs": [
        {
          "output_type": "execute_result",
          "data": {
            "text/plain": [
              "                                             Job Title  \\\n",
              "737           Sr Scientist, Immuno-Oncology - Oncology   \n",
              "738                               Senior Data Engineer   \n",
              "739  Project Scientist - Auton Lab, Robotics Institute   \n",
              "740                               Data Science Manager   \n",
              "741          Research Scientist – Security and Privacy   \n",
              "\n",
              "                 Salary Estimate  \\\n",
              "737  $58K-$111K (Glassdoor est.)   \n",
              "738  $72K-$133K (Glassdoor est.)   \n",
              "739   $56K-$91K (Glassdoor est.)   \n",
              "740  $95K-$160K (Glassdoor est.)   \n",
              "741  $61K-$126K (Glassdoor est.)   \n",
              "\n",
              "                                       Job Description  Rating  \\\n",
              "737  Site Name: USA - Massachusetts - CambridgePost...     3.9   \n",
              "738  THE CHALLENGEEventbrite has a world-class data...     4.4   \n",
              "739  The Auton Lab at Carnegie Mellon University is...     2.6   \n",
              "740  Data Science ManagerResponsibilities:\\nOversee...     3.2   \n",
              "741  Returning Candidate? Log back in to the Career...     3.6   \n",
              "\n",
              "                          Company Name         Location  \\\n",
              "737                             GSK3.9    Cambridge, MA   \n",
              "738                      Eventbrite4.4    Nashville, TN   \n",
              "739  Software Engineering Institute2.6   Pittsburgh, PA   \n",
              "740                    Numeric, LLC3.2    Allentown, PA   \n",
              "741    Riverside Research Institute3.6  Beavercreek, OH   \n",
              "\n",
              "                  Headquarters          Size  Founded       Type of ownership  \\\n",
              "737  Brentford, United Kingdom       10000+      1830        Company - Public   \n",
              "738          San Francisco, CA  1001 - 5000      2006        Company - Public   \n",
              "739             Pittsburgh, PA   501 - 1000      1984    College / University   \n",
              "740            Chadds Ford, PA       1 - 50        -1       Company - Private   \n",
              "741              Arlington, VA   501 - 1000      1967  Nonprofit Organization   \n",
              "\n",
              "     ... flink mongo google_an    job_title_sim  seniority_by_title  Degree  \\\n",
              "737  ...     0     0         0  other scientist                  sr       M   \n",
              "738  ...     0     0         0    data engineer                  sr      na   \n",
              "739  ...     0     0         0  other scientist                  na       P   \n",
              "740  ...     0     0         0   data scientist                  na      na   \n",
              "741  ...     0     0         0  other scientist                  na       M   \n",
              "\n",
              "      range  min salary  median salary max salary  \n",
              "737  58-111          58           84.5        111  \n",
              "738  72-133          72          102.5        133  \n",
              "739   56-91          56           73.5         91  \n",
              "740  95-160          95          127.5        160  \n",
              "741  61-126          61           93.5        126  \n",
              "\n",
              "[5 rows x 45 columns]"
            ],
            "text/html": [
              "\n",
              "  <div id=\"df-3d66c4f2-7261-491e-bb5d-053d038fc98c\">\n",
              "    <div class=\"colab-df-container\">\n",
              "      <div>\n",
              "<style scoped>\n",
              "    .dataframe tbody tr th:only-of-type {\n",
              "        vertical-align: middle;\n",
              "    }\n",
              "\n",
              "    .dataframe tbody tr th {\n",
              "        vertical-align: top;\n",
              "    }\n",
              "\n",
              "    .dataframe thead th {\n",
              "        text-align: right;\n",
              "    }\n",
              "</style>\n",
              "<table border=\"1\" class=\"dataframe\">\n",
              "  <thead>\n",
              "    <tr style=\"text-align: right;\">\n",
              "      <th></th>\n",
              "      <th>Job Title</th>\n",
              "      <th>Salary Estimate</th>\n",
              "      <th>Job Description</th>\n",
              "      <th>Rating</th>\n",
              "      <th>Company Name</th>\n",
              "      <th>Location</th>\n",
              "      <th>Headquarters</th>\n",
              "      <th>Size</th>\n",
              "      <th>Founded</th>\n",
              "      <th>Type of ownership</th>\n",
              "      <th>...</th>\n",
              "      <th>flink</th>\n",
              "      <th>mongo</th>\n",
              "      <th>google_an</th>\n",
              "      <th>job_title_sim</th>\n",
              "      <th>seniority_by_title</th>\n",
              "      <th>Degree</th>\n",
              "      <th>range</th>\n",
              "      <th>min salary</th>\n",
              "      <th>median salary</th>\n",
              "      <th>max salary</th>\n",
              "    </tr>\n",
              "  </thead>\n",
              "  <tbody>\n",
              "    <tr>\n",
              "      <th>737</th>\n",
              "      <td>Sr Scientist, Immuno-Oncology - Oncology</td>\n",
              "      <td>$58K-$111K (Glassdoor est.)</td>\n",
              "      <td>Site Name: USA - Massachusetts - CambridgePost...</td>\n",
              "      <td>3.9</td>\n",
              "      <td>GSK3.9</td>\n",
              "      <td>Cambridge, MA</td>\n",
              "      <td>Brentford, United Kingdom</td>\n",
              "      <td>10000+</td>\n",
              "      <td>1830</td>\n",
              "      <td>Company - Public</td>\n",
              "      <td>...</td>\n",
              "      <td>0</td>\n",
              "      <td>0</td>\n",
              "      <td>0</td>\n",
              "      <td>other scientist</td>\n",
              "      <td>sr</td>\n",
              "      <td>M</td>\n",
              "      <td>58-111</td>\n",
              "      <td>58</td>\n",
              "      <td>84.5</td>\n",
              "      <td>111</td>\n",
              "    </tr>\n",
              "    <tr>\n",
              "      <th>738</th>\n",
              "      <td>Senior Data Engineer</td>\n",
              "      <td>$72K-$133K (Glassdoor est.)</td>\n",
              "      <td>THE CHALLENGEEventbrite has a world-class data...</td>\n",
              "      <td>4.4</td>\n",
              "      <td>Eventbrite4.4</td>\n",
              "      <td>Nashville, TN</td>\n",
              "      <td>San Francisco, CA</td>\n",
              "      <td>1001 - 5000</td>\n",
              "      <td>2006</td>\n",
              "      <td>Company - Public</td>\n",
              "      <td>...</td>\n",
              "      <td>0</td>\n",
              "      <td>0</td>\n",
              "      <td>0</td>\n",
              "      <td>data engineer</td>\n",
              "      <td>sr</td>\n",
              "      <td>na</td>\n",
              "      <td>72-133</td>\n",
              "      <td>72</td>\n",
              "      <td>102.5</td>\n",
              "      <td>133</td>\n",
              "    </tr>\n",
              "    <tr>\n",
              "      <th>739</th>\n",
              "      <td>Project Scientist - Auton Lab, Robotics Institute</td>\n",
              "      <td>$56K-$91K (Glassdoor est.)</td>\n",
              "      <td>The Auton Lab at Carnegie Mellon University is...</td>\n",
              "      <td>2.6</td>\n",
              "      <td>Software Engineering Institute2.6</td>\n",
              "      <td>Pittsburgh, PA</td>\n",
              "      <td>Pittsburgh, PA</td>\n",
              "      <td>501 - 1000</td>\n",
              "      <td>1984</td>\n",
              "      <td>College / University</td>\n",
              "      <td>...</td>\n",
              "      <td>0</td>\n",
              "      <td>0</td>\n",
              "      <td>0</td>\n",
              "      <td>other scientist</td>\n",
              "      <td>na</td>\n",
              "      <td>P</td>\n",
              "      <td>56-91</td>\n",
              "      <td>56</td>\n",
              "      <td>73.5</td>\n",
              "      <td>91</td>\n",
              "    </tr>\n",
              "    <tr>\n",
              "      <th>740</th>\n",
              "      <td>Data Science Manager</td>\n",
              "      <td>$95K-$160K (Glassdoor est.)</td>\n",
              "      <td>Data Science ManagerResponsibilities:\\nOversee...</td>\n",
              "      <td>3.2</td>\n",
              "      <td>Numeric, LLC3.2</td>\n",
              "      <td>Allentown, PA</td>\n",
              "      <td>Chadds Ford, PA</td>\n",
              "      <td>1 - 50</td>\n",
              "      <td>-1</td>\n",
              "      <td>Company - Private</td>\n",
              "      <td>...</td>\n",
              "      <td>0</td>\n",
              "      <td>0</td>\n",
              "      <td>0</td>\n",
              "      <td>data scientist</td>\n",
              "      <td>na</td>\n",
              "      <td>na</td>\n",
              "      <td>95-160</td>\n",
              "      <td>95</td>\n",
              "      <td>127.5</td>\n",
              "      <td>160</td>\n",
              "    </tr>\n",
              "    <tr>\n",
              "      <th>741</th>\n",
              "      <td>Research Scientist – Security and Privacy</td>\n",
              "      <td>$61K-$126K (Glassdoor est.)</td>\n",
              "      <td>Returning Candidate? Log back in to the Career...</td>\n",
              "      <td>3.6</td>\n",
              "      <td>Riverside Research Institute3.6</td>\n",
              "      <td>Beavercreek, OH</td>\n",
              "      <td>Arlington, VA</td>\n",
              "      <td>501 - 1000</td>\n",
              "      <td>1967</td>\n",
              "      <td>Nonprofit Organization</td>\n",
              "      <td>...</td>\n",
              "      <td>0</td>\n",
              "      <td>0</td>\n",
              "      <td>0</td>\n",
              "      <td>other scientist</td>\n",
              "      <td>na</td>\n",
              "      <td>M</td>\n",
              "      <td>61-126</td>\n",
              "      <td>61</td>\n",
              "      <td>93.5</td>\n",
              "      <td>126</td>\n",
              "    </tr>\n",
              "  </tbody>\n",
              "</table>\n",
              "<p>5 rows × 45 columns</p>\n",
              "</div>\n",
              "      <button class=\"colab-df-convert\" onclick=\"convertToInteractive('df-3d66c4f2-7261-491e-bb5d-053d038fc98c')\"\n",
              "              title=\"Convert this dataframe to an interactive table.\"\n",
              "              style=\"display:none;\">\n",
              "        \n",
              "  <svg xmlns=\"http://www.w3.org/2000/svg\" height=\"24px\"viewBox=\"0 0 24 24\"\n",
              "       width=\"24px\">\n",
              "    <path d=\"M0 0h24v24H0V0z\" fill=\"none\"/>\n",
              "    <path d=\"M18.56 5.44l.94 2.06.94-2.06 2.06-.94-2.06-.94-.94-2.06-.94 2.06-2.06.94zm-11 1L8.5 8.5l.94-2.06 2.06-.94-2.06-.94L8.5 2.5l-.94 2.06-2.06.94zm10 10l.94 2.06.94-2.06 2.06-.94-2.06-.94-.94-2.06-.94 2.06-2.06.94z\"/><path d=\"M17.41 7.96l-1.37-1.37c-.4-.4-.92-.59-1.43-.59-.52 0-1.04.2-1.43.59L10.3 9.45l-7.72 7.72c-.78.78-.78 2.05 0 2.83L4 21.41c.39.39.9.59 1.41.59.51 0 1.02-.2 1.41-.59l7.78-7.78 2.81-2.81c.8-.78.8-2.07 0-2.86zM5.41 20L4 18.59l7.72-7.72 1.47 1.35L5.41 20z\"/>\n",
              "  </svg>\n",
              "      </button>\n",
              "      \n",
              "  <style>\n",
              "    .colab-df-container {\n",
              "      display:flex;\n",
              "      flex-wrap:wrap;\n",
              "      gap: 12px;\n",
              "    }\n",
              "\n",
              "    .colab-df-convert {\n",
              "      background-color: #E8F0FE;\n",
              "      border: none;\n",
              "      border-radius: 50%;\n",
              "      cursor: pointer;\n",
              "      display: none;\n",
              "      fill: #1967D2;\n",
              "      height: 32px;\n",
              "      padding: 0 0 0 0;\n",
              "      width: 32px;\n",
              "    }\n",
              "\n",
              "    .colab-df-convert:hover {\n",
              "      background-color: #E2EBFA;\n",
              "      box-shadow: 0px 1px 2px rgba(60, 64, 67, 0.3), 0px 1px 3px 1px rgba(60, 64, 67, 0.15);\n",
              "      fill: #174EA6;\n",
              "    }\n",
              "\n",
              "    [theme=dark] .colab-df-convert {\n",
              "      background-color: #3B4455;\n",
              "      fill: #D2E3FC;\n",
              "    }\n",
              "\n",
              "    [theme=dark] .colab-df-convert:hover {\n",
              "      background-color: #434B5C;\n",
              "      box-shadow: 0px 1px 3px 1px rgba(0, 0, 0, 0.15);\n",
              "      filter: drop-shadow(0px 1px 2px rgba(0, 0, 0, 0.3));\n",
              "      fill: #FFFFFF;\n",
              "    }\n",
              "  </style>\n",
              "\n",
              "      <script>\n",
              "        const buttonEl =\n",
              "          document.querySelector('#df-3d66c4f2-7261-491e-bb5d-053d038fc98c button.colab-df-convert');\n",
              "        buttonEl.style.display =\n",
              "          google.colab.kernel.accessAllowed ? 'block' : 'none';\n",
              "\n",
              "        async function convertToInteractive(key) {\n",
              "          const element = document.querySelector('#df-3d66c4f2-7261-491e-bb5d-053d038fc98c');\n",
              "          const dataTable =\n",
              "            await google.colab.kernel.invokeFunction('convertToInteractive',\n",
              "                                                     [key], {});\n",
              "          if (!dataTable) return;\n",
              "\n",
              "          const docLinkHtml = 'Like what you see? Visit the ' +\n",
              "            '<a target=\"_blank\" href=https://colab.research.google.com/notebooks/data_table.ipynb>data table notebook</a>'\n",
              "            + ' to learn more about interactive tables.';\n",
              "          element.innerHTML = '';\n",
              "          dataTable['output_type'] = 'display_data';\n",
              "          await google.colab.output.renderOutput(dataTable, element);\n",
              "          const docLink = document.createElement('div');\n",
              "          docLink.innerHTML = docLinkHtml;\n",
              "          element.appendChild(docLink);\n",
              "        }\n",
              "      </script>\n",
              "    </div>\n",
              "  </div>\n",
              "  "
            ]
          },
          "metadata": {},
          "execution_count": 33
        }
      ]
    },
    {
      "cell_type": "markdown",
      "source": [
        "Given the salary range we can either take the median point, the mean or the maximum. In the next plots we're gonna visualize the distribution of each and pick the most convient one. The most convinient one is gonna be the closest one to a normal distribution that still retains infomation about the salary range (doesn't lose too much information)."
      ],
      "metadata": {
        "id": "9dVfBcEvLnEG"
      }
    },
    {
      "cell_type": "code",
      "source": [
        "#let's plot the mean salaries distribution first \n",
        "sns.histplot(data[\"min salary\"], bins=50, kde=True)"
      ],
      "metadata": {
        "colab": {
          "base_uri": "https://localhost:8080/",
          "height": 296
        },
        "id": "JUtLaXzlQrnI",
        "outputId": "ba5b5f9b-b3c7-4dd7-faff-e701b371ac41"
      },
      "execution_count": 34,
      "outputs": [
        {
          "output_type": "execute_result",
          "data": {
            "text/plain": [
              "<AxesSubplot:xlabel='min salary', ylabel='Count'>"
            ]
          },
          "metadata": {},
          "execution_count": 34
        },
        {
          "output_type": "display_data",
          "data": {
            "text/plain": [
              "<Figure size 432x288 with 1 Axes>"
            ],
            "image/png": "[encoded data removed]"
          },
          "metadata": {
            "needs_background": "light"
          }
        }
      ]
    },
    {
      "cell_type": "code",
      "source": [
        "#this is instead the median salary\n",
        "sns.histplot(data[\"median salary\"], bins=50, kde=True)"
      ],
      "metadata": {
        "colab": {
          "base_uri": "https://localhost:8080/",
          "height": 296
        },
        "id": "5lkdL_zzSDA3",
        "outputId": "bc44fc7a-6245-46dc-e7ee-f3add8961256"
      },
      "execution_count": 9,
      "outputs": [
        {
          "output_type": "execute_result",
          "data": {
            "text/plain": [
              "<AxesSubplot:xlabel='median salary', ylabel='Count'>"
            ]
          },
          "metadata": {},
          "execution_count": 9
        },
        {
          "output_type": "display_data",
          "data": {
            "text/plain": [
              "<Figure size 432x288 with 1 Axes>"
            ],
            "image/png": "[encoded data removed]"
          },
          "metadata": {
            "needs_background": "light"
          }
        }
      ]
    },
    {
      "cell_type": "code",
      "source": [
        "#max salary\n",
        "sns.histplot(data[\"max salary\"], bins=50, kde=True)"
      ],
      "metadata": {
        "colab": {
          "base_uri": "https://localhost:8080/",
          "height": 296
        },
        "id": "vW9MZVgNSH_h",
        "outputId": "bc8d3a63-87ae-49e1-cdb3-a90020c0db6c"
      },
      "execution_count": 35,
      "outputs": [
        {
          "output_type": "execute_result",
          "data": {
            "text/plain": [
              "<AxesSubplot:xlabel='max salary', ylabel='Count'>"
            ]
          },
          "metadata": {},
          "execution_count": 35
        },
        {
          "output_type": "display_data",
          "data": {
            "text/plain": [
              "<Figure size 432x288 with 1 Axes>"
            ],
            "image/png": "[encoded data removed]"
          },
          "metadata": {
            "needs_background": "light"
          }
        }
      ]
    },
    {
      "cell_type": "markdown",
      "source": [
        "Here I'm gonna test which one of the three distribution is closer to the normal distribution using the Kolmogororv-Smirnov test. To do this I need to standardize the features first to take them to the same range as the normal distribution."
      ],
      "metadata": {
        "id": "xvHpuwktSehG"
      }
    },
    {
      "cell_type": "code",
      "source": [
        "#takes a column from a dataframe and \n",
        "#returns it standardized\n",
        "\n",
        "def standardize_col(column):\n",
        "  \n",
        "  return (data[column] - data[column].mean()) / data[column].std()\n",
        "\n"
      ],
      "metadata": {
        "id": "RUh47vK0WYSE"
      },
      "execution_count": 36,
      "outputs": []
    },
    {
      "cell_type": "code",
      "source": [
        "ks1, p1 = kstest(standardize_col(\"median salary\"), norm.cdf)\n",
        "ks2, p2 = kstest(standardize_col(\"min salary\"), norm.cdf)\n",
        "ks3, p3 = kstest(standardize_col(\"max salary\"), norm.cdf)\n",
        "\n",
        "\n",
        "print(\"KS statistic and p-value for the median salary:\", ks1, p1)\n",
        "print(\"KS statistic and p-value for the min salary:\", ks2, p2)\n",
        "print(\"KS statistic and p-value for the max salary:\", ks3, p3)"
      ],
      "metadata": {
        "colab": {
          "base_uri": "https://localhost:8080/"
        },
        "id": "fUsVMYERSdgS",
        "outputId": "e105b34e-5ccc-4822-fff8-27ead1d29104"
      },
      "execution_count": 12,
      "outputs": [
        {
          "output_type": "stream",
          "name": "stdout",
          "text": [
            "KS statistic and p-value for the median salary: 0.05248274282888654 0.032363119235189974\n",
            "KS statistic and p-value for the min salary: 0.07292593518127916 0.000706827017010045\n",
            "KS statistic and p-value for the max salary: 0.05405599853419818 0.025203763648939947\n"
          ]
        }
      ]
    },
    {
      "cell_type": "markdown",
      "source": [
        "1. The results for the KS-statistic vary between 0 and 1, where 0 it's a perfect match with the normal distribution while 1 it's the most distant value from it. The best bets seem to be the median and the max salary for now.\n",
        "\n",
        "2. The p-value is instead telling us what is the probability to see values as extreme as the one observed. When the p-value is lower than 0.05 we can reject the hypothesis that our empirical distribution is actually drawn from the reference one (normal), in contrary if the p-value is bigger than 0.05 we cannot say with certainty of the distribution comes from the reference one. This said, all the three features have a p-value lower than 0.05 tehrefore it seems none of them could be drawn from a normal distribution. \n",
        "\n",
        " "
      ],
      "metadata": {
        "id": "DUmCs6WgUpty"
      }
    },
    {
      "cell_type": "code",
      "source": [
        "def relative_diff(a, b):\n",
        "    return abs(a - b) / ((a + b) / 2)\n",
        "\n",
        "# apply the function to each pair of values in the two columns\n",
        "diff = data.apply(lambda x: relative_diff(x['max salary'], x['min salary']), axis=1)\n",
        "\n",
        "# calculate the mean of the relative differences\n",
        "print(diff.mean())"
      ],
      "metadata": {
        "colab": {
          "base_uri": "https://localhost:8080/"
        },
        "id": "nuQhUdwof3F9",
        "outputId": "c2b9aee3-eb7d-4435-f65b-e024fe329b01"
      },
      "execution_count": 37,
      "outputs": [
        {
          "output_type": "stream",
          "name": "stdout",
          "text": [
            "0.5403164031175346\n"
          ]
        }
      ]
    },
    {
      "cell_type": "markdown",
      "source": [
        "Let's now consider the relative difefrence between the max and the min. This will tell us if it makes sense to use the median instead of any of teh otehr two values. If the average \"relative difference\" between min and max values in each row it's big enough then we should use the median salary as a target variable. With a relative difference of 54% it makes just more sense to use the \"median salary\" instead of the other two varibles."
      ],
      "metadata": {
        "id": "yP4SOXVhf3cd"
      }
    },
    {
      "cell_type": "code",
      "source": [
        "data = data.drop([\"max salary\", \"min salary\"], axis=1)\n",
        "data.head()"
      ],
      "metadata": {
        "colab": {
          "base_uri": "https://localhost:8080/",
          "height": 560
        },
        "id": "YziwcRljhWDA",
        "outputId": "41e311b4-5573-4742-f23f-d057c2beae09"
      },
      "execution_count": 14,
      "outputs": [
        {
          "output_type": "execute_result",
          "data": {
            "text/plain": [
              "                   Job Title              Salary Estimate  \\\n",
              "0             Data Scientist   $53K-$91K (Glassdoor est.)   \n",
              "1  Healthcare Data Scientist  $63K-$112K (Glassdoor est.)   \n",
              "2             Data Scientist   $80K-$90K (Glassdoor est.)   \n",
              "3             Data Scientist   $56K-$97K (Glassdoor est.)   \n",
              "4             Data Scientist  $86K-$143K (Glassdoor est.)   \n",
              "\n",
              "                                     Job Description  Rating  \\\n",
              "0  Data ScientistLocation: Albuquerque, NMEducati...     3.8   \n",
              "1  What You Will Do:\\nI. General Summary\\nThe Hea...     3.4   \n",
              "2  KnowBe4, Inc. is a high growth information sec...     4.8   \n",
              "3  *Organization and Job ID**Job ID: 310709\\nDire...     3.8   \n",
              "4  Data ScientistAffinity Solutions / Marketing C...     2.9   \n",
              "\n",
              "                               Company Name         Location    Headquarters  \\\n",
              "0                      Tecolote Research3.8  Albuquerque, NM      Goleta, CA   \n",
              "1  University of Maryland Medical System3.4    Linthicum, MD   Baltimore, MD   \n",
              "2                                KnowBe44.8   Clearwater, FL  Clearwater, FL   \n",
              "3                                   PNNL3.8     Richland, WA    Richland, WA   \n",
              "4                     Affinity Solutions2.9     New York, NY    New York, NY   \n",
              "\n",
              "           Size  Founded   Type of ownership  ... tableau bi flink mongo  \\\n",
              "0   501 - 1000      1973   Company - Private  ...       1  1     0     0   \n",
              "1       10000+      1984  Other Organization  ...       0  0     0     0   \n",
              "2   501 - 1000      2010   Company - Private  ...       0  0     0     0   \n",
              "3  1001 - 5000      1965          Government  ...       0  0     0     0   \n",
              "4     51 - 200      1998   Company - Private  ...       0  0     0     0   \n",
              "\n",
              "   google_an   job_title_sim seniority_by_title Degree   range  median salary  \n",
              "0          0  data scientist                 na      M   53-91           72.0  \n",
              "1          0  data scientist                 na      M  63-112           87.5  \n",
              "2          0  data scientist                 na      M   80-90           85.0  \n",
              "3          0  data scientist                 na     na   56-97           76.5  \n",
              "4          0  data scientist                 na     na  86-143          114.5  \n",
              "\n",
              "[5 rows x 40 columns]"
            ],
            "text/html": [
              "\n",
              "  <div id=\"df-b3497d11-188f-41ce-9c12-05d1a97df049\">\n",
              "    <div class=\"colab-df-container\">\n",
              "      <div>\n",
              "<style scoped>\n",
              "    .dataframe tbody tr th:only-of-type {\n",
              "        vertical-align: middle;\n",
              "    }\n",
              "\n",
              "    .dataframe tbody tr th {\n",
              "        vertical-align: top;\n",
              "    }\n",
              "\n",
              "    .dataframe thead th {\n",
              "        text-align: right;\n",
              "    }\n",
              "</style>\n",
              "<table border=\"1\" class=\"dataframe\">\n",
              "  <thead>\n",
              "    <tr style=\"text-align: right;\">\n",
              "      <th></th>\n",
              "      <th>Job Title</th>\n",
              "      <th>Salary Estimate</th>\n",
              "      <th>Job Description</th>\n",
              "      <th>Rating</th>\n",
              "      <th>Company Name</th>\n",
              "      <th>Location</th>\n",
              "      <th>Headquarters</th>\n",
              "      <th>Size</th>\n",
              "      <th>Founded</th>\n",
              "      <th>Type of ownership</th>\n",
              "      <th>...</th>\n",
              "      <th>tableau</th>\n",
              "      <th>bi</th>\n",
              "      <th>flink</th>\n",
              "      <th>mongo</th>\n",
              "      <th>google_an</th>\n",
              "      <th>job_title_sim</th>\n",
              "      <th>seniority_by_title</th>\n",
              "      <th>Degree</th>\n",
              "      <th>range</th>\n",
              "      <th>median salary</th>\n",
              "    </tr>\n",
              "  </thead>\n",
              "  <tbody>\n",
              "    <tr>\n",
              "      <th>0</th>\n",
              "      <td>Data Scientist</td>\n",
              "      <td>$53K-$91K (Glassdoor est.)</td>\n",
              "      <td>Data ScientistLocation: Albuquerque, NMEducati...</td>\n",
              "      <td>3.8</td>\n",
              "      <td>Tecolote Research3.8</td>\n",
              "      <td>Albuquerque, NM</td>\n",
              "      <td>Goleta, CA</td>\n",
              "      <td>501 - 1000</td>\n",
              "      <td>1973</td>\n",
              "      <td>Company - Private</td>\n",
              "      <td>...</td>\n",
              "      <td>1</td>\n",
              "      <td>1</td>\n",
              "      <td>0</td>\n",
              "      <td>0</td>\n",
              "      <td>0</td>\n",
              "      <td>data scientist</td>\n",
              "      <td>na</td>\n",
              "      <td>M</td>\n",
              "      <td>53-91</td>\n",
              "      <td>72.0</td>\n",
              "    </tr>\n",
              "    <tr>\n",
              "      <th>1</th>\n",
              "      <td>Healthcare Data Scientist</td>\n",
              "      <td>$63K-$112K (Glassdoor est.)</td>\n",
              "      <td>What You Will Do:\\nI. General Summary\\nThe Hea...</td>\n",
              "      <td>3.4</td>\n",
              "      <td>University of Maryland Medical System3.4</td>\n",
              "      <td>Linthicum, MD</td>\n",
              "      <td>Baltimore, MD</td>\n",
              "      <td>10000+</td>\n",
              "      <td>1984</td>\n",
              "      <td>Other Organization</td>\n",
              "      <td>...</td>\n",
              "      <td>0</td>\n",
              "      <td>0</td>\n",
              "      <td>0</td>\n",
              "      <td>0</td>\n",
              "      <td>0</td>\n",
              "      <td>data scientist</td>\n",
              "      <td>na</td>\n",
              "      <td>M</td>\n",
              "      <td>63-112</td>\n",
              "      <td>87.5</td>\n",
              "    </tr>\n",
              "    <tr>\n",
              "      <th>2</th>\n",
              "      <td>Data Scientist</td>\n",
              "      <td>$80K-$90K (Glassdoor est.)</td>\n",
              "      <td>KnowBe4, Inc. is a high growth information sec...</td>\n",
              "      <td>4.8</td>\n",
              "      <td>KnowBe44.8</td>\n",
              "      <td>Clearwater, FL</td>\n",
              "      <td>Clearwater, FL</td>\n",
              "      <td>501 - 1000</td>\n",
              "      <td>2010</td>\n",
              "      <td>Company - Private</td>\n",
              "      <td>...</td>\n",
              "      <td>0</td>\n",
              "      <td>0</td>\n",
              "      <td>0</td>\n",
              "      <td>0</td>\n",
              "      <td>0</td>\n",
              "      <td>data scientist</td>\n",
              "      <td>na</td>\n",
              "      <td>M</td>\n",
              "      <td>80-90</td>\n",
              "      <td>85.0</td>\n",
              "    </tr>\n",
              "    <tr>\n",
              "      <th>3</th>\n",
              "      <td>Data Scientist</td>\n",
              "      <td>$56K-$97K (Glassdoor est.)</td>\n",
              "      <td>*Organization and Job ID**Job ID: 310709\\nDire...</td>\n",
              "      <td>3.8</td>\n",
              "      <td>PNNL3.8</td>\n",
              "      <td>Richland, WA</td>\n",
              "      <td>Richland, WA</td>\n",
              "      <td>1001 - 5000</td>\n",
              "      <td>1965</td>\n",
              "      <td>Government</td>\n",
              "      <td>...</td>\n",
              "      <td>0</td>\n",
              "      <td>0</td>\n",
              "      <td>0</td>\n",
              "      <td>0</td>\n",
              "      <td>0</td>\n",
              "      <td>data scientist</td>\n",
              "      <td>na</td>\n",
              "      <td>na</td>\n",
              "      <td>56-97</td>\n",
              "      <td>76.5</td>\n",
              "    </tr>\n",
              "    <tr>\n",
              "      <th>4</th>\n",
              "      <td>Data Scientist</td>\n",
              "      <td>$86K-$143K (Glassdoor est.)</td>\n",
              "      <td>Data ScientistAffinity Solutions / Marketing C...</td>\n",
              "      <td>2.9</td>\n",
              "      <td>Affinity Solutions2.9</td>\n",
              "      <td>New York, NY</td>\n",
              "      <td>New York, NY</td>\n",
              "      <td>51 - 200</td>\n",
              "      <td>1998</td>\n",
              "      <td>Company - Private</td>\n",
              "      <td>...</td>\n",
              "      <td>0</td>\n",
              "      <td>0</td>\n",
              "      <td>0</td>\n",
              "      <td>0</td>\n",
              "      <td>0</td>\n",
              "      <td>data scientist</td>\n",
              "      <td>na</td>\n",
              "      <td>na</td>\n",
              "      <td>86-143</td>\n",
              "      <td>114.5</td>\n",
              "    </tr>\n",
              "  </tbody>\n",
              "</table>\n",
              "<p>5 rows × 40 columns</p>\n",
              "</div>\n",
              "      <button class=\"colab-df-convert\" onclick=\"convertToInteractive('df-b3497d11-188f-41ce-9c12-05d1a97df049')\"\n",
              "              title=\"Convert this dataframe to an interactive table.\"\n",
              "              style=\"display:none;\">\n",
              "        \n",
              "  <svg xmlns=\"http://www.w3.org/2000/svg\" height=\"24px\"viewBox=\"0 0 24 24\"\n",
              "       width=\"24px\">\n",
              "    <path d=\"M0 0h24v24H0V0z\" fill=\"none\"/>\n",
              "    <path d=\"M18.56 5.44l.94 2.06.94-2.06 2.06-.94-2.06-.94-.94-2.06-.94 2.06-2.06.94zm-11 1L8.5 8.5l.94-2.06 2.06-.94-2.06-.94L8.5 2.5l-.94 2.06-2.06.94zm10 10l.94 2.06.94-2.06 2.06-.94-2.06-.94-.94-2.06-.94 2.06-2.06.94z\"/><path d=\"M17.41 7.96l-1.37-1.37c-.4-.4-.92-.59-1.43-.59-.52 0-1.04.2-1.43.59L10.3 9.45l-7.72 7.72c-.78.78-.78 2.05 0 2.83L4 21.41c.39.39.9.59 1.41.59.51 0 1.02-.2 1.41-.59l7.78-7.78 2.81-2.81c.8-.78.8-2.07 0-2.86zM5.41 20L4 18.59l7.72-7.72 1.47 1.35L5.41 20z\"/>\n",
              "  </svg>\n",
              "      </button>\n",
              "      \n",
              "  <style>\n",
              "    .colab-df-container {\n",
              "      display:flex;\n",
              "      flex-wrap:wrap;\n",
              "      gap: 12px;\n",
              "    }\n",
              "\n",
              "    .colab-df-convert {\n",
              "      background-color: #E8F0FE;\n",
              "      border: none;\n",
              "      border-radius: 50%;\n",
              "      cursor: pointer;\n",
              "      display: none;\n",
              "      fill: #1967D2;\n",
              "      height: 32px;\n",
              "      padding: 0 0 0 0;\n",
              "      width: 32px;\n",
              "    }\n",
              "\n",
              "    .colab-df-convert:hover {\n",
              "      background-color: #E2EBFA;\n",
              "      box-shadow: 0px 1px 2px rgba(60, 64, 67, 0.3), 0px 1px 3px 1px rgba(60, 64, 67, 0.15);\n",
              "      fill: #174EA6;\n",
              "    }\n",
              "\n",
              "    [theme=dark] .colab-df-convert {\n",
              "      background-color: #3B4455;\n",
              "      fill: #D2E3FC;\n",
              "    }\n",
              "\n",
              "    [theme=dark] .colab-df-convert:hover {\n",
              "      background-color: #434B5C;\n",
              "      box-shadow: 0px 1px 3px 1px rgba(0, 0, 0, 0.15);\n",
              "      filter: drop-shadow(0px 1px 2px rgba(0, 0, 0, 0.3));\n",
              "      fill: #FFFFFF;\n",
              "    }\n",
              "  </style>\n",
              "\n",
              "      <script>\n",
              "        const buttonEl =\n",
              "          document.querySelector('#df-b3497d11-188f-41ce-9c12-05d1a97df049 button.colab-df-convert');\n",
              "        buttonEl.style.display =\n",
              "          google.colab.kernel.accessAllowed ? 'block' : 'none';\n",
              "\n",
              "        async function convertToInteractive(key) {\n",
              "          const element = document.querySelector('#df-b3497d11-188f-41ce-9c12-05d1a97df049');\n",
              "          const dataTable =\n",
              "            await google.colab.kernel.invokeFunction('convertToInteractive',\n",
              "                                                     [key], {});\n",
              "          if (!dataTable) return;\n",
              "\n",
              "          const docLinkHtml = 'Like what you see? Visit the ' +\n",
              "            '<a target=\"_blank\" href=https://colab.research.google.com/notebooks/data_table.ipynb>data table notebook</a>'\n",
              "            + ' to learn more about interactive tables.';\n",
              "          element.innerHTML = '';\n",
              "          dataTable['output_type'] = 'display_data';\n",
              "          await google.colab.output.renderOutput(dataTable, element);\n",
              "          const docLink = document.createElement('div');\n",
              "          docLink.innerHTML = docLinkHtml;\n",
              "          element.appendChild(docLink);\n",
              "        }\n",
              "      </script>\n",
              "    </div>\n",
              "  </div>\n",
              "  "
            ]
          },
          "metadata": {},
          "execution_count": 14
        }
      ]
    },
    {
      "cell_type": "markdown",
      "source": [
        "We should now look at the second most important feature aka the \"Job Title\". First thing first we want to count the single entries or the different identified roles. It probably won't be a huge problem to just convert the string values to numeric ones. But before doing so let's look at the frequency of each, given there are many different entries we're just gonna look at the n most recurring ones."
      ],
      "metadata": {
        "id": "Br1iNUQHhwHn"
      }
    },
    {
      "cell_type": "code",
      "source": [
        "data['Job Title'].nunique()"
      ],
      "metadata": {
        "colab": {
          "base_uri": "https://localhost:8080/"
        },
        "id": "HBzJ-vHBiBi7",
        "outputId": "99b3cc67-cb08-4357-e776-21ccf1557679"
      },
      "execution_count": 15,
      "outputs": [
        {
          "output_type": "execute_result",
          "data": {
            "text/plain": [
              "264"
            ]
          },
          "metadata": {},
          "execution_count": 15
        }
      ]
    },
    {
      "cell_type": "code",
      "source": [
        "def visualize_freq_job():\n",
        "  freq = data['Job Title'].value_counts().sort_values(ascending=False)\n",
        "\n",
        "  # select the top 5 categories with the highest frequency\n",
        "  top_n = 15\n",
        "  top_categories = freq[:top_n]\n",
        "\n",
        "  print(\"This is the total number of elements with one of the n-most recurring labels \" + str(top_categories.sum()))\n",
        "  print(\"This is the percentage of elements with one of the n-most recurring labels \" + str(top_categories.sum() / len(data)))\n",
        "\n",
        "  plt.barh(top_categories.index, top_categories.values)\n",
        "  plt.title(f'Top {top_n} Categories by Frequency')\n",
        "  plt.xlabel('Category')\n",
        "  plt.ylabel('Count')\n",
        "  plt.show()"
      ],
      "metadata": {
        "id": "-ljxM9bmilPh"
      },
      "execution_count": 16,
      "outputs": []
    },
    {
      "cell_type": "code",
      "source": [
        "visualize_freq_job()"
      ],
      "metadata": {
        "colab": {
          "base_uri": "https://localhost:8080/",
          "height": 330
        },
        "id": "dJzlQj7wnbi1",
        "outputId": "18cb8da2-7823-41b1-fe18-7b6620c6bc02"
      },
      "execution_count": 17,
      "outputs": [
        {
          "output_type": "stream",
          "name": "stdout",
          "text": [
            "This is the total number of elements with one of the n-most recurring labels 305\n",
            "This is the percentage of elements with one of the n-most recurring labels 0.4110512129380054\n"
          ]
        },
        {
          "output_type": "display_data",
          "data": {
            "text/plain": [
              "<Figure size 432x288 with 1 Axes>"
            ],
            "image/png": "[encoded data removed]"
          },
          "metadata": {
            "needs_background": "light"
          }
        }
      ]
    },
    {
      "cell_type": "markdown",
      "source": [
        "We can belive that this is somewhat representative of the total distribution given that they amount for up to 41% of the total. Nevertheless it looks evident that many of these labels are repetitions or contain useless specificity. We're gonna clean up the data a little bit such that any title like \"Data scientist senior\" and \"Sr. data scientist\" will be given the same value \"DS senior\"."
      ],
      "metadata": {
        "id": "8Kyp2lebj5dt"
      }
    },
    {
      "cell_type": "code",
      "source": [
        "def cleanFeature(column, values, new_name):\n",
        "\n",
        "  data[column] = data[column].str.replace('|'.join(values), new_name, case=False)\n",
        "  return data"
      ],
      "metadata": {
        "id": "FvzfqnO1mc0D"
      },
      "execution_count": 18,
      "outputs": []
    },
    {
      "cell_type": "code",
      "source": [
        "to_be_changed = ['Sr. Data Scientist', 'Senior Data Scientist']\n",
        "data = cleanFeature(\"Job Title\", to_be_changed, 'Senior Data Scientist')\n",
        "to_be_changed = ['Senior Data Engineer', 'Sr. Data Engineer']\n",
        "data = cleanFeature('Job Title' , to_be_changed, 'Senior Data Engineer')\n",
        "to_be_changed = ['Senior Data Analyst', 'Sr. Data Analyst']\n",
        "data = cleanFeature('Job Title' , to_be_changed, 'Senior Data Analyst')\n",
        "visualize_freq_job()"
      ],
      "metadata": {
        "colab": {
          "base_uri": "https://localhost:8080/",
          "height": 364
        },
        "id": "fsxKGrDenLsC",
        "outputId": "c0db2e44-823f-471d-a990-c96403010a06"
      },
      "execution_count": 19,
      "outputs": [
        {
          "output_type": "stream",
          "name": "stderr",
          "text": [
            "<ipython-input-18-5b70e3a7f0a7>:3: FutureWarning: The default value of regex will change from True to False in a future version.\n",
            "  data[column] = data[column].str.replace('|'.join(values), new_name, case=False)\n"
          ]
        },
        {
          "output_type": "stream",
          "name": "stdout",
          "text": [
            "This is the total number of elements with one of the n-most recurring labels 313\n",
            "This is the percentage of elements with one of the n-most recurring labels 0.42183288409703507\n"
          ]
        },
        {
          "output_type": "display_data",
          "data": {
            "text/plain": [
              "<Figure size 432x288 with 1 Axes>"
            ],
            "image/png": "[encoded data removed]"
          },
          "metadata": {
            "needs_background": "light"
          }
        }
      ]
    },
    {
      "cell_type": "markdown",
      "source": [
        "Sadly given the vast amount of different values it's not possible to effectively clean the dataset of all the redundant information. But we can maybe focus on something more fun: visualizing where the salaries are higher using the USA map. To do this I'm gonna split the \"Location\" feature into \"State\" and \"City\", so we can also visualize the top paying cities even though I doubt there will be many surprises..."
      ],
      "metadata": {
        "id": "KlqRb4-sphbw"
      }
    },
    {
      "cell_type": "code",
      "source": [
        "import plotly.express as px\n",
        "\n",
        "data[['city', 'state']] = data['Location'].str.split(', ', expand=True, n= 1).fillna('Unknown')\n",
        "\n",
        "#here I'm creating a dataframe that is gonna be funcitonal for the visualization\n",
        "state_salary = data.groupby('state')['median salary'].median().reset_index()\n",
        "state_salary.columns = ['state', 'state salary']\n",
        "unique_states = state_salary.drop_duplicates(subset=['state']).reset_index(drop=True)\n",
        "\n",
        "fig = px.choropleth(unique_states, locations='state', locationmode='USA-states', color='state salary',\n",
        "                    scope='usa', color_continuous_scale='Plasma',\n",
        "                    range_color=(unique_states['state salary'].min(), unique_states['state salary'].max()))\n",
        "fig.update_layout(title='Data Scientists Salaries in the USA', title_x=0.5)\n",
        "fig.show()"
      ],
      "metadata": {
        "colab": {
          "base_uri": "https://localhost:8080/",
          "height": 542
        },
        "id": "ohKMmYC_q4l0",
        "outputId": "756b215e-10d6-40ee-ba7c-f26817747981"
      },
      "execution_count": 20,
      "outputs": [
        {
          "output_type": "display_data",
          "data": {
            "text/html": [
              "<html>\n",
              "<head><meta charset=\"utf-8\" /></head>\n",
              "<body>\n",
              "    <div>            <script src=\"https://cdnjs.cloudflare.com/ajax/libs/mathjax/2.7.5/MathJax.js?config=TeX-AMS-MML_SVG\"></script><script type=\"text/javascript\">if (window.MathJax) {MathJax.Hub.Config({SVG: {font: \"STIX-Web\"}});}</script>                <script type=\"text/javascript\">window.PlotlyConfig = {MathJaxConfig: 'local'};</script>\n",
              "        <script src=\"https://cdn.plot.ly/plotly-2.8.3.min.js\"></script>                <div id=\"e46d50c9-77e7-4592-8bb1-8c7dca0f0327\" class=\"plotly-graph-div\" style=\"height:525px; width:100%;\"></div>            <script type=\"text/javascript\">                                    window.PLOTLYENV=window.PLOTLYENV || {};                                    if (document.getElementById(\"e46d50c9-77e7-4592-8bb1-8c7dca0f0327\")) {                    Plotly.newPlot(                        \"e46d50c9-77e7-4592-8bb1-8c7dca0f0327\",                        [{\"coloraxis\":\"coloraxis\",\"geo\":\"geo\",\"hovertemplate\":\"state=%{location}<br>state salary=%{z}<extra></extra>\",\"locationmode\":\"USA-states\",\"locations\":[\"AL\",\"AZ\",\"CA\",\"CO\",\"CT\",\"DC\",\"DE\",\"FL\",\"GA\",\"IA\",\"ID\",\"IL\",\"IN\",\"KS\",\"KY\",\"LA\",\"Los Angeles, CA\",\"MA\",\"MD\",\"MI\",\"MN\",\"MO\",\"NC\",\"NE\",\"NJ\",\"NM\",\"NY\",\"OH\",\"OR\",\"PA\",\"RI\",\"SC\",\"TN\",\"TX\",\"UT\",\"VA\",\"WA\",\"WI\"],\"name\":\"\",\"z\":[60.75,69.5,121.0,99.0,62.5,96.5,27.5,78.25,80.0,77.5,56.25,107.5,89.5,87.0,103.5,59.25,107.5,107.5,93.5,96.0,85.5,70.5,99.5,38.75,98.5,75.5,91.25,94.0,98.0,91.5,100.0,60.5,98.0,90.25,97.0,89.5,80.5,58.25],\"type\":\"choropleth\"}],                        {\"template\":{\"data\":{\"bar\":[{\"error_x\":{\"color\":\"#2a3f5f\"},\"error_y\":{\"color\":\"#2a3f5f\"},\"marker\":{\"line\":{\"color\":\"#E5ECF6\",\"width\":0.5},\"pattern\":{\"fillmode\":\"overlay\",\"size\":10,\"solidity\":0.2}},\"type\":\"bar\"}],\"barpolar\":[{\"marker\":{\"line\":{\"color\":\"#E5ECF6\",\"width\":0.5},\"pattern\":{\"fillmode\":\"overlay\",\"size\":10,\"solidity\":0.2}},\"type\":\"barpolar\"}],\"carpet\":[{\"aaxis\":{\"endlinecolor\":\"#2a3f5f\",\"gridcolor\":\"white\",\"linecolor\":\"white\",\"minorgridcolor\":\"white\",\"startlinecolor\":\"#2a3f5f\"},\"baxis\":{\"endlinecolor\":\"#2a3f5f\",\"gridcolor\":\"white\",\"linecolor\":\"white\",\"minorgridcolor\":\"white\",\"startlinecolor\":\"#2a3f5f\"},\"type\":\"carpet\"}],\"choropleth\":[{\"colorbar\":{\"outlinewidth\":0,\"ticks\":\"\"},\"type\":\"choropleth\"}],\"contour\":[{\"colorbar\":{\"outlinewidth\":0,\"ticks\":\"\"},\"colorscale\":[[0.0,\"#0d0887\"],[0.1111111111111111,\"#46039f\"],[0.2222222222222222,\"#7201a8\"],[0.3333333333333333,\"#9c179e\"],[0.4444444444444444,\"#bd3786\"],[0.5555555555555556,\"#d8576b\"],[0.6666666666666666,\"#ed7953\"],[0.7777777777777778,\"#fb9f3a\"],[0.8888888888888888,\"#fdca26\"],[1.0,\"#f0f921\"]],\"type\":\"contour\"}],\"contourcarpet\":[{\"colorbar\":{\"outlinewidth\":0,\"ticks\":\"\"},\"type\":\"contourcarpet\"}],\"heatmap\":[{\"colorbar\":{\"outlinewidth\":0,\"ticks\":\"\"},\"colorscale\":[[0.0,\"#0d0887\"],[0.1111111111111111,\"#46039f\"],[0.2222222222222222,\"#7201a8\"],[0.3333333333333333,\"#9c179e\"],[0.4444444444444444,\"#bd3786\"],[0.5555555555555556,\"#d8576b\"],[0.6666666666666666,\"#ed7953\"],[0.7777777777777778,\"#fb9f3a\"],[0.8888888888888888,\"#fdca26\"],[1.0,\"#f0f921\"]],\"type\":\"heatmap\"}],\"heatmapgl\":[{\"colorbar\":{\"outlinewidth\":0,\"ticks\":\"\"},\"colorscale\":[[0.0,\"#0d0887\"],[0.1111111111111111,\"#46039f\"],[0.2222222222222222,\"#7201a8\"],[0.3333333333333333,\"#9c179e\"],[0.4444444444444444,\"#bd3786\"],[0.5555555555555556,\"#d8576b\"],[0.6666666666666666,\"#ed7953\"],[0.7777777777777778,\"#fb9f3a\"],[0.8888888888888888,\"#fdca26\"],[1.0,\"#f0f921\"]],\"type\":\"heatmapgl\"}],\"histogram\":[{\"marker\":{\"pattern\":{\"fillmode\":\"overlay\",\"size\":10,\"solidity\":0.2}},\"type\":\"histogram\"}],\"histogram2d\":[{\"colorbar\":{\"outlinewidth\":0,\"ticks\":\"\"},\"colorscale\":[[0.0,\"#0d0887\"],[0.1111111111111111,\"#46039f\"],[0.2222222222222222,\"#7201a8\"],[0.3333333333333333,\"#9c179e\"],[0.4444444444444444,\"#bd3786\"],[0.5555555555555556,\"#d8576b\"],[0.6666666666666666,\"#ed7953\"],[0.7777777777777778,\"#fb9f3a\"],[0.8888888888888888,\"#fdca26\"],[1.0,\"#f0f921\"]],\"type\":\"histogram2d\"}],\"histogram2dcontour\":[{\"colorbar\":{\"outlinewidth\":0,\"ticks\":\"\"},\"colorscale\":[[0.0,\"#0d0887\"],[0.1111111111111111,\"#46039f\"],[0.2222222222222222,\"#7201a8\"],[0.3333333333333333,\"#9c179e\"],[0.4444444444444444,\"#bd3786\"],[0.5555555555555556,\"#d8576b\"],[0.6666666666666666,\"#ed7953\"],[0.7777777777777778,\"#fb9f3a\"],[0.8888888888888888,\"#fdca26\"],[1.0,\"#f0f921\"]],\"type\":\"histogram2dcontour\"}],\"mesh3d\":[{\"colorbar\":{\"outlinewidth\":0,\"ticks\":\"\"},\"type\":\"mesh3d\"}],\"parcoords\":[{\"line\":{\"colorbar\":{\"outlinewidth\":0,\"ticks\":\"\"}},\"type\":\"parcoords\"}],\"pie\":[{\"automargin\":true,\"type\":\"pie\"}],\"scatter\":[{\"marker\":{\"colorbar\":{\"outlinewidth\":0,\"ticks\":\"\"}},\"type\":\"scatter\"}],\"scatter3d\":[{\"line\":{\"colorbar\":{\"outlinewidth\":0,\"ticks\":\"\"}},\"marker\":{\"colorbar\":{\"outlinewidth\":0,\"ticks\":\"\"}},\"type\":\"scatter3d\"}],\"scattercarpet\":[{\"marker\":{\"colorbar\":{\"outlinewidth\":0,\"ticks\":\"\"}},\"type\":\"scattercarpet\"}],\"scattergeo\":[{\"marker\":{\"colorbar\":{\"outlinewidth\":0,\"ticks\":\"\"}},\"type\":\"scattergeo\"}],\"scattergl\":[{\"marker\":{\"colorbar\":{\"outlinewidth\":0,\"ticks\":\"\"}},\"type\":\"scattergl\"}],\"scattermapbox\":[{\"marker\":{\"colorbar\":{\"outlinewidth\":0,\"ticks\":\"\"}},\"type\":\"scattermapbox\"}],\"scatterpolar\":[{\"marker\":{\"colorbar\":{\"outlinewidth\":0,\"ticks\":\"\"}},\"type\":\"scatterpolar\"}],\"scatterpolargl\":[{\"marker\":{\"colorbar\":{\"outlinewidth\":0,\"ticks\":\"\"}},\"type\":\"scatterpolargl\"}],\"scatterternary\":[{\"marker\":{\"colorbar\":{\"outlinewidth\":0,\"ticks\":\"\"}},\"type\":\"scatterternary\"}],\"surface\":[{\"colorbar\":{\"outlinewidth\":0,\"ticks\":\"\"},\"colorscale\":[[0.0,\"#0d0887\"],[0.1111111111111111,\"#46039f\"],[0.2222222222222222,\"#7201a8\"],[0.3333333333333333,\"#9c179e\"],[0.4444444444444444,\"#bd3786\"],[0.5555555555555556,\"#d8576b\"],[0.6666666666666666,\"#ed7953\"],[0.7777777777777778,\"#fb9f3a\"],[0.8888888888888888,\"#fdca26\"],[1.0,\"#f0f921\"]],\"type\":\"surface\"}],\"table\":[{\"cells\":{\"fill\":{\"color\":\"#EBF0F8\"},\"line\":{\"color\":\"white\"}},\"header\":{\"fill\":{\"color\":\"#C8D4E3\"},\"line\":{\"color\":\"white\"}},\"type\":\"table\"}]},\"layout\":{\"annotationdefaults\":{\"arrowcolor\":\"#2a3f5f\",\"arrowhead\":0,\"arrowwidth\":1},\"autotypenumbers\":\"strict\",\"coloraxis\":{\"colorbar\":{\"outlinewidth\":0,\"ticks\":\"\"}},\"colorscale\":{\"diverging\":[[0,\"#8e0152\"],[0.1,\"#c51b7d\"],[0.2,\"#de77ae\"],[0.3,\"#f1b6da\"],[0.4,\"#fde0ef\"],[0.5,\"#f7f7f7\"],[0.6,\"#e6f5d0\"],[0.7,\"#b8e186\"],[0.8,\"#7fbc41\"],[0.9,\"#4d9221\"],[1,\"#276419\"]],\"sequential\":[[0.0,\"#0d0887\"],[0.1111111111111111,\"#46039f\"],[0.2222222222222222,\"#7201a8\"],[0.3333333333333333,\"#9c179e\"],[0.4444444444444444,\"#bd3786\"],[0.5555555555555556,\"#d8576b\"],[0.6666666666666666,\"#ed7953\"],[0.7777777777777778,\"#fb9f3a\"],[0.8888888888888888,\"#fdca26\"],[1.0,\"#f0f921\"]],\"sequentialminus\":[[0.0,\"#0d0887\"],[0.1111111111111111,\"#46039f\"],[0.2222222222222222,\"#7201a8\"],[0.3333333333333333,\"#9c179e\"],[0.4444444444444444,\"#bd3786\"],[0.5555555555555556,\"#d8576b\"],[0.6666666666666666,\"#ed7953\"],[0.7777777777777778,\"#fb9f3a\"],[0.8888888888888888,\"#fdca26\"],[1.0,\"#f0f921\"]]},\"colorway\":[\"#636efa\",\"#EF553B\",\"#00cc96\",\"#ab63fa\",\"#FFA15A\",\"#19d3f3\",\"#FF6692\",\"#B6E880\",\"#FF97FF\",\"#FECB52\"],\"font\":{\"color\":\"#2a3f5f\"},\"geo\":{\"bgcolor\":\"white\",\"lakecolor\":\"white\",\"landcolor\":\"#E5ECF6\",\"showlakes\":true,\"showland\":true,\"subunitcolor\":\"white\"},\"hoverlabel\":{\"align\":\"left\"},\"hovermode\":\"closest\",\"mapbox\":{\"style\":\"light\"},\"paper_bgcolor\":\"white\",\"plot_bgcolor\":\"#E5ECF6\",\"polar\":{\"angularaxis\":{\"gridcolor\":\"white\",\"linecolor\":\"white\",\"ticks\":\"\"},\"bgcolor\":\"#E5ECF6\",\"radialaxis\":{\"gridcolor\":\"white\",\"linecolor\":\"white\",\"ticks\":\"\"}},\"scene\":{\"xaxis\":{\"backgroundcolor\":\"#E5ECF6\",\"gridcolor\":\"white\",\"gridwidth\":2,\"linecolor\":\"white\",\"showbackground\":true,\"ticks\":\"\",\"zerolinecolor\":\"white\"},\"yaxis\":{\"backgroundcolor\":\"#E5ECF6\",\"gridcolor\":\"white\",\"gridwidth\":2,\"linecolor\":\"white\",\"showbackground\":true,\"ticks\":\"\",\"zerolinecolor\":\"white\"},\"zaxis\":{\"backgroundcolor\":\"#E5ECF6\",\"gridcolor\":\"white\",\"gridwidth\":2,\"linecolor\":\"white\",\"showbackground\":true,\"ticks\":\"\",\"zerolinecolor\":\"white\"}},\"shapedefaults\":{\"line\":{\"color\":\"#2a3f5f\"}},\"ternary\":{\"aaxis\":{\"gridcolor\":\"white\",\"linecolor\":\"white\",\"ticks\":\"\"},\"baxis\":{\"gridcolor\":\"white\",\"linecolor\":\"white\",\"ticks\":\"\"},\"bgcolor\":\"#E5ECF6\",\"caxis\":{\"gridcolor\":\"white\",\"linecolor\":\"white\",\"ticks\":\"\"}},\"title\":{\"x\":0.05},\"xaxis\":{\"automargin\":true,\"gridcolor\":\"white\",\"linecolor\":\"white\",\"ticks\":\"\",\"title\":{\"standoff\":15},\"zerolinecolor\":\"white\",\"zerolinewidth\":2},\"yaxis\":{\"automargin\":true,\"gridcolor\":\"white\",\"linecolor\":\"white\",\"ticks\":\"\",\"title\":{\"standoff\":15},\"zerolinecolor\":\"white\",\"zerolinewidth\":2}}},\"geo\":{\"domain\":{\"x\":[0.0,1.0],\"y\":[0.0,1.0]},\"center\":{},\"scope\":\"usa\"},\"coloraxis\":{\"colorbar\":{\"title\":{\"text\":\"state salary\"}},\"colorscale\":[[0.0,\"#0d0887\"],[0.1111111111111111,\"#46039f\"],[0.2222222222222222,\"#7201a8\"],[0.3333333333333333,\"#9c179e\"],[0.4444444444444444,\"#bd3786\"],[0.5555555555555556,\"#d8576b\"],[0.6666666666666666,\"#ed7953\"],[0.7777777777777778,\"#fb9f3a\"],[0.8888888888888888,\"#fdca26\"],[1.0,\"#f0f921\"]],\"cmin\":27.5,\"cmax\":121.0},\"legend\":{\"tracegroupgap\":0},\"margin\":{\"t\":60},\"title\":{\"text\":\"Data Scientists Salaries in the USA\",\"x\":0.5}},                        {\"responsive\": true}                    ).then(function(){\n",
              "                            \n",
              "var gd = document.getElementById('e46d50c9-77e7-4592-8bb1-8c7dca0f0327');\n",
              "var x = new MutationObserver(function (mutations, observer) {{\n",
              "        var display = window.getComputedStyle(gd).display;\n",
              "        if (!display || display === 'none') {{\n",
              "            console.log([gd, 'removed!']);\n",
              "            Plotly.purge(gd);\n",
              "            observer.disconnect();\n",
              "        }}\n",
              "}});\n",
              "\n",
              "// Listen for the removal of the full notebook cells\n",
              "var notebookContainer = gd.closest('#notebook-container');\n",
              "if (notebookContainer) {{\n",
              "    x.observe(notebookContainer, {childList: true});\n",
              "}}\n",
              "\n",
              "// Listen for the clearing of the current output cell\n",
              "var outputEl = gd.closest('.output');\n",
              "if (outputEl) {{\n",
              "    x.observe(outputEl, {childList: true});\n",
              "}}\n",
              "\n",
              "                        })                };                            </script>        </div>\n",
              "</body>\n",
              "</html>"
            ]
          },
          "metadata": {}
        }
      ]
    },
    {
      "cell_type": "code",
      "source": [
        "#creating a dataframe containing the median salaries for all the \n",
        "#cities with at least 10 entries in the dataframe\n",
        "\n",
        "city_counts = data['city'].value_counts()\n",
        "selected_cities = city_counts[city_counts >= 10].index.tolist()\n",
        "city_salary = data[data['city'].isin(selected_cities)].groupby('city')['median salary'].median().reset_index()\n",
        "city_salary.columns = ['city', 'city salary']\n",
        "cities = city_salary.drop_duplicates(subset=['city']).reset_index(drop=True)\n",
        "\n",
        "top_cities = cities.nlargest(10, 'city salary')\n",
        "fig = px.bar(top_cities, x='city', y='city salary', color='city salary', \n",
        "             color_continuous_scale='RdBu', title='Top 10 Cities with Highest Average Salary')\n",
        "\n",
        "# Set the x-axis label\n",
        "fig.update_xaxes(title_text='City')\n",
        "\n",
        "# Set the y-axis label\n",
        "fig.update_yaxes(title_text='Average Salary')\n",
        "\n",
        "# Show the plot\n",
        "fig.show()"
      ],
      "metadata": {
        "colab": {
          "base_uri": "https://localhost:8080/",
          "height": 542
        },
        "id": "JDNMkCcZ__72",
        "outputId": "06a0e1bc-d4e3-4fb8-a896-ded5d8fcebe6"
      },
      "execution_count": 21,
      "outputs": [
        {
          "output_type": "display_data",
          "data": {
            "text/html": [
              "<html>\n",
              "<head><meta charset=\"utf-8\" /></head>\n",
              "<body>\n",
              "    <div>            <script src=\"https://cdnjs.cloudflare.com/ajax/libs/mathjax/2.7.5/MathJax.js?config=TeX-AMS-MML_SVG\"></script><script type=\"text/javascript\">if (window.MathJax) {MathJax.Hub.Config({SVG: {font: \"STIX-Web\"}});}</script>                <script type=\"text/javascript\">window.PlotlyConfig = {MathJaxConfig: 'local'};</script>\n",
              "        <script src=\"https://cdn.plot.ly/plotly-2.8.3.min.js\"></script>                <div id=\"8692b30b-12fd-422b-83cd-fd5a86d0b901\" class=\"plotly-graph-div\" style=\"height:525px; width:100%;\"></div>            <script type=\"text/javascript\">                                    window.PLOTLYENV=window.PLOTLYENV || {};                                    if (document.getElementById(\"8692b30b-12fd-422b-83cd-fd5a86d0b901\")) {                    Plotly.newPlot(                        \"8692b30b-12fd-422b-83cd-fd5a86d0b901\",                        [{\"alignmentgroup\":\"True\",\"hovertemplate\":\"city=%{x}<br>city salary=%{marker.color}<extra></extra>\",\"legendgroup\":\"\",\"marker\":{\"color\":[162.0,139.0,120.5,120.0,114.5,107.5,101.5,99.5,97.5,96.5],\"coloraxis\":\"coloraxis\",\"pattern\":{\"shape\":\"\"}},\"name\":\"\",\"offsetgroup\":\"\",\"orientation\":\"v\",\"showlegend\":false,\"textposition\":\"auto\",\"x\":[\"San Jose\",\"San Francisco\",\"Chicago\",\"Pittsburgh\",\"Cambridge\",\"Boston\",\"Herndon\",\"Winston-Salem\",\"New York\",\"Washington\"],\"xaxis\":\"x\",\"y\":[162.0,139.0,120.5,120.0,114.5,107.5,101.5,99.5,97.5,96.5],\"yaxis\":\"y\",\"type\":\"bar\"}],                        {\"template\":{\"data\":{\"bar\":[{\"error_x\":{\"color\":\"#2a3f5f\"},\"error_y\":{\"color\":\"#2a3f5f\"},\"marker\":{\"line\":{\"color\":\"#E5ECF6\",\"width\":0.5},\"pattern\":{\"fillmode\":\"overlay\",\"size\":10,\"solidity\":0.2}},\"type\":\"bar\"}],\"barpolar\":[{\"marker\":{\"line\":{\"color\":\"#E5ECF6\",\"width\":0.5},\"pattern\":{\"fillmode\":\"overlay\",\"size\":10,\"solidity\":0.2}},\"type\":\"barpolar\"}],\"carpet\":[{\"aaxis\":{\"endlinecolor\":\"#2a3f5f\",\"gridcolor\":\"white\",\"linecolor\":\"white\",\"minorgridcolor\":\"white\",\"startlinecolor\":\"#2a3f5f\"},\"baxis\":{\"endlinecolor\":\"#2a3f5f\",\"gridcolor\":\"white\",\"linecolor\":\"white\",\"minorgridcolor\":\"white\",\"startlinecolor\":\"#2a3f5f\"},\"type\":\"carpet\"}],\"choropleth\":[{\"colorbar\":{\"outlinewidth\":0,\"ticks\":\"\"},\"type\":\"choropleth\"}],\"contour\":[{\"colorbar\":{\"outlinewidth\":0,\"ticks\":\"\"},\"colorscale\":[[0.0,\"#0d0887\"],[0.1111111111111111,\"#46039f\"],[0.2222222222222222,\"#7201a8\"],[0.3333333333333333,\"#9c179e\"],[0.4444444444444444,\"#bd3786\"],[0.5555555555555556,\"#d8576b\"],[0.6666666666666666,\"#ed7953\"],[0.7777777777777778,\"#fb9f3a\"],[0.8888888888888888,\"#fdca26\"],[1.0,\"#f0f921\"]],\"type\":\"contour\"}],\"contourcarpet\":[{\"colorbar\":{\"outlinewidth\":0,\"ticks\":\"\"},\"type\":\"contourcarpet\"}],\"heatmap\":[{\"colorbar\":{\"outlinewidth\":0,\"ticks\":\"\"},\"colorscale\":[[0.0,\"#0d0887\"],[0.1111111111111111,\"#46039f\"],[0.2222222222222222,\"#7201a8\"],[0.3333333333333333,\"#9c179e\"],[0.4444444444444444,\"#bd3786\"],[0.5555555555555556,\"#d8576b\"],[0.6666666666666666,\"#ed7953\"],[0.7777777777777778,\"#fb9f3a\"],[0.8888888888888888,\"#fdca26\"],[1.0,\"#f0f921\"]],\"type\":\"heatmap\"}],\"heatmapgl\":[{\"colorbar\":{\"outlinewidth\":0,\"ticks\":\"\"},\"colorscale\":[[0.0,\"#0d0887\"],[0.1111111111111111,\"#46039f\"],[0.2222222222222222,\"#7201a8\"],[0.3333333333333333,\"#9c179e\"],[0.4444444444444444,\"#bd3786\"],[0.5555555555555556,\"#d8576b\"],[0.6666666666666666,\"#ed7953\"],[0.7777777777777778,\"#fb9f3a\"],[0.8888888888888888,\"#fdca26\"],[1.0,\"#f0f921\"]],\"type\":\"heatmapgl\"}],\"histogram\":[{\"marker\":{\"pattern\":{\"fillmode\":\"overlay\",\"size\":10,\"solidity\":0.2}},\"type\":\"histogram\"}],\"histogram2d\":[{\"colorbar\":{\"outlinewidth\":0,\"ticks\":\"\"},\"colorscale\":[[0.0,\"#0d0887\"],[0.1111111111111111,\"#46039f\"],[0.2222222222222222,\"#7201a8\"],[0.3333333333333333,\"#9c179e\"],[0.4444444444444444,\"#bd3786\"],[0.5555555555555556,\"#d8576b\"],[0.6666666666666666,\"#ed7953\"],[0.7777777777777778,\"#fb9f3a\"],[0.8888888888888888,\"#fdca26\"],[1.0,\"#f0f921\"]],\"type\":\"histogram2d\"}],\"histogram2dcontour\":[{\"colorbar\":{\"outlinewidth\":0,\"ticks\":\"\"},\"colorscale\":[[0.0,\"#0d0887\"],[0.1111111111111111,\"#46039f\"],[0.2222222222222222,\"#7201a8\"],[0.3333333333333333,\"#9c179e\"],[0.4444444444444444,\"#bd3786\"],[0.5555555555555556,\"#d8576b\"],[0.6666666666666666,\"#ed7953\"],[0.7777777777777778,\"#fb9f3a\"],[0.8888888888888888,\"#fdca26\"],[1.0,\"#f0f921\"]],\"type\":\"histogram2dcontour\"}],\"mesh3d\":[{\"colorbar\":{\"outlinewidth\":0,\"ticks\":\"\"},\"type\":\"mesh3d\"}],\"parcoords\":[{\"line\":{\"colorbar\":{\"outlinewidth\":0,\"ticks\":\"\"}},\"type\":\"parcoords\"}],\"pie\":[{\"automargin\":true,\"type\":\"pie\"}],\"scatter\":[{\"marker\":{\"colorbar\":{\"outlinewidth\":0,\"ticks\":\"\"}},\"type\":\"scatter\"}],\"scatter3d\":[{\"line\":{\"colorbar\":{\"outlinewidth\":0,\"ticks\":\"\"}},\"marker\":{\"colorbar\":{\"outlinewidth\":0,\"ticks\":\"\"}},\"type\":\"scatter3d\"}],\"scattercarpet\":[{\"marker\":{\"colorbar\":{\"outlinewidth\":0,\"ticks\":\"\"}},\"type\":\"scattercarpet\"}],\"scattergeo\":[{\"marker\":{\"colorbar\":{\"outlinewidth\":0,\"ticks\":\"\"}},\"type\":\"scattergeo\"}],\"scattergl\":[{\"marker\":{\"colorbar\":{\"outlinewidth\":0,\"ticks\":\"\"}},\"type\":\"scattergl\"}],\"scattermapbox\":[{\"marker\":{\"colorbar\":{\"outlinewidth\":0,\"ticks\":\"\"}},\"type\":\"scattermapbox\"}],\"scatterpolar\":[{\"marker\":{\"colorbar\":{\"outlinewidth\":0,\"ticks\":\"\"}},\"type\":\"scatterpolar\"}],\"scatterpolargl\":[{\"marker\":{\"colorbar\":{\"outlinewidth\":0,\"ticks\":\"\"}},\"type\":\"scatterpolargl\"}],\"scatterternary\":[{\"marker\":{\"colorbar\":{\"outlinewidth\":0,\"ticks\":\"\"}},\"type\":\"scatterternary\"}],\"surface\":[{\"colorbar\":{\"outlinewidth\":0,\"ticks\":\"\"},\"colorscale\":[[0.0,\"#0d0887\"],[0.1111111111111111,\"#46039f\"],[0.2222222222222222,\"#7201a8\"],[0.3333333333333333,\"#9c179e\"],[0.4444444444444444,\"#bd3786\"],[0.5555555555555556,\"#d8576b\"],[0.6666666666666666,\"#ed7953\"],[0.7777777777777778,\"#fb9f3a\"],[0.8888888888888888,\"#fdca26\"],[1.0,\"#f0f921\"]],\"type\":\"surface\"}],\"table\":[{\"cells\":{\"fill\":{\"color\":\"#EBF0F8\"},\"line\":{\"color\":\"white\"}},\"header\":{\"fill\":{\"color\":\"#C8D4E3\"},\"line\":{\"color\":\"white\"}},\"type\":\"table\"}]},\"layout\":{\"annotationdefaults\":{\"arrowcolor\":\"#2a3f5f\",\"arrowhead\":0,\"arrowwidth\":1},\"autotypenumbers\":\"strict\",\"coloraxis\":{\"colorbar\":{\"outlinewidth\":0,\"ticks\":\"\"}},\"colorscale\":{\"diverging\":[[0,\"#8e0152\"],[0.1,\"#c51b7d\"],[0.2,\"#de77ae\"],[0.3,\"#f1b6da\"],[0.4,\"#fde0ef\"],[0.5,\"#f7f7f7\"],[0.6,\"#e6f5d0\"],[0.7,\"#b8e186\"],[0.8,\"#7fbc41\"],[0.9,\"#4d9221\"],[1,\"#276419\"]],\"sequential\":[[0.0,\"#0d0887\"],[0.1111111111111111,\"#46039f\"],[0.2222222222222222,\"#7201a8\"],[0.3333333333333333,\"#9c179e\"],[0.4444444444444444,\"#bd3786\"],[0.5555555555555556,\"#d8576b\"],[0.6666666666666666,\"#ed7953\"],[0.7777777777777778,\"#fb9f3a\"],[0.8888888888888888,\"#fdca26\"],[1.0,\"#f0f921\"]],\"sequentialminus\":[[0.0,\"#0d0887\"],[0.1111111111111111,\"#46039f\"],[0.2222222222222222,\"#7201a8\"],[0.3333333333333333,\"#9c179e\"],[0.4444444444444444,\"#bd3786\"],[0.5555555555555556,\"#d8576b\"],[0.6666666666666666,\"#ed7953\"],[0.7777777777777778,\"#fb9f3a\"],[0.8888888888888888,\"#fdca26\"],[1.0,\"#f0f921\"]]},\"colorway\":[\"#636efa\",\"#EF553B\",\"#00cc96\",\"#ab63fa\",\"#FFA15A\",\"#19d3f3\",\"#FF6692\",\"#B6E880\",\"#FF97FF\",\"#FECB52\"],\"font\":{\"color\":\"#2a3f5f\"},\"geo\":{\"bgcolor\":\"white\",\"lakecolor\":\"white\",\"landcolor\":\"#E5ECF6\",\"showlakes\":true,\"showland\":true,\"subunitcolor\":\"white\"},\"hoverlabel\":{\"align\":\"left\"},\"hovermode\":\"closest\",\"mapbox\":{\"style\":\"light\"},\"paper_bgcolor\":\"white\",\"plot_bgcolor\":\"#E5ECF6\",\"polar\":{\"angularaxis\":{\"gridcolor\":\"white\",\"linecolor\":\"white\",\"ticks\":\"\"},\"bgcolor\":\"#E5ECF6\",\"radialaxis\":{\"gridcolor\":\"white\",\"linecolor\":\"white\",\"ticks\":\"\"}},\"scene\":{\"xaxis\":{\"backgroundcolor\":\"#E5ECF6\",\"gridcolor\":\"white\",\"gridwidth\":2,\"linecolor\":\"white\",\"showbackground\":true,\"ticks\":\"\",\"zerolinecolor\":\"white\"},\"yaxis\":{\"backgroundcolor\":\"#E5ECF6\",\"gridcolor\":\"white\",\"gridwidth\":2,\"linecolor\":\"white\",\"showbackground\":true,\"ticks\":\"\",\"zerolinecolor\":\"white\"},\"zaxis\":{\"backgroundcolor\":\"#E5ECF6\",\"gridcolor\":\"white\",\"gridwidth\":2,\"linecolor\":\"white\",\"showbackground\":true,\"ticks\":\"\",\"zerolinecolor\":\"white\"}},\"shapedefaults\":{\"line\":{\"color\":\"#2a3f5f\"}},\"ternary\":{\"aaxis\":{\"gridcolor\":\"white\",\"linecolor\":\"white\",\"ticks\":\"\"},\"baxis\":{\"gridcolor\":\"white\",\"linecolor\":\"white\",\"ticks\":\"\"},\"bgcolor\":\"#E5ECF6\",\"caxis\":{\"gridcolor\":\"white\",\"linecolor\":\"white\",\"ticks\":\"\"}},\"title\":{\"x\":0.05},\"xaxis\":{\"automargin\":true,\"gridcolor\":\"white\",\"linecolor\":\"white\",\"ticks\":\"\",\"title\":{\"standoff\":15},\"zerolinecolor\":\"white\",\"zerolinewidth\":2},\"yaxis\":{\"automargin\":true,\"gridcolor\":\"white\",\"linecolor\":\"white\",\"ticks\":\"\",\"title\":{\"standoff\":15},\"zerolinecolor\":\"white\",\"zerolinewidth\":2}}},\"xaxis\":{\"anchor\":\"y\",\"domain\":[0.0,1.0],\"title\":{\"text\":\"City\"}},\"yaxis\":{\"anchor\":\"x\",\"domain\":[0.0,1.0],\"title\":{\"text\":\"Average Salary\"}},\"coloraxis\":{\"colorbar\":{\"title\":{\"text\":\"city salary\"}},\"colorscale\":[[0.0,\"rgb(103,0,31)\"],[0.1,\"rgb(178,24,43)\"],[0.2,\"rgb(214,96,77)\"],[0.3,\"rgb(244,165,130)\"],[0.4,\"rgb(253,219,199)\"],[0.5,\"rgb(247,247,247)\"],[0.6,\"rgb(209,229,240)\"],[0.7,\"rgb(146,197,222)\"],[0.8,\"rgb(67,147,195)\"],[0.9,\"rgb(33,102,172)\"],[1.0,\"rgb(5,48,97)\"]]},\"legend\":{\"tracegroupgap\":0},\"title\":{\"text\":\"Top 10 Cities with Highest Average Salary\"},\"barmode\":\"relative\"},                        {\"responsive\": true}                    ).then(function(){\n",
              "                            \n",
              "var gd = document.getElementById('8692b30b-12fd-422b-83cd-fd5a86d0b901');\n",
              "var x = new MutationObserver(function (mutations, observer) {{\n",
              "        var display = window.getComputedStyle(gd).display;\n",
              "        if (!display || display === 'none') {{\n",
              "            console.log([gd, 'removed!']);\n",
              "            Plotly.purge(gd);\n",
              "            observer.disconnect();\n",
              "        }}\n",
              "}});\n",
              "\n",
              "// Listen for the removal of the full notebook cells\n",
              "var notebookContainer = gd.closest('#notebook-container');\n",
              "if (notebookContainer) {{\n",
              "    x.observe(notebookContainer, {childList: true});\n",
              "}}\n",
              "\n",
              "// Listen for the clearing of the current output cell\n",
              "var outputEl = gd.closest('.output');\n",
              "if (outputEl) {{\n",
              "    x.observe(outputEl, {childList: true});\n",
              "}}\n",
              "\n",
              "                        })                };                            </script>        </div>\n",
              "</body>\n",
              "</html>"
            ]
          },
          "metadata": {}
        }
      ]
    },
    {
      "cell_type": "markdown",
      "source": [
        "Here, after taking into consideration the number of entries (at least 10), it emerges a clear pattern that matches with the real world. In fat yhe cities with higher salaries are the ones where the tech industry is more prolific, no wonder \"San Jose\" comes on top..."
      ],
      "metadata": {
        "id": "_BmECIWTBLWo"
      }
    },
    {
      "cell_type": "code",
      "source": [
        "top10_sectors = data.groupby('Sector')['median salary'].mean().nlargest(10).index.tolist()\n",
        "top10_sectors.sort(key=lambda x: data[data['Sector']==x]['median salary'].mean(), reverse=True)\n",
        "\n",
        "# Filter the original dataframe to include only the top 10 sectors\n",
        "top10 = data[data['Sector'].isin(top10_sectors)]\n",
        "\n",
        "# Create a box plot of salaries by sector for the top 10 sectors\n",
        "plt.figure(figsize=(20, 8))\n",
        "plt.boxplot([top10[top10['Sector'] == s]['median salary'] for s in top10_sectors], labels=top10_sectors)\n",
        "plt.xlabel('Sector')\n",
        "plt.ylabel('Salary')\n",
        "plt.title('Data Scientist Salaries by Top 10 Sectors')\n",
        "plt.show()"
      ],
      "metadata": {
        "colab": {
          "base_uri": "https://localhost:8080/",
          "height": 533
        },
        "id": "YQehtFpdNBSs",
        "outputId": "2d40410c-819d-4795-821d-d378cd649fcf"
      },
      "execution_count": 70,
      "outputs": [
        {
          "output_type": "display_data",
          "data": {
            "text/plain": [
              "<Figure size 1440x576 with 1 Axes>"
            ],
            "image/png": "[encoded data removed]"
          },
          "metadata": {
            "needs_background": "light"
          }
        }
      ]
    },
    {
      "cell_type": "markdown",
      "source": [
        "As shown above the sectors in which data scientist are highly compensated are not the necessarily the most obvious ones (eg. Real estate, education) while they are more widely employes, as the \"whiskers\" spread show, in the IT industry, in Biotech and in INsurance. We come to this conclusion by inferring that an higher variance means that more professional figures, with different years of experience and business responsabilities, are employed and given varying salaries."
      ],
      "metadata": {
        "id": "mVM0BkjIOc5Z"
      }
    },
    {
      "cell_type": "code",
      "source": [
        "data_scientists = data[data.job_title_sim.str.contains('data scientist')]"
      ],
      "metadata": {
        "id": "Q6ixv1TcGe2S"
      },
      "execution_count": 22,
      "outputs": []
    },
    {
      "cell_type": "code",
      "source": [
        "plt.barh(data_scientists['Company Name'].value_counts().index[:10] , data_scientists['Company Name'].value_counts().values[:10])"
      ],
      "metadata": {
        "colab": {
          "base_uri": "https://localhost:8080/",
          "height": 282
        },
        "id": "wyNvWCopCtoW",
        "outputId": "4ebcabda-42de-49f9-8c4c-d606e53f53e3"
      },
      "execution_count": 23,
      "outputs": [
        {
          "output_type": "execute_result",
          "data": {
            "text/plain": [
              "<BarContainer object of 10 artists>"
            ]
          },
          "metadata": {},
          "execution_count": 23
        },
        {
          "output_type": "display_data",
          "data": {
            "text/plain": [
              "<Figure size 432x288 with 1 Axes>"
            ],
            "image/png": "[encoded data removed]"
          },
          "metadata": {
            "needs_background": "light"
          }
        }
      ]
    },
    {
      "cell_type": "markdown",
      "source": [
        "The above plot is instead showing us which companies are employing the highest number of data scientists! Still no surprise there's an high demand in the health sector."
      ],
      "metadata": {
        "id": "gr9upPMqG58M"
      }
    },
    {
      "cell_type": "code",
      "source": [
        "skill_labels = ['Python', 'spark', 'aws', 'excel', 'sql', 'sas', 'keras', 'pytorch',\n",
        "                'scikit', 'tensor', 'hadoop', 'tableau', 'bi', 'flink', 'mongo', 'google_an']\n",
        "skills_by_title = data.groupby('job_title_sim')[skill_labels].sum()\n",
        "plt.figure(figsize=(12, 8))\n",
        "sns.heatmap(skills_by_title, cmap='Purples')\n",
        "plt.show()"
      ],
      "metadata": {
        "colab": {
          "base_uri": "https://localhost:8080/",
          "height": 524
        },
        "id": "RiUNMsPkFaet",
        "outputId": "f9d8cc6d-bd54-4860-9232-a52e15b79e6b"
      },
      "execution_count": 28,
      "outputs": [
        {
          "output_type": "display_data",
          "data": {
            "text/plain": [
              "<Figure size 864x576 with 2 Axes>"
            ],
            "image/png": "[encoded data removed]"
          },
          "metadata": {
            "needs_background": "light"
          }
        }
      ]
    },
    {
      "cell_type": "markdown",
      "source": [
        "Finally the above chart is telling us which are the most in demand skills for the different jobs. The color range reprensents the feature importance such that the darker it is the more important it will be for the job to have the corresponding skill."
      ],
      "metadata": {
        "id": "5DWxurRVGiSW"
      }
    },
    {
      "cell_type": "markdown",
      "source": [
        "# Patterns start to emerge..."
      ],
      "metadata": {
        "id": "szLdPNDUC4zM"
      }
    },
    {
      "cell_type": "markdown",
      "source": [
        "If we want to develop a performant model, we need to clearly identify which are the most relevant independent variables given our target varible \"median salary\"...let's start by taking the correlation matrix of all the features and then narrow a bit the scope of our analysis..."
      ],
      "metadata": {
        "id": "Ym2_W51EC-iO"
      }
    },
    {
      "cell_type": "code",
      "source": [
        "copy = data.copy()\n",
        "\n",
        "le = LabelEncoder()\n",
        "\n",
        "# apply the LabelEncoder to all categorical columns\n",
        "for col in copy.select_dtypes(include='object').columns:\n",
        "    copy[col] = le.fit_transform(copy[col])\n",
        "\n",
        "corr = copy.corr()\n",
        "top_features = corr.nlargest(10, 'median salary')['median salary'].index\n",
        "top_corr = copy[top_features].corr()\n",
        "\n",
        "# plot the heatmap of the top 10 most correlated features\n",
        "sns.set(font_scale=1.25)\n",
        "sns.heatmap(top_corr, cmap='YlGnBu')\n",
        "plt.show()"
      ],
      "metadata": {
        "colab": {
          "base_uri": "https://localhost:8080/",
          "height": 381
        },
        "id": "XBPPB1e3DZgk",
        "outputId": "80039b8c-952d-4a8f-9ae7-f82df7d91c8f"
      },
      "execution_count": 245,
      "outputs": [
        {
          "output_type": "display_data",
          "data": {
            "text/plain": [
              "<Figure size 432x288 with 2 Axes>"
            ],
            "image/png": "[encoded data removed]"
          },
          "metadata": {}
        }
      ]
    },
    {
      "cell_type": "markdown",
      "source": [
        "Something seems off...the correlation between \"median salary\" and any other variable seems very low, very low...the only slight correlation is among \"seniority by title\" and \"python\"...this makes us understand how very diverse this field is and how there is no silver bullet, maybe python...also it's important to consider that in this dataset there are many different professional figures not just data scientists...let's keep on digging!"
      ],
      "metadata": {
        "id": "2j6TIgDFIe8H"
      }
    }
  ]
}